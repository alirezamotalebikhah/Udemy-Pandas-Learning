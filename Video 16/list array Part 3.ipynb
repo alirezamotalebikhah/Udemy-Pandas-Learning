{
 "cells": [
  {
   "cell_type": "code",
   "id": "initial_id",
   "metadata": {
    "collapsed": true,
    "ExecuteTime": {
     "end_time": "2025-08-20T16:37:54.201200Z",
     "start_time": "2025-08-20T16:37:54.197259Z"
    }
   },
   "source": [
    "names=['anika' , 'sofia' , 'maria' , 'sofia']\n",
    "names_2d=[\n",
    "    [23,55,68,\"sonia\" , 'natalia'],\n",
    "    [\"hua\" , 'luria' , 'Natasha' , 100]\n",
    "]\n",
    "print(names_2d)"
   ],
   "outputs": [
    {
     "name": "stdout",
     "output_type": "stream",
     "text": [
      "[[23, 55, 68, 'sonia', 'natalia'], ['hua', 'luria', 'Natasha', 100]]\n"
     ]
    }
   ],
   "execution_count": 1
  },
  {
   "metadata": {
    "ExecuteTime": {
     "end_time": "2025-08-20T16:39:08.443818Z",
     "start_time": "2025-08-20T16:39:08.440700Z"
    }
   },
   "cell_type": "code",
   "source": "print(names_2d[0][-1])",
   "id": "57da0f9f97dac8f2",
   "outputs": [
    {
     "name": "stdout",
     "output_type": "stream",
     "text": [
      "natalia\n"
     ]
    }
   ],
   "execution_count": 3
  },
  {
   "metadata": {
    "ExecuteTime": {
     "end_time": "2025-08-20T16:39:54.308235Z",
     "start_time": "2025-08-20T16:39:54.304786Z"
    }
   },
   "cell_type": "code",
   "source": [
    "for names_1 in names_2d:\n",
    "    print(names_1)"
   ],
   "id": "72c8b0a7f70b63e9",
   "outputs": [
    {
     "name": "stdout",
     "output_type": "stream",
     "text": [
      "[23, 55, 68, 'sonia', 'natalia']\n",
      "['hua', 'luria', 'Natasha', 100]\n"
     ]
    }
   ],
   "execution_count": 4
  },
  {
   "metadata": {
    "ExecuteTime": {
     "end_time": "2025-08-20T16:40:33.621862Z",
     "start_time": "2025-08-20T16:40:33.618853Z"
    }
   },
   "cell_type": "code",
   "source": [
    "for names_1 in names_2d:\n",
    "    for name in names_1:\n",
    "        print(name)"
   ],
   "id": "d4df2674ab54e1e",
   "outputs": [
    {
     "name": "stdout",
     "output_type": "stream",
     "text": [
      "23\n",
      "55\n",
      "68\n",
      "sonia\n",
      "natalia\n",
      "hua\n",
      "luria\n",
      "Natasha\n",
      "100\n"
     ]
    }
   ],
   "execution_count": 5
  },
  {
   "metadata": {
    "ExecuteTime": {
     "end_time": "2025-08-20T16:42:51.018903Z",
     "start_time": "2025-08-20T16:42:51.014565Z"
    }
   },
   "cell_type": "code",
   "source": [
    "names_5d=[\n",
    "    [\n",
    "        [\n",
    "            [\n",
    "                [\n",
    "                  [23,55,68,\"sonia\" , 'natalia'],  \n",
    "                ],\n",
    "                [\n",
    "                  [\"hua\" , 'luria' , 'Natasha' , 100]  \n",
    "                ]\n",
    "                \n",
    "            ]\n",
    "        ]\n",
    "    ]\n",
    "]\n",
    "print(names_5d)"
   ],
   "id": "811a370163d1117c",
   "outputs": [
    {
     "name": "stdout",
     "output_type": "stream",
     "text": [
      "[[[[[[23, 55, 68, 'sonia', 'natalia']], [['hua', 'luria', 'Natasha', 100]]]]]]\n"
     ]
    }
   ],
   "execution_count": 6
  },
  {
   "metadata": {
    "ExecuteTime": {
     "end_time": "2025-08-20T16:43:18.310757Z",
     "start_time": "2025-08-20T16:43:18.307330Z"
    }
   },
   "cell_type": "code",
   "source": "print(names_5d[0][0][0])",
   "id": "38e66549765c89e9",
   "outputs": [
    {
     "name": "stdout",
     "output_type": "stream",
     "text": [
      "[[[23, 55, 68, 'sonia', 'natalia']], [['hua', 'luria', 'Natasha', 100]]]\n"
     ]
    }
   ],
   "execution_count": 7
  },
  {
   "metadata": {
    "ExecuteTime": {
     "end_time": "2025-08-20T16:44:04.965332Z",
     "start_time": "2025-08-20T16:44:04.961490Z"
    }
   },
   "cell_type": "code",
   "source": "print(names_5d[0][0][0][0][-1])",
   "id": "d068c56558163fc5",
   "outputs": [
    {
     "name": "stdout",
     "output_type": "stream",
     "text": [
      "[23, 55, 68, 'sonia', 'natalia']\n"
     ]
    }
   ],
   "execution_count": 9
  },
  {
   "metadata": {},
   "cell_type": "code",
   "outputs": [],
   "execution_count": null,
   "source": " ",
   "id": "f2d5f75dd17c7c3b"
  }
 ],
 "metadata": {
  "kernelspec": {
   "display_name": "Python 3",
   "language": "python",
   "name": "python3"
  },
  "language_info": {
   "codemirror_mode": {
    "name": "ipython",
    "version": 2
   },
   "file_extension": ".py",
   "mimetype": "text/x-python",
   "name": "python",
   "nbconvert_exporter": "python",
   "pygments_lexer": "ipython2",
   "version": "2.7.6"
  }
 },
 "nbformat": 4,
 "nbformat_minor": 5
}
