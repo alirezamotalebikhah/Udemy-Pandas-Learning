{
 "cells": [
  {
   "cell_type": "code",
   "id": "initial_id",
   "metadata": {
    "collapsed": true,
    "ExecuteTime": {
     "end_time": "2025-08-21T07:24:29.329743Z",
     "start_time": "2025-08-21T07:24:29.325916Z"
    }
   },
   "source": [
    "class student:\n",
    "    id = 101\n",
    "    name = \"Yash\"\n",
    "    age =3\n",
    "    fee = 99.99\n",
    "student = student()\n",
    "print(student.id)"
   ],
   "outputs": [
    {
     "name": "stdout",
     "output_type": "stream",
     "text": [
      "101\n"
     ]
    }
   ],
   "execution_count": 1
  },
  {
   "metadata": {
    "ExecuteTime": {
     "end_time": "2025-08-21T07:40:02.730009Z",
     "start_time": "2025-08-21T07:40:02.726391Z"
    }
   },
   "cell_type": "code",
   "source": [
    "class Employee:\n",
    "    def __init__(self , name = None , id = None , age  = None ,salary = None):\n",
    "        self.name = name\n",
    "        self.id = id\n",
    "        self.age = age\n",
    "        self.salary = salary\n",
    "    def getEmployeeInfo(self):\n",
    "        return str(self.id) + \" \" + str(self.name) + \" \" + str(self.age) + \" \" + str(self.salary)\n",
    "emp = Employee()"
   ],
   "id": "ba3befae308b8524",
   "outputs": [],
   "execution_count": 11
  },
  {
   "metadata": {
    "ExecuteTime": {
     "end_time": "2025-08-21T07:40:05.701989Z",
     "start_time": "2025-08-21T07:40:05.698424Z"
    }
   },
   "cell_type": "code",
   "source": [
    "emp.id = 101\n",
    "emp.name = \"Yash\"\n",
    "emp.age = 3\n",
    "emp.salary = 99.99\n",
    "print(emp.id)"
   ],
   "id": "c193673b0759b586",
   "outputs": [
    {
     "name": "stdout",
     "output_type": "stream",
     "text": [
      "101\n"
     ]
    }
   ],
   "execution_count": 12
  },
  {
   "metadata": {
    "ExecuteTime": {
     "end_time": "2025-08-21T07:40:07.541818Z",
     "start_time": "2025-08-21T07:40:07.538049Z"
    }
   },
   "cell_type": "code",
   "source": [
    "emp = Employee(\"Nia\" , 102 , 4 , 100.00)\n",
    "print(emp.id)"
   ],
   "id": "aae19fdf7935f7c1",
   "outputs": [
    {
     "name": "stdout",
     "output_type": "stream",
     "text": [
      "102\n"
     ]
    }
   ],
   "execution_count": 13
  },
  {
   "metadata": {
    "ExecuteTime": {
     "end_time": "2025-08-21T07:40:09.284063Z",
     "start_time": "2025-08-21T07:40:09.280455Z"
    }
   },
   "cell_type": "code",
   "source": [
    "result = emp.getEmployeeInfo()\n",
    "print(result)"
   ],
   "id": "cc66a91fc3955d2d",
   "outputs": [
    {
     "name": "stdout",
     "output_type": "stream",
     "text": [
      "102 Nia 4 100.0\n"
     ]
    }
   ],
   "execution_count": 14
  },
  {
   "metadata": {},
   "cell_type": "code",
   "outputs": [],
   "execution_count": null,
   "source": "",
   "id": "bee5715e781cdbf"
  }
 ],
 "metadata": {
  "kernelspec": {
   "display_name": "Python 3",
   "language": "python",
   "name": "python3"
  },
  "language_info": {
   "codemirror_mode": {
    "name": "ipython",
    "version": 2
   },
   "file_extension": ".py",
   "mimetype": "text/x-python",
   "name": "python",
   "nbconvert_exporter": "python",
   "pygments_lexer": "ipython2",
   "version": "2.7.6"
  }
 },
 "nbformat": 4,
 "nbformat_minor": 5
}
