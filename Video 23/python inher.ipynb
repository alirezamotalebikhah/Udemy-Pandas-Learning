{
 "cells": [
  {
   "cell_type": "code",
   "id": "initial_id",
   "metadata": {
    "collapsed": true,
    "ExecuteTime": {
     "end_time": "2025-08-21T08:29:07.609832Z",
     "start_time": "2025-08-21T08:29:07.603888Z"
    }
   },
   "source": [
    "class person:\n",
    "    def __init__(self, name, age):\n",
    "        self.name = name\n",
    "        self.age = age\n",
    "    def getInfo(self):\n",
    "        print(\"hi\")\n",
    "class Student(person):\n",
    "    def __init__(self, name, age , roll , fee):\n",
    "        super().__init__(name, age)\n",
    "        self.roll = roll\n",
    "        self.fee = fee\n",
    "    def _getInfo(self):\n",
    "        return f\"Student Name:{self.name}, student age:{self.age}, student roll:{self.roll}, student fee:{self.fee}\" \n",
    "class Teacher(person):\n",
    "    def __init__(self, name, age , roll , salary , empoloyee_grade):\n",
    "        super().__init__(name, age)\n",
    "        self.roll = roll\n",
    "        self.salary = salary\n",
    "        self.empoloyee_grade = empoloyee_grade\n",
    "    def _getInfo(self):\n",
    "        return f\"Teacher Name:{self.name}, Teacher age:{self.age} , Teacher roll:{self.roll} , teacher salary;{self.salary} ,teacher empoloyee_grade:{self.empoloyee_grade}\"\n",
    "class Peon(person):\n",
    "    def __init__(self, name, age , roll , salary , empoloyee_grade):\n",
    "        super().__init__(name, age)\n",
    "        self.roll = roll\n",
    "        self.salary = salary\n",
    "        self.empoloyee_grade = empoloyee_grade\n",
    "    def _getInfo(self):\n",
    "        return f\"Peon Name:{self.name}, Peon age:{self.age} , Peon roll:{self.roll} , Peon salary;{self.salary} ,Peon empoloyee_grade:{self.empoloyee_grade}\"\n",
    "student=Student('maria' , 21 , 101 , 500)"
   ],
   "outputs": [],
   "execution_count": 1
  },
  {
   "metadata": {
    "ExecuteTime": {
     "end_time": "2025-08-21T08:29:54.703980Z",
     "start_time": "2025-08-21T08:29:54.700340Z"
    }
   },
   "cell_type": "code",
   "source": "print(student.name)",
   "id": "9e3b0d3fee10ace3",
   "outputs": [
    {
     "name": "stdout",
     "output_type": "stream",
     "text": [
      "maria\n"
     ]
    }
   ],
   "execution_count": 3
  },
  {
   "metadata": {},
   "cell_type": "code",
   "outputs": [],
   "execution_count": null,
   "source": "",
   "id": "3bcd21c82c48c677"
  }
 ],
 "metadata": {
  "kernelspec": {
   "display_name": "Python 3",
   "language": "python",
   "name": "python3"
  },
  "language_info": {
   "codemirror_mode": {
    "name": "ipython",
    "version": 2
   },
   "file_extension": ".py",
   "mimetype": "text/x-python",
   "name": "python",
   "nbconvert_exporter": "python",
   "pygments_lexer": "ipython2",
   "version": "2.7.6"
  }
 },
 "nbformat": 4,
 "nbformat_minor": 5
}
