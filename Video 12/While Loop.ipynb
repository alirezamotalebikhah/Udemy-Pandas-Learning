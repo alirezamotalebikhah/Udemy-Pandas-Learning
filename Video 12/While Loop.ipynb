{
 "cells": [
  {
   "metadata": {
    "ExecuteTime": {
     "end_time": "2025-08-19T06:55:34.478556Z",
     "start_time": "2025-08-19T06:55:34.475040Z"
    }
   },
   "cell_type": "code",
   "source": [
    "age = 13\n",
    "while age<=18:\n",
    "    print(\"you are so cute\")\n",
    "    age+=1"
   ],
   "id": "e496556b7329c7db",
   "outputs": [
    {
     "name": "stdout",
     "output_type": "stream",
     "text": [
      "you are so cute\n",
      "you are so cute\n",
      "you are so cute\n",
      "you are so cute\n",
      "you are so cute\n",
      "you are so cute\n"
     ]
    }
   ],
   "execution_count": 2
  },
  {
   "cell_type": "code",
   "execution_count": null,
   "id": "initial_id",
   "metadata": {
    "collapsed": true
   },
   "outputs": [],
   "source": [
    ""
   ]
  }
 ],
 "metadata": {
  "kernelspec": {
   "display_name": "Python 3",
   "language": "python",
   "name": "python3"
  },
  "language_info": {
   "codemirror_mode": {
    "name": "ipython",
    "version": 2
   },
   "file_extension": ".py",
   "mimetype": "text/x-python",
   "name": "python",
   "nbconvert_exporter": "python",
   "pygments_lexer": "ipython2",
   "version": "2.7.6"
  }
 },
 "nbformat": 4,
 "nbformat_minor": 5
}
