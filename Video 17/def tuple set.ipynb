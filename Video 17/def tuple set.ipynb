{
 "cells": [
  {
   "cell_type": "code",
   "id": "initial_id",
   "metadata": {
    "collapsed": true,
    "ExecuteTime": {
     "end_time": "2025-08-20T16:47:15.425212Z",
     "start_time": "2025-08-20T16:47:15.421253Z"
    }
   },
   "source": [
    "names=('Maria' , 'Sadia' , 'Natalia' , 'Olivia')\n",
    "print(names)"
   ],
   "outputs": [
    {
     "name": "stdout",
     "output_type": "stream",
     "text": [
      "('Maria', 'Sadia', 'Natalia', 'Olivia')\n"
     ]
    }
   ],
   "execution_count": 1
  },
  {
   "metadata": {
    "ExecuteTime": {
     "end_time": "2025-08-20T16:47:45.048949Z",
     "start_time": "2025-08-20T16:47:45.044630Z"
    }
   },
   "cell_type": "code",
   "source": "print(names[0])",
   "id": "d4d3e3c283581f8f",
   "outputs": [
    {
     "name": "stdout",
     "output_type": "stream",
     "text": [
      "Maria\n"
     ]
    }
   ],
   "execution_count": 2
  },
  {
   "metadata": {
    "ExecuteTime": {
     "end_time": "2025-08-20T16:47:53.663634Z",
     "start_time": "2025-08-20T16:47:53.659634Z"
    }
   },
   "cell_type": "code",
   "source": [
    "for name in names:\n",
    "    print(name)"
   ],
   "id": "9b59e1aa3841913d",
   "outputs": [
    {
     "name": "stdout",
     "output_type": "stream",
     "text": [
      "Maria\n",
      "Sadia\n",
      "Natalia\n",
      "Olivia\n"
     ]
    }
   ],
   "execution_count": 3
  },
  {
   "metadata": {
    "ExecuteTime": {
     "end_time": "2025-08-20T16:48:24.998685Z",
     "start_time": "2025-08-20T16:48:24.994974Z"
    }
   },
   "cell_type": "code",
   "source": "print(names[1:4])",
   "id": "d7e64a532c058599",
   "outputs": [
    {
     "name": "stdout",
     "output_type": "stream",
     "text": [
      "('Sadia', 'Natalia', 'Olivia')\n"
     ]
    }
   ],
   "execution_count": 4
  },
  {
   "metadata": {
    "ExecuteTime": {
     "end_time": "2025-08-20T16:49:11.586162Z",
     "start_time": "2025-08-20T16:49:11.583169Z"
    }
   },
   "cell_type": "code",
   "source": "# names[0]='sofia'",
   "id": "d03547d0dc036b63",
   "outputs": [],
   "execution_count": 6
  },
  {
   "metadata": {
    "ExecuteTime": {
     "end_time": "2025-08-20T16:49:52.033495Z",
     "start_time": "2025-08-20T16:49:52.028947Z"
    }
   },
   "cell_type": "code",
   "source": [
    "numbers=(11 , 9 , 23 , 59)\n",
    "joined_tuple = names + numbers\n",
    "print(joined_tuple)"
   ],
   "id": "8803393a2520c5f8",
   "outputs": [
    {
     "name": "stdout",
     "output_type": "stream",
     "text": [
      "('Maria', 'Sadia', 'Natalia', 'Olivia', 11, 9, 23, 59)\n"
     ]
    }
   ],
   "execution_count": 7
  },
  {
   "metadata": {
    "ExecuteTime": {
     "end_time": "2025-08-20T16:50:55.753852Z",
     "start_time": "2025-08-20T16:50:55.749871Z"
    }
   },
   "cell_type": "code",
   "source": [
    "names={'maria' , 'natalia' , 'olivia' , 'maria'}\n",
    "print(names)"
   ],
   "id": "188531152cce4f2",
   "outputs": [
    {
     "name": "stdout",
     "output_type": "stream",
     "text": [
      "{'maria', 'natalia', 'olivia'}\n"
     ]
    }
   ],
   "execution_count": 8
  },
  {
   "metadata": {
    "ExecuteTime": {
     "end_time": "2025-08-20T16:51:14.685732Z",
     "start_time": "2025-08-20T16:51:14.682632Z"
    }
   },
   "cell_type": "code",
   "source": [
    "for name in names:\n",
    "    print(name)"
   ],
   "id": "1da977fd7e5331cf",
   "outputs": [
    {
     "name": "stdout",
     "output_type": "stream",
     "text": [
      "maria\n",
      "natalia\n",
      "olivia\n"
     ]
    }
   ],
   "execution_count": 10
  },
  {
   "metadata": {
    "ExecuteTime": {
     "end_time": "2025-08-20T16:51:46.525358Z",
     "start_time": "2025-08-20T16:51:46.522019Z"
    }
   },
   "cell_type": "code",
   "source": [
    "names.add('natasha')\n",
    "print(names)"
   ],
   "id": "3a5f07e23ed77487",
   "outputs": [
    {
     "name": "stdout",
     "output_type": "stream",
     "text": [
      "{'maria', 'natalia', 'olivia', 'natasha'}\n"
     ]
    }
   ],
   "execution_count": 11
  },
  {
   "metadata": {
    "ExecuteTime": {
     "end_time": "2025-08-20T16:51:58.192050Z",
     "start_time": "2025-08-20T16:51:58.189056Z"
    }
   },
   "cell_type": "code",
   "source": [
    "names.remove('natasha')\n",
    "print(names)"
   ],
   "id": "684f670813f6affe",
   "outputs": [
    {
     "name": "stdout",
     "output_type": "stream",
     "text": [
      "{'maria', 'natalia', 'olivia'}\n"
     ]
    }
   ],
   "execution_count": 12
  },
  {
   "metadata": {
    "ExecuteTime": {
     "end_time": "2025-08-20T16:53:34.736718Z",
     "start_time": "2025-08-20T16:53:34.732743Z"
    }
   },
   "cell_type": "code",
   "source": [
    "names={\n",
    "    'name':'Lufor',\n",
    "    'age':25,\n",
    "    1:100,\n",
    "    'name':'Maria'\n",
    "}\n",
    "print(names)"
   ],
   "id": "5b67a522b5d26ae1",
   "outputs": [
    {
     "name": "stdout",
     "output_type": "stream",
     "text": [
      "{'name': 'Maria', 'age': 25, 1: 100}\n"
     ]
    }
   ],
   "execution_count": 13
  },
  {
   "metadata": {
    "ExecuteTime": {
     "end_time": "2025-08-21T06:30:23.318169Z",
     "start_time": "2025-08-21T06:30:23.314202Z"
    }
   },
   "cell_type": "code",
   "source": [
    "names={\n",
    "    'name':'Lufor',\n",
    "    'age':25,\n",
    "    1:100,\n",
    "    'name':'Maria',\n",
    "    'name2':'Maria',\n",
    "}\n",
    "print(names)"
   ],
   "id": "33246b4e423489bd",
   "outputs": [
    {
     "name": "stdout",
     "output_type": "stream",
     "text": [
      "{'name': 'Maria', 'age': 25, 1: 100, 'name2': 'Maria'}\n"
     ]
    }
   ],
   "execution_count": 1
  },
  {
   "metadata": {
    "ExecuteTime": {
     "end_time": "2025-08-21T06:30:49.170177Z",
     "start_time": "2025-08-21T06:30:49.165679Z"
    }
   },
   "cell_type": "code",
   "source": "print(names['name2'])",
   "id": "eb644fd576627eae",
   "outputs": [
    {
     "name": "stdout",
     "output_type": "stream",
     "text": [
      "Maria\n"
     ]
    }
   ],
   "execution_count": 2
  },
  {
   "metadata": {
    "ExecuteTime": {
     "end_time": "2025-08-21T06:31:10.172668Z",
     "start_time": "2025-08-21T06:31:10.169567Z"
    }
   },
   "cell_type": "code",
   "source": "print(names.keys())",
   "id": "406e0bf26a94ddb",
   "outputs": [
    {
     "name": "stdout",
     "output_type": "stream",
     "text": [
      "dict_keys(['name', 'age', 1, 'name2'])\n"
     ]
    }
   ],
   "execution_count": 3
  },
  {
   "metadata": {
    "ExecuteTime": {
     "end_time": "2025-08-21T06:31:23.942359Z",
     "start_time": "2025-08-21T06:31:23.939065Z"
    }
   },
   "cell_type": "code",
   "source": "print(names.values())",
   "id": "a5c52a90edde3166",
   "outputs": [
    {
     "name": "stdout",
     "output_type": "stream",
     "text": [
      "dict_values(['Maria', 25, 100, 'Maria'])\n"
     ]
    }
   ],
   "execution_count": 4
  },
  {
   "metadata": {
    "ExecuteTime": {
     "end_time": "2025-08-21T06:31:44.939913Z",
     "start_time": "2025-08-21T06:31:44.935963Z"
    }
   },
   "cell_type": "code",
   "source": [
    "for key in names.keys():\n",
    "    print(key)"
   ],
   "id": "db4a69eba6e2ab6d",
   "outputs": [
    {
     "name": "stdout",
     "output_type": "stream",
     "text": [
      "name\n",
      "age\n",
      "1\n",
      "name2\n"
     ]
    }
   ],
   "execution_count": 5
  },
  {
   "metadata": {
    "ExecuteTime": {
     "end_time": "2025-08-21T06:32:09.748854Z",
     "start_time": "2025-08-21T06:32:09.744666Z"
    }
   },
   "cell_type": "code",
   "source": [
    "names.update({'age':13})\n",
    "print(names)"
   ],
   "id": "b2ee8e36d50c1fd0",
   "outputs": [
    {
     "name": "stdout",
     "output_type": "stream",
     "text": [
      "{'name': 'Maria', 'age': 13, 1: 100, 'name2': 'Maria'}\n"
     ]
    }
   ],
   "execution_count": 6
  },
  {
   "metadata": {
    "ExecuteTime": {
     "end_time": "2025-08-21T06:32:37.127852Z",
     "start_time": "2025-08-21T06:32:37.124148Z"
    }
   },
   "cell_type": "code",
   "source": [
    "names['age']=10\n",
    "print(names)"
   ],
   "id": "421567cbcbca3df7",
   "outputs": [
    {
     "name": "stdout",
     "output_type": "stream",
     "text": [
      "{'name': 'Maria', 'age': 10, 1: 100, 'name2': 'Maria'}\n"
     ]
    }
   ],
   "execution_count": 7
  },
  {
   "metadata": {
    "ExecuteTime": {
     "end_time": "2025-08-21T06:32:58.804401Z",
     "start_time": "2025-08-21T06:32:58.800182Z"
    }
   },
   "cell_type": "code",
   "source": [
    "names['exe']=10\n",
    "print(names)"
   ],
   "id": "fd233ea0f398ff9a",
   "outputs": [
    {
     "name": "stdout",
     "output_type": "stream",
     "text": [
      "{'name': 'Maria', 'age': 10, 1: 100, 'name2': 'Maria', 'exe': 10}\n"
     ]
    }
   ],
   "execution_count": 8
  },
  {
   "metadata": {
    "ExecuteTime": {
     "end_time": "2025-08-21T06:34:08.025463Z",
     "start_time": "2025-08-21T06:34:08.022434Z"
    }
   },
   "cell_type": "code",
   "source": [
    "names.pop('age')\n",
    "print(names)"
   ],
   "id": "32d0a380eb396377",
   "outputs": [
    {
     "name": "stdout",
     "output_type": "stream",
     "text": [
      "{'name': 'Maria', 1: 100, 'name2': 'Maria', 'exe': 10}\n"
     ]
    }
   ],
   "execution_count": 9
  },
  {
   "metadata": {},
   "cell_type": "code",
   "outputs": [],
   "execution_count": null,
   "source": "",
   "id": "8a572c8f45e68aec"
  }
 ],
 "metadata": {
  "kernelspec": {
   "display_name": "Python 3",
   "language": "python",
   "name": "python3"
  },
  "language_info": {
   "codemirror_mode": {
    "name": "ipython",
    "version": 2
   },
   "file_extension": ".py",
   "mimetype": "text/x-python",
   "name": "python",
   "nbconvert_exporter": "python",
   "pygments_lexer": "ipython2",
   "version": "2.7.6"
  }
 },
 "nbformat": 4,
 "nbformat_minor": 5
}
