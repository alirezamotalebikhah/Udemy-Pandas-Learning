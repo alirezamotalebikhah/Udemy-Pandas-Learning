{
 "cells": [
  {
   "cell_type": "code",
   "id": "initial_id",
   "metadata": {
    "collapsed": true,
    "ExecuteTime": {
     "end_time": "2025-08-21T07:48:09.352483Z",
     "start_time": "2025-08-21T07:48:09.348420Z"
    }
   },
   "source": [
    "name = \"Wasna\"\n",
    "def scopeTesting():\n",
    "    global age\n",
    "    print(name)\n",
    "    age = 2\n",
    "    def printName():\n",
    "        print(f\"inside function {name}\")\n",
    "scopeTesting()"
   ],
   "outputs": [
    {
     "name": "stdout",
     "output_type": "stream",
     "text": [
      "Wasna\n"
     ]
    }
   ],
   "execution_count": 5
  },
  {
   "metadata": {
    "ExecuteTime": {
     "end_time": "2025-08-21T07:43:44.355308Z",
     "start_time": "2025-08-21T07:43:44.351489Z"
    }
   },
   "cell_type": "code",
   "source": "print(f\"outside function: {name}\")",
   "id": "64dcdb2bc1579cd1",
   "outputs": [
    {
     "name": "stdout",
     "output_type": "stream",
     "text": [
      "outside function: Wasna\n"
     ]
    }
   ],
   "execution_count": 2
  },
  {
   "metadata": {
    "ExecuteTime": {
     "end_time": "2025-08-21T07:48:21.389147Z",
     "start_time": "2025-08-21T07:48:21.386376Z"
    }
   },
   "cell_type": "code",
   "source": "print(age)",
   "id": "b13f04446fb375d0",
   "outputs": [
    {
     "name": "stdout",
     "output_type": "stream",
     "text": [
      "2\n"
     ]
    }
   ],
   "execution_count": 6
  },
  {
   "metadata": {
    "ExecuteTime": {
     "end_time": "2025-08-21T07:52:36.113915Z",
     "start_time": "2025-08-21T07:52:36.110541Z"
    }
   },
   "cell_type": "code",
   "source": [
    "class Student:\n",
    "    def __init__(self, name, age , roll):\n",
    "        self.name = name\n",
    "        self._age = age\n",
    "        self.__roll = roll\n",
    "    def getName(self):\n",
    "        return self.name\n",
    "    def  _getage(self):\n",
    "        return self._age\n",
    "    def __getroll(self):\n",
    "        return self.__roll\n",
    "    def getStudentInfo(self):\n",
    "        return (f\"Name: {self.name}, Age: {self._age}, Roll: {self.__roll}\")\n",
    "student = Student(\"Wasna\", 22 , 19)"
   ],
   "id": "d0bffe83057632bf",
   "outputs": [],
   "execution_count": 8
  },
  {
   "metadata": {
    "ExecuteTime": {
     "end_time": "2025-08-21T07:52:48.895707Z",
     "start_time": "2025-08-21T07:52:48.891960Z"
    }
   },
   "cell_type": "code",
   "source": "print(student.getStudentInfo())",
   "id": "27a5958f7a46251d",
   "outputs": [
    {
     "name": "stdout",
     "output_type": "stream",
     "text": [
      "Name: Wasna, Age: 22, Roll: 19\n"
     ]
    }
   ],
   "execution_count": 9
  },
  {
   "metadata": {
    "ExecuteTime": {
     "end_time": "2025-08-21T07:53:04.961313Z",
     "start_time": "2025-08-21T07:53:04.957345Z"
    }
   },
   "cell_type": "code",
   "source": "print(student.name)",
   "id": "cdcf66a61645e660",
   "outputs": [
    {
     "name": "stdout",
     "output_type": "stream",
     "text": [
      "Wasna\n"
     ]
    }
   ],
   "execution_count": 10
  },
  {
   "metadata": {
    "ExecuteTime": {
     "end_time": "2025-08-21T07:54:16.508450Z",
     "start_time": "2025-08-21T07:54:16.504908Z"
    }
   },
   "cell_type": "code",
   "source": "print(student._age)",
   "id": "510ca13f8a34a62b",
   "outputs": [
    {
     "name": "stdout",
     "output_type": "stream",
     "text": [
      "22\n"
     ]
    }
   ],
   "execution_count": 13
  },
  {
   "metadata": {
    "ExecuteTime": {
     "end_time": "2025-08-21T07:55:46.489860Z",
     "start_time": "2025-08-21T07:55:46.486015Z"
    }
   },
   "cell_type": "code",
   "source": "print(student.getName())",
   "id": "523c4ca63b49e340",
   "outputs": [
    {
     "name": "stdout",
     "output_type": "stream",
     "text": [
      "Wasna\n"
     ]
    }
   ],
   "execution_count": 15
  },
  {
   "metadata": {
    "ExecuteTime": {
     "end_time": "2025-08-21T07:56:23.201249Z",
     "start_time": "2025-08-21T07:56:23.197661Z"
    }
   },
   "cell_type": "code",
   "source": "print(student.getStudentInfo())",
   "id": "a160f294119e085f",
   "outputs": [
    {
     "name": "stdout",
     "output_type": "stream",
     "text": [
      "Name: Wasna, Age: 22, Roll: 19\n"
     ]
    }
   ],
   "execution_count": 17
  },
  {
   "metadata": {},
   "cell_type": "code",
   "outputs": [],
   "execution_count": null,
   "source": "",
   "id": "b36c4be01675d7d3"
  }
 ],
 "metadata": {
  "kernelspec": {
   "display_name": "Python 3",
   "language": "python",
   "name": "python3"
  },
  "language_info": {
   "codemirror_mode": {
    "name": "ipython",
    "version": 2
   },
   "file_extension": ".py",
   "mimetype": "text/x-python",
   "name": "python",
   "nbconvert_exporter": "python",
   "pygments_lexer": "ipython2",
   "version": "2.7.6"
  }
 },
 "nbformat": 4,
 "nbformat_minor": 5
}
