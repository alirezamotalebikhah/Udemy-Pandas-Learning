{
 "cells": [
  {
   "cell_type": "code",
   "id": "initial_id",
   "metadata": {
    "collapsed": true,
    "ExecuteTime": {
     "end_time": "2025-08-23T13:15:33.377006Z",
     "start_time": "2025-08-23T13:15:33.373007Z"
    }
   },
   "source": "x = lambda a : a*10",
   "outputs": [],
   "execution_count": 1
  },
  {
   "metadata": {
    "ExecuteTime": {
     "end_time": "2025-08-23T13:15:49.327273Z",
     "start_time": "2025-08-23T13:15:49.323660Z"
    }
   },
   "cell_type": "code",
   "source": "print(x(5))",
   "id": "3bd56bbdb5656757",
   "outputs": [
    {
     "name": "stdout",
     "output_type": "stream",
     "text": [
      "50\n"
     ]
    }
   ],
   "execution_count": 2
  },
  {
   "metadata": {
    "ExecuteTime": {
     "end_time": "2025-08-23T13:16:28.013983Z",
     "start_time": "2025-08-23T13:16:28.010028Z"
    }
   },
   "cell_type": "code",
   "source": [
    "y = lambda a,b,c : a + b * c\n",
    "print(y(2,3,4))"
   ],
   "id": "7bb18d49ed8ade77",
   "outputs": [
    {
     "name": "stdout",
     "output_type": "stream",
     "text": [
      "14\n"
     ]
    }
   ],
   "execution_count": 3
  },
  {
   "metadata": {},
   "cell_type": "code",
   "outputs": [],
   "execution_count": null,
   "source": "",
   "id": "17683211e36e7806"
  }
 ],
 "metadata": {
  "kernelspec": {
   "display_name": "Python 3",
   "language": "python",
   "name": "python3"
  },
  "language_info": {
   "codemirror_mode": {
    "name": "ipython",
    "version": 2
   },
   "file_extension": ".py",
   "mimetype": "text/x-python",
   "name": "python",
   "nbconvert_exporter": "python",
   "pygments_lexer": "ipython2",
   "version": "2.7.6"
  }
 },
 "nbformat": 4,
 "nbformat_minor": 5
}
