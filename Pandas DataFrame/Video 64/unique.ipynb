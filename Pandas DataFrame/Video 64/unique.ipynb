{
 "cells": [
  {
   "cell_type": "code",
   "id": "initial_id",
   "metadata": {
    "collapsed": true,
    "ExecuteTime": {
     "end_time": "2025-09-18T13:29:57.378748Z",
     "start_time": "2025-09-18T13:29:56.864624Z"
    }
   },
   "source": [
    "import pandas as pd\n",
    "import numpy as np\n",
    "df = pd.DataFrame(np.random.rand(100,8),columns=['A','B','C','D','E','F','G','H'])\n",
    "df"
   ],
   "outputs": [
    {
     "data": {
      "text/plain": [
       "           A         B         C         D         E         F         G  \\\n",
       "0   0.040951  0.025126  0.214317  0.277694  0.741892  0.791456  0.998610   \n",
       "1   0.353355  0.850128  0.704456  0.507988  0.126227  0.452697  0.134501   \n",
       "2   0.100491  0.264167  0.461171  0.931258  0.099655  0.809448  0.646722   \n",
       "3   0.316475  0.315940  0.707349  0.804621  0.144668  0.136534  0.787244   \n",
       "4   0.188569  0.677354  0.402755  0.419471  0.687772  0.175029  0.971559   \n",
       "..       ...       ...       ...       ...       ...       ...       ...   \n",
       "95  0.836712  0.506591  0.778528  0.053568  0.869483  0.908800  0.033060   \n",
       "96  0.731476  0.150320  0.258822  0.193041  0.728936  0.156260  0.343088   \n",
       "97  0.219367  0.625655  0.777866  0.261916  0.461535  0.469423  0.510960   \n",
       "98  0.657716  0.663332  0.094234  0.352216  0.064658  0.249276  0.626297   \n",
       "99  0.913345  0.945814  0.770803  0.250285  0.043931  0.606484  0.411017   \n",
       "\n",
       "           H  \n",
       "0   0.599996  \n",
       "1   0.623879  \n",
       "2   0.071649  \n",
       "3   0.214831  \n",
       "4   0.745508  \n",
       "..       ...  \n",
       "95  0.385869  \n",
       "96  0.261772  \n",
       "97  0.222719  \n",
       "98  0.798560  \n",
       "99  0.835180  \n",
       "\n",
       "[100 rows x 8 columns]"
      ],
      "text/html": [
       "<div>\n",
       "<style scoped>\n",
       "    .dataframe tbody tr th:only-of-type {\n",
       "        vertical-align: middle;\n",
       "    }\n",
       "\n",
       "    .dataframe tbody tr th {\n",
       "        vertical-align: top;\n",
       "    }\n",
       "\n",
       "    .dataframe thead th {\n",
       "        text-align: right;\n",
       "    }\n",
       "</style>\n",
       "<table border=\"1\" class=\"dataframe\">\n",
       "  <thead>\n",
       "    <tr style=\"text-align: right;\">\n",
       "      <th></th>\n",
       "      <th>A</th>\n",
       "      <th>B</th>\n",
       "      <th>C</th>\n",
       "      <th>D</th>\n",
       "      <th>E</th>\n",
       "      <th>F</th>\n",
       "      <th>G</th>\n",
       "      <th>H</th>\n",
       "    </tr>\n",
       "  </thead>\n",
       "  <tbody>\n",
       "    <tr>\n",
       "      <th>0</th>\n",
       "      <td>0.040951</td>\n",
       "      <td>0.025126</td>\n",
       "      <td>0.214317</td>\n",
       "      <td>0.277694</td>\n",
       "      <td>0.741892</td>\n",
       "      <td>0.791456</td>\n",
       "      <td>0.998610</td>\n",
       "      <td>0.599996</td>\n",
       "    </tr>\n",
       "    <tr>\n",
       "      <th>1</th>\n",
       "      <td>0.353355</td>\n",
       "      <td>0.850128</td>\n",
       "      <td>0.704456</td>\n",
       "      <td>0.507988</td>\n",
       "      <td>0.126227</td>\n",
       "      <td>0.452697</td>\n",
       "      <td>0.134501</td>\n",
       "      <td>0.623879</td>\n",
       "    </tr>\n",
       "    <tr>\n",
       "      <th>2</th>\n",
       "      <td>0.100491</td>\n",
       "      <td>0.264167</td>\n",
       "      <td>0.461171</td>\n",
       "      <td>0.931258</td>\n",
       "      <td>0.099655</td>\n",
       "      <td>0.809448</td>\n",
       "      <td>0.646722</td>\n",
       "      <td>0.071649</td>\n",
       "    </tr>\n",
       "    <tr>\n",
       "      <th>3</th>\n",
       "      <td>0.316475</td>\n",
       "      <td>0.315940</td>\n",
       "      <td>0.707349</td>\n",
       "      <td>0.804621</td>\n",
       "      <td>0.144668</td>\n",
       "      <td>0.136534</td>\n",
       "      <td>0.787244</td>\n",
       "      <td>0.214831</td>\n",
       "    </tr>\n",
       "    <tr>\n",
       "      <th>4</th>\n",
       "      <td>0.188569</td>\n",
       "      <td>0.677354</td>\n",
       "      <td>0.402755</td>\n",
       "      <td>0.419471</td>\n",
       "      <td>0.687772</td>\n",
       "      <td>0.175029</td>\n",
       "      <td>0.971559</td>\n",
       "      <td>0.745508</td>\n",
       "    </tr>\n",
       "    <tr>\n",
       "      <th>...</th>\n",
       "      <td>...</td>\n",
       "      <td>...</td>\n",
       "      <td>...</td>\n",
       "      <td>...</td>\n",
       "      <td>...</td>\n",
       "      <td>...</td>\n",
       "      <td>...</td>\n",
       "      <td>...</td>\n",
       "    </tr>\n",
       "    <tr>\n",
       "      <th>95</th>\n",
       "      <td>0.836712</td>\n",
       "      <td>0.506591</td>\n",
       "      <td>0.778528</td>\n",
       "      <td>0.053568</td>\n",
       "      <td>0.869483</td>\n",
       "      <td>0.908800</td>\n",
       "      <td>0.033060</td>\n",
       "      <td>0.385869</td>\n",
       "    </tr>\n",
       "    <tr>\n",
       "      <th>96</th>\n",
       "      <td>0.731476</td>\n",
       "      <td>0.150320</td>\n",
       "      <td>0.258822</td>\n",
       "      <td>0.193041</td>\n",
       "      <td>0.728936</td>\n",
       "      <td>0.156260</td>\n",
       "      <td>0.343088</td>\n",
       "      <td>0.261772</td>\n",
       "    </tr>\n",
       "    <tr>\n",
       "      <th>97</th>\n",
       "      <td>0.219367</td>\n",
       "      <td>0.625655</td>\n",
       "      <td>0.777866</td>\n",
       "      <td>0.261916</td>\n",
       "      <td>0.461535</td>\n",
       "      <td>0.469423</td>\n",
       "      <td>0.510960</td>\n",
       "      <td>0.222719</td>\n",
       "    </tr>\n",
       "    <tr>\n",
       "      <th>98</th>\n",
       "      <td>0.657716</td>\n",
       "      <td>0.663332</td>\n",
       "      <td>0.094234</td>\n",
       "      <td>0.352216</td>\n",
       "      <td>0.064658</td>\n",
       "      <td>0.249276</td>\n",
       "      <td>0.626297</td>\n",
       "      <td>0.798560</td>\n",
       "    </tr>\n",
       "    <tr>\n",
       "      <th>99</th>\n",
       "      <td>0.913345</td>\n",
       "      <td>0.945814</td>\n",
       "      <td>0.770803</td>\n",
       "      <td>0.250285</td>\n",
       "      <td>0.043931</td>\n",
       "      <td>0.606484</td>\n",
       "      <td>0.411017</td>\n",
       "      <td>0.835180</td>\n",
       "    </tr>\n",
       "  </tbody>\n",
       "</table>\n",
       "<p>100 rows × 8 columns</p>\n",
       "</div>"
      ]
     },
     "execution_count": 1,
     "metadata": {},
     "output_type": "execute_result"
    }
   ],
   "execution_count": 1
  },
  {
   "metadata": {
    "ExecuteTime": {
     "end_time": "2025-09-18T13:30:09.535501Z",
     "start_time": "2025-09-18T13:30:09.529679Z"
    }
   },
   "cell_type": "code",
   "source": "df.nunique()",
   "id": "b8bf98765bec29e8",
   "outputs": [
    {
     "data": {
      "text/plain": [
       "A    100\n",
       "B    100\n",
       "C    100\n",
       "D    100\n",
       "E    100\n",
       "F    100\n",
       "G    100\n",
       "H    100\n",
       "dtype: int64"
      ]
     },
     "execution_count": 2,
     "metadata": {},
     "output_type": "execute_result"
    }
   ],
   "execution_count": 2
  },
  {
   "metadata": {
    "ExecuteTime": {
     "end_time": "2025-09-18T13:32:14.330948Z",
     "start_time": "2025-09-18T13:32:14.323532Z"
    }
   },
   "cell_type": "code",
   "source": [
    "data = {\n",
    "    'Name':['Maria' , 'Ishfee' , 'Isabel' , 'Maria' , 'Natalia' , 'Ishfee'],\n",
    "    'Age':[4,3,4,4,5,3]\n",
    "}\n",
    "df = pd.DataFrame(data)\n",
    "df"
   ],
   "id": "c72464c1975a1ded",
   "outputs": [
    {
     "data": {
      "text/plain": [
       "      Name  Age\n",
       "0    Maria    4\n",
       "1   Ishfee    3\n",
       "2   Isabel    4\n",
       "3    Maria    4\n",
       "4  Natalia    5\n",
       "5   Ishfee    3"
      ],
      "text/html": [
       "<div>\n",
       "<style scoped>\n",
       "    .dataframe tbody tr th:only-of-type {\n",
       "        vertical-align: middle;\n",
       "    }\n",
       "\n",
       "    .dataframe tbody tr th {\n",
       "        vertical-align: top;\n",
       "    }\n",
       "\n",
       "    .dataframe thead th {\n",
       "        text-align: right;\n",
       "    }\n",
       "</style>\n",
       "<table border=\"1\" class=\"dataframe\">\n",
       "  <thead>\n",
       "    <tr style=\"text-align: right;\">\n",
       "      <th></th>\n",
       "      <th>Name</th>\n",
       "      <th>Age</th>\n",
       "    </tr>\n",
       "  </thead>\n",
       "  <tbody>\n",
       "    <tr>\n",
       "      <th>0</th>\n",
       "      <td>Maria</td>\n",
       "      <td>4</td>\n",
       "    </tr>\n",
       "    <tr>\n",
       "      <th>1</th>\n",
       "      <td>Ishfee</td>\n",
       "      <td>3</td>\n",
       "    </tr>\n",
       "    <tr>\n",
       "      <th>2</th>\n",
       "      <td>Isabel</td>\n",
       "      <td>4</td>\n",
       "    </tr>\n",
       "    <tr>\n",
       "      <th>3</th>\n",
       "      <td>Maria</td>\n",
       "      <td>4</td>\n",
       "    </tr>\n",
       "    <tr>\n",
       "      <th>4</th>\n",
       "      <td>Natalia</td>\n",
       "      <td>5</td>\n",
       "    </tr>\n",
       "    <tr>\n",
       "      <th>5</th>\n",
       "      <td>Ishfee</td>\n",
       "      <td>3</td>\n",
       "    </tr>\n",
       "  </tbody>\n",
       "</table>\n",
       "</div>"
      ]
     },
     "execution_count": 4,
     "metadata": {},
     "output_type": "execute_result"
    }
   ],
   "execution_count": 4
  },
  {
   "metadata": {
    "ExecuteTime": {
     "end_time": "2025-09-18T13:32:35.607541Z",
     "start_time": "2025-09-18T13:32:35.601410Z"
    }
   },
   "cell_type": "code",
   "source": "df.nunique()",
   "id": "6263e7297c1d53d0",
   "outputs": [
    {
     "data": {
      "text/plain": [
       "Name    4\n",
       "Age     3\n",
       "dtype: int64"
      ]
     },
     "execution_count": 5,
     "metadata": {},
     "output_type": "execute_result"
    }
   ],
   "execution_count": 5
  },
  {
   "metadata": {
    "ExecuteTime": {
     "end_time": "2025-09-18T13:33:11.267514Z",
     "start_time": "2025-09-18T13:33:11.262461Z"
    }
   },
   "cell_type": "code",
   "source": "df['Name'].nunique()",
   "id": "73a87676dff62dae",
   "outputs": [
    {
     "data": {
      "text/plain": [
       "4"
      ]
     },
     "execution_count": 6,
     "metadata": {},
     "output_type": "execute_result"
    }
   ],
   "execution_count": 6
  },
  {
   "metadata": {
    "ExecuteTime": {
     "end_time": "2025-09-18T13:33:32.608470Z",
     "start_time": "2025-09-18T13:33:32.604478Z"
    }
   },
   "cell_type": "code",
   "source": "df['Name'].unique()",
   "id": "f2d54070a2ed9e5d",
   "outputs": [
    {
     "data": {
      "text/plain": [
       "array(['Maria', 'Ishfee', 'Isabel', 'Natalia'], dtype=object)"
      ]
     },
     "execution_count": 7,
     "metadata": {},
     "output_type": "execute_result"
    }
   ],
   "execution_count": 7
  },
  {
   "metadata": {
    "ExecuteTime": {
     "end_time": "2025-09-18T13:33:49.821974Z",
     "start_time": "2025-09-18T13:33:49.816875Z"
    }
   },
   "cell_type": "code",
   "source": "df['Name'].duplicated()",
   "id": "ea60ea511afe1cba",
   "outputs": [
    {
     "data": {
      "text/plain": [
       "0    False\n",
       "1    False\n",
       "2    False\n",
       "3     True\n",
       "4    False\n",
       "5     True\n",
       "Name: Name, dtype: bool"
      ]
     },
     "execution_count": 8,
     "metadata": {},
     "output_type": "execute_result"
    }
   ],
   "execution_count": 8
  },
  {
   "metadata": {
    "ExecuteTime": {
     "end_time": "2025-09-18T13:34:11.039208Z",
     "start_time": "2025-09-18T13:34:11.032570Z"
    }
   },
   "cell_type": "code",
   "source": "df[df['Name'].duplicated()]",
   "id": "a6d341eeef5a9287",
   "outputs": [
    {
     "data": {
      "text/plain": [
       "     Name  Age\n",
       "3   Maria    4\n",
       "5  Ishfee    3"
      ],
      "text/html": [
       "<div>\n",
       "<style scoped>\n",
       "    .dataframe tbody tr th:only-of-type {\n",
       "        vertical-align: middle;\n",
       "    }\n",
       "\n",
       "    .dataframe tbody tr th {\n",
       "        vertical-align: top;\n",
       "    }\n",
       "\n",
       "    .dataframe thead th {\n",
       "        text-align: right;\n",
       "    }\n",
       "</style>\n",
       "<table border=\"1\" class=\"dataframe\">\n",
       "  <thead>\n",
       "    <tr style=\"text-align: right;\">\n",
       "      <th></th>\n",
       "      <th>Name</th>\n",
       "      <th>Age</th>\n",
       "    </tr>\n",
       "  </thead>\n",
       "  <tbody>\n",
       "    <tr>\n",
       "      <th>3</th>\n",
       "      <td>Maria</td>\n",
       "      <td>4</td>\n",
       "    </tr>\n",
       "    <tr>\n",
       "      <th>5</th>\n",
       "      <td>Ishfee</td>\n",
       "      <td>3</td>\n",
       "    </tr>\n",
       "  </tbody>\n",
       "</table>\n",
       "</div>"
      ]
     },
     "execution_count": 9,
     "metadata": {},
     "output_type": "execute_result"
    }
   ],
   "execution_count": 9
  },
  {
   "metadata": {
    "ExecuteTime": {
     "end_time": "2025-09-18T13:34:21.634938Z",
     "start_time": "2025-09-18T13:34:21.629137Z"
    }
   },
   "cell_type": "code",
   "source": "df[df['Name'].duplicated()].count()",
   "id": "312b552db0495801",
   "outputs": [
    {
     "data": {
      "text/plain": [
       "Name    2\n",
       "Age     2\n",
       "dtype: int64"
      ]
     },
     "execution_count": 10,
     "metadata": {},
     "output_type": "execute_result"
    }
   ],
   "execution_count": 10
  },
  {
   "metadata": {},
   "cell_type": "code",
   "outputs": [],
   "execution_count": null,
   "source": "",
   "id": "bd49e85bc16952fe"
  }
 ],
 "metadata": {
  "kernelspec": {
   "display_name": "Python 3",
   "language": "python",
   "name": "python3"
  },
  "language_info": {
   "codemirror_mode": {
    "name": "ipython",
    "version": 2
   },
   "file_extension": ".py",
   "mimetype": "text/x-python",
   "name": "python",
   "nbconvert_exporter": "python",
   "pygments_lexer": "ipython2",
   "version": "2.7.6"
  }
 },
 "nbformat": 4,
 "nbformat_minor": 5
}
