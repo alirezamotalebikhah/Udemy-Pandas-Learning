{
 "cells": [
  {
   "cell_type": "code",
   "id": "initial_id",
   "metadata": {
    "collapsed": true,
    "ExecuteTime": {
     "end_time": "2025-10-14T10:45:55.365164Z",
     "start_time": "2025-10-14T10:45:53.635936Z"
    }
   },
   "source": "import pandas as pd",
   "outputs": [],
   "execution_count": 1
  },
  {
   "metadata": {
    "ExecuteTime": {
     "end_time": "2025-10-14T10:47:42.759562Z",
     "start_time": "2025-10-14T10:47:42.756524Z"
    }
   },
   "cell_type": "code",
   "source": [
    "data={\n",
    "    'Name':['Maria','Ishfea','Isabele',None,'Maria','Natalia',None],\n",
    "    'Age':[4,3,4,None,2,4,0]\n",
    "}"
   ],
   "id": "b615aa5eb6f9678c",
   "outputs": [],
   "execution_count": 3
  },
  {
   "metadata": {
    "ExecuteTime": {
     "end_time": "2025-10-14T10:47:49.709959Z",
     "start_time": "2025-10-14T10:47:49.706665Z"
    }
   },
   "cell_type": "code",
   "source": "df = pd.DataFrame(data)",
   "id": "dcf789cadd6250ad",
   "outputs": [],
   "execution_count": 4
  },
  {
   "metadata": {
    "ExecuteTime": {
     "end_time": "2025-10-14T10:47:51.083078Z",
     "start_time": "2025-10-14T10:47:51.074544Z"
    }
   },
   "cell_type": "code",
   "source": "df",
   "id": "732a80e9daf98611",
   "outputs": [
    {
     "data": {
      "text/plain": [
       "      Name  Age\n",
       "0    Maria  4.0\n",
       "1   Ishfea  3.0\n",
       "2  Isabele  4.0\n",
       "3     None  NaN\n",
       "4    Maria  2.0\n",
       "5  Natalia  4.0\n",
       "6     None  0.0"
      ],
      "text/html": [
       "<div>\n",
       "<style scoped>\n",
       "    .dataframe tbody tr th:only-of-type {\n",
       "        vertical-align: middle;\n",
       "    }\n",
       "\n",
       "    .dataframe tbody tr th {\n",
       "        vertical-align: top;\n",
       "    }\n",
       "\n",
       "    .dataframe thead th {\n",
       "        text-align: right;\n",
       "    }\n",
       "</style>\n",
       "<table border=\"1\" class=\"dataframe\">\n",
       "  <thead>\n",
       "    <tr style=\"text-align: right;\">\n",
       "      <th></th>\n",
       "      <th>Name</th>\n",
       "      <th>Age</th>\n",
       "    </tr>\n",
       "  </thead>\n",
       "  <tbody>\n",
       "    <tr>\n",
       "      <th>0</th>\n",
       "      <td>Maria</td>\n",
       "      <td>4.0</td>\n",
       "    </tr>\n",
       "    <tr>\n",
       "      <th>1</th>\n",
       "      <td>Ishfea</td>\n",
       "      <td>3.0</td>\n",
       "    </tr>\n",
       "    <tr>\n",
       "      <th>2</th>\n",
       "      <td>Isabele</td>\n",
       "      <td>4.0</td>\n",
       "    </tr>\n",
       "    <tr>\n",
       "      <th>3</th>\n",
       "      <td>None</td>\n",
       "      <td>NaN</td>\n",
       "    </tr>\n",
       "    <tr>\n",
       "      <th>4</th>\n",
       "      <td>Maria</td>\n",
       "      <td>2.0</td>\n",
       "    </tr>\n",
       "    <tr>\n",
       "      <th>5</th>\n",
       "      <td>Natalia</td>\n",
       "      <td>4.0</td>\n",
       "    </tr>\n",
       "    <tr>\n",
       "      <th>6</th>\n",
       "      <td>None</td>\n",
       "      <td>0.0</td>\n",
       "    </tr>\n",
       "  </tbody>\n",
       "</table>\n",
       "</div>"
      ]
     },
     "execution_count": 5,
     "metadata": {},
     "output_type": "execute_result"
    }
   ],
   "execution_count": 5
  },
  {
   "metadata": {
    "ExecuteTime": {
     "end_time": "2025-10-14T10:48:13.326139Z",
     "start_time": "2025-10-14T10:48:13.321559Z"
    }
   },
   "cell_type": "code",
   "source": "df.count()",
   "id": "44e1f72dc1d64803",
   "outputs": [
    {
     "data": {
      "text/plain": [
       "Name    5\n",
       "Age     6\n",
       "dtype: int64"
      ]
     },
     "execution_count": 6,
     "metadata": {},
     "output_type": "execute_result"
    }
   ],
   "execution_count": 6
  },
  {
   "metadata": {
    "ExecuteTime": {
     "end_time": "2025-10-14T10:49:16.956311Z",
     "start_time": "2025-10-14T10:49:16.950131Z"
    }
   },
   "cell_type": "code",
   "source": "df['Name'].count()",
   "id": "6dad139a3620fa19",
   "outputs": [
    {
     "data": {
      "text/plain": [
       "np.int64(5)"
      ]
     },
     "execution_count": 7,
     "metadata": {},
     "output_type": "execute_result"
    }
   ],
   "execution_count": 7
  },
  {
   "metadata": {
    "ExecuteTime": {
     "end_time": "2025-10-14T10:49:28.590428Z",
     "start_time": "2025-10-14T10:49:28.586537Z"
    }
   },
   "cell_type": "code",
   "source": "df['Age'].count()",
   "id": "37cc24b0b69582fa",
   "outputs": [
    {
     "data": {
      "text/plain": [
       "np.int64(6)"
      ]
     },
     "execution_count": 8,
     "metadata": {},
     "output_type": "execute_result"
    }
   ],
   "execution_count": 8
  },
  {
   "metadata": {
    "ExecuteTime": {
     "end_time": "2025-10-14T10:49:47.533383Z",
     "start_time": "2025-10-14T10:49:47.517453Z"
    }
   },
   "cell_type": "code",
   "source": "df.value_counts()",
   "id": "f81a85842dc35eed",
   "outputs": [
    {
     "data": {
      "text/plain": [
       "Name     Age\n",
       "Isabele  4.0    1\n",
       "Ishfea   3.0    1\n",
       "Maria    2.0    1\n",
       "         4.0    1\n",
       "Natalia  4.0    1\n",
       "Name: count, dtype: int64"
      ]
     },
     "execution_count": 9,
     "metadata": {},
     "output_type": "execute_result"
    }
   ],
   "execution_count": 9
  },
  {
   "metadata": {
    "ExecuteTime": {
     "end_time": "2025-10-14T10:51:47.509279Z",
     "start_time": "2025-10-14T10:51:47.505408Z"
    }
   },
   "cell_type": "code",
   "source": [
    "data={\n",
    "    'Name':['Maria','Ishfea','Isabele',None,'Maria','Natalia',None],\n",
    "    'Age':[4,3,4,None,4,4,0]\n",
    "}"
   ],
   "id": "d88717202704016c",
   "outputs": [],
   "execution_count": 14
  },
  {
   "metadata": {
    "ExecuteTime": {
     "end_time": "2025-10-14T10:51:48.213055Z",
     "start_time": "2025-10-14T10:51:48.209211Z"
    }
   },
   "cell_type": "code",
   "source": "df2 = pd.DataFrame(data)",
   "id": "7fb81c6c1c611061",
   "outputs": [],
   "execution_count": 15
  },
  {
   "metadata": {
    "ExecuteTime": {
     "end_time": "2025-10-14T10:51:48.703455Z",
     "start_time": "2025-10-14T10:51:48.696626Z"
    }
   },
   "cell_type": "code",
   "source": "df2",
   "id": "4cbc4348d01c9f12",
   "outputs": [
    {
     "data": {
      "text/plain": [
       "      Name  Age\n",
       "0    Maria  4.0\n",
       "1   Ishfea  3.0\n",
       "2  Isabele  4.0\n",
       "3     None  NaN\n",
       "4    Maria  4.0\n",
       "5  Natalia  4.0\n",
       "6     None  0.0"
      ],
      "text/html": [
       "<div>\n",
       "<style scoped>\n",
       "    .dataframe tbody tr th:only-of-type {\n",
       "        vertical-align: middle;\n",
       "    }\n",
       "\n",
       "    .dataframe tbody tr th {\n",
       "        vertical-align: top;\n",
       "    }\n",
       "\n",
       "    .dataframe thead th {\n",
       "        text-align: right;\n",
       "    }\n",
       "</style>\n",
       "<table border=\"1\" class=\"dataframe\">\n",
       "  <thead>\n",
       "    <tr style=\"text-align: right;\">\n",
       "      <th></th>\n",
       "      <th>Name</th>\n",
       "      <th>Age</th>\n",
       "    </tr>\n",
       "  </thead>\n",
       "  <tbody>\n",
       "    <tr>\n",
       "      <th>0</th>\n",
       "      <td>Maria</td>\n",
       "      <td>4.0</td>\n",
       "    </tr>\n",
       "    <tr>\n",
       "      <th>1</th>\n",
       "      <td>Ishfea</td>\n",
       "      <td>3.0</td>\n",
       "    </tr>\n",
       "    <tr>\n",
       "      <th>2</th>\n",
       "      <td>Isabele</td>\n",
       "      <td>4.0</td>\n",
       "    </tr>\n",
       "    <tr>\n",
       "      <th>3</th>\n",
       "      <td>None</td>\n",
       "      <td>NaN</td>\n",
       "    </tr>\n",
       "    <tr>\n",
       "      <th>4</th>\n",
       "      <td>Maria</td>\n",
       "      <td>4.0</td>\n",
       "    </tr>\n",
       "    <tr>\n",
       "      <th>5</th>\n",
       "      <td>Natalia</td>\n",
       "      <td>4.0</td>\n",
       "    </tr>\n",
       "    <tr>\n",
       "      <th>6</th>\n",
       "      <td>None</td>\n",
       "      <td>0.0</td>\n",
       "    </tr>\n",
       "  </tbody>\n",
       "</table>\n",
       "</div>"
      ]
     },
     "execution_count": 16,
     "metadata": {},
     "output_type": "execute_result"
    }
   ],
   "execution_count": 16
  },
  {
   "metadata": {
    "ExecuteTime": {
     "end_time": "2025-10-14T10:58:46.806353Z",
     "start_time": "2025-10-14T10:58:46.799595Z"
    }
   },
   "cell_type": "code",
   "source": "df2.value_counts()",
   "id": "f550450bd46f2bcb",
   "outputs": [
    {
     "data": {
      "text/plain": [
       "Name     Age\n",
       "Maria    4.0    2\n",
       "Isabele  4.0    1\n",
       "Ishfea   3.0    1\n",
       "Natalia  4.0    1\n",
       "Name: count, dtype: int64"
      ]
     },
     "execution_count": 20,
     "metadata": {},
     "output_type": "execute_result"
    }
   ],
   "execution_count": 20
  },
  {
   "metadata": {
    "ExecuteTime": {
     "end_time": "2025-10-14T10:58:35.771906Z",
     "start_time": "2025-10-14T10:58:35.767718Z"
    }
   },
   "cell_type": "code",
   "source": [
    "data={\n",
    "    'Name':['Maria','Ishfea','Isabele',None,'Maria','Natalia',None],\n",
    "    'Age':[4,3,4,None,4,4,0],\n",
    "    'fav frut':['apple' , 'greap','apple',None,'apple','lichi',None]\n",
    "}"
   ],
   "id": "28f417c87b03527",
   "outputs": [],
   "execution_count": 18
  },
  {
   "metadata": {
    "ExecuteTime": {
     "end_time": "2025-10-14T10:58:39.993305Z",
     "start_time": "2025-10-14T10:58:39.988767Z"
    }
   },
   "cell_type": "code",
   "source": "df3 = pd.DataFrame(data)",
   "id": "630ad03fcb9eaae8",
   "outputs": [],
   "execution_count": 19
  },
  {
   "metadata": {
    "ExecuteTime": {
     "end_time": "2025-10-14T10:58:55.935814Z",
     "start_time": "2025-10-14T10:58:55.928980Z"
    }
   },
   "cell_type": "code",
   "source": "df3.value_counts()",
   "id": "19b0b69b59990dd4",
   "outputs": [
    {
     "data": {
      "text/plain": [
       "Name     Age  fav frut\n",
       "Maria    4.0  apple       2\n",
       "Isabele  4.0  apple       1\n",
       "Ishfea   3.0  greap       1\n",
       "Natalia  4.0  lichi       1\n",
       "Name: count, dtype: int64"
      ]
     },
     "execution_count": 21,
     "metadata": {},
     "output_type": "execute_result"
    }
   ],
   "execution_count": 21
  },
  {
   "metadata": {
    "ExecuteTime": {
     "end_time": "2025-10-14T11:00:22.187943Z",
     "start_time": "2025-10-14T11:00:22.179527Z"
    }
   },
   "cell_type": "code",
   "source": "df3.value_counts(dropna=False)",
   "id": "5dc13d975a2d1407",
   "outputs": [
    {
     "data": {
      "text/plain": [
       "Name     Age  fav frut\n",
       "Maria    4.0  apple       2\n",
       "Isabele  4.0  apple       1\n",
       "Ishfea   3.0  greap       1\n",
       "Natalia  4.0  lichi       1\n",
       "NaN      0.0  NaN         1\n",
       "         NaN  NaN         1\n",
       "Name: count, dtype: int64"
      ]
     },
     "execution_count": 22,
     "metadata": {},
     "output_type": "execute_result"
    }
   ],
   "execution_count": 22
  },
  {
   "metadata": {
    "ExecuteTime": {
     "end_time": "2025-10-14T11:01:06.743087Z",
     "start_time": "2025-10-14T11:01:06.736343Z"
    }
   },
   "cell_type": "code",
   "source": "df3.value_counts(normalize=True)",
   "id": "f815e0932353814d",
   "outputs": [
    {
     "data": {
      "text/plain": [
       "Name     Age  fav frut\n",
       "Maria    4.0  apple       0.4\n",
       "Isabele  4.0  apple       0.2\n",
       "Ishfea   3.0  greap       0.2\n",
       "Natalia  4.0  lichi       0.2\n",
       "Name: proportion, dtype: float64"
      ]
     },
     "execution_count": 23,
     "metadata": {},
     "output_type": "execute_result"
    }
   ],
   "execution_count": 23
  },
  {
   "metadata": {},
   "cell_type": "code",
   "outputs": [],
   "execution_count": null,
   "source": "",
   "id": "8d9f9d8c37cc0a33"
  }
 ],
 "metadata": {
  "kernelspec": {
   "display_name": "Python 3",
   "language": "python",
   "name": "python3"
  },
  "language_info": {
   "codemirror_mode": {
    "name": "ipython",
    "version": 2
   },
   "file_extension": ".py",
   "mimetype": "text/x-python",
   "name": "python",
   "nbconvert_exporter": "python",
   "pygments_lexer": "ipython2",
   "version": "2.7.6"
  }
 },
 "nbformat": 4,
 "nbformat_minor": 5
}
