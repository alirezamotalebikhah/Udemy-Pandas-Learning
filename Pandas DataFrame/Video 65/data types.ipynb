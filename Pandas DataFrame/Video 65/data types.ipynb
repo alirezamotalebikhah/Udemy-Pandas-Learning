{
 "cells": [
  {
   "cell_type": "code",
   "id": "initial_id",
   "metadata": {
    "collapsed": true,
    "ExecuteTime": {
     "end_time": "2025-09-18T13:38:15.012215Z",
     "start_time": "2025-09-18T13:38:15.004159Z"
    }
   },
   "source": [
    "import pandas as pd\n",
    "from keras.src.ops import dtype\n",
    "from polars.interchange.utils import dtype_to_polars_dtype_map\n",
    "\n",
    "data = {\n",
    "    'ID':[20,30,35],\n",
    "    'Name':['Austin','Williams','Hogg'],\n",
    "    'Salary':[100.23,200,300],\n",
    "    'IsActive':[True,False,True],\n",
    "}\n",
    "df = pd.DataFrame(data)\n",
    "df"
   ],
   "outputs": [
    {
     "data": {
      "text/plain": [
       "   ID      Name  Salary  IsActive\n",
       "0  20    Austin  100.23      True\n",
       "1  30  Williams  200.00     False\n",
       "2  35      Hogg  300.00      True"
      ],
      "text/html": [
       "<div>\n",
       "<style scoped>\n",
       "    .dataframe tbody tr th:only-of-type {\n",
       "        vertical-align: middle;\n",
       "    }\n",
       "\n",
       "    .dataframe tbody tr th {\n",
       "        vertical-align: top;\n",
       "    }\n",
       "\n",
       "    .dataframe thead th {\n",
       "        text-align: right;\n",
       "    }\n",
       "</style>\n",
       "<table border=\"1\" class=\"dataframe\">\n",
       "  <thead>\n",
       "    <tr style=\"text-align: right;\">\n",
       "      <th></th>\n",
       "      <th>ID</th>\n",
       "      <th>Name</th>\n",
       "      <th>Salary</th>\n",
       "      <th>IsActive</th>\n",
       "    </tr>\n",
       "  </thead>\n",
       "  <tbody>\n",
       "    <tr>\n",
       "      <th>0</th>\n",
       "      <td>20</td>\n",
       "      <td>Austin</td>\n",
       "      <td>100.23</td>\n",
       "      <td>True</td>\n",
       "    </tr>\n",
       "    <tr>\n",
       "      <th>1</th>\n",
       "      <td>30</td>\n",
       "      <td>Williams</td>\n",
       "      <td>200.00</td>\n",
       "      <td>False</td>\n",
       "    </tr>\n",
       "    <tr>\n",
       "      <th>2</th>\n",
       "      <td>35</td>\n",
       "      <td>Hogg</td>\n",
       "      <td>300.00</td>\n",
       "      <td>True</td>\n",
       "    </tr>\n",
       "  </tbody>\n",
       "</table>\n",
       "</div>"
      ]
     },
     "execution_count": 4,
     "metadata": {},
     "output_type": "execute_result"
    }
   ],
   "execution_count": 4
  },
  {
   "metadata": {
    "ExecuteTime": {
     "end_time": "2025-09-18T13:38:15.679783Z",
     "start_time": "2025-09-18T13:38:15.674783Z"
    }
   },
   "cell_type": "code",
   "source": "df.dtypes",
   "id": "3519b7c7e86762f7",
   "outputs": [
    {
     "data": {
      "text/plain": [
       "ID            int64\n",
       "Name         object\n",
       "Salary      float64\n",
       "IsActive       bool\n",
       "dtype: object"
      ]
     },
     "execution_count": 5,
     "metadata": {},
     "output_type": "execute_result"
    }
   ],
   "execution_count": 5
  },
  {
   "metadata": {
    "ExecuteTime": {
     "end_time": "2025-09-18T13:39:06.470790Z",
     "start_time": "2025-09-18T13:39:06.466929Z"
    }
   },
   "cell_type": "code",
   "source": "df = pd.DataFrame(data , dtype='string')",
   "id": "6bf7526d09259de8",
   "outputs": [],
   "execution_count": 6
  },
  {
   "metadata": {
    "ExecuteTime": {
     "end_time": "2025-09-18T13:39:12.830429Z",
     "start_time": "2025-09-18T13:39:12.825567Z"
    }
   },
   "cell_type": "code",
   "source": "df.dtypes",
   "id": "5ab08e55ca66dac7",
   "outputs": [
    {
     "data": {
      "text/plain": [
       "ID          string[python]\n",
       "Name        string[python]\n",
       "Salary      string[python]\n",
       "IsActive    string[python]\n",
       "dtype: object"
      ]
     },
     "execution_count": 7,
     "metadata": {},
     "output_type": "execute_result"
    }
   ],
   "execution_count": 7
  },
  {
   "metadata": {
    "ExecuteTime": {
     "end_time": "2025-09-18T13:39:41.757401Z",
     "start_time": "2025-09-18T13:39:41.752724Z"
    }
   },
   "cell_type": "code",
   "source": [
    "df = pd.DataFrame(data , dtype='object')\n",
    "df.dtypes"
   ],
   "id": "38cd5ec9d3bd1d16",
   "outputs": [
    {
     "data": {
      "text/plain": [
       "ID          object\n",
       "Name        object\n",
       "Salary      object\n",
       "IsActive    object\n",
       "dtype: object"
      ]
     },
     "execution_count": 8,
     "metadata": {},
     "output_type": "execute_result"
    }
   ],
   "execution_count": 8
  },
  {
   "metadata": {
    "ExecuteTime": {
     "end_time": "2025-09-18T13:40:02.860795Z",
     "start_time": "2025-09-18T13:40:02.856011Z"
    }
   },
   "cell_type": "code",
   "source": "df['ID'].dtype",
   "id": "53af9db256d76e10",
   "outputs": [
    {
     "data": {
      "text/plain": [
       "dtype('O')"
      ]
     },
     "execution_count": 9,
     "metadata": {},
     "output_type": "execute_result"
    }
   ],
   "execution_count": 9
  },
  {
   "metadata": {
    "ExecuteTime": {
     "end_time": "2025-09-18T13:40:24.797711Z",
     "start_time": "2025-09-18T13:40:24.792482Z"
    }
   },
   "cell_type": "code",
   "source": "df['ID'].astype('int64')",
   "id": "3fe3976ebbacbc53",
   "outputs": [
    {
     "data": {
      "text/plain": [
       "0    20\n",
       "1    30\n",
       "2    35\n",
       "Name: ID, dtype: int64"
      ]
     },
     "execution_count": 10,
     "metadata": {},
     "output_type": "execute_result"
    }
   ],
   "execution_count": 10
  },
  {
   "metadata": {
    "ExecuteTime": {
     "end_time": "2025-09-18T13:40:59.687233Z",
     "start_time": "2025-09-18T13:40:59.682523Z"
    }
   },
   "cell_type": "code",
   "source": [
    "df['ID'] = df['ID'].astype('int64')\n",
    "df.dtypes"
   ],
   "id": "40e236c0a9c2aa23",
   "outputs": [
    {
     "data": {
      "text/plain": [
       "ID           int64\n",
       "Name        object\n",
       "Salary      object\n",
       "IsActive    object\n",
       "dtype: object"
      ]
     },
     "execution_count": 11,
     "metadata": {},
     "output_type": "execute_result"
    }
   ],
   "execution_count": 11
  },
  {
   "metadata": {
    "ExecuteTime": {
     "end_time": "2025-09-18T13:42:00.787545Z",
     "start_time": "2025-09-18T13:42:00.776377Z"
    }
   },
   "cell_type": "code",
   "source": [
    "df['Name'] = df['Name'].astype('string')\n",
    "df.dtypes"
   ],
   "id": "72bbab64e72cfcf5",
   "outputs": [
    {
     "data": {
      "text/plain": [
       "ID                   int64\n",
       "Name        string[python]\n",
       "Salary              object\n",
       "IsActive            object\n",
       "dtype: object"
      ]
     },
     "execution_count": 12,
     "metadata": {},
     "output_type": "execute_result"
    }
   ],
   "execution_count": 12
  },
  {
   "metadata": {
    "ExecuteTime": {
     "end_time": "2025-09-18T13:44:33.357507Z",
     "start_time": "2025-09-18T13:44:33.349398Z"
    }
   },
   "cell_type": "code",
   "source": [
    "data  = {\n",
    "    \"ID\":[25 , 20 , 28]\n",
    "}\n",
    "df2 = pd.DataFrame(data , dtype='int')\n",
    "df2"
   ],
   "id": "65a588a3807909ff",
   "outputs": [
    {
     "data": {
      "text/plain": [
       "   ID\n",
       "0  25\n",
       "1  20\n",
       "2  28"
      ],
      "text/html": [
       "<div>\n",
       "<style scoped>\n",
       "    .dataframe tbody tr th:only-of-type {\n",
       "        vertical-align: middle;\n",
       "    }\n",
       "\n",
       "    .dataframe tbody tr th {\n",
       "        vertical-align: top;\n",
       "    }\n",
       "\n",
       "    .dataframe thead th {\n",
       "        text-align: right;\n",
       "    }\n",
       "</style>\n",
       "<table border=\"1\" class=\"dataframe\">\n",
       "  <thead>\n",
       "    <tr style=\"text-align: right;\">\n",
       "      <th></th>\n",
       "      <th>ID</th>\n",
       "    </tr>\n",
       "  </thead>\n",
       "  <tbody>\n",
       "    <tr>\n",
       "      <th>0</th>\n",
       "      <td>25</td>\n",
       "    </tr>\n",
       "    <tr>\n",
       "      <th>1</th>\n",
       "      <td>20</td>\n",
       "    </tr>\n",
       "    <tr>\n",
       "      <th>2</th>\n",
       "      <td>28</td>\n",
       "    </tr>\n",
       "  </tbody>\n",
       "</table>\n",
       "</div>"
      ]
     },
     "execution_count": 16,
     "metadata": {},
     "output_type": "execute_result"
    }
   ],
   "execution_count": 16
  },
  {
   "metadata": {
    "ExecuteTime": {
     "end_time": "2025-09-18T13:44:36.122050Z",
     "start_time": "2025-09-18T13:44:36.117669Z"
    }
   },
   "cell_type": "code",
   "source": "df2.dtypes",
   "id": "a5650b79f0059703",
   "outputs": [
    {
     "data": {
      "text/plain": [
       "ID    int64\n",
       "dtype: object"
      ]
     },
     "execution_count": 17,
     "metadata": {},
     "output_type": "execute_result"
    }
   ],
   "execution_count": 17
  },
  {
   "metadata": {
    "ExecuteTime": {
     "end_time": "2025-09-18T13:44:48.882846Z",
     "start_time": "2025-09-18T13:44:48.875098Z"
    }
   },
   "cell_type": "code",
   "source": [
    "df2['Name'] = pd.DataFrame({'Name':['Maria' , 'Austin' , 'Williams']} , dtype='object')\n",
    "df2"
   ],
   "id": "e89a50f9874f313f",
   "outputs": [
    {
     "data": {
      "text/plain": [
       "   ID      Name\n",
       "0  25     Maria\n",
       "1  20    Austin\n",
       "2  28  Williams"
      ],
      "text/html": [
       "<div>\n",
       "<style scoped>\n",
       "    .dataframe tbody tr th:only-of-type {\n",
       "        vertical-align: middle;\n",
       "    }\n",
       "\n",
       "    .dataframe tbody tr th {\n",
       "        vertical-align: top;\n",
       "    }\n",
       "\n",
       "    .dataframe thead th {\n",
       "        text-align: right;\n",
       "    }\n",
       "</style>\n",
       "<table border=\"1\" class=\"dataframe\">\n",
       "  <thead>\n",
       "    <tr style=\"text-align: right;\">\n",
       "      <th></th>\n",
       "      <th>ID</th>\n",
       "      <th>Name</th>\n",
       "    </tr>\n",
       "  </thead>\n",
       "  <tbody>\n",
       "    <tr>\n",
       "      <th>0</th>\n",
       "      <td>25</td>\n",
       "      <td>Maria</td>\n",
       "    </tr>\n",
       "    <tr>\n",
       "      <th>1</th>\n",
       "      <td>20</td>\n",
       "      <td>Austin</td>\n",
       "    </tr>\n",
       "    <tr>\n",
       "      <th>2</th>\n",
       "      <td>28</td>\n",
       "      <td>Williams</td>\n",
       "    </tr>\n",
       "  </tbody>\n",
       "</table>\n",
       "</div>"
      ]
     },
     "execution_count": 18,
     "metadata": {},
     "output_type": "execute_result"
    }
   ],
   "execution_count": 18
  },
  {
   "metadata": {
    "ExecuteTime": {
     "end_time": "2025-09-18T13:44:58.345306Z",
     "start_time": "2025-09-18T13:44:58.340310Z"
    }
   },
   "cell_type": "code",
   "source": "df2.dtypes",
   "id": "7d666990004a99a8",
   "outputs": [
    {
     "data": {
      "text/plain": [
       "ID       int64\n",
       "Name    object\n",
       "dtype: object"
      ]
     },
     "execution_count": 19,
     "metadata": {},
     "output_type": "execute_result"
    }
   ],
   "execution_count": 19
  },
  {
   "metadata": {
    "ExecuteTime": {
     "end_time": "2025-09-18T13:46:08.176887Z",
     "start_time": "2025-09-18T13:46:08.170212Z"
    }
   },
   "cell_type": "code",
   "source": "df2['join date'] = pd.date_range('2025-01-05' , periods=3)",
   "id": "4fcb7366313e0651",
   "outputs": [],
   "execution_count": 20
  },
  {
   "metadata": {
    "ExecuteTime": {
     "end_time": "2025-09-18T13:46:10.173650Z",
     "start_time": "2025-09-18T13:46:10.167617Z"
    }
   },
   "cell_type": "code",
   "source": "df2",
   "id": "7bc97199191c7113",
   "outputs": [
    {
     "data": {
      "text/plain": [
       "   ID      Name  join date\n",
       "0  25     Maria 2025-01-05\n",
       "1  20    Austin 2025-01-06\n",
       "2  28  Williams 2025-01-07"
      ],
      "text/html": [
       "<div>\n",
       "<style scoped>\n",
       "    .dataframe tbody tr th:only-of-type {\n",
       "        vertical-align: middle;\n",
       "    }\n",
       "\n",
       "    .dataframe tbody tr th {\n",
       "        vertical-align: top;\n",
       "    }\n",
       "\n",
       "    .dataframe thead th {\n",
       "        text-align: right;\n",
       "    }\n",
       "</style>\n",
       "<table border=\"1\" class=\"dataframe\">\n",
       "  <thead>\n",
       "    <tr style=\"text-align: right;\">\n",
       "      <th></th>\n",
       "      <th>ID</th>\n",
       "      <th>Name</th>\n",
       "      <th>join date</th>\n",
       "    </tr>\n",
       "  </thead>\n",
       "  <tbody>\n",
       "    <tr>\n",
       "      <th>0</th>\n",
       "      <td>25</td>\n",
       "      <td>Maria</td>\n",
       "      <td>2025-01-05</td>\n",
       "    </tr>\n",
       "    <tr>\n",
       "      <th>1</th>\n",
       "      <td>20</td>\n",
       "      <td>Austin</td>\n",
       "      <td>2025-01-06</td>\n",
       "    </tr>\n",
       "    <tr>\n",
       "      <th>2</th>\n",
       "      <td>28</td>\n",
       "      <td>Williams</td>\n",
       "      <td>2025-01-07</td>\n",
       "    </tr>\n",
       "  </tbody>\n",
       "</table>\n",
       "</div>"
      ]
     },
     "execution_count": 21,
     "metadata": {},
     "output_type": "execute_result"
    }
   ],
   "execution_count": 21
  },
  {
   "metadata": {
    "ExecuteTime": {
     "end_time": "2025-09-18T13:46:23.643098Z",
     "start_time": "2025-09-18T13:46:23.637812Z"
    }
   },
   "cell_type": "code",
   "source": "df2.dtypes",
   "id": "effb2048dd6b203",
   "outputs": [
    {
     "data": {
      "text/plain": [
       "ID                    int64\n",
       "Name                 object\n",
       "join date    datetime64[ns]\n",
       "dtype: object"
      ]
     },
     "execution_count": 22,
     "metadata": {},
     "output_type": "execute_result"
    }
   ],
   "execution_count": 22
  },
  {
   "metadata": {
    "ExecuteTime": {
     "end_time": "2025-09-18T13:47:29.621690Z",
     "start_time": "2025-09-18T13:47:29.617612Z"
    }
   },
   "cell_type": "code",
   "source": "df2['join date']=df2['join date'].astype('string')",
   "id": "f4420b68bdd7209a",
   "outputs": [],
   "execution_count": 24
  },
  {
   "metadata": {
    "ExecuteTime": {
     "end_time": "2025-09-18T13:47:36.861021Z",
     "start_time": "2025-09-18T13:47:36.854568Z"
    }
   },
   "cell_type": "code",
   "source": "df2.dtypes",
   "id": "73002855b2ec696e",
   "outputs": [
    {
     "data": {
      "text/plain": [
       "ID                    int64\n",
       "Name                 object\n",
       "join date    string[python]\n",
       "dtype: object"
      ]
     },
     "execution_count": 25,
     "metadata": {},
     "output_type": "execute_result"
    }
   ],
   "execution_count": 25
  },
  {
   "metadata": {
    "ExecuteTime": {
     "end_time": "2025-09-18T13:48:55.652964Z",
     "start_time": "2025-09-18T13:48:55.648559Z"
    }
   },
   "cell_type": "code",
   "source": "df2['join date'] = pd.DataFrame(['2024-12-31' , '2023-10-11' , '2025-01-02'] , dtype='datetime64[ns]')",
   "id": "4702383d2cd70ab9",
   "outputs": [],
   "execution_count": 26
  },
  {
   "metadata": {
    "ExecuteTime": {
     "end_time": "2025-09-18T13:48:57.625057Z",
     "start_time": "2025-09-18T13:48:57.618964Z"
    }
   },
   "cell_type": "code",
   "source": "df2",
   "id": "93eec1337041d962",
   "outputs": [
    {
     "data": {
      "text/plain": [
       "   ID      Name  join date\n",
       "0  25     Maria 2024-12-31\n",
       "1  20    Austin 2023-10-11\n",
       "2  28  Williams 2025-01-02"
      ],
      "text/html": [
       "<div>\n",
       "<style scoped>\n",
       "    .dataframe tbody tr th:only-of-type {\n",
       "        vertical-align: middle;\n",
       "    }\n",
       "\n",
       "    .dataframe tbody tr th {\n",
       "        vertical-align: top;\n",
       "    }\n",
       "\n",
       "    .dataframe thead th {\n",
       "        text-align: right;\n",
       "    }\n",
       "</style>\n",
       "<table border=\"1\" class=\"dataframe\">\n",
       "  <thead>\n",
       "    <tr style=\"text-align: right;\">\n",
       "      <th></th>\n",
       "      <th>ID</th>\n",
       "      <th>Name</th>\n",
       "      <th>join date</th>\n",
       "    </tr>\n",
       "  </thead>\n",
       "  <tbody>\n",
       "    <tr>\n",
       "      <th>0</th>\n",
       "      <td>25</td>\n",
       "      <td>Maria</td>\n",
       "      <td>2024-12-31</td>\n",
       "    </tr>\n",
       "    <tr>\n",
       "      <th>1</th>\n",
       "      <td>20</td>\n",
       "      <td>Austin</td>\n",
       "      <td>2023-10-11</td>\n",
       "    </tr>\n",
       "    <tr>\n",
       "      <th>2</th>\n",
       "      <td>28</td>\n",
       "      <td>Williams</td>\n",
       "      <td>2025-01-02</td>\n",
       "    </tr>\n",
       "  </tbody>\n",
       "</table>\n",
       "</div>"
      ]
     },
     "execution_count": 27,
     "metadata": {},
     "output_type": "execute_result"
    }
   ],
   "execution_count": 27
  },
  {
   "metadata": {
    "ExecuteTime": {
     "end_time": "2025-09-18T13:50:07.273702Z",
     "start_time": "2025-09-18T13:50:07.267668Z"
    }
   },
   "cell_type": "code",
   "source": "df2['Gender'] = pd.DataFrame(['female' , 'male' , 'other'],dtype='category')",
   "id": "380d7a2dad12efc",
   "outputs": [],
   "execution_count": 28
  },
  {
   "metadata": {
    "ExecuteTime": {
     "end_time": "2025-09-18T13:50:08.952055Z",
     "start_time": "2025-09-18T13:50:08.943652Z"
    }
   },
   "cell_type": "code",
   "source": "df2",
   "id": "e2c6152f25bb78bf",
   "outputs": [
    {
     "data": {
      "text/plain": [
       "   ID      Name  join date  Gender\n",
       "0  25     Maria 2024-12-31  female\n",
       "1  20    Austin 2023-10-11    male\n",
       "2  28  Williams 2025-01-02   other"
      ],
      "text/html": [
       "<div>\n",
       "<style scoped>\n",
       "    .dataframe tbody tr th:only-of-type {\n",
       "        vertical-align: middle;\n",
       "    }\n",
       "\n",
       "    .dataframe tbody tr th {\n",
       "        vertical-align: top;\n",
       "    }\n",
       "\n",
       "    .dataframe thead th {\n",
       "        text-align: right;\n",
       "    }\n",
       "</style>\n",
       "<table border=\"1\" class=\"dataframe\">\n",
       "  <thead>\n",
       "    <tr style=\"text-align: right;\">\n",
       "      <th></th>\n",
       "      <th>ID</th>\n",
       "      <th>Name</th>\n",
       "      <th>join date</th>\n",
       "      <th>Gender</th>\n",
       "    </tr>\n",
       "  </thead>\n",
       "  <tbody>\n",
       "    <tr>\n",
       "      <th>0</th>\n",
       "      <td>25</td>\n",
       "      <td>Maria</td>\n",
       "      <td>2024-12-31</td>\n",
       "      <td>female</td>\n",
       "    </tr>\n",
       "    <tr>\n",
       "      <th>1</th>\n",
       "      <td>20</td>\n",
       "      <td>Austin</td>\n",
       "      <td>2023-10-11</td>\n",
       "      <td>male</td>\n",
       "    </tr>\n",
       "    <tr>\n",
       "      <th>2</th>\n",
       "      <td>28</td>\n",
       "      <td>Williams</td>\n",
       "      <td>2025-01-02</td>\n",
       "      <td>other</td>\n",
       "    </tr>\n",
       "  </tbody>\n",
       "</table>\n",
       "</div>"
      ]
     },
     "execution_count": 29,
     "metadata": {},
     "output_type": "execute_result"
    }
   ],
   "execution_count": 29
  },
  {
   "metadata": {
    "ExecuteTime": {
     "end_time": "2025-09-18T13:50:14.437969Z",
     "start_time": "2025-09-18T13:50:14.433590Z"
    }
   },
   "cell_type": "code",
   "source": "df2.dtypes",
   "id": "11f3ca9eaea70547",
   "outputs": [
    {
     "data": {
      "text/plain": [
       "ID                    int64\n",
       "Name                 object\n",
       "join date    datetime64[ns]\n",
       "Gender             category\n",
       "dtype: object"
      ]
     },
     "execution_count": 30,
     "metadata": {},
     "output_type": "execute_result"
    }
   ],
   "execution_count": 30
  },
  {
   "metadata": {},
   "cell_type": "code",
   "outputs": [],
   "execution_count": null,
   "source": "",
   "id": "42ad33ecdedafc62"
  }
 ],
 "metadata": {
  "kernelspec": {
   "display_name": "Python 3",
   "language": "python",
   "name": "python3"
  },
  "language_info": {
   "codemirror_mode": {
    "name": "ipython",
    "version": 2
   },
   "file_extension": ".py",
   "mimetype": "text/x-python",
   "name": "python",
   "nbconvert_exporter": "python",
   "pygments_lexer": "ipython2",
   "version": "2.7.6"
  }
 },
 "nbformat": 4,
 "nbformat_minor": 5
}
