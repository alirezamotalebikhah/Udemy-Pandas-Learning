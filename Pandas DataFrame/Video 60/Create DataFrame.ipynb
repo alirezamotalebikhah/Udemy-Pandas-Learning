{
 "cells": [
  {
   "cell_type": "code",
   "id": "initial_id",
   "metadata": {
    "collapsed": true,
    "ExecuteTime": {
     "end_time": "2025-09-11T08:46:34.424690Z",
     "start_time": "2025-09-11T08:46:33.392812Z"
    }
   },
   "source": [
    "import pandas as pd\n",
    "pd.DataFrame([2])"
   ],
   "outputs": [
    {
     "data": {
      "text/plain": [
       "   0\n",
       "0  2"
      ],
      "text/html": [
       "<div>\n",
       "<style scoped>\n",
       "    .dataframe tbody tr th:only-of-type {\n",
       "        vertical-align: middle;\n",
       "    }\n",
       "\n",
       "    .dataframe tbody tr th {\n",
       "        vertical-align: top;\n",
       "    }\n",
       "\n",
       "    .dataframe thead th {\n",
       "        text-align: right;\n",
       "    }\n",
       "</style>\n",
       "<table border=\"1\" class=\"dataframe\">\n",
       "  <thead>\n",
       "    <tr style=\"text-align: right;\">\n",
       "      <th></th>\n",
       "      <th>0</th>\n",
       "    </tr>\n",
       "  </thead>\n",
       "  <tbody>\n",
       "    <tr>\n",
       "      <th>0</th>\n",
       "      <td>2</td>\n",
       "    </tr>\n",
       "  </tbody>\n",
       "</table>\n",
       "</div>"
      ]
     },
     "execution_count": 1,
     "metadata": {},
     "output_type": "execute_result"
    }
   ],
   "execution_count": 1
  },
  {
   "metadata": {
    "ExecuteTime": {
     "end_time": "2025-09-11T08:47:42.317581Z",
     "start_time": "2025-09-11T08:47:42.312737Z"
    }
   },
   "cell_type": "code",
   "source": "pd.DataFrame([1,3,4,5])",
   "id": "8e9b9950d62c6af",
   "outputs": [
    {
     "data": {
      "text/plain": [
       "   0\n",
       "0  1\n",
       "1  3\n",
       "2  4\n",
       "3  5"
      ],
      "text/html": [
       "<div>\n",
       "<style scoped>\n",
       "    .dataframe tbody tr th:only-of-type {\n",
       "        vertical-align: middle;\n",
       "    }\n",
       "\n",
       "    .dataframe tbody tr th {\n",
       "        vertical-align: top;\n",
       "    }\n",
       "\n",
       "    .dataframe thead th {\n",
       "        text-align: right;\n",
       "    }\n",
       "</style>\n",
       "<table border=\"1\" class=\"dataframe\">\n",
       "  <thead>\n",
       "    <tr style=\"text-align: right;\">\n",
       "      <th></th>\n",
       "      <th>0</th>\n",
       "    </tr>\n",
       "  </thead>\n",
       "  <tbody>\n",
       "    <tr>\n",
       "      <th>0</th>\n",
       "      <td>1</td>\n",
       "    </tr>\n",
       "    <tr>\n",
       "      <th>1</th>\n",
       "      <td>3</td>\n",
       "    </tr>\n",
       "    <tr>\n",
       "      <th>2</th>\n",
       "      <td>4</td>\n",
       "    </tr>\n",
       "    <tr>\n",
       "      <th>3</th>\n",
       "      <td>5</td>\n",
       "    </tr>\n",
       "  </tbody>\n",
       "</table>\n",
       "</div>"
      ]
     },
     "execution_count": 2,
     "metadata": {},
     "output_type": "execute_result"
    }
   ],
   "execution_count": 2
  },
  {
   "metadata": {
    "ExecuteTime": {
     "end_time": "2025-09-11T08:48:19.329637Z",
     "start_time": "2025-09-11T08:48:19.322103Z"
    }
   },
   "cell_type": "code",
   "source": "pd.DataFrame([1,3,4,5] , columns=['A'])",
   "id": "9016edb0a4518b53",
   "outputs": [
    {
     "data": {
      "text/plain": [
       "   A\n",
       "0  1\n",
       "1  3\n",
       "2  4\n",
       "3  5"
      ],
      "text/html": [
       "<div>\n",
       "<style scoped>\n",
       "    .dataframe tbody tr th:only-of-type {\n",
       "        vertical-align: middle;\n",
       "    }\n",
       "\n",
       "    .dataframe tbody tr th {\n",
       "        vertical-align: top;\n",
       "    }\n",
       "\n",
       "    .dataframe thead th {\n",
       "        text-align: right;\n",
       "    }\n",
       "</style>\n",
       "<table border=\"1\" class=\"dataframe\">\n",
       "  <thead>\n",
       "    <tr style=\"text-align: right;\">\n",
       "      <th></th>\n",
       "      <th>A</th>\n",
       "    </tr>\n",
       "  </thead>\n",
       "  <tbody>\n",
       "    <tr>\n",
       "      <th>0</th>\n",
       "      <td>1</td>\n",
       "    </tr>\n",
       "    <tr>\n",
       "      <th>1</th>\n",
       "      <td>3</td>\n",
       "    </tr>\n",
       "    <tr>\n",
       "      <th>2</th>\n",
       "      <td>4</td>\n",
       "    </tr>\n",
       "    <tr>\n",
       "      <th>3</th>\n",
       "      <td>5</td>\n",
       "    </tr>\n",
       "  </tbody>\n",
       "</table>\n",
       "</div>"
      ]
     },
     "execution_count": 3,
     "metadata": {},
     "output_type": "execute_result"
    }
   ],
   "execution_count": 3
  },
  {
   "metadata": {
    "ExecuteTime": {
     "end_time": "2025-09-11T08:49:05.488771Z",
     "start_time": "2025-09-11T08:49:05.485450Z"
    }
   },
   "cell_type": "code",
   "source": [
    "data = [\n",
    "    [2,1,23 ,7]\n",
    "]"
   ],
   "id": "646bcc0d4f2fb782",
   "outputs": [],
   "execution_count": 4
  },
  {
   "metadata": {
    "ExecuteTime": {
     "end_time": "2025-09-11T08:49:44.372427Z",
     "start_time": "2025-09-11T08:49:44.367276Z"
    }
   },
   "cell_type": "code",
   "source": "pd.DataFrame(data)",
   "id": "e32387e0994ef4d2",
   "outputs": [
    {
     "data": {
      "text/plain": [
       "   0  1   2  3\n",
       "0  2  1  23  7"
      ],
      "text/html": [
       "<div>\n",
       "<style scoped>\n",
       "    .dataframe tbody tr th:only-of-type {\n",
       "        vertical-align: middle;\n",
       "    }\n",
       "\n",
       "    .dataframe tbody tr th {\n",
       "        vertical-align: top;\n",
       "    }\n",
       "\n",
       "    .dataframe thead th {\n",
       "        text-align: right;\n",
       "    }\n",
       "</style>\n",
       "<table border=\"1\" class=\"dataframe\">\n",
       "  <thead>\n",
       "    <tr style=\"text-align: right;\">\n",
       "      <th></th>\n",
       "      <th>0</th>\n",
       "      <th>1</th>\n",
       "      <th>2</th>\n",
       "      <th>3</th>\n",
       "    </tr>\n",
       "  </thead>\n",
       "  <tbody>\n",
       "    <tr>\n",
       "      <th>0</th>\n",
       "      <td>2</td>\n",
       "      <td>1</td>\n",
       "      <td>23</td>\n",
       "      <td>7</td>\n",
       "    </tr>\n",
       "  </tbody>\n",
       "</table>\n",
       "</div>"
      ]
     },
     "execution_count": 6,
     "metadata": {},
     "output_type": "execute_result"
    }
   ],
   "execution_count": 6
  },
  {
   "metadata": {
    "ExecuteTime": {
     "end_time": "2025-09-11T08:50:32.593780Z",
     "start_time": "2025-09-11T08:50:32.587861Z"
    }
   },
   "cell_type": "code",
   "source": [
    "data = [\n",
    "    [2,1,23 , 7],\n",
    "    [2 ,4 ,6 ,12]\n",
    "]\n",
    "pd.DataFrame(data)"
   ],
   "id": "837a9c3fe52a1d62",
   "outputs": [
    {
     "data": {
      "text/plain": [
       "   0  1   2   3\n",
       "0  2  1  23   7\n",
       "1  2  4   6  12"
      ],
      "text/html": [
       "<div>\n",
       "<style scoped>\n",
       "    .dataframe tbody tr th:only-of-type {\n",
       "        vertical-align: middle;\n",
       "    }\n",
       "\n",
       "    .dataframe tbody tr th {\n",
       "        vertical-align: top;\n",
       "    }\n",
       "\n",
       "    .dataframe thead th {\n",
       "        text-align: right;\n",
       "    }\n",
       "</style>\n",
       "<table border=\"1\" class=\"dataframe\">\n",
       "  <thead>\n",
       "    <tr style=\"text-align: right;\">\n",
       "      <th></th>\n",
       "      <th>0</th>\n",
       "      <th>1</th>\n",
       "      <th>2</th>\n",
       "      <th>3</th>\n",
       "    </tr>\n",
       "  </thead>\n",
       "  <tbody>\n",
       "    <tr>\n",
       "      <th>0</th>\n",
       "      <td>2</td>\n",
       "      <td>1</td>\n",
       "      <td>23</td>\n",
       "      <td>7</td>\n",
       "    </tr>\n",
       "    <tr>\n",
       "      <th>1</th>\n",
       "      <td>2</td>\n",
       "      <td>4</td>\n",
       "      <td>6</td>\n",
       "      <td>12</td>\n",
       "    </tr>\n",
       "  </tbody>\n",
       "</table>\n",
       "</div>"
      ]
     },
     "execution_count": 7,
     "metadata": {},
     "output_type": "execute_result"
    }
   ],
   "execution_count": 7
  },
  {
   "metadata": {
    "ExecuteTime": {
     "end_time": "2025-09-11T08:50:55.638351Z",
     "start_time": "2025-09-11T08:50:55.631945Z"
    }
   },
   "cell_type": "code",
   "source": "pd.DataFrame(data,columns=['A','B','C','D'])",
   "id": "506bd82f9196c244",
   "outputs": [
    {
     "data": {
      "text/plain": [
       "   A  B   C   D\n",
       "0  2  1  23   7\n",
       "1  2  4   6  12"
      ],
      "text/html": [
       "<div>\n",
       "<style scoped>\n",
       "    .dataframe tbody tr th:only-of-type {\n",
       "        vertical-align: middle;\n",
       "    }\n",
       "\n",
       "    .dataframe tbody tr th {\n",
       "        vertical-align: top;\n",
       "    }\n",
       "\n",
       "    .dataframe thead th {\n",
       "        text-align: right;\n",
       "    }\n",
       "</style>\n",
       "<table border=\"1\" class=\"dataframe\">\n",
       "  <thead>\n",
       "    <tr style=\"text-align: right;\">\n",
       "      <th></th>\n",
       "      <th>A</th>\n",
       "      <th>B</th>\n",
       "      <th>C</th>\n",
       "      <th>D</th>\n",
       "    </tr>\n",
       "  </thead>\n",
       "  <tbody>\n",
       "    <tr>\n",
       "      <th>0</th>\n",
       "      <td>2</td>\n",
       "      <td>1</td>\n",
       "      <td>23</td>\n",
       "      <td>7</td>\n",
       "    </tr>\n",
       "    <tr>\n",
       "      <th>1</th>\n",
       "      <td>2</td>\n",
       "      <td>4</td>\n",
       "      <td>6</td>\n",
       "      <td>12</td>\n",
       "    </tr>\n",
       "  </tbody>\n",
       "</table>\n",
       "</div>"
      ]
     },
     "execution_count": 8,
     "metadata": {},
     "output_type": "execute_result"
    }
   ],
   "execution_count": 8
  },
  {
   "metadata": {
    "ExecuteTime": {
     "end_time": "2025-09-11T08:51:44.724264Z",
     "start_time": "2025-09-11T08:51:44.719411Z"
    }
   },
   "cell_type": "code",
   "source": [
    "_tupel=(2,4,3,1)\n",
    "pd.DataFrame(_tupel)"
   ],
   "id": "32c7dbdff4649c08",
   "outputs": [
    {
     "data": {
      "text/plain": [
       "   0\n",
       "0  2\n",
       "1  4\n",
       "2  3\n",
       "3  1"
      ],
      "text/html": [
       "<div>\n",
       "<style scoped>\n",
       "    .dataframe tbody tr th:only-of-type {\n",
       "        vertical-align: middle;\n",
       "    }\n",
       "\n",
       "    .dataframe tbody tr th {\n",
       "        vertical-align: top;\n",
       "    }\n",
       "\n",
       "    .dataframe thead th {\n",
       "        text-align: right;\n",
       "    }\n",
       "</style>\n",
       "<table border=\"1\" class=\"dataframe\">\n",
       "  <thead>\n",
       "    <tr style=\"text-align: right;\">\n",
       "      <th></th>\n",
       "      <th>0</th>\n",
       "    </tr>\n",
       "  </thead>\n",
       "  <tbody>\n",
       "    <tr>\n",
       "      <th>0</th>\n",
       "      <td>2</td>\n",
       "    </tr>\n",
       "    <tr>\n",
       "      <th>1</th>\n",
       "      <td>4</td>\n",
       "    </tr>\n",
       "    <tr>\n",
       "      <th>2</th>\n",
       "      <td>3</td>\n",
       "    </tr>\n",
       "    <tr>\n",
       "      <th>3</th>\n",
       "      <td>1</td>\n",
       "    </tr>\n",
       "  </tbody>\n",
       "</table>\n",
       "</div>"
      ]
     },
     "execution_count": 9,
     "metadata": {},
     "output_type": "execute_result"
    }
   ],
   "execution_count": 9
  },
  {
   "metadata": {
    "ExecuteTime": {
     "end_time": "2025-09-11T08:52:32.077544Z",
     "start_time": "2025-09-11T08:52:32.071761Z"
    }
   },
   "cell_type": "code",
   "source": "pd.DataFrame(_tupel , columns=['Values'])",
   "id": "a4ba995bde5bfbfb",
   "outputs": [
    {
     "data": {
      "text/plain": [
       "   Values\n",
       "0       2\n",
       "1       4\n",
       "2       3\n",
       "3       1"
      ],
      "text/html": [
       "<div>\n",
       "<style scoped>\n",
       "    .dataframe tbody tr th:only-of-type {\n",
       "        vertical-align: middle;\n",
       "    }\n",
       "\n",
       "    .dataframe tbody tr th {\n",
       "        vertical-align: top;\n",
       "    }\n",
       "\n",
       "    .dataframe thead th {\n",
       "        text-align: right;\n",
       "    }\n",
       "</style>\n",
       "<table border=\"1\" class=\"dataframe\">\n",
       "  <thead>\n",
       "    <tr style=\"text-align: right;\">\n",
       "      <th></th>\n",
       "      <th>Values</th>\n",
       "    </tr>\n",
       "  </thead>\n",
       "  <tbody>\n",
       "    <tr>\n",
       "      <th>0</th>\n",
       "      <td>2</td>\n",
       "    </tr>\n",
       "    <tr>\n",
       "      <th>1</th>\n",
       "      <td>4</td>\n",
       "    </tr>\n",
       "    <tr>\n",
       "      <th>2</th>\n",
       "      <td>3</td>\n",
       "    </tr>\n",
       "    <tr>\n",
       "      <th>3</th>\n",
       "      <td>1</td>\n",
       "    </tr>\n",
       "  </tbody>\n",
       "</table>\n",
       "</div>"
      ]
     },
     "execution_count": 10,
     "metadata": {},
     "output_type": "execute_result"
    }
   ],
   "execution_count": 10
  },
  {
   "metadata": {
    "ExecuteTime": {
     "end_time": "2025-09-11T08:53:17.976133Z",
     "start_time": "2025-09-11T08:53:17.972265Z"
    }
   },
   "cell_type": "code",
   "source": "_2d_tupel = ((2,4,3,1))",
   "id": "bfa9b10f2a560a73",
   "outputs": [],
   "execution_count": 11
  },
  {
   "metadata": {
    "ExecuteTime": {
     "end_time": "2025-09-11T08:53:24.103157Z",
     "start_time": "2025-09-11T08:53:24.097077Z"
    }
   },
   "cell_type": "code",
   "source": "pd.DataFrame(_2d_tupel)",
   "id": "1ff148059d846411",
   "outputs": [
    {
     "data": {
      "text/plain": [
       "   0\n",
       "0  2\n",
       "1  4\n",
       "2  3\n",
       "3  1"
      ],
      "text/html": [
       "<div>\n",
       "<style scoped>\n",
       "    .dataframe tbody tr th:only-of-type {\n",
       "        vertical-align: middle;\n",
       "    }\n",
       "\n",
       "    .dataframe tbody tr th {\n",
       "        vertical-align: top;\n",
       "    }\n",
       "\n",
       "    .dataframe thead th {\n",
       "        text-align: right;\n",
       "    }\n",
       "</style>\n",
       "<table border=\"1\" class=\"dataframe\">\n",
       "  <thead>\n",
       "    <tr style=\"text-align: right;\">\n",
       "      <th></th>\n",
       "      <th>0</th>\n",
       "    </tr>\n",
       "  </thead>\n",
       "  <tbody>\n",
       "    <tr>\n",
       "      <th>0</th>\n",
       "      <td>2</td>\n",
       "    </tr>\n",
       "    <tr>\n",
       "      <th>1</th>\n",
       "      <td>4</td>\n",
       "    </tr>\n",
       "    <tr>\n",
       "      <th>2</th>\n",
       "      <td>3</td>\n",
       "    </tr>\n",
       "    <tr>\n",
       "      <th>3</th>\n",
       "      <td>1</td>\n",
       "    </tr>\n",
       "  </tbody>\n",
       "</table>\n",
       "</div>"
      ]
     },
     "execution_count": 12,
     "metadata": {},
     "output_type": "execute_result"
    }
   ],
   "execution_count": 12
  },
  {
   "metadata": {
    "ExecuteTime": {
     "end_time": "2025-09-11T08:54:13.348761Z",
     "start_time": "2025-09-11T08:54:13.341713Z"
    }
   },
   "cell_type": "code",
   "source": [
    "_2d_tupel = ((2,4,3,1) ,(21 ,90,2))\n",
    "pd.DataFrame(_2d_tupel)"
   ],
   "id": "94bac85356d97515",
   "outputs": [
    {
     "data": {
      "text/plain": [
       "    0   1  2    3\n",
       "0   2   4  3  1.0\n",
       "1  21  90  2  NaN"
      ],
      "text/html": [
       "<div>\n",
       "<style scoped>\n",
       "    .dataframe tbody tr th:only-of-type {\n",
       "        vertical-align: middle;\n",
       "    }\n",
       "\n",
       "    .dataframe tbody tr th {\n",
       "        vertical-align: top;\n",
       "    }\n",
       "\n",
       "    .dataframe thead th {\n",
       "        text-align: right;\n",
       "    }\n",
       "</style>\n",
       "<table border=\"1\" class=\"dataframe\">\n",
       "  <thead>\n",
       "    <tr style=\"text-align: right;\">\n",
       "      <th></th>\n",
       "      <th>0</th>\n",
       "      <th>1</th>\n",
       "      <th>2</th>\n",
       "      <th>3</th>\n",
       "    </tr>\n",
       "  </thead>\n",
       "  <tbody>\n",
       "    <tr>\n",
       "      <th>0</th>\n",
       "      <td>2</td>\n",
       "      <td>4</td>\n",
       "      <td>3</td>\n",
       "      <td>1.0</td>\n",
       "    </tr>\n",
       "    <tr>\n",
       "      <th>1</th>\n",
       "      <td>21</td>\n",
       "      <td>90</td>\n",
       "      <td>2</td>\n",
       "      <td>NaN</td>\n",
       "    </tr>\n",
       "  </tbody>\n",
       "</table>\n",
       "</div>"
      ]
     },
     "execution_count": 14,
     "metadata": {},
     "output_type": "execute_result"
    }
   ],
   "execution_count": 14
  },
  {
   "metadata": {
    "ExecuteTime": {
     "end_time": "2025-09-11T08:54:46.529660Z",
     "start_time": "2025-09-11T08:54:46.523459Z"
    }
   },
   "cell_type": "code",
   "source": "pd.DataFrame(_2d_tupel , columns=['A','B','C','D'])",
   "id": "3c285f78bf01f490",
   "outputs": [
    {
     "data": {
      "text/plain": [
       "    A   B  C    D\n",
       "0   2   4  3  1.0\n",
       "1  21  90  2  NaN"
      ],
      "text/html": [
       "<div>\n",
       "<style scoped>\n",
       "    .dataframe tbody tr th:only-of-type {\n",
       "        vertical-align: middle;\n",
       "    }\n",
       "\n",
       "    .dataframe tbody tr th {\n",
       "        vertical-align: top;\n",
       "    }\n",
       "\n",
       "    .dataframe thead th {\n",
       "        text-align: right;\n",
       "    }\n",
       "</style>\n",
       "<table border=\"1\" class=\"dataframe\">\n",
       "  <thead>\n",
       "    <tr style=\"text-align: right;\">\n",
       "      <th></th>\n",
       "      <th>A</th>\n",
       "      <th>B</th>\n",
       "      <th>C</th>\n",
       "      <th>D</th>\n",
       "    </tr>\n",
       "  </thead>\n",
       "  <tbody>\n",
       "    <tr>\n",
       "      <th>0</th>\n",
       "      <td>2</td>\n",
       "      <td>4</td>\n",
       "      <td>3</td>\n",
       "      <td>1.0</td>\n",
       "    </tr>\n",
       "    <tr>\n",
       "      <th>1</th>\n",
       "      <td>21</td>\n",
       "      <td>90</td>\n",
       "      <td>2</td>\n",
       "      <td>NaN</td>\n",
       "    </tr>\n",
       "  </tbody>\n",
       "</table>\n",
       "</div>"
      ]
     },
     "execution_count": 15,
     "metadata": {},
     "output_type": "execute_result"
    }
   ],
   "execution_count": 15
  },
  {
   "metadata": {
    "ExecuteTime": {
     "end_time": "2025-09-11T08:57:02.157033Z",
     "start_time": "2025-09-11T08:57:02.153050Z"
    }
   },
   "cell_type": "code",
   "source": [
    "_dict ={\n",
    "    'Name':['Lufor'],\n",
    "    'Id' : [101],\n",
    "    'DPT':['PSE'],\n",
    "}"
   ],
   "id": "2badb0a9cdfb034b",
   "outputs": [],
   "execution_count": 18
  },
  {
   "metadata": {
    "ExecuteTime": {
     "end_time": "2025-09-11T08:57:02.792945Z",
     "start_time": "2025-09-11T08:57:02.785848Z"
    }
   },
   "cell_type": "code",
   "source": "pd.DataFrame(_dict)",
   "id": "a05f2e57058e0d15",
   "outputs": [
    {
     "data": {
      "text/plain": [
       "    Name   Id  DPT\n",
       "0  Lufor  101  PSE"
      ],
      "text/html": [
       "<div>\n",
       "<style scoped>\n",
       "    .dataframe tbody tr th:only-of-type {\n",
       "        vertical-align: middle;\n",
       "    }\n",
       "\n",
       "    .dataframe tbody tr th {\n",
       "        vertical-align: top;\n",
       "    }\n",
       "\n",
       "    .dataframe thead th {\n",
       "        text-align: right;\n",
       "    }\n",
       "</style>\n",
       "<table border=\"1\" class=\"dataframe\">\n",
       "  <thead>\n",
       "    <tr style=\"text-align: right;\">\n",
       "      <th></th>\n",
       "      <th>Name</th>\n",
       "      <th>Id</th>\n",
       "      <th>DPT</th>\n",
       "    </tr>\n",
       "  </thead>\n",
       "  <tbody>\n",
       "    <tr>\n",
       "      <th>0</th>\n",
       "      <td>Lufor</td>\n",
       "      <td>101</td>\n",
       "      <td>PSE</td>\n",
       "    </tr>\n",
       "  </tbody>\n",
       "</table>\n",
       "</div>"
      ]
     },
     "execution_count": 19,
     "metadata": {},
     "output_type": "execute_result"
    }
   ],
   "execution_count": 19
  },
  {
   "metadata": {
    "ExecuteTime": {
     "end_time": "2025-09-11T08:58:36.398442Z",
     "start_time": "2025-09-11T08:58:36.394399Z"
    }
   },
   "cell_type": "code",
   "source": [
    "_dict ={\n",
    "    'Name':['Lufor' , 'Mean' , 'Natalia','Maria'],\n",
    "    'Id' : [101 , 302 , 901 , 102],\n",
    "    'DPT':['PSE' , 'ELL' ,'Math' , 'EEE' ],\n",
    "}"
   ],
   "id": "9b545dca02eca99c",
   "outputs": [],
   "execution_count": 20
  },
  {
   "metadata": {
    "ExecuteTime": {
     "end_time": "2025-09-11T08:58:39.452143Z",
     "start_time": "2025-09-11T08:58:39.446213Z"
    }
   },
   "cell_type": "code",
   "source": "pd.DataFrame(_dict)",
   "id": "d89f6ddf5f676193",
   "outputs": [
    {
     "data": {
      "text/plain": [
       "      Name   Id   DPT\n",
       "0    Lufor  101   PSE\n",
       "1     Mean  302   ELL\n",
       "2  Natalia  901  Math\n",
       "3    Maria  102   EEE"
      ],
      "text/html": [
       "<div>\n",
       "<style scoped>\n",
       "    .dataframe tbody tr th:only-of-type {\n",
       "        vertical-align: middle;\n",
       "    }\n",
       "\n",
       "    .dataframe tbody tr th {\n",
       "        vertical-align: top;\n",
       "    }\n",
       "\n",
       "    .dataframe thead th {\n",
       "        text-align: right;\n",
       "    }\n",
       "</style>\n",
       "<table border=\"1\" class=\"dataframe\">\n",
       "  <thead>\n",
       "    <tr style=\"text-align: right;\">\n",
       "      <th></th>\n",
       "      <th>Name</th>\n",
       "      <th>Id</th>\n",
       "      <th>DPT</th>\n",
       "    </tr>\n",
       "  </thead>\n",
       "  <tbody>\n",
       "    <tr>\n",
       "      <th>0</th>\n",
       "      <td>Lufor</td>\n",
       "      <td>101</td>\n",
       "      <td>PSE</td>\n",
       "    </tr>\n",
       "    <tr>\n",
       "      <th>1</th>\n",
       "      <td>Mean</td>\n",
       "      <td>302</td>\n",
       "      <td>ELL</td>\n",
       "    </tr>\n",
       "    <tr>\n",
       "      <th>2</th>\n",
       "      <td>Natalia</td>\n",
       "      <td>901</td>\n",
       "      <td>Math</td>\n",
       "    </tr>\n",
       "    <tr>\n",
       "      <th>3</th>\n",
       "      <td>Maria</td>\n",
       "      <td>102</td>\n",
       "      <td>EEE</td>\n",
       "    </tr>\n",
       "  </tbody>\n",
       "</table>\n",
       "</div>"
      ]
     },
     "execution_count": 21,
     "metadata": {},
     "output_type": "execute_result"
    }
   ],
   "execution_count": 21
  },
  {
   "metadata": {
    "ExecuteTime": {
     "end_time": "2025-09-11T09:03:25.463005Z",
     "start_time": "2025-09-11T09:03:25.458005Z"
    }
   },
   "cell_type": "code",
   "source": "_set = {4,5,6, 'Maria'}",
   "id": "50a055b7eee98994",
   "outputs": [],
   "execution_count": 22
  },
  {
   "metadata": {
    "ExecuteTime": {
     "end_time": "2025-09-11T09:03:30.855294Z",
     "start_time": "2025-09-11T09:03:30.849150Z"
    }
   },
   "cell_type": "code",
   "source": "pd.DataFrame(_set)",
   "id": "1c5ce7438999e634",
   "outputs": [
    {
     "data": {
      "text/plain": [
       "       0\n",
       "0  Maria\n",
       "1      4\n",
       "2      5\n",
       "3      6"
      ],
      "text/html": [
       "<div>\n",
       "<style scoped>\n",
       "    .dataframe tbody tr th:only-of-type {\n",
       "        vertical-align: middle;\n",
       "    }\n",
       "\n",
       "    .dataframe tbody tr th {\n",
       "        vertical-align: top;\n",
       "    }\n",
       "\n",
       "    .dataframe thead th {\n",
       "        text-align: right;\n",
       "    }\n",
       "</style>\n",
       "<table border=\"1\" class=\"dataframe\">\n",
       "  <thead>\n",
       "    <tr style=\"text-align: right;\">\n",
       "      <th></th>\n",
       "      <th>0</th>\n",
       "    </tr>\n",
       "  </thead>\n",
       "  <tbody>\n",
       "    <tr>\n",
       "      <th>0</th>\n",
       "      <td>Maria</td>\n",
       "    </tr>\n",
       "    <tr>\n",
       "      <th>1</th>\n",
       "      <td>4</td>\n",
       "    </tr>\n",
       "    <tr>\n",
       "      <th>2</th>\n",
       "      <td>5</td>\n",
       "    </tr>\n",
       "    <tr>\n",
       "      <th>3</th>\n",
       "      <td>6</td>\n",
       "    </tr>\n",
       "  </tbody>\n",
       "</table>\n",
       "</div>"
      ]
     },
     "execution_count": 23,
     "metadata": {},
     "output_type": "execute_result"
    }
   ],
   "execution_count": 23
  },
  {
   "metadata": {
    "ExecuteTime": {
     "end_time": "2025-09-11T09:04:13.264998Z",
     "start_time": "2025-09-11T09:04:13.259121Z"
    }
   },
   "cell_type": "code",
   "source": "pd.DataFrame(_set , columns=['A'])",
   "id": "7c47c7e21249e04c",
   "outputs": [
    {
     "data": {
      "text/plain": [
       "       A\n",
       "0  Maria\n",
       "1      4\n",
       "2      5\n",
       "3      6"
      ],
      "text/html": [
       "<div>\n",
       "<style scoped>\n",
       "    .dataframe tbody tr th:only-of-type {\n",
       "        vertical-align: middle;\n",
       "    }\n",
       "\n",
       "    .dataframe tbody tr th {\n",
       "        vertical-align: top;\n",
       "    }\n",
       "\n",
       "    .dataframe thead th {\n",
       "        text-align: right;\n",
       "    }\n",
       "</style>\n",
       "<table border=\"1\" class=\"dataframe\">\n",
       "  <thead>\n",
       "    <tr style=\"text-align: right;\">\n",
       "      <th></th>\n",
       "      <th>A</th>\n",
       "    </tr>\n",
       "  </thead>\n",
       "  <tbody>\n",
       "    <tr>\n",
       "      <th>0</th>\n",
       "      <td>Maria</td>\n",
       "    </tr>\n",
       "    <tr>\n",
       "      <th>1</th>\n",
       "      <td>4</td>\n",
       "    </tr>\n",
       "    <tr>\n",
       "      <th>2</th>\n",
       "      <td>5</td>\n",
       "    </tr>\n",
       "    <tr>\n",
       "      <th>3</th>\n",
       "      <td>6</td>\n",
       "    </tr>\n",
       "  </tbody>\n",
       "</table>\n",
       "</div>"
      ]
     },
     "execution_count": 24,
     "metadata": {},
     "output_type": "execute_result"
    }
   ],
   "execution_count": 24
  },
  {
   "metadata": {
    "ExecuteTime": {
     "end_time": "2025-09-11T09:04:58.205574Z",
     "start_time": "2025-09-11T09:04:58.199925Z"
    }
   },
   "cell_type": "code",
   "source": [
    "import numpy as np\n",
    "vector = np.arange(10)\n",
    "vector"
   ],
   "id": "ada33824b172c3ba",
   "outputs": [
    {
     "data": {
      "text/plain": [
       "array([0, 1, 2, 3, 4, 5, 6, 7, 8, 9])"
      ]
     },
     "execution_count": 25,
     "metadata": {},
     "output_type": "execute_result"
    }
   ],
   "execution_count": 25
  },
  {
   "metadata": {
    "ExecuteTime": {
     "end_time": "2025-09-11T09:05:09.756430Z",
     "start_time": "2025-09-11T09:05:09.751525Z"
    }
   },
   "cell_type": "code",
   "source": "pd.DataFrame(vector)",
   "id": "6a9549f43e8f8f17",
   "outputs": [
    {
     "data": {
      "text/plain": [
       "   0\n",
       "0  0\n",
       "1  1\n",
       "2  2\n",
       "3  3\n",
       "4  4\n",
       "5  5\n",
       "6  6\n",
       "7  7\n",
       "8  8\n",
       "9  9"
      ],
      "text/html": [
       "<div>\n",
       "<style scoped>\n",
       "    .dataframe tbody tr th:only-of-type {\n",
       "        vertical-align: middle;\n",
       "    }\n",
       "\n",
       "    .dataframe tbody tr th {\n",
       "        vertical-align: top;\n",
       "    }\n",
       "\n",
       "    .dataframe thead th {\n",
       "        text-align: right;\n",
       "    }\n",
       "</style>\n",
       "<table border=\"1\" class=\"dataframe\">\n",
       "  <thead>\n",
       "    <tr style=\"text-align: right;\">\n",
       "      <th></th>\n",
       "      <th>0</th>\n",
       "    </tr>\n",
       "  </thead>\n",
       "  <tbody>\n",
       "    <tr>\n",
       "      <th>0</th>\n",
       "      <td>0</td>\n",
       "    </tr>\n",
       "    <tr>\n",
       "      <th>1</th>\n",
       "      <td>1</td>\n",
       "    </tr>\n",
       "    <tr>\n",
       "      <th>2</th>\n",
       "      <td>2</td>\n",
       "    </tr>\n",
       "    <tr>\n",
       "      <th>3</th>\n",
       "      <td>3</td>\n",
       "    </tr>\n",
       "    <tr>\n",
       "      <th>4</th>\n",
       "      <td>4</td>\n",
       "    </tr>\n",
       "    <tr>\n",
       "      <th>5</th>\n",
       "      <td>5</td>\n",
       "    </tr>\n",
       "    <tr>\n",
       "      <th>6</th>\n",
       "      <td>6</td>\n",
       "    </tr>\n",
       "    <tr>\n",
       "      <th>7</th>\n",
       "      <td>7</td>\n",
       "    </tr>\n",
       "    <tr>\n",
       "      <th>8</th>\n",
       "      <td>8</td>\n",
       "    </tr>\n",
       "    <tr>\n",
       "      <th>9</th>\n",
       "      <td>9</td>\n",
       "    </tr>\n",
       "  </tbody>\n",
       "</table>\n",
       "</div>"
      ]
     },
     "execution_count": 26,
     "metadata": {},
     "output_type": "execute_result"
    }
   ],
   "execution_count": 26
  },
  {
   "metadata": {
    "ExecuteTime": {
     "end_time": "2025-09-11T09:05:46.110493Z",
     "start_time": "2025-09-11T09:05:46.104848Z"
    }
   },
   "cell_type": "code",
   "source": [
    "matrix = np.random.rand(3,4)\n",
    "matrix"
   ],
   "id": "3aeef7f14147929e",
   "outputs": [
    {
     "data": {
      "text/plain": [
       "array([[0.661769  , 0.46813376, 0.4771579 , 0.42132569],\n",
       "       [0.32307813, 0.11513163, 0.22463209, 0.86003889],\n",
       "       [0.14119321, 0.25345329, 0.80351799, 0.32937968]])"
      ]
     },
     "execution_count": 27,
     "metadata": {},
     "output_type": "execute_result"
    }
   ],
   "execution_count": 27
  },
  {
   "metadata": {
    "ExecuteTime": {
     "end_time": "2025-09-11T09:05:54.548986Z",
     "start_time": "2025-09-11T09:05:54.543208Z"
    }
   },
   "cell_type": "code",
   "source": "pd.DataFrame(matrix)",
   "id": "dab1b16a55cac712",
   "outputs": [
    {
     "data": {
      "text/plain": [
       "          0         1         2         3\n",
       "0  0.661769  0.468134  0.477158  0.421326\n",
       "1  0.323078  0.115132  0.224632  0.860039\n",
       "2  0.141193  0.253453  0.803518  0.329380"
      ],
      "text/html": [
       "<div>\n",
       "<style scoped>\n",
       "    .dataframe tbody tr th:only-of-type {\n",
       "        vertical-align: middle;\n",
       "    }\n",
       "\n",
       "    .dataframe tbody tr th {\n",
       "        vertical-align: top;\n",
       "    }\n",
       "\n",
       "    .dataframe thead th {\n",
       "        text-align: right;\n",
       "    }\n",
       "</style>\n",
       "<table border=\"1\" class=\"dataframe\">\n",
       "  <thead>\n",
       "    <tr style=\"text-align: right;\">\n",
       "      <th></th>\n",
       "      <th>0</th>\n",
       "      <th>1</th>\n",
       "      <th>2</th>\n",
       "      <th>3</th>\n",
       "    </tr>\n",
       "  </thead>\n",
       "  <tbody>\n",
       "    <tr>\n",
       "      <th>0</th>\n",
       "      <td>0.661769</td>\n",
       "      <td>0.468134</td>\n",
       "      <td>0.477158</td>\n",
       "      <td>0.421326</td>\n",
       "    </tr>\n",
       "    <tr>\n",
       "      <th>1</th>\n",
       "      <td>0.323078</td>\n",
       "      <td>0.115132</td>\n",
       "      <td>0.224632</td>\n",
       "      <td>0.860039</td>\n",
       "    </tr>\n",
       "    <tr>\n",
       "      <th>2</th>\n",
       "      <td>0.141193</td>\n",
       "      <td>0.253453</td>\n",
       "      <td>0.803518</td>\n",
       "      <td>0.329380</td>\n",
       "    </tr>\n",
       "  </tbody>\n",
       "</table>\n",
       "</div>"
      ]
     },
     "execution_count": 28,
     "metadata": {},
     "output_type": "execute_result"
    }
   ],
   "execution_count": 28
  },
  {
   "metadata": {
    "ExecuteTime": {
     "end_time": "2025-09-11T09:06:56.688142Z",
     "start_time": "2025-09-11T09:06:56.681123Z"
    }
   },
   "cell_type": "code",
   "source": "pd.DataFrame(matrix , columns=['A','B','C','D'])",
   "id": "d022f2cc941da4a1",
   "outputs": [
    {
     "data": {
      "text/plain": [
       "          A         B         C         D\n",
       "0  0.661769  0.468134  0.477158  0.421326\n",
       "1  0.323078  0.115132  0.224632  0.860039\n",
       "2  0.141193  0.253453  0.803518  0.329380"
      ],
      "text/html": [
       "<div>\n",
       "<style scoped>\n",
       "    .dataframe tbody tr th:only-of-type {\n",
       "        vertical-align: middle;\n",
       "    }\n",
       "\n",
       "    .dataframe tbody tr th {\n",
       "        vertical-align: top;\n",
       "    }\n",
       "\n",
       "    .dataframe thead th {\n",
       "        text-align: right;\n",
       "    }\n",
       "</style>\n",
       "<table border=\"1\" class=\"dataframe\">\n",
       "  <thead>\n",
       "    <tr style=\"text-align: right;\">\n",
       "      <th></th>\n",
       "      <th>A</th>\n",
       "      <th>B</th>\n",
       "      <th>C</th>\n",
       "      <th>D</th>\n",
       "    </tr>\n",
       "  </thead>\n",
       "  <tbody>\n",
       "    <tr>\n",
       "      <th>0</th>\n",
       "      <td>0.661769</td>\n",
       "      <td>0.468134</td>\n",
       "      <td>0.477158</td>\n",
       "      <td>0.421326</td>\n",
       "    </tr>\n",
       "    <tr>\n",
       "      <th>1</th>\n",
       "      <td>0.323078</td>\n",
       "      <td>0.115132</td>\n",
       "      <td>0.224632</td>\n",
       "      <td>0.860039</td>\n",
       "    </tr>\n",
       "    <tr>\n",
       "      <th>2</th>\n",
       "      <td>0.141193</td>\n",
       "      <td>0.253453</td>\n",
       "      <td>0.803518</td>\n",
       "      <td>0.329380</td>\n",
       "    </tr>\n",
       "  </tbody>\n",
       "</table>\n",
       "</div>"
      ]
     },
     "execution_count": 29,
     "metadata": {},
     "output_type": "execute_result"
    }
   ],
   "execution_count": 29
  },
  {
   "metadata": {
    "ExecuteTime": {
     "end_time": "2025-09-11T09:07:34.971306Z",
     "start_time": "2025-09-11T09:07:34.968168Z"
    }
   },
   "cell_type": "code",
   "source": "tensor = np.random.rand(3,4,5)",
   "id": "5fa9688a665d4347",
   "outputs": [],
   "execution_count": 30
  },
  {
   "metadata": {
    "ExecuteTime": {
     "end_time": "2025-09-11T09:07:37.445996Z",
     "start_time": "2025-09-11T09:07:37.442007Z"
    }
   },
   "cell_type": "code",
   "source": "tensor",
   "id": "86d94fe97c8e6e16",
   "outputs": [
    {
     "data": {
      "text/plain": [
       "array([[[0.91688762, 0.2693847 , 0.12537608, 0.37335677, 0.59018612],\n",
       "        [0.11184045, 0.45702786, 0.68506174, 0.0801775 , 0.62642441],\n",
       "        [0.81945062, 0.52202903, 0.64386377, 0.06290395, 0.28072405],\n",
       "        [0.66239056, 0.52245531, 0.42017451, 0.49922534, 0.96949826]],\n",
       "\n",
       "       [[0.01063708, 0.90555159, 0.75335338, 0.32291913, 0.10806869],\n",
       "        [0.06246188, 0.65989925, 0.127573  , 0.63581661, 0.56129257],\n",
       "        [0.20713144, 0.8348906 , 0.62007196, 0.3078908 , 0.21443242],\n",
       "        [0.2275033 , 0.74992009, 0.34555784, 0.86795233, 0.99044303]],\n",
       "\n",
       "       [[0.68971598, 0.38506086, 0.84471348, 0.23699342, 0.35049747],\n",
       "        [0.37753401, 0.39158932, 0.39363286, 0.23603978, 0.14299182],\n",
       "        [0.23318333, 0.06829192, 0.07995496, 0.02884598, 0.07364609],\n",
       "        [0.88513636, 0.61146982, 0.36237799, 0.21291917, 0.81533833]]])"
      ]
     },
     "execution_count": 31,
     "metadata": {},
     "output_type": "execute_result"
    }
   ],
   "execution_count": 31
  },
  {
   "metadata": {
    "ExecuteTime": {
     "end_time": "2025-09-11T09:07:44.605108Z",
     "start_time": "2025-09-11T09:07:44.552990Z"
    }
   },
   "cell_type": "code",
   "source": "pd.DataFrame(tensor)",
   "id": "b242108059f08022",
   "outputs": [
    {
     "ename": "ValueError",
     "evalue": "Must pass 2-d input. shape=(3, 4, 5)",
     "output_type": "error",
     "traceback": [
      "\u001B[1;31m---------------------------------------------------------------------------\u001B[0m",
      "\u001B[1;31mValueError\u001B[0m                                Traceback (most recent call last)",
      "Cell \u001B[1;32mIn[32], line 1\u001B[0m\n\u001B[1;32m----> 1\u001B[0m \u001B[43mpd\u001B[49m\u001B[38;5;241;43m.\u001B[39;49m\u001B[43mDataFrame\u001B[49m\u001B[43m(\u001B[49m\u001B[43mtensor\u001B[49m\u001B[43m)\u001B[49m\n",
      "File \u001B[1;32m~\\AppData\\Local\\Programs\\Python\\Python312\\Lib\\site-packages\\pandas\\core\\frame.py:827\u001B[0m, in \u001B[0;36mDataFrame.__init__\u001B[1;34m(self, data, index, columns, dtype, copy)\u001B[0m\n\u001B[0;32m    816\u001B[0m         mgr \u001B[38;5;241m=\u001B[39m dict_to_mgr(\n\u001B[0;32m    817\u001B[0m             \u001B[38;5;66;03m# error: Item \"ndarray\" of \"Union[ndarray, Series, Index]\" has no\u001B[39;00m\n\u001B[0;32m    818\u001B[0m             \u001B[38;5;66;03m# attribute \"name\"\u001B[39;00m\n\u001B[1;32m   (...)\u001B[0m\n\u001B[0;32m    824\u001B[0m             copy\u001B[38;5;241m=\u001B[39m_copy,\n\u001B[0;32m    825\u001B[0m         )\n\u001B[0;32m    826\u001B[0m     \u001B[38;5;28;01melse\u001B[39;00m:\n\u001B[1;32m--> 827\u001B[0m         mgr \u001B[38;5;241m=\u001B[39m \u001B[43mndarray_to_mgr\u001B[49m\u001B[43m(\u001B[49m\n\u001B[0;32m    828\u001B[0m \u001B[43m            \u001B[49m\u001B[43mdata\u001B[49m\u001B[43m,\u001B[49m\n\u001B[0;32m    829\u001B[0m \u001B[43m            \u001B[49m\u001B[43mindex\u001B[49m\u001B[43m,\u001B[49m\n\u001B[0;32m    830\u001B[0m \u001B[43m            \u001B[49m\u001B[43mcolumns\u001B[49m\u001B[43m,\u001B[49m\n\u001B[0;32m    831\u001B[0m \u001B[43m            \u001B[49m\u001B[43mdtype\u001B[49m\u001B[38;5;241;43m=\u001B[39;49m\u001B[43mdtype\u001B[49m\u001B[43m,\u001B[49m\n\u001B[0;32m    832\u001B[0m \u001B[43m            \u001B[49m\u001B[43mcopy\u001B[49m\u001B[38;5;241;43m=\u001B[39;49m\u001B[43mcopy\u001B[49m\u001B[43m,\u001B[49m\n\u001B[0;32m    833\u001B[0m \u001B[43m            \u001B[49m\u001B[43mtyp\u001B[49m\u001B[38;5;241;43m=\u001B[39;49m\u001B[43mmanager\u001B[49m\u001B[43m,\u001B[49m\n\u001B[0;32m    834\u001B[0m \u001B[43m        \u001B[49m\u001B[43m)\u001B[49m\n\u001B[0;32m    836\u001B[0m \u001B[38;5;66;03m# For data is list-like, or Iterable (will consume into list)\u001B[39;00m\n\u001B[0;32m    837\u001B[0m \u001B[38;5;28;01melif\u001B[39;00m is_list_like(data):\n",
      "File \u001B[1;32m~\\AppData\\Local\\Programs\\Python\\Python312\\Lib\\site-packages\\pandas\\core\\internals\\construction.py:314\u001B[0m, in \u001B[0;36mndarray_to_mgr\u001B[1;34m(values, index, columns, dtype, copy, typ)\u001B[0m\n\u001B[0;32m    308\u001B[0m     _copy \u001B[38;5;241m=\u001B[39m (\n\u001B[0;32m    309\u001B[0m         copy_on_sanitize\n\u001B[0;32m    310\u001B[0m         \u001B[38;5;28;01mif\u001B[39;00m (dtype \u001B[38;5;129;01mis\u001B[39;00m \u001B[38;5;28;01mNone\u001B[39;00m \u001B[38;5;129;01mor\u001B[39;00m astype_is_view(values\u001B[38;5;241m.\u001B[39mdtype, dtype))\n\u001B[0;32m    311\u001B[0m         \u001B[38;5;28;01melse\u001B[39;00m \u001B[38;5;28;01mFalse\u001B[39;00m\n\u001B[0;32m    312\u001B[0m     )\n\u001B[0;32m    313\u001B[0m     values \u001B[38;5;241m=\u001B[39m np\u001B[38;5;241m.\u001B[39marray(values, copy\u001B[38;5;241m=\u001B[39m_copy)\n\u001B[1;32m--> 314\u001B[0m     values \u001B[38;5;241m=\u001B[39m \u001B[43m_ensure_2d\u001B[49m\u001B[43m(\u001B[49m\u001B[43mvalues\u001B[49m\u001B[43m)\u001B[49m\n\u001B[0;32m    316\u001B[0m \u001B[38;5;28;01melse\u001B[39;00m:\n\u001B[0;32m    317\u001B[0m     \u001B[38;5;66;03m# by definition an array here\u001B[39;00m\n\u001B[0;32m    318\u001B[0m     \u001B[38;5;66;03m# the dtypes will be coerced to a single dtype\u001B[39;00m\n\u001B[0;32m    319\u001B[0m     values \u001B[38;5;241m=\u001B[39m _prep_ndarraylike(values, copy\u001B[38;5;241m=\u001B[39mcopy_on_sanitize)\n",
      "File \u001B[1;32m~\\AppData\\Local\\Programs\\Python\\Python312\\Lib\\site-packages\\pandas\\core\\internals\\construction.py:592\u001B[0m, in \u001B[0;36m_ensure_2d\u001B[1;34m(values)\u001B[0m\n\u001B[0;32m    590\u001B[0m     values \u001B[38;5;241m=\u001B[39m values\u001B[38;5;241m.\u001B[39mreshape((values\u001B[38;5;241m.\u001B[39mshape[\u001B[38;5;241m0\u001B[39m], \u001B[38;5;241m1\u001B[39m))\n\u001B[0;32m    591\u001B[0m \u001B[38;5;28;01melif\u001B[39;00m values\u001B[38;5;241m.\u001B[39mndim \u001B[38;5;241m!=\u001B[39m \u001B[38;5;241m2\u001B[39m:\n\u001B[1;32m--> 592\u001B[0m     \u001B[38;5;28;01mraise\u001B[39;00m \u001B[38;5;167;01mValueError\u001B[39;00m(\u001B[38;5;124mf\u001B[39m\u001B[38;5;124m\"\u001B[39m\u001B[38;5;124mMust pass 2-d input. shape=\u001B[39m\u001B[38;5;132;01m{\u001B[39;00mvalues\u001B[38;5;241m.\u001B[39mshape\u001B[38;5;132;01m}\u001B[39;00m\u001B[38;5;124m\"\u001B[39m)\n\u001B[0;32m    593\u001B[0m \u001B[38;5;28;01mreturn\u001B[39;00m values\n",
      "\u001B[1;31mValueError\u001B[0m: Must pass 2-d input. shape=(3, 4, 5)"
     ]
    }
   ],
   "execution_count": 32
  },
  {
   "metadata": {
    "ExecuteTime": {
     "end_time": "2025-09-11T09:08:31.445113Z",
     "start_time": "2025-09-11T09:08:28.324530Z"
    }
   },
   "cell_type": "code",
   "source": [
    "import torch\n",
    "pd.DataFrame(torch.arange(10))"
   ],
   "id": "2298ca5fc3933c62",
   "outputs": [
    {
     "data": {
      "text/plain": [
       "   0\n",
       "0  0\n",
       "1  1\n",
       "2  2\n",
       "3  3\n",
       "4  4\n",
       "5  5\n",
       "6  6\n",
       "7  7\n",
       "8  8\n",
       "9  9"
      ],
      "text/html": [
       "<div>\n",
       "<style scoped>\n",
       "    .dataframe tbody tr th:only-of-type {\n",
       "        vertical-align: middle;\n",
       "    }\n",
       "\n",
       "    .dataframe tbody tr th {\n",
       "        vertical-align: top;\n",
       "    }\n",
       "\n",
       "    .dataframe thead th {\n",
       "        text-align: right;\n",
       "    }\n",
       "</style>\n",
       "<table border=\"1\" class=\"dataframe\">\n",
       "  <thead>\n",
       "    <tr style=\"text-align: right;\">\n",
       "      <th></th>\n",
       "      <th>0</th>\n",
       "    </tr>\n",
       "  </thead>\n",
       "  <tbody>\n",
       "    <tr>\n",
       "      <th>0</th>\n",
       "      <td>0</td>\n",
       "    </tr>\n",
       "    <tr>\n",
       "      <th>1</th>\n",
       "      <td>1</td>\n",
       "    </tr>\n",
       "    <tr>\n",
       "      <th>2</th>\n",
       "      <td>2</td>\n",
       "    </tr>\n",
       "    <tr>\n",
       "      <th>3</th>\n",
       "      <td>3</td>\n",
       "    </tr>\n",
       "    <tr>\n",
       "      <th>4</th>\n",
       "      <td>4</td>\n",
       "    </tr>\n",
       "    <tr>\n",
       "      <th>5</th>\n",
       "      <td>5</td>\n",
       "    </tr>\n",
       "    <tr>\n",
       "      <th>6</th>\n",
       "      <td>6</td>\n",
       "    </tr>\n",
       "    <tr>\n",
       "      <th>7</th>\n",
       "      <td>7</td>\n",
       "    </tr>\n",
       "    <tr>\n",
       "      <th>8</th>\n",
       "      <td>8</td>\n",
       "    </tr>\n",
       "    <tr>\n",
       "      <th>9</th>\n",
       "      <td>9</td>\n",
       "    </tr>\n",
       "  </tbody>\n",
       "</table>\n",
       "</div>"
      ]
     },
     "execution_count": 33,
     "metadata": {},
     "output_type": "execute_result"
    }
   ],
   "execution_count": 33
  },
  {
   "metadata": {
    "ExecuteTime": {
     "end_time": "2025-09-11T09:09:02.770772Z",
     "start_time": "2025-09-11T09:09:02.758840Z"
    }
   },
   "cell_type": "code",
   "source": "pd.DataFrame(torch.rand(10,10))",
   "id": "ed5304014a272c6b",
   "outputs": [
    {
     "data": {
      "text/plain": [
       "          0         1         2         3         4         5         6  \\\n",
       "0  0.563367  0.756184  0.225260  0.179148  0.329369  0.472667  0.731364   \n",
       "1  0.153935  0.919640  0.239383  0.407858  0.714057  0.046846  0.844020   \n",
       "2  0.231044  0.520548  0.027369  0.457944  0.478391  0.547086  0.181646   \n",
       "3  0.358560  0.656653  0.695241  0.023744  0.930578  0.739683  0.211151   \n",
       "4  0.974221  0.144720  0.656223  0.215689  0.188893  0.954332  0.859943   \n",
       "5  0.594330  0.896734  0.995103  0.239384  0.526195  0.646599  0.801504   \n",
       "6  0.529744  0.275647  0.033028  0.065509  0.858069  0.750735  0.467164   \n",
       "7  0.558877  0.727662  0.154222  0.511859  0.645781  0.683901  0.602548   \n",
       "8  0.017748  0.710352  0.086951  0.977422  0.232540  0.960775  0.252556   \n",
       "9  0.480214  0.736766  0.916669  0.569875  0.120999  0.674432  0.896451   \n",
       "\n",
       "          7         8         9  \n",
       "0  0.586085  0.764070  0.206037  \n",
       "1  0.849908  0.716665  0.542686  \n",
       "2  0.826113  0.819250  0.837718  \n",
       "3  0.316996  0.108481  0.797399  \n",
       "4  0.041970  0.419986  0.230693  \n",
       "5  0.683427  0.052783  0.681589  \n",
       "6  0.754637  0.369162  0.731343  \n",
       "7  0.114096  0.878434  0.954403  \n",
       "8  0.654868  0.849148  0.618744  \n",
       "9  0.628241  0.118071  0.478341  "
      ],
      "text/html": [
       "<div>\n",
       "<style scoped>\n",
       "    .dataframe tbody tr th:only-of-type {\n",
       "        vertical-align: middle;\n",
       "    }\n",
       "\n",
       "    .dataframe tbody tr th {\n",
       "        vertical-align: top;\n",
       "    }\n",
       "\n",
       "    .dataframe thead th {\n",
       "        text-align: right;\n",
       "    }\n",
       "</style>\n",
       "<table border=\"1\" class=\"dataframe\">\n",
       "  <thead>\n",
       "    <tr style=\"text-align: right;\">\n",
       "      <th></th>\n",
       "      <th>0</th>\n",
       "      <th>1</th>\n",
       "      <th>2</th>\n",
       "      <th>3</th>\n",
       "      <th>4</th>\n",
       "      <th>5</th>\n",
       "      <th>6</th>\n",
       "      <th>7</th>\n",
       "      <th>8</th>\n",
       "      <th>9</th>\n",
       "    </tr>\n",
       "  </thead>\n",
       "  <tbody>\n",
       "    <tr>\n",
       "      <th>0</th>\n",
       "      <td>0.563367</td>\n",
       "      <td>0.756184</td>\n",
       "      <td>0.225260</td>\n",
       "      <td>0.179148</td>\n",
       "      <td>0.329369</td>\n",
       "      <td>0.472667</td>\n",
       "      <td>0.731364</td>\n",
       "      <td>0.586085</td>\n",
       "      <td>0.764070</td>\n",
       "      <td>0.206037</td>\n",
       "    </tr>\n",
       "    <tr>\n",
       "      <th>1</th>\n",
       "      <td>0.153935</td>\n",
       "      <td>0.919640</td>\n",
       "      <td>0.239383</td>\n",
       "      <td>0.407858</td>\n",
       "      <td>0.714057</td>\n",
       "      <td>0.046846</td>\n",
       "      <td>0.844020</td>\n",
       "      <td>0.849908</td>\n",
       "      <td>0.716665</td>\n",
       "      <td>0.542686</td>\n",
       "    </tr>\n",
       "    <tr>\n",
       "      <th>2</th>\n",
       "      <td>0.231044</td>\n",
       "      <td>0.520548</td>\n",
       "      <td>0.027369</td>\n",
       "      <td>0.457944</td>\n",
       "      <td>0.478391</td>\n",
       "      <td>0.547086</td>\n",
       "      <td>0.181646</td>\n",
       "      <td>0.826113</td>\n",
       "      <td>0.819250</td>\n",
       "      <td>0.837718</td>\n",
       "    </tr>\n",
       "    <tr>\n",
       "      <th>3</th>\n",
       "      <td>0.358560</td>\n",
       "      <td>0.656653</td>\n",
       "      <td>0.695241</td>\n",
       "      <td>0.023744</td>\n",
       "      <td>0.930578</td>\n",
       "      <td>0.739683</td>\n",
       "      <td>0.211151</td>\n",
       "      <td>0.316996</td>\n",
       "      <td>0.108481</td>\n",
       "      <td>0.797399</td>\n",
       "    </tr>\n",
       "    <tr>\n",
       "      <th>4</th>\n",
       "      <td>0.974221</td>\n",
       "      <td>0.144720</td>\n",
       "      <td>0.656223</td>\n",
       "      <td>0.215689</td>\n",
       "      <td>0.188893</td>\n",
       "      <td>0.954332</td>\n",
       "      <td>0.859943</td>\n",
       "      <td>0.041970</td>\n",
       "      <td>0.419986</td>\n",
       "      <td>0.230693</td>\n",
       "    </tr>\n",
       "    <tr>\n",
       "      <th>5</th>\n",
       "      <td>0.594330</td>\n",
       "      <td>0.896734</td>\n",
       "      <td>0.995103</td>\n",
       "      <td>0.239384</td>\n",
       "      <td>0.526195</td>\n",
       "      <td>0.646599</td>\n",
       "      <td>0.801504</td>\n",
       "      <td>0.683427</td>\n",
       "      <td>0.052783</td>\n",
       "      <td>0.681589</td>\n",
       "    </tr>\n",
       "    <tr>\n",
       "      <th>6</th>\n",
       "      <td>0.529744</td>\n",
       "      <td>0.275647</td>\n",
       "      <td>0.033028</td>\n",
       "      <td>0.065509</td>\n",
       "      <td>0.858069</td>\n",
       "      <td>0.750735</td>\n",
       "      <td>0.467164</td>\n",
       "      <td>0.754637</td>\n",
       "      <td>0.369162</td>\n",
       "      <td>0.731343</td>\n",
       "    </tr>\n",
       "    <tr>\n",
       "      <th>7</th>\n",
       "      <td>0.558877</td>\n",
       "      <td>0.727662</td>\n",
       "      <td>0.154222</td>\n",
       "      <td>0.511859</td>\n",
       "      <td>0.645781</td>\n",
       "      <td>0.683901</td>\n",
       "      <td>0.602548</td>\n",
       "      <td>0.114096</td>\n",
       "      <td>0.878434</td>\n",
       "      <td>0.954403</td>\n",
       "    </tr>\n",
       "    <tr>\n",
       "      <th>8</th>\n",
       "      <td>0.017748</td>\n",
       "      <td>0.710352</td>\n",
       "      <td>0.086951</td>\n",
       "      <td>0.977422</td>\n",
       "      <td>0.232540</td>\n",
       "      <td>0.960775</td>\n",
       "      <td>0.252556</td>\n",
       "      <td>0.654868</td>\n",
       "      <td>0.849148</td>\n",
       "      <td>0.618744</td>\n",
       "    </tr>\n",
       "    <tr>\n",
       "      <th>9</th>\n",
       "      <td>0.480214</td>\n",
       "      <td>0.736766</td>\n",
       "      <td>0.916669</td>\n",
       "      <td>0.569875</td>\n",
       "      <td>0.120999</td>\n",
       "      <td>0.674432</td>\n",
       "      <td>0.896451</td>\n",
       "      <td>0.628241</td>\n",
       "      <td>0.118071</td>\n",
       "      <td>0.478341</td>\n",
       "    </tr>\n",
       "  </tbody>\n",
       "</table>\n",
       "</div>"
      ]
     },
     "execution_count": 34,
     "metadata": {},
     "output_type": "execute_result"
    }
   ],
   "execution_count": 34
  },
  {
   "metadata": {
    "ExecuteTime": {
     "end_time": "2025-09-11T09:09:27.834484Z",
     "start_time": "2025-09-11T09:09:27.827126Z"
    }
   },
   "cell_type": "code",
   "source": "pd.DataFrame(torch.rand(10,3) , columns=['A','B','C'])",
   "id": "b194699ffbde05c3",
   "outputs": [
    {
     "data": {
      "text/plain": [
       "          A         B         C\n",
       "0  0.588378  0.099566  0.311701\n",
       "1  0.422838  0.343636  0.716463\n",
       "2  0.755019  0.482181  0.828973\n",
       "3  0.428598  0.266330  0.946923\n",
       "4  0.967314  0.494008  0.981399\n",
       "5  0.350639  0.868355  0.835795\n",
       "6  0.647053  0.685434  0.950011\n",
       "7  0.333386  0.486740  0.656066\n",
       "8  0.950422  0.878260  0.292813\n",
       "9  0.441512  0.611578  0.239633"
      ],
      "text/html": [
       "<div>\n",
       "<style scoped>\n",
       "    .dataframe tbody tr th:only-of-type {\n",
       "        vertical-align: middle;\n",
       "    }\n",
       "\n",
       "    .dataframe tbody tr th {\n",
       "        vertical-align: top;\n",
       "    }\n",
       "\n",
       "    .dataframe thead th {\n",
       "        text-align: right;\n",
       "    }\n",
       "</style>\n",
       "<table border=\"1\" class=\"dataframe\">\n",
       "  <thead>\n",
       "    <tr style=\"text-align: right;\">\n",
       "      <th></th>\n",
       "      <th>A</th>\n",
       "      <th>B</th>\n",
       "      <th>C</th>\n",
       "    </tr>\n",
       "  </thead>\n",
       "  <tbody>\n",
       "    <tr>\n",
       "      <th>0</th>\n",
       "      <td>0.588378</td>\n",
       "      <td>0.099566</td>\n",
       "      <td>0.311701</td>\n",
       "    </tr>\n",
       "    <tr>\n",
       "      <th>1</th>\n",
       "      <td>0.422838</td>\n",
       "      <td>0.343636</td>\n",
       "      <td>0.716463</td>\n",
       "    </tr>\n",
       "    <tr>\n",
       "      <th>2</th>\n",
       "      <td>0.755019</td>\n",
       "      <td>0.482181</td>\n",
       "      <td>0.828973</td>\n",
       "    </tr>\n",
       "    <tr>\n",
       "      <th>3</th>\n",
       "      <td>0.428598</td>\n",
       "      <td>0.266330</td>\n",
       "      <td>0.946923</td>\n",
       "    </tr>\n",
       "    <tr>\n",
       "      <th>4</th>\n",
       "      <td>0.967314</td>\n",
       "      <td>0.494008</td>\n",
       "      <td>0.981399</td>\n",
       "    </tr>\n",
       "    <tr>\n",
       "      <th>5</th>\n",
       "      <td>0.350639</td>\n",
       "      <td>0.868355</td>\n",
       "      <td>0.835795</td>\n",
       "    </tr>\n",
       "    <tr>\n",
       "      <th>6</th>\n",
       "      <td>0.647053</td>\n",
       "      <td>0.685434</td>\n",
       "      <td>0.950011</td>\n",
       "    </tr>\n",
       "    <tr>\n",
       "      <th>7</th>\n",
       "      <td>0.333386</td>\n",
       "      <td>0.486740</td>\n",
       "      <td>0.656066</td>\n",
       "    </tr>\n",
       "    <tr>\n",
       "      <th>8</th>\n",
       "      <td>0.950422</td>\n",
       "      <td>0.878260</td>\n",
       "      <td>0.292813</td>\n",
       "    </tr>\n",
       "    <tr>\n",
       "      <th>9</th>\n",
       "      <td>0.441512</td>\n",
       "      <td>0.611578</td>\n",
       "      <td>0.239633</td>\n",
       "    </tr>\n",
       "  </tbody>\n",
       "</table>\n",
       "</div>"
      ]
     },
     "execution_count": 35,
     "metadata": {},
     "output_type": "execute_result"
    }
   ],
   "execution_count": 35
  },
  {
   "metadata": {},
   "cell_type": "code",
   "outputs": [],
   "execution_count": null,
   "source": "",
   "id": "726ddaaae251aa18"
  }
 ],
 "metadata": {
  "kernelspec": {
   "display_name": "Python 3",
   "language": "python",
   "name": "python3"
  },
  "language_info": {
   "codemirror_mode": {
    "name": "ipython",
    "version": 2
   },
   "file_extension": ".py",
   "mimetype": "text/x-python",
   "name": "python",
   "nbconvert_exporter": "python",
   "pygments_lexer": "ipython2",
   "version": "2.7.6"
  }
 },
 "nbformat": 4,
 "nbformat_minor": 5
}
