{
 "cells": [
  {
   "cell_type": "code",
   "id": "initial_id",
   "metadata": {
    "collapsed": true,
    "ExecuteTime": {
     "end_time": "2025-09-11T09:44:32.775892Z",
     "start_time": "2025-09-11T09:44:32.769744Z"
    }
   },
   "source": [
    "import pandas as pd\n",
    "import numpy as np\n",
    "df=pd.DataFrame(np.random.randn(3,3) , columns=['a', 'b', 'c'])"
   ],
   "outputs": [],
   "execution_count": 2
  },
  {
   "metadata": {
    "ExecuteTime": {
     "end_time": "2025-09-11T09:44:37.019676Z",
     "start_time": "2025-09-11T09:44:37.013434Z"
    }
   },
   "cell_type": "code",
   "source": "df",
   "id": "366ab3406645ee66",
   "outputs": [
    {
     "data": {
      "text/plain": [
       "          a         b         c\n",
       "0 -0.936693 -0.128815 -1.403409\n",
       "1  0.155745  0.983014 -2.196562\n",
       "2 -0.605285  0.228687  0.622543"
      ],
      "text/html": [
       "<div>\n",
       "<style scoped>\n",
       "    .dataframe tbody tr th:only-of-type {\n",
       "        vertical-align: middle;\n",
       "    }\n",
       "\n",
       "    .dataframe tbody tr th {\n",
       "        vertical-align: top;\n",
       "    }\n",
       "\n",
       "    .dataframe thead th {\n",
       "        text-align: right;\n",
       "    }\n",
       "</style>\n",
       "<table border=\"1\" class=\"dataframe\">\n",
       "  <thead>\n",
       "    <tr style=\"text-align: right;\">\n",
       "      <th></th>\n",
       "      <th>a</th>\n",
       "      <th>b</th>\n",
       "      <th>c</th>\n",
       "    </tr>\n",
       "  </thead>\n",
       "  <tbody>\n",
       "    <tr>\n",
       "      <th>0</th>\n",
       "      <td>-0.936693</td>\n",
       "      <td>-0.128815</td>\n",
       "      <td>-1.403409</td>\n",
       "    </tr>\n",
       "    <tr>\n",
       "      <th>1</th>\n",
       "      <td>0.155745</td>\n",
       "      <td>0.983014</td>\n",
       "      <td>-2.196562</td>\n",
       "    </tr>\n",
       "    <tr>\n",
       "      <th>2</th>\n",
       "      <td>-0.605285</td>\n",
       "      <td>0.228687</td>\n",
       "      <td>0.622543</td>\n",
       "    </tr>\n",
       "  </tbody>\n",
       "</table>\n",
       "</div>"
      ]
     },
     "execution_count": 3,
     "metadata": {},
     "output_type": "execute_result"
    }
   ],
   "execution_count": 3
  },
  {
   "metadata": {
    "ExecuteTime": {
     "end_time": "2025-09-11T09:44:57.174493Z",
     "start_time": "2025-09-11T09:44:57.169674Z"
    }
   },
   "cell_type": "code",
   "source": "df['b']",
   "id": "4d67e68d72653572",
   "outputs": [
    {
     "data": {
      "text/plain": [
       "0   -0.128815\n",
       "1    0.983014\n",
       "2    0.228687\n",
       "Name: b, dtype: float64"
      ]
     },
     "execution_count": 4,
     "metadata": {},
     "output_type": "execute_result"
    }
   ],
   "execution_count": 4
  },
  {
   "metadata": {
    "ExecuteTime": {
     "end_time": "2025-09-11T09:45:19.028490Z",
     "start_time": "2025-09-11T09:45:19.023493Z"
    }
   },
   "cell_type": "code",
   "source": "df['b'][1]",
   "id": "ab6e07a9fd265c6",
   "outputs": [
    {
     "data": {
      "text/plain": [
       "np.float64(0.9830141453474083)"
      ]
     },
     "execution_count": 5,
     "metadata": {},
     "output_type": "execute_result"
    }
   ],
   "execution_count": 5
  },
  {
   "metadata": {
    "ExecuteTime": {
     "end_time": "2025-09-11T09:46:08.096119Z",
     "start_time": "2025-09-11T09:46:08.091670Z"
    }
   },
   "cell_type": "code",
   "source": "df.at[1,'b']",
   "id": "ca6f51dfd22e5c28",
   "outputs": [
    {
     "data": {
      "text/plain": [
       "np.float64(0.9830141453474083)"
      ]
     },
     "execution_count": 7,
     "metadata": {},
     "output_type": "execute_result"
    }
   ],
   "execution_count": 7
  },
  {
   "metadata": {
    "ExecuteTime": {
     "end_time": "2025-09-11T09:46:38.232320Z",
     "start_time": "2025-09-11T09:46:38.227726Z"
    }
   },
   "cell_type": "code",
   "source": "df.loc[2]",
   "id": "492b5e5dc8dfa755",
   "outputs": [
    {
     "data": {
      "text/plain": [
       "a   -0.605285\n",
       "b    0.228687\n",
       "c    0.622543\n",
       "Name: 2, dtype: float64"
      ]
     },
     "execution_count": 8,
     "metadata": {},
     "output_type": "execute_result"
    }
   ],
   "execution_count": 8
  },
  {
   "metadata": {
    "ExecuteTime": {
     "end_time": "2025-09-11T09:47:01.579893Z",
     "start_time": "2025-09-11T09:47:01.575933Z"
    }
   },
   "cell_type": "code",
   "source": "df.loc[1,'b']",
   "id": "4d2f0445595074bf",
   "outputs": [
    {
     "data": {
      "text/plain": [
       "np.float64(0.9830141453474083)"
      ]
     },
     "execution_count": 9,
     "metadata": {},
     "output_type": "execute_result"
    }
   ],
   "execution_count": 9
  },
  {
   "metadata": {
    "ExecuteTime": {
     "end_time": "2025-09-11T09:47:40.126459Z",
     "start_time": "2025-09-11T09:47:40.121513Z"
    }
   },
   "cell_type": "code",
   "source": "df.iloc[0]",
   "id": "18d9ac19cf7624cd",
   "outputs": [
    {
     "data": {
      "text/plain": [
       "a   -0.936693\n",
       "b   -0.128815\n",
       "c   -1.403409\n",
       "Name: 0, dtype: float64"
      ]
     },
     "execution_count": 11,
     "metadata": {},
     "output_type": "execute_result"
    }
   ],
   "execution_count": 11
  },
  {
   "metadata": {
    "ExecuteTime": {
     "end_time": "2025-09-11T09:47:53.404958Z",
     "start_time": "2025-09-11T09:47:53.399794Z"
    }
   },
   "cell_type": "code",
   "source": "df.iloc[0]['a']",
   "id": "2ca5d8152e9224da",
   "outputs": [
    {
     "data": {
      "text/plain": [
       "np.float64(-0.9366930264110586)"
      ]
     },
     "execution_count": 12,
     "metadata": {},
     "output_type": "execute_result"
    }
   ],
   "execution_count": 12
  },
  {
   "metadata": {
    "ExecuteTime": {
     "end_time": "2025-09-11T09:48:11.569851Z",
     "start_time": "2025-09-11T09:48:11.566127Z"
    }
   },
   "cell_type": "code",
   "source": "df.loc[0]['a']",
   "id": "18fff0220cc54772",
   "outputs": [
    {
     "data": {
      "text/plain": [
       "np.float64(-0.9366930264110586)"
      ]
     },
     "execution_count": 13,
     "metadata": {},
     "output_type": "execute_result"
    }
   ],
   "execution_count": 13
  },
  {
   "metadata": {
    "ExecuteTime": {
     "end_time": "2025-09-11T09:48:25.876748Z",
     "start_time": "2025-09-11T09:48:25.870765Z"
    }
   },
   "cell_type": "code",
   "source": "df",
   "id": "2e621c1ec1609fec",
   "outputs": [
    {
     "data": {
      "text/plain": [
       "          a         b         c\n",
       "0 -0.936693 -0.128815 -1.403409\n",
       "1  0.155745  0.983014 -2.196562\n",
       "2 -0.605285  0.228687  0.622543"
      ],
      "text/html": [
       "<div>\n",
       "<style scoped>\n",
       "    .dataframe tbody tr th:only-of-type {\n",
       "        vertical-align: middle;\n",
       "    }\n",
       "\n",
       "    .dataframe tbody tr th {\n",
       "        vertical-align: top;\n",
       "    }\n",
       "\n",
       "    .dataframe thead th {\n",
       "        text-align: right;\n",
       "    }\n",
       "</style>\n",
       "<table border=\"1\" class=\"dataframe\">\n",
       "  <thead>\n",
       "    <tr style=\"text-align: right;\">\n",
       "      <th></th>\n",
       "      <th>a</th>\n",
       "      <th>b</th>\n",
       "      <th>c</th>\n",
       "    </tr>\n",
       "  </thead>\n",
       "  <tbody>\n",
       "    <tr>\n",
       "      <th>0</th>\n",
       "      <td>-0.936693</td>\n",
       "      <td>-0.128815</td>\n",
       "      <td>-1.403409</td>\n",
       "    </tr>\n",
       "    <tr>\n",
       "      <th>1</th>\n",
       "      <td>0.155745</td>\n",
       "      <td>0.983014</td>\n",
       "      <td>-2.196562</td>\n",
       "    </tr>\n",
       "    <tr>\n",
       "      <th>2</th>\n",
       "      <td>-0.605285</td>\n",
       "      <td>0.228687</td>\n",
       "      <td>0.622543</td>\n",
       "    </tr>\n",
       "  </tbody>\n",
       "</table>\n",
       "</div>"
      ]
     },
     "execution_count": 14,
     "metadata": {},
     "output_type": "execute_result"
    }
   ],
   "execution_count": 14
  },
  {
   "metadata": {
    "ExecuteTime": {
     "end_time": "2025-09-11T09:48:45.500701Z",
     "start_time": "2025-09-11T09:48:45.494954Z"
    }
   },
   "cell_type": "code",
   "source": [
    "df.loc[0]['a']=10\n",
    "df"
   ],
   "id": "652de660112a19c",
   "outputs": [
    {
     "name": "stderr",
     "output_type": "stream",
     "text": [
      "C:\\Users\\ASUS\\AppData\\Local\\Temp\\ipykernel_4120\\641889046.py:1: FutureWarning: ChainedAssignmentError: behaviour will change in pandas 3.0!\n",
      "You are setting values through chained assignment. Currently this works in certain cases, but when using Copy-on-Write (which will become the default behaviour in pandas 3.0) this will never work to update the original DataFrame or Series, because the intermediate object on which we are setting values will behave as a copy.\n",
      "A typical example is when you are setting values in a column of a DataFrame, like:\n",
      "\n",
      "df[\"col\"][row_indexer] = value\n",
      "\n",
      "Use `df.loc[row_indexer, \"col\"] = values` instead, to perform the assignment in a single step and ensure this keeps updating the original `df`.\n",
      "\n",
      "See the caveats in the documentation: https://pandas.pydata.org/pandas-docs/stable/user_guide/indexing.html#returning-a-view-versus-a-copy\n",
      "\n",
      "  df.loc[0]['a']=10\n"
     ]
    },
    {
     "data": {
      "text/plain": [
       "           a         b         c\n",
       "0  10.000000 -0.128815 -1.403409\n",
       "1   0.155745  0.983014 -2.196562\n",
       "2  -0.605285  0.228687  0.622543"
      ],
      "text/html": [
       "<div>\n",
       "<style scoped>\n",
       "    .dataframe tbody tr th:only-of-type {\n",
       "        vertical-align: middle;\n",
       "    }\n",
       "\n",
       "    .dataframe tbody tr th {\n",
       "        vertical-align: top;\n",
       "    }\n",
       "\n",
       "    .dataframe thead th {\n",
       "        text-align: right;\n",
       "    }\n",
       "</style>\n",
       "<table border=\"1\" class=\"dataframe\">\n",
       "  <thead>\n",
       "    <tr style=\"text-align: right;\">\n",
       "      <th></th>\n",
       "      <th>a</th>\n",
       "      <th>b</th>\n",
       "      <th>c</th>\n",
       "    </tr>\n",
       "  </thead>\n",
       "  <tbody>\n",
       "    <tr>\n",
       "      <th>0</th>\n",
       "      <td>10.000000</td>\n",
       "      <td>-0.128815</td>\n",
       "      <td>-1.403409</td>\n",
       "    </tr>\n",
       "    <tr>\n",
       "      <th>1</th>\n",
       "      <td>0.155745</td>\n",
       "      <td>0.983014</td>\n",
       "      <td>-2.196562</td>\n",
       "    </tr>\n",
       "    <tr>\n",
       "      <th>2</th>\n",
       "      <td>-0.605285</td>\n",
       "      <td>0.228687</td>\n",
       "      <td>0.622543</td>\n",
       "    </tr>\n",
       "  </tbody>\n",
       "</table>\n",
       "</div>"
      ]
     },
     "execution_count": 15,
     "metadata": {},
     "output_type": "execute_result"
    }
   ],
   "execution_count": 15
  },
  {
   "metadata": {
    "ExecuteTime": {
     "end_time": "2025-09-11T09:49:57.593609Z",
     "start_time": "2025-09-11T09:49:57.586090Z"
    }
   },
   "cell_type": "code",
   "source": [
    "df['a'][1] = 222\n",
    "df"
   ],
   "id": "4bdb8061f31191a5",
   "outputs": [
    {
     "name": "stderr",
     "output_type": "stream",
     "text": [
      "C:\\Users\\ASUS\\AppData\\Local\\Temp\\ipykernel_4120\\2299834034.py:1: FutureWarning: ChainedAssignmentError: behaviour will change in pandas 3.0!\n",
      "You are setting values through chained assignment. Currently this works in certain cases, but when using Copy-on-Write (which will become the default behaviour in pandas 3.0) this will never work to update the original DataFrame or Series, because the intermediate object on which we are setting values will behave as a copy.\n",
      "A typical example is when you are setting values in a column of a DataFrame, like:\n",
      "\n",
      "df[\"col\"][row_indexer] = value\n",
      "\n",
      "Use `df.loc[row_indexer, \"col\"] = values` instead, to perform the assignment in a single step and ensure this keeps updating the original `df`.\n",
      "\n",
      "See the caveats in the documentation: https://pandas.pydata.org/pandas-docs/stable/user_guide/indexing.html#returning-a-view-versus-a-copy\n",
      "\n",
      "  df['a'][1] = 222\n"
     ]
    },
    {
     "data": {
      "text/plain": [
       "            a         b         c\n",
       "0   10.000000 -0.128815 -1.403409\n",
       "1  222.000000  0.983014 -2.196562\n",
       "2   -0.605285  0.228687  0.622543"
      ],
      "text/html": [
       "<div>\n",
       "<style scoped>\n",
       "    .dataframe tbody tr th:only-of-type {\n",
       "        vertical-align: middle;\n",
       "    }\n",
       "\n",
       "    .dataframe tbody tr th {\n",
       "        vertical-align: top;\n",
       "    }\n",
       "\n",
       "    .dataframe thead th {\n",
       "        text-align: right;\n",
       "    }\n",
       "</style>\n",
       "<table border=\"1\" class=\"dataframe\">\n",
       "  <thead>\n",
       "    <tr style=\"text-align: right;\">\n",
       "      <th></th>\n",
       "      <th>a</th>\n",
       "      <th>b</th>\n",
       "      <th>c</th>\n",
       "    </tr>\n",
       "  </thead>\n",
       "  <tbody>\n",
       "    <tr>\n",
       "      <th>0</th>\n",
       "      <td>10.000000</td>\n",
       "      <td>-0.128815</td>\n",
       "      <td>-1.403409</td>\n",
       "    </tr>\n",
       "    <tr>\n",
       "      <th>1</th>\n",
       "      <td>222.000000</td>\n",
       "      <td>0.983014</td>\n",
       "      <td>-2.196562</td>\n",
       "    </tr>\n",
       "    <tr>\n",
       "      <th>2</th>\n",
       "      <td>-0.605285</td>\n",
       "      <td>0.228687</td>\n",
       "      <td>0.622543</td>\n",
       "    </tr>\n",
       "  </tbody>\n",
       "</table>\n",
       "</div>"
      ]
     },
     "execution_count": 16,
     "metadata": {},
     "output_type": "execute_result"
    }
   ],
   "execution_count": 16
  },
  {
   "metadata": {
    "ExecuteTime": {
     "end_time": "2025-09-11T09:50:26.121282Z",
     "start_time": "2025-09-11T09:50:26.114826Z"
    }
   },
   "cell_type": "code",
   "source": [
    "df.at[2,'c'] = 3333\n",
    "df"
   ],
   "id": "2429e8a091b3ee21",
   "outputs": [
    {
     "data": {
      "text/plain": [
       "            a         b            c\n",
       "0   10.000000 -0.128815    -1.403409\n",
       "1  222.000000  0.983014    -2.196562\n",
       "2   -0.605285  0.228687  3333.000000"
      ],
      "text/html": [
       "<div>\n",
       "<style scoped>\n",
       "    .dataframe tbody tr th:only-of-type {\n",
       "        vertical-align: middle;\n",
       "    }\n",
       "\n",
       "    .dataframe tbody tr th {\n",
       "        vertical-align: top;\n",
       "    }\n",
       "\n",
       "    .dataframe thead th {\n",
       "        text-align: right;\n",
       "    }\n",
       "</style>\n",
       "<table border=\"1\" class=\"dataframe\">\n",
       "  <thead>\n",
       "    <tr style=\"text-align: right;\">\n",
       "      <th></th>\n",
       "      <th>a</th>\n",
       "      <th>b</th>\n",
       "      <th>c</th>\n",
       "    </tr>\n",
       "  </thead>\n",
       "  <tbody>\n",
       "    <tr>\n",
       "      <th>0</th>\n",
       "      <td>10.000000</td>\n",
       "      <td>-0.128815</td>\n",
       "      <td>-1.403409</td>\n",
       "    </tr>\n",
       "    <tr>\n",
       "      <th>1</th>\n",
       "      <td>222.000000</td>\n",
       "      <td>0.983014</td>\n",
       "      <td>-2.196562</td>\n",
       "    </tr>\n",
       "    <tr>\n",
       "      <th>2</th>\n",
       "      <td>-0.605285</td>\n",
       "      <td>0.228687</td>\n",
       "      <td>3333.000000</td>\n",
       "    </tr>\n",
       "  </tbody>\n",
       "</table>\n",
       "</div>"
      ]
     },
     "execution_count": 17,
     "metadata": {},
     "output_type": "execute_result"
    }
   ],
   "execution_count": 17
  },
  {
   "metadata": {
    "ExecuteTime": {
     "end_time": "2025-09-11T09:50:56.561586Z",
     "start_time": "2025-09-11T09:50:56.555069Z"
    }
   },
   "cell_type": "code",
   "source": [
    "df.iloc[0]['b'] = 999\n",
    "df"
   ],
   "id": "4c647a28496ee03e",
   "outputs": [
    {
     "name": "stderr",
     "output_type": "stream",
     "text": [
      "C:\\Users\\ASUS\\AppData\\Local\\Temp\\ipykernel_4120\\3807440591.py:1: FutureWarning: ChainedAssignmentError: behaviour will change in pandas 3.0!\n",
      "You are setting values through chained assignment. Currently this works in certain cases, but when using Copy-on-Write (which will become the default behaviour in pandas 3.0) this will never work to update the original DataFrame or Series, because the intermediate object on which we are setting values will behave as a copy.\n",
      "A typical example is when you are setting values in a column of a DataFrame, like:\n",
      "\n",
      "df[\"col\"][row_indexer] = value\n",
      "\n",
      "Use `df.loc[row_indexer, \"col\"] = values` instead, to perform the assignment in a single step and ensure this keeps updating the original `df`.\n",
      "\n",
      "See the caveats in the documentation: https://pandas.pydata.org/pandas-docs/stable/user_guide/indexing.html#returning-a-view-versus-a-copy\n",
      "\n",
      "  df.iloc[0]['b'] = 999\n"
     ]
    },
    {
     "data": {
      "text/plain": [
       "            a           b            c\n",
       "0   10.000000  999.000000    -1.403409\n",
       "1  222.000000    0.983014    -2.196562\n",
       "2   -0.605285    0.228687  3333.000000"
      ],
      "text/html": [
       "<div>\n",
       "<style scoped>\n",
       "    .dataframe tbody tr th:only-of-type {\n",
       "        vertical-align: middle;\n",
       "    }\n",
       "\n",
       "    .dataframe tbody tr th {\n",
       "        vertical-align: top;\n",
       "    }\n",
       "\n",
       "    .dataframe thead th {\n",
       "        text-align: right;\n",
       "    }\n",
       "</style>\n",
       "<table border=\"1\" class=\"dataframe\">\n",
       "  <thead>\n",
       "    <tr style=\"text-align: right;\">\n",
       "      <th></th>\n",
       "      <th>a</th>\n",
       "      <th>b</th>\n",
       "      <th>c</th>\n",
       "    </tr>\n",
       "  </thead>\n",
       "  <tbody>\n",
       "    <tr>\n",
       "      <th>0</th>\n",
       "      <td>10.000000</td>\n",
       "      <td>999.000000</td>\n",
       "      <td>-1.403409</td>\n",
       "    </tr>\n",
       "    <tr>\n",
       "      <th>1</th>\n",
       "      <td>222.000000</td>\n",
       "      <td>0.983014</td>\n",
       "      <td>-2.196562</td>\n",
       "    </tr>\n",
       "    <tr>\n",
       "      <th>2</th>\n",
       "      <td>-0.605285</td>\n",
       "      <td>0.228687</td>\n",
       "      <td>3333.000000</td>\n",
       "    </tr>\n",
       "  </tbody>\n",
       "</table>\n",
       "</div>"
      ]
     },
     "execution_count": 19,
     "metadata": {},
     "output_type": "execute_result"
    }
   ],
   "execution_count": 19
  },
  {
   "metadata": {
    "ExecuteTime": {
     "end_time": "2025-09-11T09:51:42.883332Z",
     "start_time": "2025-09-11T09:51:42.876814Z"
    }
   },
   "cell_type": "code",
   "source": [
    "df['a']=[100,200,900]\n",
    "df"
   ],
   "id": "e907e02ff3d40d0b",
   "outputs": [
    {
     "data": {
      "text/plain": [
       "     a           b            c\n",
       "0  100  999.000000    -1.403409\n",
       "1  200    0.983014    -2.196562\n",
       "2  900    0.228687  3333.000000"
      ],
      "text/html": [
       "<div>\n",
       "<style scoped>\n",
       "    .dataframe tbody tr th:only-of-type {\n",
       "        vertical-align: middle;\n",
       "    }\n",
       "\n",
       "    .dataframe tbody tr th {\n",
       "        vertical-align: top;\n",
       "    }\n",
       "\n",
       "    .dataframe thead th {\n",
       "        text-align: right;\n",
       "    }\n",
       "</style>\n",
       "<table border=\"1\" class=\"dataframe\">\n",
       "  <thead>\n",
       "    <tr style=\"text-align: right;\">\n",
       "      <th></th>\n",
       "      <th>a</th>\n",
       "      <th>b</th>\n",
       "      <th>c</th>\n",
       "    </tr>\n",
       "  </thead>\n",
       "  <tbody>\n",
       "    <tr>\n",
       "      <th>0</th>\n",
       "      <td>100</td>\n",
       "      <td>999.000000</td>\n",
       "      <td>-1.403409</td>\n",
       "    </tr>\n",
       "    <tr>\n",
       "      <th>1</th>\n",
       "      <td>200</td>\n",
       "      <td>0.983014</td>\n",
       "      <td>-2.196562</td>\n",
       "    </tr>\n",
       "    <tr>\n",
       "      <th>2</th>\n",
       "      <td>900</td>\n",
       "      <td>0.228687</td>\n",
       "      <td>3333.000000</td>\n",
       "    </tr>\n",
       "  </tbody>\n",
       "</table>\n",
       "</div>"
      ]
     },
     "execution_count": 20,
     "metadata": {},
     "output_type": "execute_result"
    }
   ],
   "execution_count": 20
  },
  {
   "metadata": {
    "ExecuteTime": {
     "end_time": "2025-09-11T09:52:08.416921Z",
     "start_time": "2025-09-11T09:52:08.411136Z"
    }
   },
   "cell_type": "code",
   "source": [
    "df['d']=[200,100,200]\n",
    "df"
   ],
   "id": "dddc9aee6d860d95",
   "outputs": [
    {
     "data": {
      "text/plain": [
       "     a           b            c    d\n",
       "0  100  999.000000    -1.403409  200\n",
       "1  200    0.983014    -2.196562  100\n",
       "2  900    0.228687  3333.000000  200"
      ],
      "text/html": [
       "<div>\n",
       "<style scoped>\n",
       "    .dataframe tbody tr th:only-of-type {\n",
       "        vertical-align: middle;\n",
       "    }\n",
       "\n",
       "    .dataframe tbody tr th {\n",
       "        vertical-align: top;\n",
       "    }\n",
       "\n",
       "    .dataframe thead th {\n",
       "        text-align: right;\n",
       "    }\n",
       "</style>\n",
       "<table border=\"1\" class=\"dataframe\">\n",
       "  <thead>\n",
       "    <tr style=\"text-align: right;\">\n",
       "      <th></th>\n",
       "      <th>a</th>\n",
       "      <th>b</th>\n",
       "      <th>c</th>\n",
       "      <th>d</th>\n",
       "    </tr>\n",
       "  </thead>\n",
       "  <tbody>\n",
       "    <tr>\n",
       "      <th>0</th>\n",
       "      <td>100</td>\n",
       "      <td>999.000000</td>\n",
       "      <td>-1.403409</td>\n",
       "      <td>200</td>\n",
       "    </tr>\n",
       "    <tr>\n",
       "      <th>1</th>\n",
       "      <td>200</td>\n",
       "      <td>0.983014</td>\n",
       "      <td>-2.196562</td>\n",
       "      <td>100</td>\n",
       "    </tr>\n",
       "    <tr>\n",
       "      <th>2</th>\n",
       "      <td>900</td>\n",
       "      <td>0.228687</td>\n",
       "      <td>3333.000000</td>\n",
       "      <td>200</td>\n",
       "    </tr>\n",
       "  </tbody>\n",
       "</table>\n",
       "</div>"
      ]
     },
     "execution_count": 21,
     "metadata": {},
     "output_type": "execute_result"
    }
   ],
   "execution_count": 21
  },
  {
   "metadata": {},
   "cell_type": "code",
   "outputs": [],
   "execution_count": null,
   "source": "",
   "id": "9928fafcec9d8f59"
  }
 ],
 "metadata": {
  "kernelspec": {
   "display_name": "Python 3",
   "language": "python",
   "name": "python3"
  },
  "language_info": {
   "codemirror_mode": {
    "name": "ipython",
    "version": 2
   },
   "file_extension": ".py",
   "mimetype": "text/x-python",
   "name": "python",
   "nbconvert_exporter": "python",
   "pygments_lexer": "ipython2",
   "version": "2.7.6"
  }
 },
 "nbformat": 4,
 "nbformat_minor": 5
}
