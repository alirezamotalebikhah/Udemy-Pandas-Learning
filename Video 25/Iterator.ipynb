{
 "cells": [
  {
   "cell_type": "code",
   "id": "initial_id",
   "metadata": {
    "collapsed": true,
    "ExecuteTime": {
     "end_time": "2025-08-23T13:02:08.846506Z",
     "start_time": "2025-08-23T13:02:08.842392Z"
    }
   },
   "source": [
    "names = ['Maria' , 'Ishfee' , 'Ayesha' , 'Natalia']\n",
    "for name in range(len(names)):\n",
    "    print(name)"
   ],
   "outputs": [
    {
     "name": "stdout",
     "output_type": "stream",
     "text": [
      "0\n",
      "1\n",
      "2\n",
      "3\n"
     ]
    }
   ],
   "execution_count": 1
  },
  {
   "metadata": {
    "ExecuteTime": {
     "end_time": "2025-08-23T13:02:40.666985Z",
     "start_time": "2025-08-23T13:02:40.662863Z"
    }
   },
   "cell_type": "code",
   "source": [
    "for index in range(len(names)):\n",
    "    print(index)"
   ],
   "id": "65b1a6b88f2e82fe",
   "outputs": [
    {
     "name": "stdout",
     "output_type": "stream",
     "text": [
      "0\n",
      "1\n",
      "2\n",
      "3\n"
     ]
    }
   ],
   "execution_count": 3
  },
  {
   "metadata": {
    "ExecuteTime": {
     "end_time": "2025-08-23T13:10:44.135971Z",
     "start_time": "2025-08-23T13:10:44.132547Z"
    }
   },
   "cell_type": "code",
   "source": [
    "class CustomIterator:\n",
    "    def __init__(self , limit):\n",
    "        self.limit = limit\n",
    "    def __iter__(self):\n",
    "        self.numbers_of_students = 0\n",
    "        return self\n",
    "    def __next__(self):\n",
    "        if self.numbers_of_students >= self.limit:\n",
    "            raise StopIteration\n",
    "        self.numbers_of_students += 1\n",
    "        return self.numbers_of_students"
   ],
   "id": "67344667a3f2e6ad",
   "outputs": [],
   "execution_count": 7
  },
  {
   "metadata": {
    "ExecuteTime": {
     "end_time": "2025-08-23T13:10:45.556499Z",
     "start_time": "2025-08-23T13:10:45.551773Z"
    }
   },
   "cell_type": "code",
   "source": [
    "for i in CustomIterator(10):\n",
    "    print(i)"
   ],
   "id": "e7dfad6da7159f5c",
   "outputs": [
    {
     "name": "stdout",
     "output_type": "stream",
     "text": [
      "1\n",
      "2\n",
      "3\n",
      "4\n",
      "5\n",
      "6\n",
      "7\n",
      "8\n",
      "9\n",
      "10\n"
     ]
    }
   ],
   "execution_count": 8
  },
  {
   "metadata": {},
   "cell_type": "code",
   "outputs": [],
   "execution_count": null,
   "source": "",
   "id": "b82010ccc9efb10c"
  }
 ],
 "metadata": {
  "kernelspec": {
   "display_name": "Python 3",
   "language": "python",
   "name": "python3"
  },
  "language_info": {
   "codemirror_mode": {
    "name": "ipython",
    "version": 2
   },
   "file_extension": ".py",
   "mimetype": "text/x-python",
   "name": "python",
   "nbconvert_exporter": "python",
   "pygments_lexer": "ipython2",
   "version": "2.7.6"
  }
 },
 "nbformat": 4,
 "nbformat_minor": 5
}
