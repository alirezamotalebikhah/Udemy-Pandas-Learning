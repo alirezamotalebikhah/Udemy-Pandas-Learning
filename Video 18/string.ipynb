{
 "cells": [
  {
   "cell_type": "code",
   "id": "initial_id",
   "metadata": {
    "collapsed": true,
    "ExecuteTime": {
     "end_time": "2025-08-21T06:36:42.546642Z",
     "start_time": "2025-08-21T06:36:42.542623Z"
    }
   },
   "source": [
    "massage = 'hi'\n",
    "print(massage)"
   ],
   "outputs": [
    {
     "name": "stdout",
     "output_type": "stream",
     "text": [
      "hi\n"
     ]
    }
   ],
   "execution_count": 1
  },
  {
   "metadata": {
    "ExecuteTime": {
     "end_time": "2025-08-21T06:37:40.437333Z",
     "start_time": "2025-08-21T06:37:40.434046Z"
    }
   },
   "cell_type": "code",
   "source": [
    "massage = '''\n",
    "hi i am computer\n",
    "and\n",
    "deep learning\n",
    "'''\n",
    "print(massage)"
   ],
   "id": "841fde439801276",
   "outputs": [
    {
     "name": "stdout",
     "output_type": "stream",
     "text": [
      "\n",
      "hi i am computer\n",
      "and\n",
      "deep learning\n",
      "\n"
     ]
    }
   ],
   "execution_count": 2
  },
  {
   "metadata": {
    "ExecuteTime": {
     "end_time": "2025-08-21T06:38:06.339358Z",
     "start_time": "2025-08-21T06:38:06.335827Z"
    }
   },
   "cell_type": "code",
   "source": "print(len(massage))",
   "id": "60fe51505b77ceb9",
   "outputs": [
    {
     "name": "stdout",
     "output_type": "stream",
     "text": [
      "36\n"
     ]
    }
   ],
   "execution_count": 3
  },
  {
   "metadata": {
    "ExecuteTime": {
     "end_time": "2025-08-21T06:38:40.449401Z",
     "start_time": "2025-08-21T06:38:40.445527Z"
    }
   },
   "cell_type": "code",
   "source": "print(massage[7])",
   "id": "f36f235d91587b3e",
   "outputs": [
    {
     "name": "stdout",
     "output_type": "stream",
     "text": [
      "m\n"
     ]
    }
   ],
   "execution_count": 5
  },
  {
   "metadata": {
    "ExecuteTime": {
     "end_time": "2025-08-21T06:39:13.258582Z",
     "start_time": "2025-08-21T06:39:13.255236Z"
    }
   },
   "cell_type": "code",
   "source": [
    "massage = '''hi i am computer\n",
    "and\n",
    "deep learning\n",
    "'''\n",
    "print(massage[6])"
   ],
   "id": "cc8e734ac88654d",
   "outputs": [
    {
     "name": "stdout",
     "output_type": "stream",
     "text": [
      "m\n"
     ]
    }
   ],
   "execution_count": 6
  },
  {
   "metadata": {
    "ExecuteTime": {
     "end_time": "2025-08-21T06:39:47.093659Z",
     "start_time": "2025-08-21T06:39:47.090397Z"
    }
   },
   "cell_type": "code",
   "source": "print(massage[7:11])",
   "id": "fa144b704f1e4ffc",
   "outputs": [
    {
     "name": "stdout",
     "output_type": "stream",
     "text": [
      " com\n"
     ]
    }
   ],
   "execution_count": 7
  },
  {
   "metadata": {
    "ExecuteTime": {
     "end_time": "2025-08-21T06:40:25.176014Z",
     "start_time": "2025-08-21T06:40:25.172195Z"
    }
   },
   "cell_type": "code",
   "source": "print(massage.find('computer'))",
   "id": "80b457e20526cc82",
   "outputs": [
    {
     "name": "stdout",
     "output_type": "stream",
     "text": [
      "8\n"
     ]
    }
   ],
   "execution_count": 8
  },
  {
   "metadata": {
    "ExecuteTime": {
     "end_time": "2025-08-21T06:41:05.005463Z",
     "start_time": "2025-08-21T06:41:05.002010Z"
    }
   },
   "cell_type": "code",
   "source": "print(massage.replace('and' , '&'))",
   "id": "349cf88be48a4960",
   "outputs": [
    {
     "name": "stdout",
     "output_type": "stream",
     "text": [
      "hi i am computer\n",
      "&\n",
      "deep learning\n",
      "\n"
     ]
    }
   ],
   "execution_count": 9
  },
  {
   "metadata": {
    "ExecuteTime": {
     "end_time": "2025-08-21T06:41:33.387838Z",
     "start_time": "2025-08-21T06:41:33.384031Z"
    }
   },
   "cell_type": "code",
   "source": "print(massage.split())",
   "id": "a5028666d4efd9f5",
   "outputs": [
    {
     "name": "stdout",
     "output_type": "stream",
     "text": [
      "['hi', 'i', 'am', 'computer', 'and', 'deep', 'learning']\n"
     ]
    }
   ],
   "execution_count": 10
  },
  {
   "metadata": {
    "ExecuteTime": {
     "end_time": "2025-08-21T06:41:53.891476Z",
     "start_time": "2025-08-21T06:41:53.887495Z"
    }
   },
   "cell_type": "code",
   "source": [
    "for m in massage:\n",
    "    print(m)"
   ],
   "id": "bb4cdaac3103ad8f",
   "outputs": [
    {
     "name": "stdout",
     "output_type": "stream",
     "text": [
      "h\n",
      "i\n",
      " \n",
      "i\n",
      " \n",
      "a\n",
      "m\n",
      " \n",
      "c\n",
      "o\n",
      "m\n",
      "p\n",
      "u\n",
      "t\n",
      "e\n",
      "r\n",
      "\n",
      "\n",
      "a\n",
      "n\n",
      "d\n",
      "\n",
      "\n",
      "d\n",
      "e\n",
      "e\n",
      "p\n",
      " \n",
      "l\n",
      "e\n",
      "a\n",
      "r\n",
      "n\n",
      "i\n",
      "n\n",
      "g\n",
      "\n",
      "\n"
     ]
    }
   ],
   "execution_count": 11
  },
  {
   "metadata": {
    "ExecuteTime": {
     "end_time": "2025-08-21T06:44:38.245008Z",
     "start_time": "2025-08-21T06:44:38.241682Z"
    }
   },
   "cell_type": "code",
   "source": [
    "quantity = 10\n",
    "item = \"T shirt\"\n",
    "price= 99.99\n",
    "massage = \"I want to buy {} pieces of {} for {} dollars.\""
   ],
   "id": "d9b3bae179448f06",
   "outputs": [],
   "execution_count": 13
  },
  {
   "metadata": {
    "ExecuteTime": {
     "end_time": "2025-08-21T06:44:43.574866Z",
     "start_time": "2025-08-21T06:44:43.570213Z"
    }
   },
   "cell_type": "code",
   "source": "print(massage.format(quantity, item, price))",
   "id": "d56d11dede43af67",
   "outputs": [
    {
     "name": "stdout",
     "output_type": "stream",
     "text": [
      "I want to buy 10 pieces of T shirt for 99.99 dollars.\n"
     ]
    }
   ],
   "execution_count": 14
  },
  {
   "metadata": {
    "ExecuteTime": {
     "end_time": "2025-08-21T06:45:24.334697Z",
     "start_time": "2025-08-21T06:45:24.330767Z"
    }
   },
   "cell_type": "code",
   "source": [
    "massage = \"I want to buy {2} pieces of {1} for {0} dollars.\"\n",
    "print(massage.format(quantity, item, price))"
   ],
   "id": "abe954d2b9b77b5",
   "outputs": [
    {
     "name": "stdout",
     "output_type": "stream",
     "text": [
      "I want to buy 99.99 pieces of T shirt for 10 dollars.\n"
     ]
    }
   ],
   "execution_count": 15
  },
  {
   "metadata": {
    "ExecuteTime": {
     "end_time": "2025-08-21T06:45:52.308753Z",
     "start_time": "2025-08-21T06:45:52.305428Z"
    }
   },
   "cell_type": "code",
   "source": "print(massage.format(price, item, quantity))",
   "id": "f62423f58fc94fe7",
   "outputs": [
    {
     "name": "stdout",
     "output_type": "stream",
     "text": [
      "I want to buy 10 pieces of T shirt for 99.99 dollars.\n"
     ]
    }
   ],
   "execution_count": 16
  },
  {
   "metadata": {},
   "cell_type": "code",
   "outputs": [],
   "execution_count": null,
   "source": "",
   "id": "90419e244714e571"
  }
 ],
 "metadata": {
  "kernelspec": {
   "display_name": "Python 3",
   "language": "python",
   "name": "python3"
  },
  "language_info": {
   "codemirror_mode": {
    "name": "ipython",
    "version": 2
   },
   "file_extension": ".py",
   "mimetype": "text/x-python",
   "name": "python",
   "nbconvert_exporter": "python",
   "pygments_lexer": "ipython2",
   "version": "2.7.6"
  }
 },
 "nbformat": 4,
 "nbformat_minor": 5
}
