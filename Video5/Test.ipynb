{
 "cells": [
  {
   "cell_type": "code",
   "id": "initial_id",
   "metadata": {
    "collapsed": true,
    "ExecuteTime": {
     "end_time": "2025-08-17T11:04:44.744200Z",
     "start_time": "2025-08-17T11:04:44.732313Z"
    }
   },
   "source": "5+6",
   "outputs": [
    {
     "data": {
      "text/plain": [
       "11"
      ]
     },
     "execution_count": 1,
     "metadata": {},
     "output_type": "execute_result"
    }
   ],
   "execution_count": 1
  },
  {
   "metadata": {
    "ExecuteTime": {
     "end_time": "2025-08-17T11:05:04.630932Z",
     "start_time": "2025-08-17T11:05:04.626933Z"
    }
   },
   "cell_type": "code",
   "source": "a=10",
   "id": "4fa94fa6b4241cac",
   "outputs": [],
   "execution_count": 2
  },
  {
   "metadata": {
    "ExecuteTime": {
     "end_time": "2025-08-17T11:05:09.166929Z",
     "start_time": "2025-08-17T11:05:09.163513Z"
    }
   },
   "cell_type": "code",
   "source": "v=5",
   "id": "824775045fe25752",
   "outputs": [],
   "execution_count": 3
  },
  {
   "metadata": {
    "ExecuteTime": {
     "end_time": "2025-08-17T11:05:13.522982Z",
     "start_time": "2025-08-17T11:05:13.519030Z"
    }
   },
   "cell_type": "code",
   "source": "a+v",
   "id": "6c200c25cb71f55d",
   "outputs": [
    {
     "data": {
      "text/plain": [
       "15"
      ]
     },
     "execution_count": 4,
     "metadata": {},
     "output_type": "execute_result"
    }
   ],
   "execution_count": 4
  },
  {
   "metadata": {
    "ExecuteTime": {
     "end_time": "2025-08-17T11:05:21.134054Z",
     "start_time": "2025-08-17T11:05:21.130089Z"
    }
   },
   "cell_type": "code",
   "source": "print(v)",
   "id": "cea96086068d2f7b",
   "outputs": [
    {
     "name": "stdout",
     "output_type": "stream",
     "text": [
      "5\n"
     ]
    }
   ],
   "execution_count": 5
  },
  {
   "metadata": {
    "ExecuteTime": {
     "end_time": "2025-08-17T11:07:12.322832Z",
     "start_time": "2025-08-17T11:07:12.318989Z"
    }
   },
   "cell_type": "code",
   "source": "print(\"welcom to my universe\")\n",
   "id": "a64c75f7123d296a",
   "outputs": [
    {
     "name": "stdout",
     "output_type": "stream",
     "text": [
      "welcom to my universe\n"
     ]
    }
   ],
   "execution_count": 6
  },
  {
   "metadata": {},
   "cell_type": "code",
   "outputs": [],
   "execution_count": null,
   "source": "",
   "id": "b30c041cc94d8a7f"
  }
 ],
 "metadata": {
  "kernelspec": {
   "display_name": "Python 3",
   "language": "python",
   "name": "python3"
  },
  "language_info": {
   "codemirror_mode": {
    "name": "ipython",
    "version": 2
   },
   "file_extension": ".py",
   "mimetype": "text/x-python",
   "name": "python",
   "nbconvert_exporter": "python",
   "pygments_lexer": "ipython2",
   "version": "2.7.6"
  }
 },
 "nbformat": 4,
 "nbformat_minor": 5
}
