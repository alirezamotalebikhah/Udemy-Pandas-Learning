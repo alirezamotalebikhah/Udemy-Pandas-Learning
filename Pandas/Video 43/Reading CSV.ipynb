{
 "cells": [
  {
   "cell_type": "code",
   "id": "initial_id",
   "metadata": {
    "collapsed": true,
    "ExecuteTime": {
     "end_time": "2025-08-30T06:55:50.568332Z",
     "start_time": "2025-08-30T06:55:50.560639Z"
    }
   },
   "source": [
    "import pandas as pd\n",
    "\n",
    "employee = pd.read_csv('Employee.csv')"
   ],
   "outputs": [],
   "execution_count": 17
  },
  {
   "metadata": {
    "ExecuteTime": {
     "end_time": "2025-08-30T06:55:51.752379Z",
     "start_time": "2025-08-30T06:55:51.744280Z"
    }
   },
   "cell_type": "code",
   "source": "employee",
   "id": "381a3432e44cc7ac",
   "outputs": [
    {
     "data": {
      "text/plain": [
       "      Education  JoiningYear       City  PaymentTier  Age  Gender EverBenched  \\\n",
       "0     Bachelors         2017  Bangalore            3   34    Male          No   \n",
       "1     Bachelors         2013       Pune            1   28  Female          No   \n",
       "2     Bachelors         2014  New Delhi            3   38  Female          No   \n",
       "3       Masters         2016  Bangalore            3   27    Male          No   \n",
       "4       Masters         2017       Pune            3   24    Male         Yes   \n",
       "...         ...          ...        ...          ...  ...     ...         ...   \n",
       "4648  Bachelors         2013  Bangalore            3   26  Female          No   \n",
       "4649    Masters         2013       Pune            2   37    Male          No   \n",
       "4650    Masters         2018  New Delhi            3   27    Male          No   \n",
       "4651  Bachelors         2012  Bangalore            3   30    Male         Yes   \n",
       "4652  Bachelors         2015  Bangalore            3   33    Male         Yes   \n",
       "\n",
       "      ExperienceInCurrentDomain  LeaveOrNot  \n",
       "0                             0           0  \n",
       "1                             3           1  \n",
       "2                             2           0  \n",
       "3                             5           1  \n",
       "4                             2           1  \n",
       "...                         ...         ...  \n",
       "4648                          4           0  \n",
       "4649                          2           1  \n",
       "4650                          5           1  \n",
       "4651                          2           0  \n",
       "4652                          4           0  \n",
       "\n",
       "[4653 rows x 9 columns]"
      ],
      "text/html": [
       "<div>\n",
       "<style scoped>\n",
       "    .dataframe tbody tr th:only-of-type {\n",
       "        vertical-align: middle;\n",
       "    }\n",
       "\n",
       "    .dataframe tbody tr th {\n",
       "        vertical-align: top;\n",
       "    }\n",
       "\n",
       "    .dataframe thead th {\n",
       "        text-align: right;\n",
       "    }\n",
       "</style>\n",
       "<table border=\"1\" class=\"dataframe\">\n",
       "  <thead>\n",
       "    <tr style=\"text-align: right;\">\n",
       "      <th></th>\n",
       "      <th>Education</th>\n",
       "      <th>JoiningYear</th>\n",
       "      <th>City</th>\n",
       "      <th>PaymentTier</th>\n",
       "      <th>Age</th>\n",
       "      <th>Gender</th>\n",
       "      <th>EverBenched</th>\n",
       "      <th>ExperienceInCurrentDomain</th>\n",
       "      <th>LeaveOrNot</th>\n",
       "    </tr>\n",
       "  </thead>\n",
       "  <tbody>\n",
       "    <tr>\n",
       "      <th>0</th>\n",
       "      <td>Bachelors</td>\n",
       "      <td>2017</td>\n",
       "      <td>Bangalore</td>\n",
       "      <td>3</td>\n",
       "      <td>34</td>\n",
       "      <td>Male</td>\n",
       "      <td>No</td>\n",
       "      <td>0</td>\n",
       "      <td>0</td>\n",
       "    </tr>\n",
       "    <tr>\n",
       "      <th>1</th>\n",
       "      <td>Bachelors</td>\n",
       "      <td>2013</td>\n",
       "      <td>Pune</td>\n",
       "      <td>1</td>\n",
       "      <td>28</td>\n",
       "      <td>Female</td>\n",
       "      <td>No</td>\n",
       "      <td>3</td>\n",
       "      <td>1</td>\n",
       "    </tr>\n",
       "    <tr>\n",
       "      <th>2</th>\n",
       "      <td>Bachelors</td>\n",
       "      <td>2014</td>\n",
       "      <td>New Delhi</td>\n",
       "      <td>3</td>\n",
       "      <td>38</td>\n",
       "      <td>Female</td>\n",
       "      <td>No</td>\n",
       "      <td>2</td>\n",
       "      <td>0</td>\n",
       "    </tr>\n",
       "    <tr>\n",
       "      <th>3</th>\n",
       "      <td>Masters</td>\n",
       "      <td>2016</td>\n",
       "      <td>Bangalore</td>\n",
       "      <td>3</td>\n",
       "      <td>27</td>\n",
       "      <td>Male</td>\n",
       "      <td>No</td>\n",
       "      <td>5</td>\n",
       "      <td>1</td>\n",
       "    </tr>\n",
       "    <tr>\n",
       "      <th>4</th>\n",
       "      <td>Masters</td>\n",
       "      <td>2017</td>\n",
       "      <td>Pune</td>\n",
       "      <td>3</td>\n",
       "      <td>24</td>\n",
       "      <td>Male</td>\n",
       "      <td>Yes</td>\n",
       "      <td>2</td>\n",
       "      <td>1</td>\n",
       "    </tr>\n",
       "    <tr>\n",
       "      <th>...</th>\n",
       "      <td>...</td>\n",
       "      <td>...</td>\n",
       "      <td>...</td>\n",
       "      <td>...</td>\n",
       "      <td>...</td>\n",
       "      <td>...</td>\n",
       "      <td>...</td>\n",
       "      <td>...</td>\n",
       "      <td>...</td>\n",
       "    </tr>\n",
       "    <tr>\n",
       "      <th>4648</th>\n",
       "      <td>Bachelors</td>\n",
       "      <td>2013</td>\n",
       "      <td>Bangalore</td>\n",
       "      <td>3</td>\n",
       "      <td>26</td>\n",
       "      <td>Female</td>\n",
       "      <td>No</td>\n",
       "      <td>4</td>\n",
       "      <td>0</td>\n",
       "    </tr>\n",
       "    <tr>\n",
       "      <th>4649</th>\n",
       "      <td>Masters</td>\n",
       "      <td>2013</td>\n",
       "      <td>Pune</td>\n",
       "      <td>2</td>\n",
       "      <td>37</td>\n",
       "      <td>Male</td>\n",
       "      <td>No</td>\n",
       "      <td>2</td>\n",
       "      <td>1</td>\n",
       "    </tr>\n",
       "    <tr>\n",
       "      <th>4650</th>\n",
       "      <td>Masters</td>\n",
       "      <td>2018</td>\n",
       "      <td>New Delhi</td>\n",
       "      <td>3</td>\n",
       "      <td>27</td>\n",
       "      <td>Male</td>\n",
       "      <td>No</td>\n",
       "      <td>5</td>\n",
       "      <td>1</td>\n",
       "    </tr>\n",
       "    <tr>\n",
       "      <th>4651</th>\n",
       "      <td>Bachelors</td>\n",
       "      <td>2012</td>\n",
       "      <td>Bangalore</td>\n",
       "      <td>3</td>\n",
       "      <td>30</td>\n",
       "      <td>Male</td>\n",
       "      <td>Yes</td>\n",
       "      <td>2</td>\n",
       "      <td>0</td>\n",
       "    </tr>\n",
       "    <tr>\n",
       "      <th>4652</th>\n",
       "      <td>Bachelors</td>\n",
       "      <td>2015</td>\n",
       "      <td>Bangalore</td>\n",
       "      <td>3</td>\n",
       "      <td>33</td>\n",
       "      <td>Male</td>\n",
       "      <td>Yes</td>\n",
       "      <td>4</td>\n",
       "      <td>0</td>\n",
       "    </tr>\n",
       "  </tbody>\n",
       "</table>\n",
       "<p>4653 rows × 9 columns</p>\n",
       "</div>"
      ]
     },
     "execution_count": 18,
     "metadata": {},
     "output_type": "execute_result"
    }
   ],
   "execution_count": 18
  },
  {
   "metadata": {
    "ExecuteTime": {
     "end_time": "2025-08-30T06:55:56.845160Z",
     "start_time": "2025-08-30T06:55:56.840213Z"
    }
   },
   "cell_type": "code",
   "source": "employee['Education']",
   "id": "4740ac8015a71982",
   "outputs": [
    {
     "data": {
      "text/plain": [
       "0       Bachelors\n",
       "1       Bachelors\n",
       "2       Bachelors\n",
       "3         Masters\n",
       "4         Masters\n",
       "          ...    \n",
       "4648    Bachelors\n",
       "4649      Masters\n",
       "4650      Masters\n",
       "4651    Bachelors\n",
       "4652    Bachelors\n",
       "Name: Education, Length: 4653, dtype: object"
      ]
     },
     "execution_count": 19,
     "metadata": {},
     "output_type": "execute_result"
    }
   ],
   "execution_count": 19
  },
  {
   "metadata": {
    "ExecuteTime": {
     "end_time": "2025-08-30T06:56:00.047156Z",
     "start_time": "2025-08-30T06:56:00.037912Z"
    }
   },
   "cell_type": "code",
   "source": [
    "employee = pd.read_csv('Employee.csv' , usecols=['City']).squeeze()\n",
    "employee"
   ],
   "id": "437c53fa20a5787e",
   "outputs": [
    {
     "data": {
      "text/plain": [
       "0       Bangalore\n",
       "1            Pune\n",
       "2       New Delhi\n",
       "3       Bangalore\n",
       "4            Pune\n",
       "          ...    \n",
       "4648    Bangalore\n",
       "4649         Pune\n",
       "4650    New Delhi\n",
       "4651    Bangalore\n",
       "4652    Bangalore\n",
       "Name: City, Length: 4653, dtype: object"
      ]
     },
     "execution_count": 20,
     "metadata": {},
     "output_type": "execute_result"
    }
   ],
   "execution_count": 20
  },
  {
   "metadata": {
    "ExecuteTime": {
     "end_time": "2025-08-30T06:56:03.081076Z",
     "start_time": "2025-08-30T06:56:03.075285Z"
    }
   },
   "cell_type": "code",
   "source": "employee.head()",
   "id": "f10d095c189449f1",
   "outputs": [
    {
     "data": {
      "text/plain": [
       "0    Bangalore\n",
       "1         Pune\n",
       "2    New Delhi\n",
       "3    Bangalore\n",
       "4         Pune\n",
       "Name: City, dtype: object"
      ]
     },
     "execution_count": 21,
     "metadata": {},
     "output_type": "execute_result"
    }
   ],
   "execution_count": 21
  },
  {
   "metadata": {
    "ExecuteTime": {
     "end_time": "2025-08-30T06:56:06.109373Z",
     "start_time": "2025-08-30T06:56:06.102847Z"
    }
   },
   "cell_type": "code",
   "source": "employee.tail()",
   "id": "f808d5ce51353972",
   "outputs": [
    {
     "data": {
      "text/plain": [
       "4648    Bangalore\n",
       "4649         Pune\n",
       "4650    New Delhi\n",
       "4651    Bangalore\n",
       "4652    Bangalore\n",
       "Name: City, dtype: object"
      ]
     },
     "execution_count": 22,
     "metadata": {},
     "output_type": "execute_result"
    }
   ],
   "execution_count": 22
  },
  {
   "metadata": {
    "ExecuteTime": {
     "end_time": "2025-08-30T06:56:09.653849Z",
     "start_time": "2025-08-30T06:56:09.647297Z"
    }
   },
   "cell_type": "code",
   "source": "employee.sample()",
   "id": "4c5d64e6d44106b7",
   "outputs": [
    {
     "data": {
      "text/plain": [
       "2138    New Delhi\n",
       "Name: City, dtype: object"
      ]
     },
     "execution_count": 23,
     "metadata": {},
     "output_type": "execute_result"
    }
   ],
   "execution_count": 23
  },
  {
   "metadata": {
    "ExecuteTime": {
     "end_time": "2025-08-30T06:56:11.279089Z",
     "start_time": "2025-08-30T06:56:11.273088Z"
    }
   },
   "cell_type": "code",
   "source": "employee.info()",
   "id": "9fb92451eae31d2f",
   "outputs": [
    {
     "name": "stdout",
     "output_type": "stream",
     "text": [
      "<class 'pandas.core.series.Series'>\n",
      "RangeIndex: 4653 entries, 0 to 4652\n",
      "Series name: City\n",
      "Non-Null Count  Dtype \n",
      "--------------  ----- \n",
      "4653 non-null   object\n",
      "dtypes: object(1)\n",
      "memory usage: 36.5+ KB\n"
     ]
    }
   ],
   "execution_count": 24
  },
  {
   "metadata": {
    "ExecuteTime": {
     "end_time": "2025-08-30T06:56:16.381407Z",
     "start_time": "2025-08-30T06:56:16.378137Z"
    }
   },
   "cell_type": "code",
   "source": "employee.index.name = \"employee City\"",
   "id": "22051b59d88b4138",
   "outputs": [],
   "execution_count": 25
  },
  {
   "metadata": {
    "ExecuteTime": {
     "end_time": "2025-08-30T06:56:17.501780Z",
     "start_time": "2025-08-30T06:56:17.494721Z"
    }
   },
   "cell_type": "code",
   "source": "employee",
   "id": "f57b47117f458a8f",
   "outputs": [
    {
     "data": {
      "text/plain": [
       "employee City\n",
       "0       Bangalore\n",
       "1            Pune\n",
       "2       New Delhi\n",
       "3       Bangalore\n",
       "4            Pune\n",
       "          ...    \n",
       "4648    Bangalore\n",
       "4649         Pune\n",
       "4650    New Delhi\n",
       "4651    Bangalore\n",
       "4652    Bangalore\n",
       "Name: City, Length: 4653, dtype: object"
      ]
     },
     "execution_count": 26,
     "metadata": {},
     "output_type": "execute_result"
    }
   ],
   "execution_count": 26
  },
  {
   "metadata": {
    "ExecuteTime": {
     "end_time": "2025-08-30T06:56:35.614722Z",
     "start_time": "2025-08-30T06:56:35.610927Z"
    }
   },
   "cell_type": "code",
   "source": "employee[1]",
   "id": "b419acedc156cfe2",
   "outputs": [
    {
     "data": {
      "text/plain": [
       "'Pune'"
      ]
     },
     "execution_count": 27,
     "metadata": {},
     "output_type": "execute_result"
    }
   ],
   "execution_count": 27
  },
  {
   "metadata": {
    "ExecuteTime": {
     "end_time": "2025-08-30T06:57:04.207492Z",
     "start_time": "2025-08-30T06:57:04.201149Z"
    }
   },
   "cell_type": "code",
   "source": "employee[[1 , 2 , 4 , 56]]",
   "id": "b2eaf82434498d2f",
   "outputs": [
    {
     "data": {
      "text/plain": [
       "employee City\n",
       "1          Pune\n",
       "2     New Delhi\n",
       "4          Pune\n",
       "56    Bangalore\n",
       "Name: City, dtype: object"
      ]
     },
     "execution_count": 28,
     "metadata": {},
     "output_type": "execute_result"
    }
   ],
   "execution_count": 28
  },
  {
   "metadata": {
    "ExecuteTime": {
     "end_time": "2025-08-30T06:57:56.126556Z",
     "start_time": "2025-08-30T06:57:56.121556Z"
    }
   },
   "cell_type": "code",
   "source": "employee.dtype",
   "id": "11ee9efedbe9bc91",
   "outputs": [
    {
     "data": {
      "text/plain": [
       "dtype('O')"
      ]
     },
     "execution_count": 29,
     "metadata": {},
     "output_type": "execute_result"
    }
   ],
   "execution_count": 29
  },
  {
   "metadata": {
    "ExecuteTime": {
     "end_time": "2025-08-30T06:58:20.201061Z",
     "start_time": "2025-08-30T06:58:20.196729Z"
    }
   },
   "cell_type": "code",
   "source": "employee.values",
   "id": "c765bc3da6efb164",
   "outputs": [
    {
     "data": {
      "text/plain": [
       "array(['Bangalore', 'Pune', 'New Delhi', ..., 'New Delhi', 'Bangalore',\n",
       "       'Bangalore'], dtype=object)"
      ]
     },
     "execution_count": 30,
     "metadata": {},
     "output_type": "execute_result"
    }
   ],
   "execution_count": 30
  },
  {
   "metadata": {
    "ExecuteTime": {
     "end_time": "2025-08-30T07:00:04.023595Z",
     "start_time": "2025-08-30T07:00:04.012276Z"
    }
   },
   "cell_type": "code",
   "source": [
    "employee = pd.read_csv('Employee.csv' , usecols=['City' , 'Education'] , index_col='Education').squeeze()\n",
    "employee"
   ],
   "id": "5952513927ff5af4",
   "outputs": [
    {
     "data": {
      "text/plain": [
       "Education\n",
       "Bachelors    Bangalore\n",
       "Bachelors         Pune\n",
       "Bachelors    New Delhi\n",
       "Masters      Bangalore\n",
       "Masters           Pune\n",
       "               ...    \n",
       "Bachelors    Bangalore\n",
       "Masters           Pune\n",
       "Masters      New Delhi\n",
       "Bachelors    Bangalore\n",
       "Bachelors    Bangalore\n",
       "Name: City, Length: 4653, dtype: object"
      ]
     },
     "execution_count": 31,
     "metadata": {},
     "output_type": "execute_result"
    }
   ],
   "execution_count": 31
  },
  {
   "metadata": {
    "ExecuteTime": {
     "end_time": "2025-08-30T07:00:20.669961Z",
     "start_time": "2025-08-30T07:00:20.665961Z"
    }
   },
   "cell_type": "code",
   "source": "employee.name",
   "id": "cd7a266812bde07b",
   "outputs": [
    {
     "data": {
      "text/plain": [
       "'City'"
      ]
     },
     "execution_count": 32,
     "metadata": {},
     "output_type": "execute_result"
    }
   ],
   "execution_count": 32
  },
  {
   "metadata": {
    "ExecuteTime": {
     "end_time": "2025-08-30T07:00:47.673870Z",
     "start_time": "2025-08-30T07:00:47.669843Z"
    }
   },
   "cell_type": "code",
   "source": "employee.count",
   "id": "d17053d5f316d5ad",
   "outputs": [
    {
     "data": {
      "text/plain": [
       "<bound method Series.count of Education\n",
       "Bachelors    Bangalore\n",
       "Bachelors         Pune\n",
       "Bachelors    New Delhi\n",
       "Masters      Bangalore\n",
       "Masters           Pune\n",
       "               ...    \n",
       "Bachelors    Bangalore\n",
       "Masters           Pune\n",
       "Masters      New Delhi\n",
       "Bachelors    Bangalore\n",
       "Bachelors    Bangalore\n",
       "Name: City, Length: 4653, dtype: object>"
      ]
     },
     "execution_count": 33,
     "metadata": {},
     "output_type": "execute_result"
    }
   ],
   "execution_count": 33
  },
  {
   "metadata": {
    "ExecuteTime": {
     "end_time": "2025-08-30T07:00:58.846886Z",
     "start_time": "2025-08-30T07:00:58.842215Z"
    }
   },
   "cell_type": "code",
   "source": "employee.count()",
   "id": "92ca261fc8fee3de",
   "outputs": [
    {
     "data": {
      "text/plain": [
       "np.int64(4653)"
      ]
     },
     "execution_count": 34,
     "metadata": {},
     "output_type": "execute_result"
    }
   ],
   "execution_count": 34
  },
  {
   "metadata": {
    "ExecuteTime": {
     "end_time": "2025-08-30T07:01:03.852051Z",
     "start_time": "2025-08-30T07:01:03.847865Z"
    }
   },
   "cell_type": "code",
   "source": "len(employee)",
   "id": "756c9209b3312eab",
   "outputs": [
    {
     "data": {
      "text/plain": [
       "4653"
      ]
     },
     "execution_count": 35,
     "metadata": {},
     "output_type": "execute_result"
    }
   ],
   "execution_count": 35
  },
  {
   "metadata": {
    "ExecuteTime": {
     "end_time": "2025-08-30T07:01:22.969520Z",
     "start_time": "2025-08-30T07:01:22.964345Z"
    }
   },
   "cell_type": "code",
   "source": "employee.value_counts()",
   "id": "32e90073a3310788",
   "outputs": [
    {
     "data": {
      "text/plain": [
       "City\n",
       "Bangalore    2228\n",
       "Pune         1268\n",
       "New Delhi    1157\n",
       "Name: count, dtype: int64"
      ]
     },
     "execution_count": 36,
     "metadata": {},
     "output_type": "execute_result"
    }
   ],
   "execution_count": 36
  },
  {
   "metadata": {},
   "cell_type": "code",
   "outputs": [],
   "execution_count": null,
   "source": "",
   "id": "22fa55466272a762"
  }
 ],
 "metadata": {
  "kernelspec": {
   "display_name": "Python 3",
   "language": "python",
   "name": "python3"
  },
  "language_info": {
   "codemirror_mode": {
    "name": "ipython",
    "version": 2
   },
   "file_extension": ".py",
   "mimetype": "text/x-python",
   "name": "python",
   "nbconvert_exporter": "python",
   "pygments_lexer": "ipython2",
   "version": "2.7.6"
  }
 },
 "nbformat": 4,
 "nbformat_minor": 5
}
