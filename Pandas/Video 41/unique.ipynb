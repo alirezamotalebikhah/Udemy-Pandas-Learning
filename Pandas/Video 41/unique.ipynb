{
 "cells": [
  {
   "cell_type": "code",
   "id": "initial_id",
   "metadata": {
    "collapsed": true,
    "ExecuteTime": {
     "end_time": "2025-08-30T06:22:34.850985Z",
     "start_time": "2025-08-30T06:22:32.855379Z"
    }
   },
   "source": [
    "import pandas as pd\n",
    "series = pd.Series([1, 2, 2 , 3 , 4 , 4])"
   ],
   "outputs": [],
   "execution_count": 1
  },
  {
   "metadata": {
    "ExecuteTime": {
     "end_time": "2025-08-30T06:22:35.483773Z",
     "start_time": "2025-08-30T06:22:35.478774Z"
    }
   },
   "cell_type": "code",
   "source": "series",
   "id": "e9efef58900d4a7a",
   "outputs": [
    {
     "data": {
      "text/plain": [
       "0    1\n",
       "1    2\n",
       "2    2\n",
       "3    3\n",
       "4    4\n",
       "5    4\n",
       "dtype: int64"
      ]
     },
     "execution_count": 2,
     "metadata": {},
     "output_type": "execute_result"
    }
   ],
   "execution_count": 2
  },
  {
   "metadata": {
    "ExecuteTime": {
     "end_time": "2025-08-30T06:22:44.058944Z",
     "start_time": "2025-08-30T06:22:44.054680Z"
    }
   },
   "cell_type": "code",
   "source": "type(series)",
   "id": "bd755296107e62f3",
   "outputs": [
    {
     "data": {
      "text/plain": [
       "pandas.core.series.Series"
      ]
     },
     "execution_count": 3,
     "metadata": {},
     "output_type": "execute_result"
    }
   ],
   "execution_count": 3
  },
  {
   "metadata": {
    "ExecuteTime": {
     "end_time": "2025-08-30T06:22:59.405802Z",
     "start_time": "2025-08-30T06:22:59.401054Z"
    }
   },
   "cell_type": "code",
   "source": "series.unique()",
   "id": "69fffbb33bebe0c4",
   "outputs": [
    {
     "data": {
      "text/plain": [
       "array([1, 2, 3, 4])"
      ]
     },
     "execution_count": 4,
     "metadata": {},
     "output_type": "execute_result"
    }
   ],
   "execution_count": 4
  },
  {
   "metadata": {
    "ExecuteTime": {
     "end_time": "2025-08-30T06:23:29.595985Z",
     "start_time": "2025-08-30T06:23:29.591715Z"
    }
   },
   "cell_type": "code",
   "source": [
    "s = series.unique()\n",
    "type(s)"
   ],
   "id": "1a574a2cb14a7765",
   "outputs": [
    {
     "data": {
      "text/plain": [
       "numpy.ndarray"
      ]
     },
     "execution_count": 5,
     "metadata": {},
     "output_type": "execute_result"
    }
   ],
   "execution_count": 5
  },
  {
   "metadata": {
    "ExecuteTime": {
     "end_time": "2025-08-30T06:24:06.432104Z",
     "start_time": "2025-08-30T06:24:06.427268Z"
    }
   },
   "cell_type": "code",
   "source": [
    "series2 = pd.Series([1, 2, 2 , 3 , 4 , 4]).unique()\n",
    "series2"
   ],
   "id": "94e174dbfb91f",
   "outputs": [
    {
     "data": {
      "text/plain": [
       "array([1, 2, 3, 4])"
      ]
     },
     "execution_count": 6,
     "metadata": {},
     "output_type": "execute_result"
    }
   ],
   "execution_count": 6
  },
  {
   "metadata": {
    "ExecuteTime": {
     "end_time": "2025-08-30T06:24:44.164319Z",
     "start_time": "2025-08-30T06:24:44.159795Z"
    }
   },
   "cell_type": "code",
   "source": "series",
   "id": "6989e8fafaff8449",
   "outputs": [
    {
     "data": {
      "text/plain": [
       "0    1\n",
       "1    2\n",
       "2    2\n",
       "3    3\n",
       "4    4\n",
       "5    4\n",
       "dtype: int64"
      ]
     },
     "execution_count": 7,
     "metadata": {},
     "output_type": "execute_result"
    }
   ],
   "execution_count": 7
  },
  {
   "metadata": {
    "ExecuteTime": {
     "end_time": "2025-08-30T06:24:55.946270Z",
     "start_time": "2025-08-30T06:24:55.941157Z"
    }
   },
   "cell_type": "code",
   "source": "series.nunique()",
   "id": "ce417a408408b5f1",
   "outputs": [
    {
     "data": {
      "text/plain": [
       "4"
      ]
     },
     "execution_count": 8,
     "metadata": {},
     "output_type": "execute_result"
    }
   ],
   "execution_count": 8
  },
  {
   "metadata": {
    "ExecuteTime": {
     "end_time": "2025-08-30T06:25:27.297768Z",
     "start_time": "2025-08-30T06:25:27.292768Z"
    }
   },
   "cell_type": "code",
   "source": "series.duplicated()",
   "id": "a4acab1d2b48e857",
   "outputs": [
    {
     "data": {
      "text/plain": [
       "0    False\n",
       "1    False\n",
       "2     True\n",
       "3    False\n",
       "4    False\n",
       "5     True\n",
       "dtype: bool"
      ]
     },
     "execution_count": 9,
     "metadata": {},
     "output_type": "execute_result"
    }
   ],
   "execution_count": 9
  },
  {
   "metadata": {
    "ExecuteTime": {
     "end_time": "2025-08-30T06:26:10.835289Z",
     "start_time": "2025-08-30T06:26:10.830598Z"
    }
   },
   "cell_type": "code",
   "source": [
    "scalar = pd.Series(\"A\")\n",
    "scalar"
   ],
   "id": "639a04cfa63ddb3c",
   "outputs": [
    {
     "data": {
      "text/plain": [
       "0    A\n",
       "dtype: object"
      ]
     },
     "execution_count": 10,
     "metadata": {},
     "output_type": "execute_result"
    }
   ],
   "execution_count": 10
  },
  {
   "metadata": {
    "ExecuteTime": {
     "end_time": "2025-08-30T06:26:20.269821Z",
     "start_time": "2025-08-30T06:26:20.265389Z"
    }
   },
   "cell_type": "code",
   "source": "scalar.item()",
   "id": "a5edcc724f271702",
   "outputs": [
    {
     "data": {
      "text/plain": [
       "'A'"
      ]
     },
     "execution_count": 11,
     "metadata": {},
     "output_type": "execute_result"
    }
   ],
   "execution_count": 11
  },
  {
   "metadata": {},
   "cell_type": "code",
   "outputs": [],
   "execution_count": null,
   "source": "",
   "id": "21ef22fc7bc1423b"
  }
 ],
 "metadata": {
  "kernelspec": {
   "display_name": "Python 3",
   "language": "python",
   "name": "python3"
  },
  "language_info": {
   "codemirror_mode": {
    "name": "ipython",
    "version": 2
   },
   "file_extension": ".py",
   "mimetype": "text/x-python",
   "name": "python",
   "nbconvert_exporter": "python",
   "pygments_lexer": "ipython2",
   "version": "2.7.6"
  }
 },
 "nbformat": 4,
 "nbformat_minor": 5
}
