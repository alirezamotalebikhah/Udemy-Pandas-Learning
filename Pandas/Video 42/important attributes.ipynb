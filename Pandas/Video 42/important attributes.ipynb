{
 "cells": [
  {
   "cell_type": "code",
   "id": "initial_id",
   "metadata": {
    "collapsed": true,
    "ExecuteTime": {
     "end_time": "2025-08-30T06:33:01.646044Z",
     "start_time": "2025-08-30T06:33:01.299921Z"
    }
   },
   "source": [
    "import pandas as pd\n",
    "series=pd.Series([1,2,3,4])\n",
    "series"
   ],
   "outputs": [
    {
     "data": {
      "text/plain": [
       "0    1\n",
       "1    2\n",
       "2    3\n",
       "3    4\n",
       "dtype: int64"
      ]
     },
     "execution_count": 1,
     "metadata": {},
     "output_type": "execute_result"
    }
   ],
   "execution_count": 1
  },
  {
   "metadata": {
    "ExecuteTime": {
     "end_time": "2025-08-30T06:33:29.107036Z",
     "start_time": "2025-08-30T06:33:29.103112Z"
    }
   },
   "cell_type": "code",
   "source": "series.dtypes",
   "id": "3cdbacddef109fda",
   "outputs": [
    {
     "data": {
      "text/plain": [
       "dtype('int64')"
      ]
     },
     "execution_count": 3,
     "metadata": {},
     "output_type": "execute_result"
    }
   ],
   "execution_count": 3
  },
  {
   "metadata": {
    "ExecuteTime": {
     "end_time": "2025-08-30T06:33:52.696197Z",
     "start_time": "2025-08-30T06:33:52.692191Z"
    }
   },
   "cell_type": "code",
   "source": "series.ndim",
   "id": "85d881563cb51bc5",
   "outputs": [
    {
     "data": {
      "text/plain": [
       "1"
      ]
     },
     "execution_count": 5,
     "metadata": {},
     "output_type": "execute_result"
    }
   ],
   "execution_count": 5
  },
  {
   "metadata": {
    "ExecuteTime": {
     "end_time": "2025-08-30T06:34:01.991980Z",
     "start_time": "2025-08-30T06:34:01.988279Z"
    }
   },
   "cell_type": "code",
   "source": "series.shape",
   "id": "5c08d259db770cc0",
   "outputs": [
    {
     "data": {
      "text/plain": [
       "(4,)"
      ]
     },
     "execution_count": 6,
     "metadata": {},
     "output_type": "execute_result"
    }
   ],
   "execution_count": 6
  },
  {
   "metadata": {
    "ExecuteTime": {
     "end_time": "2025-08-30T06:34:17.488212Z",
     "start_time": "2025-08-30T06:34:17.484456Z"
    }
   },
   "cell_type": "code",
   "source": "series.size",
   "id": "64cd33d58bf1afa1",
   "outputs": [
    {
     "data": {
      "text/plain": [
       "4"
      ]
     },
     "execution_count": 7,
     "metadata": {},
     "output_type": "execute_result"
    }
   ],
   "execution_count": 7
  },
  {
   "metadata": {
    "ExecuteTime": {
     "end_time": "2025-08-30T06:34:29.143868Z",
     "start_time": "2025-08-30T06:34:29.139411Z"
    }
   },
   "cell_type": "code",
   "source": "series.values",
   "id": "ca749015d8b2b7b3",
   "outputs": [
    {
     "data": {
      "text/plain": [
       "array([1, 2, 3, 4])"
      ]
     },
     "execution_count": 8,
     "metadata": {},
     "output_type": "execute_result"
    }
   ],
   "execution_count": 8
  },
  {
   "metadata": {
    "ExecuteTime": {
     "end_time": "2025-08-30T06:34:41.355441Z",
     "start_time": "2025-08-30T06:34:41.350744Z"
    }
   },
   "cell_type": "code",
   "source": "series.is_unique",
   "id": "64090ad42a82f2bb",
   "outputs": [
    {
     "data": {
      "text/plain": [
       "True"
      ]
     },
     "execution_count": 9,
     "metadata": {},
     "output_type": "execute_result"
    }
   ],
   "execution_count": 9
  },
  {
   "metadata": {
    "ExecuteTime": {
     "end_time": "2025-08-30T06:36:18.180680Z",
     "start_time": "2025-08-30T06:36:18.176989Z"
    }
   },
   "cell_type": "code",
   "source": "string_series = pd.Series(['USA' , 'UEA' , 'UK'] , name=\"countries\")",
   "id": "6216a1cbb34c11de",
   "outputs": [],
   "execution_count": 11
  },
  {
   "metadata": {
    "ExecuteTime": {
     "end_time": "2025-08-30T06:36:23.890824Z",
     "start_time": "2025-08-30T06:36:23.886876Z"
    }
   },
   "cell_type": "code",
   "source": "string_series.name",
   "id": "c4a27518569b3558",
   "outputs": [
    {
     "data": {
      "text/plain": [
       "'countries'"
      ]
     },
     "execution_count": 12,
     "metadata": {},
     "output_type": "execute_result"
    }
   ],
   "execution_count": 12
  },
  {
   "metadata": {
    "ExecuteTime": {
     "end_time": "2025-08-30T06:36:34.224150Z",
     "start_time": "2025-08-30T06:36:34.220416Z"
    }
   },
   "cell_type": "code",
   "source": "string_series.empty",
   "id": "bbe912a7226d3fb",
   "outputs": [
    {
     "data": {
      "text/plain": [
       "False"
      ]
     },
     "execution_count": 13,
     "metadata": {},
     "output_type": "execute_result"
    }
   ],
   "execution_count": 13
  },
  {
   "metadata": {
    "ExecuteTime": {
     "end_time": "2025-08-30T06:36:50.101397Z",
     "start_time": "2025-08-30T06:36:50.097495Z"
    }
   },
   "cell_type": "code",
   "source": "string_series.index",
   "id": "3646f51629bc5fc0",
   "outputs": [
    {
     "data": {
      "text/plain": [
       "RangeIndex(start=0, stop=3, step=1)"
      ]
     },
     "execution_count": 14,
     "metadata": {},
     "output_type": "execute_result"
    }
   ],
   "execution_count": 14
  },
  {
   "metadata": {
    "ExecuteTime": {
     "end_time": "2025-08-30T06:37:29.123482Z",
     "start_time": "2025-08-30T06:37:29.119759Z"
    }
   },
   "cell_type": "code",
   "source": "string_series = pd.Series(['USA' , 'UEA' , 'UK'],['america' , 'england' , 'arab'] , name=\"countries\")",
   "id": "41739f4441abfd3d",
   "outputs": [],
   "execution_count": 15
  },
  {
   "metadata": {
    "ExecuteTime": {
     "end_time": "2025-08-30T06:37:35.166936Z",
     "start_time": "2025-08-30T06:37:35.162891Z"
    }
   },
   "cell_type": "code",
   "source": "string_series.index",
   "id": "c46349b6f82006c8",
   "outputs": [
    {
     "data": {
      "text/plain": [
       "Index(['america', 'england', 'arab'], dtype='object')"
      ]
     },
     "execution_count": 16,
     "metadata": {},
     "output_type": "execute_result"
    }
   ],
   "execution_count": 16
  },
  {
   "metadata": {
    "ExecuteTime": {
     "end_time": "2025-08-30T06:38:37.893087Z",
     "start_time": "2025-08-30T06:38:37.887846Z"
    }
   },
   "cell_type": "code",
   "source": [
    "string_series.index.name = 'Country'\n",
    "string_series"
   ],
   "id": "7e7a060a76781d6d",
   "outputs": [
    {
     "data": {
      "text/plain": [
       "Country\n",
       "america    USA\n",
       "england    UEA\n",
       "arab        UK\n",
       "Name: countries, dtype: object"
      ]
     },
     "execution_count": 17,
     "metadata": {},
     "output_type": "execute_result"
    }
   ],
   "execution_count": 17
  },
  {
   "metadata": {},
   "cell_type": "code",
   "outputs": [],
   "execution_count": null,
   "source": "",
   "id": "c472b9379a78b96f"
  }
 ],
 "metadata": {
  "kernelspec": {
   "display_name": "Python 3",
   "language": "python",
   "name": "python3"
  },
  "language_info": {
   "codemirror_mode": {
    "name": "ipython",
    "version": 2
   },
   "file_extension": ".py",
   "mimetype": "text/x-python",
   "name": "python",
   "nbconvert_exporter": "python",
   "pygments_lexer": "ipython2",
   "version": "2.7.6"
  }
 },
 "nbformat": 4,
 "nbformat_minor": 5
}
