{
 "cells": [
  {
   "cell_type": "code",
   "id": "initial_id",
   "metadata": {
    "collapsed": true,
    "ExecuteTime": {
     "end_time": "2025-09-01T11:28:22.331606Z",
     "start_time": "2025-09-01T11:28:22.326043Z"
    }
   },
   "source": [
    "import pandas as pd\n",
    "series = pd.Series([4 ,1 , 80])\n",
    "series"
   ],
   "outputs": [
    {
     "data": {
      "text/plain": [
       "0     4\n",
       "1     1\n",
       "2    80\n",
       "dtype: int64"
      ]
     },
     "execution_count": 19,
     "metadata": {},
     "output_type": "execute_result"
    }
   ],
   "execution_count": 19
  },
  {
   "metadata": {
    "ExecuteTime": {
     "end_time": "2025-09-01T11:28:22.730768Z",
     "start_time": "2025-09-01T11:28:22.725461Z"
    }
   },
   "cell_type": "code",
   "source": "series.sort_values()",
   "id": "9d289f027e0c2b03",
   "outputs": [
    {
     "data": {
      "text/plain": [
       "1     1\n",
       "0     4\n",
       "2    80\n",
       "dtype: int64"
      ]
     },
     "execution_count": 20,
     "metadata": {},
     "output_type": "execute_result"
    }
   ],
   "execution_count": 20
  },
  {
   "metadata": {
    "ExecuteTime": {
     "end_time": "2025-09-01T11:28:31.319173Z",
     "start_time": "2025-09-01T11:28:31.314043Z"
    }
   },
   "cell_type": "code",
   "source": "series.sort_values(ascending=False)",
   "id": "19e421d4620050c6",
   "outputs": [
    {
     "data": {
      "text/plain": [
       "2    80\n",
       "0     4\n",
       "1     1\n",
       "dtype: int64"
      ]
     },
     "execution_count": 22,
     "metadata": {},
     "output_type": "execute_result"
    }
   ],
   "execution_count": 22
  },
  {
   "metadata": {
    "ExecuteTime": {
     "end_time": "2025-09-01T11:28:32.432587Z",
     "start_time": "2025-09-01T11:28:32.427636Z"
    }
   },
   "cell_type": "code",
   "source": "series",
   "id": "693c9bd5f832a1e9",
   "outputs": [
    {
     "data": {
      "text/plain": [
       "0     4\n",
       "1     1\n",
       "2    80\n",
       "dtype: int64"
      ]
     },
     "execution_count": 23,
     "metadata": {},
     "output_type": "execute_result"
    }
   ],
   "execution_count": 23
  },
  {
   "metadata": {
    "ExecuteTime": {
     "end_time": "2025-09-01T11:28:34.800732Z",
     "start_time": "2025-09-01T11:28:34.796851Z"
    }
   },
   "cell_type": "code",
   "source": "series.sort_values(ascending=False , inplace=True)",
   "id": "e3447784997f5acc",
   "outputs": [],
   "execution_count": 24
  },
  {
   "metadata": {
    "ExecuteTime": {
     "end_time": "2025-09-01T11:28:35.322950Z",
     "start_time": "2025-09-01T11:28:35.317953Z"
    }
   },
   "cell_type": "code",
   "source": "series",
   "id": "5ab28a6303bf6112",
   "outputs": [
    {
     "data": {
      "text/plain": [
       "2    80\n",
       "0     4\n",
       "1     1\n",
       "dtype: int64"
      ]
     },
     "execution_count": 25,
     "metadata": {},
     "output_type": "execute_result"
    }
   ],
   "execution_count": 25
  },
  {
   "metadata": {
    "ExecuteTime": {
     "end_time": "2025-09-01T11:28:41.039039Z",
     "start_time": "2025-09-01T11:28:41.035164Z"
    }
   },
   "cell_type": "code",
   "source": "series.sort_values(ascending=False, inplace=True , kind='mergesort')",
   "id": "15548f1f65a5e9f6",
   "outputs": [],
   "execution_count": 27
  },
  {
   "metadata": {
    "ExecuteTime": {
     "end_time": "2025-09-01T11:28:41.555384Z",
     "start_time": "2025-09-01T11:28:41.550549Z"
    }
   },
   "cell_type": "code",
   "source": "series",
   "id": "ccd12552c3e3dda3",
   "outputs": [
    {
     "data": {
      "text/plain": [
       "2    80\n",
       "0     4\n",
       "1     1\n",
       "dtype: int64"
      ]
     },
     "execution_count": 28,
     "metadata": {},
     "output_type": "execute_result"
    }
   ],
   "execution_count": 28
  },
  {
   "metadata": {
    "ExecuteTime": {
     "end_time": "2025-09-01T11:28:48.279840Z",
     "start_time": "2025-09-01T11:28:48.275440Z"
    }
   },
   "cell_type": "code",
   "source": "series.sort_values(ascending=True, inplace=True , kind='quicksort')",
   "id": "e95775917c2762cf",
   "outputs": [],
   "execution_count": 29
  },
  {
   "metadata": {
    "ExecuteTime": {
     "end_time": "2025-09-01T11:28:48.986652Z",
     "start_time": "2025-09-01T11:28:48.982527Z"
    }
   },
   "cell_type": "code",
   "source": "series",
   "id": "593dca9984efa97e",
   "outputs": [
    {
     "data": {
      "text/plain": [
       "1     1\n",
       "0     4\n",
       "2    80\n",
       "dtype: int64"
      ]
     },
     "execution_count": 30,
     "metadata": {},
     "output_type": "execute_result"
    }
   ],
   "execution_count": 30
  },
  {
   "metadata": {
    "ExecuteTime": {
     "end_time": "2025-09-01T11:29:23.322906Z",
     "start_time": "2025-09-01T11:29:23.316291Z"
    }
   },
   "cell_type": "code",
   "source": [
    "series = pd.Series([20 ,1 , 90 , None , 1000 , None , 2 ,None , 39])\n",
    "series"
   ],
   "id": "b1ddf3f703858173",
   "outputs": [
    {
     "data": {
      "text/plain": [
       "0      20.0\n",
       "1       1.0\n",
       "2      90.0\n",
       "3       NaN\n",
       "4    1000.0\n",
       "5       NaN\n",
       "6       2.0\n",
       "7       NaN\n",
       "8      39.0\n",
       "dtype: float64"
      ]
     },
     "execution_count": 32,
     "metadata": {},
     "output_type": "execute_result"
    }
   ],
   "execution_count": 32
  },
  {
   "metadata": {
    "ExecuteTime": {
     "end_time": "2025-09-01T11:29:24.516622Z",
     "start_time": "2025-09-01T11:29:24.511547Z"
    }
   },
   "cell_type": "code",
   "source": "series.sort_values(na_position='last')",
   "id": "9cf8f68ef6bc57c9",
   "outputs": [
    {
     "data": {
      "text/plain": [
       "1       1.0\n",
       "6       2.0\n",
       "0      20.0\n",
       "8      39.0\n",
       "2      90.0\n",
       "4    1000.0\n",
       "3       NaN\n",
       "5       NaN\n",
       "7       NaN\n",
       "dtype: float64"
      ]
     },
     "execution_count": 33,
     "metadata": {},
     "output_type": "execute_result"
    }
   ],
   "execution_count": 33
  },
  {
   "metadata": {
    "ExecuteTime": {
     "end_time": "2025-09-01T11:29:53.331288Z",
     "start_time": "2025-09-01T11:29:53.325731Z"
    }
   },
   "cell_type": "code",
   "source": "series.sort_values(na_position='last', ascending=False) ",
   "id": "8161a9ff997d9a85",
   "outputs": [
    {
     "data": {
      "text/plain": [
       "4    1000.0\n",
       "2      90.0\n",
       "8      39.0\n",
       "0      20.0\n",
       "6       2.0\n",
       "1       1.0\n",
       "3       NaN\n",
       "5       NaN\n",
       "7       NaN\n",
       "dtype: float64"
      ]
     },
     "execution_count": 34,
     "metadata": {},
     "output_type": "execute_result"
    }
   ],
   "execution_count": 34
  },
  {
   "metadata": {
    "ExecuteTime": {
     "end_time": "2025-09-01T11:31:11.045475Z",
     "start_time": "2025-09-01T11:31:11.040330Z"
    }
   },
   "cell_type": "code",
   "source": [
    "series = pd.Series(['banana', 'apple' , 'cherry','lichi' , 'fig'])\n",
    "series"
   ],
   "id": "37d53e27ab921d60",
   "outputs": [
    {
     "data": {
      "text/plain": [
       "0    banana\n",
       "1     apple\n",
       "2    cherry\n",
       "3     lichi\n",
       "4       fig\n",
       "dtype: object"
      ]
     },
     "execution_count": 37,
     "metadata": {},
     "output_type": "execute_result"
    }
   ],
   "execution_count": 37
  },
  {
   "metadata": {
    "ExecuteTime": {
     "end_time": "2025-09-01T11:32:21.802159Z",
     "start_time": "2025-09-01T11:32:21.794215Z"
    }
   },
   "cell_type": "code",
   "source": "series.sort_values()",
   "id": "84205c99701b6f0a",
   "outputs": [
    {
     "data": {
      "text/plain": [
       "1     apple\n",
       "0    banana\n",
       "2    cherry\n",
       "4       fig\n",
       "3     lichi\n",
       "dtype: object"
      ]
     },
     "execution_count": 40,
     "metadata": {},
     "output_type": "execute_result"
    }
   ],
   "execution_count": 40
  },
  {
   "metadata": {
    "ExecuteTime": {
     "end_time": "2025-09-01T11:32:27.242659Z",
     "start_time": "2025-09-01T11:32:27.234613Z"
    }
   },
   "cell_type": "code",
   "source": [
    "series.sort_values(key=lambda x:x.str.len())\n",
    "series"
   ],
   "id": "675f5c6e44da5c76",
   "outputs": [
    {
     "data": {
      "text/plain": [
       "0    banana\n",
       "1     apple\n",
       "2    cherry\n",
       "3     lichi\n",
       "4       fig\n",
       "dtype: object"
      ]
     },
     "execution_count": 41,
     "metadata": {},
     "output_type": "execute_result"
    }
   ],
   "execution_count": 41
  },
  {
   "metadata": {
    "ExecuteTime": {
     "end_time": "2025-09-01T11:37:55.488894Z",
     "start_time": "2025-09-01T11:37:55.482926Z"
    }
   },
   "cell_type": "code",
   "source": [
    "series.sort_values(key=lambda x:x.str.len() , ascending=False)\n",
    "series"
   ],
   "id": "ebfc55b8d1ea540e",
   "outputs": [
    {
     "data": {
      "text/plain": [
       "0    banana\n",
       "1     apple\n",
       "2    cherry\n",
       "3     lichi\n",
       "4       fig\n",
       "dtype: object"
      ]
     },
     "execution_count": 42,
     "metadata": {},
     "output_type": "execute_result"
    }
   ],
   "execution_count": 42
  },
  {
   "metadata": {},
   "cell_type": "code",
   "outputs": [],
   "execution_count": null,
   "source": "",
   "id": "bc8aae5069c2f4d0"
  }
 ],
 "metadata": {
  "kernelspec": {
   "display_name": "Python 3",
   "language": "python",
   "name": "python3"
  },
  "language_info": {
   "codemirror_mode": {
    "name": "ipython",
    "version": 2
   },
   "file_extension": ".py",
   "mimetype": "text/x-python",
   "name": "python",
   "nbconvert_exporter": "python",
   "pygments_lexer": "ipython2",
   "version": "2.7.6"
  }
 },
 "nbformat": 4,
 "nbformat_minor": 5
}
