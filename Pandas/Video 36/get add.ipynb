{
 "cells": [
  {
   "cell_type": "code",
   "id": "initial_id",
   "metadata": {
    "collapsed": true,
    "ExecuteTime": {
     "end_time": "2025-08-26T07:49:40.544395Z",
     "start_time": "2025-08-26T07:49:38.865644Z"
    }
   },
   "source": [
    "import pandas as pd\n",
    "from pandas.conftest import string_series\n",
    "\n",
    "series = pd.Series(range(100))\n",
    "series"
   ],
   "outputs": [
    {
     "data": {
      "text/plain": [
       "0      0\n",
       "1      1\n",
       "2      2\n",
       "3      3\n",
       "4      4\n",
       "      ..\n",
       "95    95\n",
       "96    96\n",
       "97    97\n",
       "98    98\n",
       "99    99\n",
       "Length: 100, dtype: int64"
      ]
     },
     "execution_count": 1,
     "metadata": {},
     "output_type": "execute_result"
    }
   ],
   "execution_count": 1
  },
  {
   "metadata": {
    "ExecuteTime": {
     "end_time": "2025-08-26T07:49:59.177340Z",
     "start_time": "2025-08-26T07:49:59.173263Z"
    }
   },
   "cell_type": "code",
   "source": "series[0]",
   "id": "2fa76cd64020ce1b",
   "outputs": [
    {
     "data": {
      "text/plain": [
       "np.int64(0)"
      ]
     },
     "execution_count": 2,
     "metadata": {},
     "output_type": "execute_result"
    }
   ],
   "execution_count": 2
  },
  {
   "metadata": {
    "ExecuteTime": {
     "end_time": "2025-08-26T07:50:10.099030Z",
     "start_time": "2025-08-26T07:50:10.094267Z"
    }
   },
   "cell_type": "code",
   "source": [
    "series[0]=10\n",
    "series[0]"
   ],
   "id": "4003cfad1b8e22e2",
   "outputs": [
    {
     "data": {
      "text/plain": [
       "np.int64(10)"
      ]
     },
     "execution_count": 3,
     "metadata": {},
     "output_type": "execute_result"
    }
   ],
   "execution_count": 3
  },
  {
   "metadata": {
    "ExecuteTime": {
     "end_time": "2025-08-26T07:50:18.546126Z",
     "start_time": "2025-08-26T07:50:18.541237Z"
    }
   },
   "cell_type": "code",
   "source": "series",
   "id": "edc695baccc4d1bf",
   "outputs": [
    {
     "data": {
      "text/plain": [
       "0     10\n",
       "1      1\n",
       "2      2\n",
       "3      3\n",
       "4      4\n",
       "      ..\n",
       "95    95\n",
       "96    96\n",
       "97    97\n",
       "98    98\n",
       "99    99\n",
       "Length: 100, dtype: int64"
      ]
     },
     "execution_count": 4,
     "metadata": {},
     "output_type": "execute_result"
    }
   ],
   "execution_count": 4
  },
  {
   "metadata": {
    "ExecuteTime": {
     "end_time": "2025-08-26T07:56:36.581911Z",
     "start_time": "2025-08-26T07:56:36.577118Z"
    }
   },
   "cell_type": "code",
   "source": "series[[3,95,99]]",
   "id": "e10fae7eb573a597",
   "outputs": [
    {
     "data": {
      "text/plain": [
       "3      3\n",
       "95    95\n",
       "99    99\n",
       "dtype: int64"
      ]
     },
     "execution_count": 6,
     "metadata": {},
     "output_type": "execute_result"
    }
   ],
   "execution_count": 6
  },
  {
   "metadata": {
    "ExecuteTime": {
     "end_time": "2025-08-26T07:57:29.220239Z",
     "start_time": "2025-08-26T07:57:29.215708Z"
    }
   },
   "cell_type": "code",
   "source": [
    "for value in series:\n",
    "    print(value)"
   ],
   "id": "fbabf0c504631413",
   "outputs": [
    {
     "name": "stdout",
     "output_type": "stream",
     "text": [
      "10\n",
      "1\n",
      "2\n",
      "3\n",
      "4\n",
      "5\n",
      "6\n",
      "7\n",
      "8\n",
      "9\n",
      "10\n",
      "11\n",
      "12\n",
      "13\n",
      "14\n",
      "15\n",
      "16\n",
      "17\n",
      "18\n",
      "19\n",
      "20\n",
      "21\n",
      "22\n",
      "23\n",
      "24\n",
      "25\n",
      "26\n",
      "27\n",
      "28\n",
      "29\n",
      "30\n",
      "31\n",
      "32\n",
      "33\n",
      "34\n",
      "35\n",
      "36\n",
      "37\n",
      "38\n",
      "39\n",
      "40\n",
      "41\n",
      "42\n",
      "43\n",
      "44\n",
      "45\n",
      "46\n",
      "47\n",
      "48\n",
      "49\n",
      "50\n",
      "51\n",
      "52\n",
      "53\n",
      "54\n",
      "55\n",
      "56\n",
      "57\n",
      "58\n",
      "59\n",
      "60\n",
      "61\n",
      "62\n",
      "63\n",
      "64\n",
      "65\n",
      "66\n",
      "67\n",
      "68\n",
      "69\n",
      "70\n",
      "71\n",
      "72\n",
      "73\n",
      "74\n",
      "75\n",
      "76\n",
      "77\n",
      "78\n",
      "79\n",
      "80\n",
      "81\n",
      "82\n",
      "83\n",
      "84\n",
      "85\n",
      "86\n",
      "87\n",
      "88\n",
      "89\n",
      "90\n",
      "91\n",
      "92\n",
      "93\n",
      "94\n",
      "95\n",
      "96\n",
      "97\n",
      "98\n",
      "99\n"
     ]
    }
   ],
   "execution_count": 7
  },
  {
   "metadata": {
    "ExecuteTime": {
     "end_time": "2025-08-26T08:01:17.950121Z",
     "start_time": "2025-08-26T08:01:17.944123Z"
    }
   },
   "cell_type": "code",
   "source": [
    "string_series = pd.Series(['eshrat' , 'anhum' , 'erena'])\n",
    "string_series"
   ],
   "id": "4625dcc5563b3d50",
   "outputs": [
    {
     "data": {
      "text/plain": [
       "0    eshrat\n",
       "1     anhum\n",
       "2     erena\n",
       "dtype: object"
      ]
     },
     "execution_count": 8,
     "metadata": {},
     "output_type": "execute_result"
    }
   ],
   "execution_count": 8
  },
  {
   "metadata": {
    "ExecuteTime": {
     "end_time": "2025-08-26T08:01:35.489582Z",
     "start_time": "2025-08-26T08:01:35.485066Z"
    }
   },
   "cell_type": "code",
   "source": "string_series.get(0)",
   "id": "b363987980bea797",
   "outputs": [
    {
     "data": {
      "text/plain": [
       "'eshrat'"
      ]
     },
     "execution_count": 9,
     "metadata": {},
     "output_type": "execute_result"
    }
   ],
   "execution_count": 9
  },
  {
   "metadata": {
    "ExecuteTime": {
     "end_time": "2025-08-26T08:02:07.594967Z",
     "start_time": "2025-08-26T08:02:07.592276Z"
    }
   },
   "cell_type": "code",
   "source": [
    "# string_series[3]\n",
    "string_series.get(3)"
   ],
   "id": "6a3f3ce9fd3443ec",
   "outputs": [],
   "execution_count": 11
  },
  {
   "metadata": {
    "ExecuteTime": {
     "end_time": "2025-08-26T08:02:48.834002Z",
     "start_time": "2025-08-26T08:02:48.829347Z"
    }
   },
   "cell_type": "code",
   "source": "string_series.get(3 , 'Not Found')",
   "id": "15f0a4d03c90386c",
   "outputs": [
    {
     "data": {
      "text/plain": [
       "'Not Found'"
      ]
     },
     "execution_count": 12,
     "metadata": {},
     "output_type": "execute_result"
    }
   ],
   "execution_count": 12
  },
  {
   "metadata": {
    "ExecuteTime": {
     "end_time": "2025-08-26T08:03:08.951509Z",
     "start_time": "2025-08-26T08:03:08.946680Z"
    }
   },
   "cell_type": "code",
   "source": "string_series.loc[1]",
   "id": "cee2697fca362c",
   "outputs": [
    {
     "data": {
      "text/plain": [
       "'anhum'"
      ]
     },
     "execution_count": 13,
     "metadata": {},
     "output_type": "execute_result"
    }
   ],
   "execution_count": 13
  },
  {
   "metadata": {
    "ExecuteTime": {
     "end_time": "2025-08-26T08:03:17.189103Z",
     "start_time": "2025-08-26T08:03:17.185327Z"
    }
   },
   "cell_type": "code",
   "source": "string_series.iloc[1]",
   "id": "76aa63b848f9b56c",
   "outputs": [
    {
     "data": {
      "text/plain": [
       "'anhum'"
      ]
     },
     "execution_count": 14,
     "metadata": {},
     "output_type": "execute_result"
    }
   ],
   "execution_count": 14
  },
  {
   "metadata": {
    "ExecuteTime": {
     "end_time": "2025-08-26T08:04:31.255485Z",
     "start_time": "2025-08-26T08:04:31.250518Z"
    }
   },
   "cell_type": "code",
   "source": [
    "string_series2 = pd.Series(['Eshrat' , 'Anjum' , 'Erena'] , ['nice' , 'cute' , 'ugly'])\n",
    "string_series2"
   ],
   "id": "b544bdf130269376",
   "outputs": [
    {
     "data": {
      "text/plain": [
       "nice    Eshrat\n",
       "cute     Anjum\n",
       "ugly     Erena\n",
       "dtype: object"
      ]
     },
     "execution_count": 15,
     "metadata": {},
     "output_type": "execute_result"
    }
   ],
   "execution_count": 15
  },
  {
   "metadata": {
    "ExecuteTime": {
     "end_time": "2025-08-26T08:05:09.089441Z",
     "start_time": "2025-08-26T08:05:09.085809Z"
    }
   },
   "cell_type": "code",
   "source": "string_series2.loc['cute']",
   "id": "a9e039f187442fde",
   "outputs": [
    {
     "data": {
      "text/plain": [
       "'Anjum'"
      ]
     },
     "execution_count": 16,
     "metadata": {},
     "output_type": "execute_result"
    }
   ],
   "execution_count": 16
  },
  {
   "metadata": {
    "ExecuteTime": {
     "end_time": "2025-08-26T08:05:28.298413Z",
     "start_time": "2025-08-26T08:05:28.294064Z"
    }
   },
   "cell_type": "code",
   "source": "string_series.iloc[1]",
   "id": "8736db21bf386d74",
   "outputs": [
    {
     "data": {
      "text/plain": [
       "'anhum'"
      ]
     },
     "execution_count": 18,
     "metadata": {},
     "output_type": "execute_result"
    }
   ],
   "execution_count": 18
  },
  {
   "metadata": {
    "ExecuteTime": {
     "end_time": "2025-08-26T08:07:11.766921Z",
     "start_time": "2025-08-26T08:07:11.760919Z"
    }
   },
   "cell_type": "code",
   "source": "string_series2.loc[['cute' , 'ugly']]",
   "id": "32bd3d43541800",
   "outputs": [
    {
     "data": {
      "text/plain": [
       "cute    Anjum\n",
       "ugly    Erena\n",
       "dtype: object"
      ]
     },
     "execution_count": 20,
     "metadata": {},
     "output_type": "execute_result"
    }
   ],
   "execution_count": 20
  },
  {
   "metadata": {
    "ExecuteTime": {
     "end_time": "2025-08-26T08:07:41.740925Z",
     "start_time": "2025-08-26T08:07:41.736087Z"
    }
   },
   "cell_type": "code",
   "source": "string_series2.iloc[['1' , '2']]",
   "id": "e382a2a0c4708e71",
   "outputs": [
    {
     "data": {
      "text/plain": [
       "cute    Anjum\n",
       "ugly    Erena\n",
       "dtype: object"
      ]
     },
     "execution_count": 22,
     "metadata": {},
     "output_type": "execute_result"
    }
   ],
   "execution_count": 22
  },
  {
   "metadata": {
    "ExecuteTime": {
     "end_time": "2025-08-26T08:14:48.292091Z",
     "start_time": "2025-08-26T08:14:48.285574Z"
    }
   },
   "cell_type": "code",
   "source": [
    "string_series2['name']='Lufor'\n",
    "string_series2"
   ],
   "id": "4df31885f9597023",
   "outputs": [
    {
     "data": {
      "text/plain": [
       "nice    Eshrat\n",
       "cute     Anjum\n",
       "ugly     Erena\n",
       "name     Lufor\n",
       "dtype: object"
      ]
     },
     "execution_count": 23,
     "metadata": {},
     "output_type": "execute_result"
    }
   ],
   "execution_count": 23
  },
  {
   "metadata": {},
   "cell_type": "code",
   "outputs": [],
   "execution_count": null,
   "source": "",
   "id": "18141b0e28357fbb"
  }
 ],
 "metadata": {
  "kernelspec": {
   "display_name": "Python 3",
   "language": "python",
   "name": "python3"
  },
  "language_info": {
   "codemirror_mode": {
    "name": "ipython",
    "version": 2
   },
   "file_extension": ".py",
   "mimetype": "text/x-python",
   "name": "python",
   "nbconvert_exporter": "python",
   "pygments_lexer": "ipython2",
   "version": "2.7.6"
  }
 },
 "nbformat": 4,
 "nbformat_minor": 5
}
