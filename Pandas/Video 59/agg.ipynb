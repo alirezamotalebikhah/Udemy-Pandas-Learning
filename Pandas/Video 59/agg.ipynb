{
 "cells": [
  {
   "cell_type": "code",
   "id": "initial_id",
   "metadata": {
    "collapsed": true,
    "ExecuteTime": {
     "end_time": "2025-09-09T14:16:51.097779Z",
     "start_time": "2025-09-09T14:16:49.465562Z"
    }
   },
   "source": [
    "import pandas as pd\n",
    "series = pd.Series([12 , 12 , 23 , 54 ,30 , 45 , 90 , None])\n",
    "series"
   ],
   "outputs": [
    {
     "data": {
      "text/plain": [
       "0    12.0\n",
       "1    12.0\n",
       "2    23.0\n",
       "3    54.0\n",
       "4    30.0\n",
       "5    45.0\n",
       "6    90.0\n",
       "7     NaN\n",
       "dtype: float64"
      ]
     },
     "execution_count": 1,
     "metadata": {},
     "output_type": "execute_result"
    }
   ],
   "execution_count": 1
  },
  {
   "metadata": {
    "ExecuteTime": {
     "end_time": "2025-09-09T14:16:59.458052Z",
     "start_time": "2025-09-09T14:16:59.454044Z"
    }
   },
   "cell_type": "code",
   "source": "series.sum()",
   "id": "ae79845b7819a687",
   "outputs": [
    {
     "data": {
      "text/plain": [
       "np.float64(266.0)"
      ]
     },
     "execution_count": 2,
     "metadata": {},
     "output_type": "execute_result"
    }
   ],
   "execution_count": 2
  },
  {
   "metadata": {
    "ExecuteTime": {
     "end_time": "2025-09-09T14:17:15.187050Z",
     "start_time": "2025-09-09T14:17:15.183373Z"
    }
   },
   "cell_type": "code",
   "source": "series.mean()",
   "id": "52ba8a8f4f865c5d",
   "outputs": [
    {
     "data": {
      "text/plain": [
       "np.float64(38.0)"
      ]
     },
     "execution_count": 3,
     "metadata": {},
     "output_type": "execute_result"
    }
   ],
   "execution_count": 3
  },
  {
   "metadata": {
    "ExecuteTime": {
     "end_time": "2025-09-09T14:17:23.752909Z",
     "start_time": "2025-09-09T14:17:23.747910Z"
    }
   },
   "cell_type": "code",
   "source": "series.median()",
   "id": "418551ed52708c3",
   "outputs": [
    {
     "data": {
      "text/plain": [
       "np.float64(30.0)"
      ]
     },
     "execution_count": 4,
     "metadata": {},
     "output_type": "execute_result"
    }
   ],
   "execution_count": 4
  },
  {
   "metadata": {
    "ExecuteTime": {
     "end_time": "2025-09-09T14:17:33.125929Z",
     "start_time": "2025-09-09T14:17:33.121334Z"
    }
   },
   "cell_type": "code",
   "source": "series.mode()",
   "id": "20076c3d6a4e64f2",
   "outputs": [
    {
     "data": {
      "text/plain": [
       "0    12.0\n",
       "dtype: float64"
      ]
     },
     "execution_count": 5,
     "metadata": {},
     "output_type": "execute_result"
    }
   ],
   "execution_count": 5
  },
  {
   "metadata": {
    "ExecuteTime": {
     "end_time": "2025-09-09T14:17:39.175816Z",
     "start_time": "2025-09-09T14:17:39.172178Z"
    }
   },
   "cell_type": "code",
   "source": "series.std()",
   "id": "c05ea6050f9a626a",
   "outputs": [
    {
     "data": {
      "text/plain": [
       "np.float64(27.83882181415011)"
      ]
     },
     "execution_count": 6,
     "metadata": {},
     "output_type": "execute_result"
    }
   ],
   "execution_count": 6
  },
  {
   "metadata": {
    "ExecuteTime": {
     "end_time": "2025-09-09T14:17:55.068157Z",
     "start_time": "2025-09-09T14:17:55.063342Z"
    }
   },
   "cell_type": "code",
   "source": "series.mode()[0]",
   "id": "cc7c80c28847deb2",
   "outputs": [
    {
     "data": {
      "text/plain": [
       "np.float64(12.0)"
      ]
     },
     "execution_count": 7,
     "metadata": {},
     "output_type": "execute_result"
    }
   ],
   "execution_count": 7
  },
  {
   "metadata": {
    "ExecuteTime": {
     "end_time": "2025-09-09T14:18:02.553088Z",
     "start_time": "2025-09-09T14:18:02.549088Z"
    }
   },
   "cell_type": "code",
   "source": "series.max()",
   "id": "de0f86dac970a4cf",
   "outputs": [
    {
     "data": {
      "text/plain": [
       "np.float64(90.0)"
      ]
     },
     "execution_count": 8,
     "metadata": {},
     "output_type": "execute_result"
    }
   ],
   "execution_count": 8
  },
  {
   "metadata": {
    "ExecuteTime": {
     "end_time": "2025-09-09T14:18:23.702500Z",
     "start_time": "2025-09-09T14:18:23.697984Z"
    }
   },
   "cell_type": "code",
   "source": "series.var()",
   "id": "4001010337186f6e",
   "outputs": [
    {
     "data": {
      "text/plain": [
       "np.float64(775.0)"
      ]
     },
     "execution_count": 9,
     "metadata": {},
     "output_type": "execute_result"
    }
   ],
   "execution_count": 9
  },
  {
   "metadata": {
    "ExecuteTime": {
     "end_time": "2025-09-09T14:18:31.973507Z",
     "start_time": "2025-09-09T14:18:31.969002Z"
    }
   },
   "cell_type": "code",
   "source": "series.quantile()",
   "id": "e1d6b8c3ea83df96",
   "outputs": [
    {
     "data": {
      "text/plain": [
       "np.float64(30.0)"
      ]
     },
     "execution_count": 10,
     "metadata": {},
     "output_type": "execute_result"
    }
   ],
   "execution_count": 10
  },
  {
   "metadata": {
    "ExecuteTime": {
     "end_time": "2025-09-09T14:18:46.323820Z",
     "start_time": "2025-09-09T14:18:46.318665Z"
    }
   },
   "cell_type": "code",
   "source": "series.quantile(0.25)",
   "id": "d2427fa881864775",
   "outputs": [
    {
     "data": {
      "text/plain": [
       "np.float64(17.5)"
      ]
     },
     "execution_count": 11,
     "metadata": {},
     "output_type": "execute_result"
    }
   ],
   "execution_count": 11
  },
  {
   "metadata": {
    "ExecuteTime": {
     "end_time": "2025-09-09T14:18:59.676753Z",
     "start_time": "2025-09-09T14:18:59.672059Z"
    }
   },
   "cell_type": "code",
   "source": "series.quantile(0.75)",
   "id": "8abe07cd2f647a85",
   "outputs": [
    {
     "data": {
      "text/plain": [
       "np.float64(49.5)"
      ]
     },
     "execution_count": 12,
     "metadata": {},
     "output_type": "execute_result"
    }
   ],
   "execution_count": 12
  },
  {
   "metadata": {
    "ExecuteTime": {
     "end_time": "2025-09-09T14:19:54.357506Z",
     "start_time": "2025-09-09T14:19:54.352879Z"
    }
   },
   "cell_type": "code",
   "source": [
    "sorted(series)\n",
    "series"
   ],
   "id": "b3cefd5e6ee1d9ee",
   "outputs": [
    {
     "data": {
      "text/plain": [
       "0    12.0\n",
       "1    12.0\n",
       "2    23.0\n",
       "3    54.0\n",
       "4    30.0\n",
       "5    45.0\n",
       "6    90.0\n",
       "7     NaN\n",
       "dtype: float64"
      ]
     },
     "execution_count": 13,
     "metadata": {},
     "output_type": "execute_result"
    }
   ],
   "execution_count": 13
  },
  {
   "metadata": {
    "ExecuteTime": {
     "end_time": "2025-09-09T14:20:37.793312Z",
     "start_time": "2025-09-09T14:20:37.789286Z"
    }
   },
   "cell_type": "code",
   "source": "s = pd.Series([12 , 12 , 23 , 54 ,30 , 45 , 90 ])",
   "id": "bf4de4d46d3d51cc",
   "outputs": [],
   "execution_count": 14
  },
  {
   "metadata": {
    "ExecuteTime": {
     "end_time": "2025-09-09T14:20:40.092282Z",
     "start_time": "2025-09-09T14:20:40.087560Z"
    }
   },
   "cell_type": "code",
   "source": "s",
   "id": "230c007ab2d8eaf3",
   "outputs": [
    {
     "data": {
      "text/plain": [
       "0    12\n",
       "1    12\n",
       "2    23\n",
       "3    54\n",
       "4    30\n",
       "5    45\n",
       "6    90\n",
       "dtype: int64"
      ]
     },
     "execution_count": 15,
     "metadata": {},
     "output_type": "execute_result"
    }
   ],
   "execution_count": 15
  },
  {
   "metadata": {
    "ExecuteTime": {
     "end_time": "2025-09-09T14:20:56.093607Z",
     "start_time": "2025-09-09T14:20:56.088736Z"
    }
   },
   "cell_type": "code",
   "source": "s.median()",
   "id": "a2537571613e7513",
   "outputs": [
    {
     "data": {
      "text/plain": [
       "np.float64(30.0)"
      ]
     },
     "execution_count": 16,
     "metadata": {},
     "output_type": "execute_result"
    }
   ],
   "execution_count": 16
  },
  {
   "metadata": {
    "ExecuteTime": {
     "end_time": "2025-09-09T14:21:22.136192Z",
     "start_time": "2025-09-09T14:21:22.131830Z"
    }
   },
   "cell_type": "code",
   "source": "s.cumsum()",
   "id": "dd650b4b72507c20",
   "outputs": [
    {
     "data": {
      "text/plain": [
       "0     12\n",
       "1     24\n",
       "2     47\n",
       "3    101\n",
       "4    131\n",
       "5    176\n",
       "6    266\n",
       "dtype: int64"
      ]
     },
     "execution_count": 17,
     "metadata": {},
     "output_type": "execute_result"
    }
   ],
   "execution_count": 17
  },
  {
   "metadata": {
    "ExecuteTime": {
     "end_time": "2025-09-09T14:21:29.386502Z",
     "start_time": "2025-09-09T14:21:29.382117Z"
    }
   },
   "cell_type": "code",
   "source": "s.cumprod()",
   "id": "506fb39408836190",
   "outputs": [
    {
     "data": {
      "text/plain": [
       "0             12\n",
       "1            144\n",
       "2           3312\n",
       "3         178848\n",
       "4        5365440\n",
       "5      241444800\n",
       "6    21730032000\n",
       "dtype: int64"
      ]
     },
     "execution_count": 18,
     "metadata": {},
     "output_type": "execute_result"
    }
   ],
   "execution_count": 18
  },
  {
   "metadata": {
    "ExecuteTime": {
     "end_time": "2025-09-09T14:21:45.536629Z",
     "start_time": "2025-09-09T14:21:45.531592Z"
    }
   },
   "cell_type": "code",
   "source": "series.cumsum()",
   "id": "2f7c60461d2df73c",
   "outputs": [
    {
     "data": {
      "text/plain": [
       "0     12.0\n",
       "1     24.0\n",
       "2     47.0\n",
       "3    101.0\n",
       "4    131.0\n",
       "5    176.0\n",
       "6    266.0\n",
       "7      NaN\n",
       "dtype: float64"
      ]
     },
     "execution_count": 19,
     "metadata": {},
     "output_type": "execute_result"
    }
   ],
   "execution_count": 19
  },
  {
   "metadata": {
    "ExecuteTime": {
     "end_time": "2025-09-09T14:22:23.549252Z",
     "start_time": "2025-09-09T14:22:23.545361Z"
    }
   },
   "cell_type": "code",
   "source": "series = pd.Series([12 , 12 , 23 ,None, 54 ,30 , 45 , 90 , None])",
   "id": "a0f85133ca4bd338",
   "outputs": [],
   "execution_count": 22
  },
  {
   "metadata": {
    "ExecuteTime": {
     "end_time": "2025-09-09T14:22:24.103923Z",
     "start_time": "2025-09-09T14:22:24.098340Z"
    }
   },
   "cell_type": "code",
   "source": "series.cumsum()",
   "id": "664bf95c0714646",
   "outputs": [
    {
     "data": {
      "text/plain": [
       "0     12.0\n",
       "1     24.0\n",
       "2     47.0\n",
       "3      NaN\n",
       "4    101.0\n",
       "5    131.0\n",
       "6    176.0\n",
       "7    266.0\n",
       "8      NaN\n",
       "dtype: float64"
      ]
     },
     "execution_count": 23,
     "metadata": {},
     "output_type": "execute_result"
    }
   ],
   "execution_count": 23
  },
  {
   "metadata": {
    "ExecuteTime": {
     "end_time": "2025-09-09T14:22:47.330002Z",
     "start_time": "2025-09-09T14:22:47.325502Z"
    }
   },
   "cell_type": "code",
   "source": "series.cumprod()",
   "id": "d6f3560f2826ebc7",
   "outputs": [
    {
     "data": {
      "text/plain": [
       "0    1.200000e+01\n",
       "1    1.440000e+02\n",
       "2    3.312000e+03\n",
       "3             NaN\n",
       "4    1.788480e+05\n",
       "5    5.365440e+06\n",
       "6    2.414448e+08\n",
       "7    2.173003e+10\n",
       "8             NaN\n",
       "dtype: float64"
      ]
     },
     "execution_count": 24,
     "metadata": {},
     "output_type": "execute_result"
    }
   ],
   "execution_count": 24
  },
  {
   "metadata": {
    "ExecuteTime": {
     "end_time": "2025-09-09T14:23:09.567853Z",
     "start_time": "2025-09-09T14:23:09.562525Z"
    }
   },
   "cell_type": "code",
   "source": "series.agg('cumprod')",
   "id": "9139cc4cffd294ac",
   "outputs": [
    {
     "data": {
      "text/plain": [
       "0    1.200000e+01\n",
       "1    1.440000e+02\n",
       "2    3.312000e+03\n",
       "3             NaN\n",
       "4    1.788480e+05\n",
       "5    5.365440e+06\n",
       "6    2.414448e+08\n",
       "7    2.173003e+10\n",
       "8             NaN\n",
       "dtype: float64"
      ]
     },
     "execution_count": 25,
     "metadata": {},
     "output_type": "execute_result"
    }
   ],
   "execution_count": 25
  },
  {
   "metadata": {
    "ExecuteTime": {
     "end_time": "2025-09-09T14:23:28.521329Z",
     "start_time": "2025-09-09T14:23:28.516737Z"
    }
   },
   "cell_type": "code",
   "source": "series.agg('sum')",
   "id": "c9c445663f84b2cf",
   "outputs": [
    {
     "data": {
      "text/plain": [
       "np.float64(266.0)"
      ]
     },
     "execution_count": 26,
     "metadata": {},
     "output_type": "execute_result"
    }
   ],
   "execution_count": 26
  },
  {
   "metadata": {
    "ExecuteTime": {
     "end_time": "2025-09-09T14:23:53.610146Z",
     "start_time": "2025-09-09T14:23:53.605746Z"
    }
   },
   "cell_type": "code",
   "source": "series.aggregate('mode')",
   "id": "24fdaa5573b993a5",
   "outputs": [
    {
     "data": {
      "text/plain": [
       "0    12.0\n",
       "dtype: float64"
      ]
     },
     "execution_count": 28,
     "metadata": {},
     "output_type": "execute_result"
    }
   ],
   "execution_count": 28
  },
  {
   "metadata": {
    "ExecuteTime": {
     "end_time": "2025-09-09T14:24:47.448217Z",
     "start_time": "2025-09-09T14:24:47.443397Z"
    }
   },
   "cell_type": "code",
   "source": "series.agg(['sum' , 'mean' , 'median'])",
   "id": "b05037855a08f72e",
   "outputs": [
    {
     "data": {
      "text/plain": [
       "sum       266.0\n",
       "mean       38.0\n",
       "median     30.0\n",
       "dtype: float64"
      ]
     },
     "execution_count": 30,
     "metadata": {},
     "output_type": "execute_result"
    }
   ],
   "execution_count": 30
  },
  {
   "metadata": {
    "ExecuteTime": {
     "end_time": "2025-09-09T14:25:40.887781Z",
     "start_time": "2025-09-09T14:25:40.879134Z"
    }
   },
   "cell_type": "code",
   "source": "series.agg(['cumsum' , 'cumprod' , 'mode'])",
   "id": "f8136878c9f3103a",
   "outputs": [
    {
     "data": {
      "text/plain": [
       "   cumsum       cumprod  mode\n",
       "0    12.0  1.200000e+01  12.0\n",
       "1    24.0  1.440000e+02   NaN\n",
       "2    47.0  3.312000e+03   NaN\n",
       "3     NaN           NaN   NaN\n",
       "4   101.0  1.788480e+05   NaN\n",
       "5   131.0  5.365440e+06   NaN\n",
       "6   176.0  2.414448e+08   NaN\n",
       "7   266.0  2.173003e+10   NaN\n",
       "8     NaN           NaN   NaN"
      ],
      "text/html": [
       "<div>\n",
       "<style scoped>\n",
       "    .dataframe tbody tr th:only-of-type {\n",
       "        vertical-align: middle;\n",
       "    }\n",
       "\n",
       "    .dataframe tbody tr th {\n",
       "        vertical-align: top;\n",
       "    }\n",
       "\n",
       "    .dataframe thead th {\n",
       "        text-align: right;\n",
       "    }\n",
       "</style>\n",
       "<table border=\"1\" class=\"dataframe\">\n",
       "  <thead>\n",
       "    <tr style=\"text-align: right;\">\n",
       "      <th></th>\n",
       "      <th>cumsum</th>\n",
       "      <th>cumprod</th>\n",
       "      <th>mode</th>\n",
       "    </tr>\n",
       "  </thead>\n",
       "  <tbody>\n",
       "    <tr>\n",
       "      <th>0</th>\n",
       "      <td>12.0</td>\n",
       "      <td>1.200000e+01</td>\n",
       "      <td>12.0</td>\n",
       "    </tr>\n",
       "    <tr>\n",
       "      <th>1</th>\n",
       "      <td>24.0</td>\n",
       "      <td>1.440000e+02</td>\n",
       "      <td>NaN</td>\n",
       "    </tr>\n",
       "    <tr>\n",
       "      <th>2</th>\n",
       "      <td>47.0</td>\n",
       "      <td>3.312000e+03</td>\n",
       "      <td>NaN</td>\n",
       "    </tr>\n",
       "    <tr>\n",
       "      <th>3</th>\n",
       "      <td>NaN</td>\n",
       "      <td>NaN</td>\n",
       "      <td>NaN</td>\n",
       "    </tr>\n",
       "    <tr>\n",
       "      <th>4</th>\n",
       "      <td>101.0</td>\n",
       "      <td>1.788480e+05</td>\n",
       "      <td>NaN</td>\n",
       "    </tr>\n",
       "    <tr>\n",
       "      <th>5</th>\n",
       "      <td>131.0</td>\n",
       "      <td>5.365440e+06</td>\n",
       "      <td>NaN</td>\n",
       "    </tr>\n",
       "    <tr>\n",
       "      <th>6</th>\n",
       "      <td>176.0</td>\n",
       "      <td>2.414448e+08</td>\n",
       "      <td>NaN</td>\n",
       "    </tr>\n",
       "    <tr>\n",
       "      <th>7</th>\n",
       "      <td>266.0</td>\n",
       "      <td>2.173003e+10</td>\n",
       "      <td>NaN</td>\n",
       "    </tr>\n",
       "    <tr>\n",
       "      <th>8</th>\n",
       "      <td>NaN</td>\n",
       "      <td>NaN</td>\n",
       "      <td>NaN</td>\n",
       "    </tr>\n",
       "  </tbody>\n",
       "</table>\n",
       "</div>"
      ]
     },
     "execution_count": 32,
     "metadata": {},
     "output_type": "execute_result"
    }
   ],
   "execution_count": 32
  },
  {
   "metadata": {
    "ExecuteTime": {
     "end_time": "2025-09-09T14:26:04.636690Z",
     "start_time": "2025-09-09T14:26:04.630900Z"
    }
   },
   "cell_type": "code",
   "source": "series.agg(['sum' , 'mean' , 'median' , 'min'])",
   "id": "95d8a3590ca8c045",
   "outputs": [
    {
     "data": {
      "text/plain": [
       "sum       266.0\n",
       "mean       38.0\n",
       "median     30.0\n",
       "min        12.0\n",
       "dtype: float64"
      ]
     },
     "execution_count": 33,
     "metadata": {},
     "output_type": "execute_result"
    }
   ],
   "execution_count": 33
  },
  {
   "metadata": {
    "ExecuteTime": {
     "end_time": "2025-09-09T14:27:26.751621Z",
     "start_time": "2025-09-09T14:27:26.746377Z"
    }
   },
   "cell_type": "code",
   "source": "series.agg(lambda s: s.max() - s.min())",
   "id": "bb2b4bbe21bb7f0e",
   "outputs": [
    {
     "data": {
      "text/plain": [
       "np.float64(78.0)"
      ]
     },
     "execution_count": 34,
     "metadata": {},
     "output_type": "execute_result"
    }
   ],
   "execution_count": 34
  },
  {
   "metadata": {
    "ExecuteTime": {
     "end_time": "2025-09-09T14:27:50.858984Z",
     "start_time": "2025-09-09T14:27:50.853985Z"
    }
   },
   "cell_type": "code",
   "source": "series.agg(lambda s: s.sum() - s.mean())",
   "id": "55a0b4a3308d02a6",
   "outputs": [
    {
     "data": {
      "text/plain": [
       "np.float64(228.0)"
      ]
     },
     "execution_count": 36,
     "metadata": {},
     "output_type": "execute_result"
    }
   ],
   "execution_count": 36
  },
  {
   "metadata": {
    "ExecuteTime": {
     "end_time": "2025-09-09T14:27:59.233605Z",
     "start_time": "2025-09-09T14:27:59.227316Z"
    }
   },
   "cell_type": "code",
   "source": "series.agg(lambda s: s.sum() - s.mode())",
   "id": "2727d1b8dc6eb55c",
   "outputs": [
    {
     "data": {
      "text/plain": [
       "0    254.0\n",
       "dtype: float64"
      ]
     },
     "execution_count": 37,
     "metadata": {},
     "output_type": "execute_result"
    }
   ],
   "execution_count": 37
  },
  {
   "metadata": {
    "ExecuteTime": {
     "end_time": "2025-09-09T14:28:18.440196Z",
     "start_time": "2025-09-09T14:28:18.434289Z"
    }
   },
   "cell_type": "code",
   "source": "series.agg(lambda s: s.sum() - s.cumsum())",
   "id": "1ca16254a5627631",
   "outputs": [
    {
     "data": {
      "text/plain": [
       "0    254.0\n",
       "1    242.0\n",
       "2    219.0\n",
       "3      NaN\n",
       "4    165.0\n",
       "5    135.0\n",
       "6     90.0\n",
       "7      0.0\n",
       "8      NaN\n",
       "dtype: float64"
      ]
     },
     "execution_count": 38,
     "metadata": {},
     "output_type": "execute_result"
    }
   ],
   "execution_count": 38
  },
  {
   "metadata": {},
   "cell_type": "code",
   "outputs": [],
   "execution_count": null,
   "source": "",
   "id": "afe8829eec5e2ac1"
  }
 ],
 "metadata": {
  "kernelspec": {
   "display_name": "Python 3",
   "language": "python",
   "name": "python3"
  },
  "language_info": {
   "codemirror_mode": {
    "name": "ipython",
    "version": 2
   },
   "file_extension": ".py",
   "mimetype": "text/x-python",
   "name": "python",
   "nbconvert_exporter": "python",
   "pygments_lexer": "ipython2",
   "version": "2.7.6"
  }
 },
 "nbformat": 4,
 "nbformat_minor": 5
}
