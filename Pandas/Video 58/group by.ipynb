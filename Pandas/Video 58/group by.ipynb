{
 "cells": [
  {
   "cell_type": "code",
   "id": "initial_id",
   "metadata": {
    "collapsed": true,
    "ExecuteTime": {
     "end_time": "2025-09-09T14:08:21.112529Z",
     "start_time": "2025-09-09T14:08:20.108026Z"
    }
   },
   "source": [
    "import pandas as pd\n",
    "series = pd.Series([12 , 34 , 21 , 56 , 33 , 43])\n",
    "series"
   ],
   "outputs": [
    {
     "data": {
      "text/plain": [
       "0    12\n",
       "1    34\n",
       "2    21\n",
       "3    56\n",
       "4    33\n",
       "5    43\n",
       "dtype: int64"
      ]
     },
     "execution_count": 1,
     "metadata": {},
     "output_type": "execute_result"
    }
   ],
   "execution_count": 1
  },
  {
   "metadata": {
    "ExecuteTime": {
     "end_time": "2025-09-09T14:08:21.162089Z",
     "start_time": "2025-09-09T14:08:21.156534Z"
    }
   },
   "cell_type": "code",
   "source": [
    "grp_series = series.groupby(['A' , 'A' , 'A' , 'B' , 'C' , 'C'])\n",
    "grp_series"
   ],
   "id": "4f630efb500fa18d",
   "outputs": [
    {
     "data": {
      "text/plain": [
       "<pandas.core.groupby.generic.SeriesGroupBy object at 0x000001ACFF8ACBC0>"
      ]
     },
     "execution_count": 2,
     "metadata": {},
     "output_type": "execute_result"
    }
   ],
   "execution_count": 2
  },
  {
   "metadata": {
    "ExecuteTime": {
     "end_time": "2025-09-09T14:08:21.470799Z",
     "start_time": "2025-09-09T14:08:21.464116Z"
    }
   },
   "cell_type": "code",
   "source": "grp_series.sum()",
   "id": "3fa6b23f5f2870e0",
   "outputs": [
    {
     "data": {
      "text/plain": [
       "A    67\n",
       "B    56\n",
       "C    76\n",
       "dtype: int64"
      ]
     },
     "execution_count": 3,
     "metadata": {},
     "output_type": "execute_result"
    }
   ],
   "execution_count": 3
  },
  {
   "metadata": {
    "ExecuteTime": {
     "end_time": "2025-09-09T14:08:32.787406Z",
     "start_time": "2025-09-09T14:08:32.781325Z"
    }
   },
   "cell_type": "code",
   "source": "grp_series.count()",
   "id": "9fc5605e729fc178",
   "outputs": [
    {
     "data": {
      "text/plain": [
       "A    3\n",
       "B    1\n",
       "C    2\n",
       "dtype: int64"
      ]
     },
     "execution_count": 4,
     "metadata": {},
     "output_type": "execute_result"
    }
   ],
   "execution_count": 4
  },
  {
   "metadata": {
    "ExecuteTime": {
     "end_time": "2025-09-09T14:08:58.939171Z",
     "start_time": "2025-09-09T14:08:58.933991Z"
    }
   },
   "cell_type": "code",
   "source": "grp_series.mean()",
   "id": "cc4f15dc0081a2dc",
   "outputs": [
    {
     "data": {
      "text/plain": [
       "A    22.333333\n",
       "B    56.000000\n",
       "C    38.000000\n",
       "dtype: float64"
      ]
     },
     "execution_count": 5,
     "metadata": {},
     "output_type": "execute_result"
    }
   ],
   "execution_count": 5
  },
  {
   "metadata": {
    "ExecuteTime": {
     "end_time": "2025-09-09T14:09:35.217998Z",
     "start_time": "2025-09-09T14:09:35.213410Z"
    }
   },
   "cell_type": "code",
   "source": "grp_series.max()",
   "id": "ced4cb2a8364d866",
   "outputs": [
    {
     "data": {
      "text/plain": [
       "A    34\n",
       "B    56\n",
       "C    43\n",
       "dtype: int64"
      ]
     },
     "execution_count": 6,
     "metadata": {},
     "output_type": "execute_result"
    }
   ],
   "execution_count": 6
  },
  {
   "metadata": {
    "ExecuteTime": {
     "end_time": "2025-09-09T14:09:43.683080Z",
     "start_time": "2025-09-09T14:09:43.677518Z"
    }
   },
   "cell_type": "code",
   "source": "grp_series.min()",
   "id": "aa583ac6ef9d4ad9",
   "outputs": [
    {
     "data": {
      "text/plain": [
       "A    12\n",
       "B    56\n",
       "C    33\n",
       "dtype: int64"
      ]
     },
     "execution_count": 7,
     "metadata": {},
     "output_type": "execute_result"
    }
   ],
   "execution_count": 7
  },
  {
   "metadata": {
    "ExecuteTime": {
     "end_time": "2025-09-09T14:10:35.422691Z",
     "start_time": "2025-09-09T14:10:35.415280Z"
    }
   },
   "cell_type": "code",
   "source": "grp_series.filter(lambda gs : gs.sum() > 60)",
   "id": "bc01c1c73319fe72",
   "outputs": [
    {
     "data": {
      "text/plain": [
       "0    12\n",
       "1    34\n",
       "2    21\n",
       "4    33\n",
       "5    43\n",
       "dtype: int64"
      ]
     },
     "execution_count": 8,
     "metadata": {},
     "output_type": "execute_result"
    }
   ],
   "execution_count": 8
  },
  {
   "metadata": {
    "ExecuteTime": {
     "end_time": "2025-09-09T14:12:37.281039Z",
     "start_time": "2025-09-09T14:12:37.276013Z"
    }
   },
   "cell_type": "code",
   "source": [
    "for group_name , group_elements in grp_series :\n",
    "    print(f'{group_name} : {group_elements}')"
   ],
   "id": "20759620d0bafc58",
   "outputs": [
    {
     "name": "stdout",
     "output_type": "stream",
     "text": [
      "A : 0    12\n",
      "1    34\n",
      "2    21\n",
      "dtype: int64\n",
      "B : 3    56\n",
      "dtype: int64\n",
      "C : 4    33\n",
      "5    43\n",
      "dtype: int64\n"
     ]
    }
   ],
   "execution_count": 9
  },
  {
   "metadata": {
    "ExecuteTime": {
     "end_time": "2025-09-09T14:13:14.833395Z",
     "start_time": "2025-09-09T14:13:14.828933Z"
    }
   },
   "cell_type": "code",
   "source": [
    "for group_name , group_elements in grp_series :\n",
    "    print(f'group_name : {group_name} ')\n",
    "    print(group_elements)"
   ],
   "id": "69b1f623aa14b944",
   "outputs": [
    {
     "name": "stdout",
     "output_type": "stream",
     "text": [
      "group_name : A \n",
      "0    12\n",
      "1    34\n",
      "2    21\n",
      "dtype: int64\n",
      "group_name : B \n",
      "3    56\n",
      "dtype: int64\n",
      "group_name : C \n",
      "4    33\n",
      "5    43\n",
      "dtype: int64\n"
     ]
    }
   ],
   "execution_count": 10
  },
  {
   "metadata": {},
   "cell_type": "code",
   "outputs": [],
   "execution_count": null,
   "source": "",
   "id": "b090135e3b717cca"
  }
 ],
 "metadata": {
  "kernelspec": {
   "display_name": "Python 3",
   "language": "python",
   "name": "python3"
  },
  "language_info": {
   "codemirror_mode": {
    "name": "ipython",
    "version": 2
   },
   "file_extension": ".py",
   "mimetype": "text/x-python",
   "name": "python",
   "nbconvert_exporter": "python",
   "pygments_lexer": "ipython2",
   "version": "2.7.6"
  }
 },
 "nbformat": 4,
 "nbformat_minor": 5
}
