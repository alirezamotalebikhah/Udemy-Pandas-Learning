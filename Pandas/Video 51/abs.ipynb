{
 "cells": [
  {
   "cell_type": "code",
   "id": "initial_id",
   "metadata": {
    "collapsed": true,
    "ExecuteTime": {
     "end_time": "2025-09-06T09:53:08.248129Z",
     "start_time": "2025-09-06T09:53:07.192151Z"
    }
   },
   "source": [
    "import pandas as pd\n",
    "series = pd.Series([12 , -98 , 3 , -2 , -24])\n",
    "series"
   ],
   "outputs": [
    {
     "data": {
      "text/plain": [
       "0    12\n",
       "1   -98\n",
       "2     3\n",
       "3    -2\n",
       "4   -24\n",
       "dtype: int64"
      ]
     },
     "execution_count": 1,
     "metadata": {},
     "output_type": "execute_result"
    }
   ],
   "execution_count": 1
  },
  {
   "metadata": {
    "ExecuteTime": {
     "end_time": "2025-09-06T09:59:22.619888Z",
     "start_time": "2025-09-06T09:59:22.613890Z"
    }
   },
   "cell_type": "code",
   "source": "series.abs()",
   "id": "c0747a9a7d76dbd5",
   "outputs": [
    {
     "data": {
      "text/plain": [
       "0    12\n",
       "1    98\n",
       "2     3\n",
       "3     2\n",
       "4    24\n",
       "dtype: int64"
      ]
     },
     "execution_count": 2,
     "metadata": {},
     "output_type": "execute_result"
    }
   ],
   "execution_count": 2
  },
  {
   "metadata": {
    "ExecuteTime": {
     "end_time": "2025-09-06T10:00:37.331803Z",
     "start_time": "2025-09-06T10:00:37.328415Z"
    }
   },
   "cell_type": "code",
   "source": "series = pd.Series([23.56772 , 89 , 21223 , 2.8983493 , 0.9837 , 0.234])",
   "id": "ece2fd2f98aefb5f",
   "outputs": [],
   "execution_count": 3
  },
  {
   "metadata": {
    "ExecuteTime": {
     "end_time": "2025-09-06T10:00:39.663318Z",
     "start_time": "2025-09-06T10:00:39.657427Z"
    }
   },
   "cell_type": "code",
   "source": "series",
   "id": "a6ede9e2e3f6980a",
   "outputs": [
    {
     "data": {
      "text/plain": [
       "0       23.567720\n",
       "1       89.000000\n",
       "2    21223.000000\n",
       "3        2.898349\n",
       "4        0.983700\n",
       "5        0.234000\n",
       "dtype: float64"
      ]
     },
     "execution_count": 4,
     "metadata": {},
     "output_type": "execute_result"
    }
   ],
   "execution_count": 4
  },
  {
   "metadata": {
    "ExecuteTime": {
     "end_time": "2025-09-06T10:00:59.241503Z",
     "start_time": "2025-09-06T10:00:59.236797Z"
    }
   },
   "cell_type": "code",
   "source": "series.round()",
   "id": "5ccd9b1170616168",
   "outputs": [
    {
     "data": {
      "text/plain": [
       "0       24.0\n",
       "1       89.0\n",
       "2    21223.0\n",
       "3        3.0\n",
       "4        1.0\n",
       "5        0.0\n",
       "dtype: float64"
      ]
     },
     "execution_count": 5,
     "metadata": {},
     "output_type": "execute_result"
    }
   ],
   "execution_count": 5
  },
  {
   "metadata": {
    "ExecuteTime": {
     "end_time": "2025-09-06T10:03:53.258744Z",
     "start_time": "2025-09-06T10:03:53.254299Z"
    }
   },
   "cell_type": "code",
   "source": "series.round(2)",
   "id": "35b61a49c2ff5a9c",
   "outputs": [
    {
     "data": {
      "text/plain": [
       "0       23.57\n",
       "1       89.00\n",
       "2    21223.00\n",
       "3        2.90\n",
       "4        0.98\n",
       "5        0.23\n",
       "dtype: float64"
      ]
     },
     "execution_count": 6,
     "metadata": {},
     "output_type": "execute_result"
    }
   ],
   "execution_count": 6
  },
  {
   "metadata": {
    "ExecuteTime": {
     "end_time": "2025-09-06T10:06:37.595895Z",
     "start_time": "2025-09-06T10:06:37.590103Z"
    }
   },
   "cell_type": "code",
   "source": [
    "import numpy as np\n",
    "series.apply(np.ceil)"
   ],
   "id": "3503e6aa9ed9e077",
   "outputs": [
    {
     "data": {
      "text/plain": [
       "0       24.0\n",
       "1       89.0\n",
       "2    21223.0\n",
       "3        3.0\n",
       "4        1.0\n",
       "5        1.0\n",
       "dtype: float64"
      ]
     },
     "execution_count": 7,
     "metadata": {},
     "output_type": "execute_result"
    }
   ],
   "execution_count": 7
  },
  {
   "metadata": {
    "ExecuteTime": {
     "end_time": "2025-09-06T10:07:22.565233Z",
     "start_time": "2025-09-06T10:07:22.559981Z"
    }
   },
   "cell_type": "code",
   "source": "series.apply(np.floor)",
   "id": "e149aefbf05c4c2e",
   "outputs": [
    {
     "data": {
      "text/plain": [
       "0       23.0\n",
       "1       89.0\n",
       "2    21223.0\n",
       "3        2.0\n",
       "4        0.0\n",
       "5        0.0\n",
       "dtype: float64"
      ]
     },
     "execution_count": 8,
     "metadata": {},
     "output_type": "execute_result"
    }
   ],
   "execution_count": 8
  },
  {
   "metadata": {},
   "cell_type": "code",
   "outputs": [],
   "execution_count": null,
   "source": "",
   "id": "3d6d3c8631ea1e91"
  }
 ],
 "metadata": {
  "kernelspec": {
   "display_name": "Python 3",
   "language": "python",
   "name": "python3"
  },
  "language_info": {
   "codemirror_mode": {
    "name": "ipython",
    "version": 2
   },
   "file_extension": ".py",
   "mimetype": "text/x-python",
   "name": "python",
   "nbconvert_exporter": "python",
   "pygments_lexer": "ipython2",
   "version": "2.7.6"
  }
 },
 "nbformat": 4,
 "nbformat_minor": 5
}
