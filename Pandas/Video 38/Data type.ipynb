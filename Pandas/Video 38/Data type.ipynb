{
 "cells": [
  {
   "cell_type": "code",
   "id": "initial_id",
   "metadata": {
    "collapsed": true,
    "ExecuteTime": {
     "end_time": "2025-08-28T10:33:57.865847Z",
     "start_time": "2025-08-28T10:33:57.862876Z"
    }
   },
   "source": "import pandas as pd\n",
   "outputs": [],
   "execution_count": 13
  },
  {
   "metadata": {
    "ExecuteTime": {
     "end_time": "2025-08-28T10:33:59.200801Z",
     "start_time": "2025-08-28T10:33:59.195953Z"
    }
   },
   "cell_type": "code",
   "source": [
    "integer_series = pd.Series([1,2,3,4])\n",
    "integer_series"
   ],
   "id": "d05cb9273ef498c",
   "outputs": [
    {
     "data": {
      "text/plain": [
       "0    1\n",
       "1    2\n",
       "2    3\n",
       "3    4\n",
       "dtype: int64"
      ]
     },
     "execution_count": 14,
     "metadata": {},
     "output_type": "execute_result"
    }
   ],
   "execution_count": 14
  },
  {
   "metadata": {
    "ExecuteTime": {
     "end_time": "2025-08-28T10:34:00.513658Z",
     "start_time": "2025-08-28T10:34:00.508722Z"
    }
   },
   "cell_type": "code",
   "source": [
    "integer_series = pd.Series([1,2,3,4],dtype='int32')\n",
    "integer_series"
   ],
   "id": "18c7beaff29adf65",
   "outputs": [
    {
     "data": {
      "text/plain": [
       "0    1\n",
       "1    2\n",
       "2    3\n",
       "3    4\n",
       "dtype: int32"
      ]
     },
     "execution_count": 15,
     "metadata": {},
     "output_type": "execute_result"
    }
   ],
   "execution_count": 15
  },
  {
   "metadata": {
    "ExecuteTime": {
     "end_time": "2025-08-28T10:34:05.125660Z",
     "start_time": "2025-08-28T10:34:05.121026Z"
    }
   },
   "cell_type": "code",
   "source": "integer_series.dtype",
   "id": "27acd17e94879a4d",
   "outputs": [
    {
     "data": {
      "text/plain": [
       "dtype('int32')"
      ]
     },
     "execution_count": 16,
     "metadata": {},
     "output_type": "execute_result"
    }
   ],
   "execution_count": 16
  },
  {
   "metadata": {
    "ExecuteTime": {
     "end_time": "2025-08-28T10:34:06.544413Z",
     "start_time": "2025-08-28T10:34:06.537903Z"
    }
   },
   "cell_type": "code",
   "source": [
    "float_series = pd.Series([1,2,3.11,4.0])\n",
    "float_series"
   ],
   "id": "71dd02c10f65b32c",
   "outputs": [
    {
     "data": {
      "text/plain": [
       "0    1.00\n",
       "1    2.00\n",
       "2    3.11\n",
       "3    4.00\n",
       "dtype: float64"
      ]
     },
     "execution_count": 17,
     "metadata": {},
     "output_type": "execute_result"
    }
   ],
   "execution_count": 17
  },
  {
   "metadata": {
    "ExecuteTime": {
     "end_time": "2025-08-28T10:34:08.420878Z",
     "start_time": "2025-08-28T10:34:08.413716Z"
    }
   },
   "cell_type": "code",
   "source": [
    "float_series = pd.Series([1,2,3.11,4.0] , dtype='float32')\n",
    "float_series"
   ],
   "id": "3eb2fc5f5ab5a640",
   "outputs": [
    {
     "data": {
      "text/plain": [
       "0    1.00\n",
       "1    2.00\n",
       "2    3.11\n",
       "3    4.00\n",
       "dtype: float32"
      ]
     },
     "execution_count": 18,
     "metadata": {},
     "output_type": "execute_result"
    }
   ],
   "execution_count": 18
  },
  {
   "metadata": {
    "ExecuteTime": {
     "end_time": "2025-08-28T10:34:10.073196Z",
     "start_time": "2025-08-28T10:34:10.070113Z"
    }
   },
   "cell_type": "code",
   "source": "string_series = pd.Series(['usa' ,'uk','poland'])",
   "id": "1f59a33f97df6538",
   "outputs": [],
   "execution_count": 19
  },
  {
   "metadata": {
    "ExecuteTime": {
     "end_time": "2025-08-28T10:34:11.152776Z",
     "start_time": "2025-08-28T10:34:11.146639Z"
    }
   },
   "cell_type": "code",
   "source": "string_series",
   "id": "d2073658d9d1b8ee",
   "outputs": [
    {
     "data": {
      "text/plain": [
       "0       usa\n",
       "1        uk\n",
       "2    poland\n",
       "dtype: object"
      ]
     },
     "execution_count": 20,
     "metadata": {},
     "output_type": "execute_result"
    }
   ],
   "execution_count": 20
  },
  {
   "metadata": {
    "ExecuteTime": {
     "end_time": "2025-08-28T10:34:12.722740Z",
     "start_time": "2025-08-28T10:34:12.716904Z"
    }
   },
   "cell_type": "code",
   "source": [
    "string_series= pd.Series(['usa' ,'uk','poland'] , dtype='string')\n",
    "string_series"
   ],
   "id": "37c03292634b6caa",
   "outputs": [
    {
     "data": {
      "text/plain": [
       "0       usa\n",
       "1        uk\n",
       "2    poland\n",
       "dtype: string"
      ]
     },
     "execution_count": 21,
     "metadata": {},
     "output_type": "execute_result"
    }
   ],
   "execution_count": 21
  },
  {
   "metadata": {
    "ExecuteTime": {
     "end_time": "2025-08-28T10:34:14.346867Z",
     "start_time": "2025-08-28T10:34:14.341209Z"
    }
   },
   "cell_type": "code",
   "source": [
    "boolean_series = pd.Series([True,False,True])\n",
    "boolean_series"
   ],
   "id": "5087031d9e1e7b64",
   "outputs": [
    {
     "data": {
      "text/plain": [
       "0     True\n",
       "1    False\n",
       "2     True\n",
       "dtype: bool"
      ]
     },
     "execution_count": 22,
     "metadata": {},
     "output_type": "execute_result"
    }
   ],
   "execution_count": 22
  },
  {
   "metadata": {
    "ExecuteTime": {
     "end_time": "2025-08-28T10:34:54.259810Z",
     "start_time": "2025-08-28T10:34:54.254297Z"
    }
   },
   "cell_type": "code",
   "source": "datetime_series=pd.Series(pd.date_range(\"2025-12-26\", periods=5))",
   "id": "700716d24c57135d",
   "outputs": [],
   "execution_count": 23
  },
  {
   "metadata": {
    "ExecuteTime": {
     "end_time": "2025-08-28T10:34:57.854164Z",
     "start_time": "2025-08-28T10:34:57.848174Z"
    }
   },
   "cell_type": "code",
   "source": "datetime_series",
   "id": "f4f6d9fe4cecf32",
   "outputs": [
    {
     "data": {
      "text/plain": [
       "0   2025-12-26\n",
       "1   2025-12-27\n",
       "2   2025-12-28\n",
       "3   2025-12-29\n",
       "4   2025-12-30\n",
       "dtype: datetime64[ns]"
      ]
     },
     "execution_count": 24,
     "metadata": {},
     "output_type": "execute_result"
    }
   ],
   "execution_count": 24
  },
  {
   "metadata": {
    "ExecuteTime": {
     "end_time": "2025-08-28T10:36:51.761601Z",
     "start_time": "2025-08-28T10:36:51.756294Z"
    }
   },
   "cell_type": "code",
   "source": [
    "datetime_series=pd.Series(pd.date_range(\"2025-12-26\", periods=5) , dtype='datetime64[ns]')\n",
    "datetime_series"
   ],
   "id": "49285fe90c76f392",
   "outputs": [
    {
     "data": {
      "text/plain": [
       "0   2025-12-26\n",
       "1   2025-12-27\n",
       "2   2025-12-28\n",
       "3   2025-12-29\n",
       "4   2025-12-30\n",
       "dtype: datetime64[ns]"
      ]
     },
     "execution_count": 30,
     "metadata": {},
     "output_type": "execute_result"
    }
   ],
   "execution_count": 30
  },
  {
   "metadata": {
    "ExecuteTime": {
     "end_time": "2025-08-28T10:37:32.721805Z",
     "start_time": "2025-08-28T10:37:32.717806Z"
    }
   },
   "cell_type": "code",
   "source": "mixed_series = pd.Series([\"Lofor\" , 1 , 2.0 , True])",
   "id": "d1eb0470465cfecf",
   "outputs": [],
   "execution_count": 31
  },
  {
   "metadata": {
    "ExecuteTime": {
     "end_time": "2025-08-28T10:37:35.690869Z",
     "start_time": "2025-08-28T10:37:35.686358Z"
    }
   },
   "cell_type": "code",
   "source": "mixed_series",
   "id": "68f95c2d8dbc9fbf",
   "outputs": [
    {
     "data": {
      "text/plain": [
       "0    Lofor\n",
       "1        1\n",
       "2      2.0\n",
       "3     True\n",
       "dtype: object"
      ]
     },
     "execution_count": 32,
     "metadata": {},
     "output_type": "execute_result"
    }
   ],
   "execution_count": 32
  },
  {
   "metadata": {
    "ExecuteTime": {
     "end_time": "2025-08-28T10:38:03.205967Z",
     "start_time": "2025-08-28T10:38:03.201766Z"
    }
   },
   "cell_type": "code",
   "source": "integer_series",
   "id": "38ce591fac910c22",
   "outputs": [
    {
     "data": {
      "text/plain": [
       "0    1\n",
       "1    2\n",
       "2    3\n",
       "3    4\n",
       "dtype: int32"
      ]
     },
     "execution_count": 33,
     "metadata": {},
     "output_type": "execute_result"
    }
   ],
   "execution_count": 33
  },
  {
   "metadata": {
    "ExecuteTime": {
     "end_time": "2025-08-28T10:38:16.252412Z",
     "start_time": "2025-08-28T10:38:16.247864Z"
    }
   },
   "cell_type": "code",
   "source": "integer_series.astype(\"int64\")",
   "id": "11710e11a41cc39a",
   "outputs": [
    {
     "data": {
      "text/plain": [
       "0    1\n",
       "1    2\n",
       "2    3\n",
       "3    4\n",
       "dtype: int64"
      ]
     },
     "execution_count": 34,
     "metadata": {},
     "output_type": "execute_result"
    }
   ],
   "execution_count": 34
  },
  {
   "metadata": {
    "ExecuteTime": {
     "end_time": "2025-08-28T10:38:31.052997Z",
     "start_time": "2025-08-28T10:38:31.047634Z"
    }
   },
   "cell_type": "code",
   "source": "integer_series.astype(\"float32\")",
   "id": "1d91ef48ce21a5c8",
   "outputs": [
    {
     "data": {
      "text/plain": [
       "0    1.0\n",
       "1    2.0\n",
       "2    3.0\n",
       "3    4.0\n",
       "dtype: float32"
      ]
     },
     "execution_count": 35,
     "metadata": {},
     "output_type": "execute_result"
    }
   ],
   "execution_count": 35
  },
  {
   "metadata": {
    "ExecuteTime": {
     "end_time": "2025-08-28T10:38:46.713147Z",
     "start_time": "2025-08-28T10:38:46.708616Z"
    }
   },
   "cell_type": "code",
   "source": "integer_series.astype(\"string\")",
   "id": "575d94931d89b51",
   "outputs": [
    {
     "data": {
      "text/plain": [
       "0    1\n",
       "1    2\n",
       "2    3\n",
       "3    4\n",
       "dtype: string"
      ]
     },
     "execution_count": 36,
     "metadata": {},
     "output_type": "execute_result"
    }
   ],
   "execution_count": 36
  },
  {
   "metadata": {},
   "cell_type": "code",
   "outputs": [],
   "execution_count": null,
   "source": "",
   "id": "eabdd3c49098c1ec"
  }
 ],
 "metadata": {
  "kernelspec": {
   "display_name": "Python 3",
   "language": "python",
   "name": "python3"
  },
  "language_info": {
   "codemirror_mode": {
    "name": "ipython",
    "version": 2
   },
   "file_extension": ".py",
   "mimetype": "text/x-python",
   "name": "python",
   "nbconvert_exporter": "python",
   "pygments_lexer": "ipython2",
   "version": "2.7.6"
  }
 },
 "nbformat": 4,
 "nbformat_minor": 5
}
