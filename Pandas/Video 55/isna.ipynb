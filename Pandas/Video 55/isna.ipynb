{
 "cells": [
  {
   "cell_type": "code",
   "id": "initial_id",
   "metadata": {
    "collapsed": true,
    "ExecuteTime": {
     "end_time": "2025-09-09T10:01:35.103931Z",
     "start_time": "2025-09-09T10:01:35.077309Z"
    }
   },
   "source": [
    "import pandas as pd\n",
    "employees = pd.read_csv('Employee.csv')\n",
    "employees"
   ],
   "outputs": [
    {
     "data": {
      "text/plain": [
       "      Education  JoiningYear       City  PaymentTier  Age  Gender EverBenched  \\\n",
       "0     Bachelors         2017  Bangalore            3   34    Male          No   \n",
       "1     Bachelors         2013       Pune            1   28  Female          No   \n",
       "2     Bachelors         2014  New Delhi            3   38  Female          No   \n",
       "3       Masters         2016  Bangalore            3   27    Male          No   \n",
       "4       Masters         2017       Pune            3   24    Male         Yes   \n",
       "...         ...          ...        ...          ...  ...     ...         ...   \n",
       "4648  Bachelors         2013  Bangalore            3   26  Female          No   \n",
       "4649    Masters         2013       Pune            2   37    Male          No   \n",
       "4650    Masters         2018  New Delhi            3   27    Male          No   \n",
       "4651  Bachelors         2012  Bangalore            3   30    Male         Yes   \n",
       "4652  Bachelors         2015  Bangalore            3   33    Male         Yes   \n",
       "\n",
       "      ExperienceInCurrentDomain  LeaveOrNot  \n",
       "0                             0           0  \n",
       "1                             3           1  \n",
       "2                             2           0  \n",
       "3                             5           1  \n",
       "4                             2           1  \n",
       "...                         ...         ...  \n",
       "4648                          4           0  \n",
       "4649                          2           1  \n",
       "4650                          5           1  \n",
       "4651                          2           0  \n",
       "4652                          4           0  \n",
       "\n",
       "[4653 rows x 9 columns]"
      ],
      "text/html": [
       "<div>\n",
       "<style scoped>\n",
       "    .dataframe tbody tr th:only-of-type {\n",
       "        vertical-align: middle;\n",
       "    }\n",
       "\n",
       "    .dataframe tbody tr th {\n",
       "        vertical-align: top;\n",
       "    }\n",
       "\n",
       "    .dataframe thead th {\n",
       "        text-align: right;\n",
       "    }\n",
       "</style>\n",
       "<table border=\"1\" class=\"dataframe\">\n",
       "  <thead>\n",
       "    <tr style=\"text-align: right;\">\n",
       "      <th></th>\n",
       "      <th>Education</th>\n",
       "      <th>JoiningYear</th>\n",
       "      <th>City</th>\n",
       "      <th>PaymentTier</th>\n",
       "      <th>Age</th>\n",
       "      <th>Gender</th>\n",
       "      <th>EverBenched</th>\n",
       "      <th>ExperienceInCurrentDomain</th>\n",
       "      <th>LeaveOrNot</th>\n",
       "    </tr>\n",
       "  </thead>\n",
       "  <tbody>\n",
       "    <tr>\n",
       "      <th>0</th>\n",
       "      <td>Bachelors</td>\n",
       "      <td>2017</td>\n",
       "      <td>Bangalore</td>\n",
       "      <td>3</td>\n",
       "      <td>34</td>\n",
       "      <td>Male</td>\n",
       "      <td>No</td>\n",
       "      <td>0</td>\n",
       "      <td>0</td>\n",
       "    </tr>\n",
       "    <tr>\n",
       "      <th>1</th>\n",
       "      <td>Bachelors</td>\n",
       "      <td>2013</td>\n",
       "      <td>Pune</td>\n",
       "      <td>1</td>\n",
       "      <td>28</td>\n",
       "      <td>Female</td>\n",
       "      <td>No</td>\n",
       "      <td>3</td>\n",
       "      <td>1</td>\n",
       "    </tr>\n",
       "    <tr>\n",
       "      <th>2</th>\n",
       "      <td>Bachelors</td>\n",
       "      <td>2014</td>\n",
       "      <td>New Delhi</td>\n",
       "      <td>3</td>\n",
       "      <td>38</td>\n",
       "      <td>Female</td>\n",
       "      <td>No</td>\n",
       "      <td>2</td>\n",
       "      <td>0</td>\n",
       "    </tr>\n",
       "    <tr>\n",
       "      <th>3</th>\n",
       "      <td>Masters</td>\n",
       "      <td>2016</td>\n",
       "      <td>Bangalore</td>\n",
       "      <td>3</td>\n",
       "      <td>27</td>\n",
       "      <td>Male</td>\n",
       "      <td>No</td>\n",
       "      <td>5</td>\n",
       "      <td>1</td>\n",
       "    </tr>\n",
       "    <tr>\n",
       "      <th>4</th>\n",
       "      <td>Masters</td>\n",
       "      <td>2017</td>\n",
       "      <td>Pune</td>\n",
       "      <td>3</td>\n",
       "      <td>24</td>\n",
       "      <td>Male</td>\n",
       "      <td>Yes</td>\n",
       "      <td>2</td>\n",
       "      <td>1</td>\n",
       "    </tr>\n",
       "    <tr>\n",
       "      <th>...</th>\n",
       "      <td>...</td>\n",
       "      <td>...</td>\n",
       "      <td>...</td>\n",
       "      <td>...</td>\n",
       "      <td>...</td>\n",
       "      <td>...</td>\n",
       "      <td>...</td>\n",
       "      <td>...</td>\n",
       "      <td>...</td>\n",
       "    </tr>\n",
       "    <tr>\n",
       "      <th>4648</th>\n",
       "      <td>Bachelors</td>\n",
       "      <td>2013</td>\n",
       "      <td>Bangalore</td>\n",
       "      <td>3</td>\n",
       "      <td>26</td>\n",
       "      <td>Female</td>\n",
       "      <td>No</td>\n",
       "      <td>4</td>\n",
       "      <td>0</td>\n",
       "    </tr>\n",
       "    <tr>\n",
       "      <th>4649</th>\n",
       "      <td>Masters</td>\n",
       "      <td>2013</td>\n",
       "      <td>Pune</td>\n",
       "      <td>2</td>\n",
       "      <td>37</td>\n",
       "      <td>Male</td>\n",
       "      <td>No</td>\n",
       "      <td>2</td>\n",
       "      <td>1</td>\n",
       "    </tr>\n",
       "    <tr>\n",
       "      <th>4650</th>\n",
       "      <td>Masters</td>\n",
       "      <td>2018</td>\n",
       "      <td>New Delhi</td>\n",
       "      <td>3</td>\n",
       "      <td>27</td>\n",
       "      <td>Male</td>\n",
       "      <td>No</td>\n",
       "      <td>5</td>\n",
       "      <td>1</td>\n",
       "    </tr>\n",
       "    <tr>\n",
       "      <th>4651</th>\n",
       "      <td>Bachelors</td>\n",
       "      <td>2012</td>\n",
       "      <td>Bangalore</td>\n",
       "      <td>3</td>\n",
       "      <td>30</td>\n",
       "      <td>Male</td>\n",
       "      <td>Yes</td>\n",
       "      <td>2</td>\n",
       "      <td>0</td>\n",
       "    </tr>\n",
       "    <tr>\n",
       "      <th>4652</th>\n",
       "      <td>Bachelors</td>\n",
       "      <td>2015</td>\n",
       "      <td>Bangalore</td>\n",
       "      <td>3</td>\n",
       "      <td>33</td>\n",
       "      <td>Male</td>\n",
       "      <td>Yes</td>\n",
       "      <td>4</td>\n",
       "      <td>0</td>\n",
       "    </tr>\n",
       "  </tbody>\n",
       "</table>\n",
       "<p>4653 rows × 9 columns</p>\n",
       "</div>"
      ]
     },
     "execution_count": 2,
     "metadata": {},
     "output_type": "execute_result"
    }
   ],
   "execution_count": 2
  },
  {
   "metadata": {
    "ExecuteTime": {
     "end_time": "2025-09-09T10:02:20.531057Z",
     "start_time": "2025-09-09T10:02:20.524259Z"
    }
   },
   "cell_type": "code",
   "source": [
    "emp = employees['City']\n",
    "emp"
   ],
   "id": "8b9721feca008307",
   "outputs": [
    {
     "data": {
      "text/plain": [
       "0       Bangalore\n",
       "1            Pune\n",
       "2       New Delhi\n",
       "3       Bangalore\n",
       "4            Pune\n",
       "          ...    \n",
       "4648    Bangalore\n",
       "4649         Pune\n",
       "4650    New Delhi\n",
       "4651    Bangalore\n",
       "4652    Bangalore\n",
       "Name: City, Length: 4653, dtype: object"
      ]
     },
     "execution_count": 3,
     "metadata": {},
     "output_type": "execute_result"
    }
   ],
   "execution_count": 3
  },
  {
   "metadata": {
    "ExecuteTime": {
     "end_time": "2025-09-09T10:02:42.207080Z",
     "start_time": "2025-09-09T10:02:42.202087Z"
    }
   },
   "cell_type": "code",
   "source": "emp.isna()",
   "id": "24e4f7e5354653bc",
   "outputs": [
    {
     "data": {
      "text/plain": [
       "0       False\n",
       "1       False\n",
       "2       False\n",
       "3       False\n",
       "4       False\n",
       "        ...  \n",
       "4648    False\n",
       "4649    False\n",
       "4650    False\n",
       "4651    False\n",
       "4652    False\n",
       "Name: City, Length: 4653, dtype: bool"
      ]
     },
     "execution_count": 4,
     "metadata": {},
     "output_type": "execute_result"
    }
   ],
   "execution_count": 4
  },
  {
   "metadata": {
    "ExecuteTime": {
     "end_time": "2025-09-09T10:03:26.130153Z",
     "start_time": "2025-09-09T10:03:26.125952Z"
    }
   },
   "cell_type": "code",
   "source": "emp[emp.isna()]",
   "id": "f8e453cb1f418ea2",
   "outputs": [
    {
     "data": {
      "text/plain": [
       "Series([], Name: City, dtype: object)"
      ]
     },
     "execution_count": 5,
     "metadata": {},
     "output_type": "execute_result"
    }
   ],
   "execution_count": 5
  },
  {
   "metadata": {
    "ExecuteTime": {
     "end_time": "2025-09-09T10:04:07.049148Z",
     "start_time": "2025-09-09T10:04:07.044247Z"
    }
   },
   "cell_type": "code",
   "source": "emp.isna().sum()",
   "id": "9b56bdeb5540cc7f",
   "outputs": [
    {
     "data": {
      "text/plain": [
       "np.int64(0)"
      ]
     },
     "execution_count": 6,
     "metadata": {},
     "output_type": "execute_result"
    }
   ],
   "execution_count": 6
  },
  {
   "metadata": {
    "ExecuteTime": {
     "end_time": "2025-09-09T10:05:37.420107Z",
     "start_time": "2025-09-09T10:05:37.414626Z"
    }
   },
   "cell_type": "code",
   "source": "emp[~emp.isna()]",
   "id": "50e8a1690f04d988",
   "outputs": [
    {
     "data": {
      "text/plain": [
       "0       Bangalore\n",
       "1            Pune\n",
       "2       New Delhi\n",
       "3       Bangalore\n",
       "4            Pune\n",
       "          ...    \n",
       "4648    Bangalore\n",
       "4649         Pune\n",
       "4650    New Delhi\n",
       "4651    Bangalore\n",
       "4652    Bangalore\n",
       "Name: City, Length: 4653, dtype: object"
      ]
     },
     "execution_count": 7,
     "metadata": {},
     "output_type": "execute_result"
    }
   ],
   "execution_count": 7
  },
  {
   "metadata": {
    "ExecuteTime": {
     "end_time": "2025-09-09T10:06:01.427909Z",
     "start_time": "2025-09-09T10:06:01.422690Z"
    }
   },
   "cell_type": "code",
   "source": "emp.isnull()",
   "id": "15f4986aea032aac",
   "outputs": [
    {
     "data": {
      "text/plain": [
       "0       False\n",
       "1       False\n",
       "2       False\n",
       "3       False\n",
       "4       False\n",
       "        ...  \n",
       "4648    False\n",
       "4649    False\n",
       "4650    False\n",
       "4651    False\n",
       "4652    False\n",
       "Name: City, Length: 4653, dtype: bool"
      ]
     },
     "execution_count": 8,
     "metadata": {},
     "output_type": "execute_result"
    }
   ],
   "execution_count": 8
  },
  {
   "metadata": {
    "ExecuteTime": {
     "end_time": "2025-09-09T10:06:16.851942Z",
     "start_time": "2025-09-09T10:06:16.848116Z"
    }
   },
   "cell_type": "code",
   "source": "emp[emp.isnull()]",
   "id": "153e6d0ed8e7ffc2",
   "outputs": [
    {
     "data": {
      "text/plain": [
       "Series([], Name: City, dtype: object)"
      ]
     },
     "execution_count": 9,
     "metadata": {},
     "output_type": "execute_result"
    }
   ],
   "execution_count": 9
  },
  {
   "metadata": {
    "ExecuteTime": {
     "end_time": "2025-09-09T10:06:28.054721Z",
     "start_time": "2025-09-09T10:06:28.051049Z"
    }
   },
   "cell_type": "code",
   "source": "emp.isnull().sum()",
   "id": "7681724b40a4abb9",
   "outputs": [
    {
     "data": {
      "text/plain": [
       "np.int64(0)"
      ]
     },
     "execution_count": 10,
     "metadata": {},
     "output_type": "execute_result"
    }
   ],
   "execution_count": 10
  },
  {
   "metadata": {
    "ExecuteTime": {
     "end_time": "2025-09-09T10:06:49.396346Z",
     "start_time": "2025-09-09T10:06:49.390706Z"
    }
   },
   "cell_type": "code",
   "source": "emp[~emp.isnull()]",
   "id": "efd5adb47d645245",
   "outputs": [
    {
     "data": {
      "text/plain": [
       "0       Bangalore\n",
       "1            Pune\n",
       "2       New Delhi\n",
       "3       Bangalore\n",
       "4            Pune\n",
       "          ...    \n",
       "4648    Bangalore\n",
       "4649         Pune\n",
       "4650    New Delhi\n",
       "4651    Bangalore\n",
       "4652    Bangalore\n",
       "Name: City, Length: 4653, dtype: object"
      ]
     },
     "execution_count": 11,
     "metadata": {},
     "output_type": "execute_result"
    }
   ],
   "execution_count": 11
  },
  {
   "metadata": {
    "ExecuteTime": {
     "end_time": "2025-09-09T10:07:34.484938Z",
     "start_time": "2025-09-09T10:07:34.480626Z"
    }
   },
   "cell_type": "code",
   "source": "emp.notna().sum()",
   "id": "10305c19bcb28da0",
   "outputs": [
    {
     "data": {
      "text/plain": [
       "np.int64(4653)"
      ]
     },
     "execution_count": 12,
     "metadata": {},
     "output_type": "execute_result"
    }
   ],
   "execution_count": 12
  },
  {
   "metadata": {
    "ExecuteTime": {
     "end_time": "2025-09-09T10:07:53.951223Z",
     "start_time": "2025-09-09T10:07:53.946028Z"
    }
   },
   "cell_type": "code",
   "source": "emp[emp.notna()]",
   "id": "55ecf247fdb22ede",
   "outputs": [
    {
     "data": {
      "text/plain": [
       "0       Bangalore\n",
       "1            Pune\n",
       "2       New Delhi\n",
       "3       Bangalore\n",
       "4            Pune\n",
       "          ...    \n",
       "4648    Bangalore\n",
       "4649         Pune\n",
       "4650    New Delhi\n",
       "4651    Bangalore\n",
       "4652    Bangalore\n",
       "Name: City, Length: 4653, dtype: object"
      ]
     },
     "execution_count": 13,
     "metadata": {},
     "output_type": "execute_result"
    }
   ],
   "execution_count": 13
  },
  {
   "metadata": {
    "ExecuteTime": {
     "end_time": "2025-09-09T10:08:28.017531Z",
     "start_time": "2025-09-09T10:08:28.013384Z"
    }
   },
   "cell_type": "code",
   "source": "emp[~emp.notna()]",
   "id": "7425b9596537458e",
   "outputs": [
    {
     "data": {
      "text/plain": [
       "Series([], Name: City, dtype: object)"
      ]
     },
     "execution_count": 14,
     "metadata": {},
     "output_type": "execute_result"
    }
   ],
   "execution_count": 14
  },
  {
   "metadata": {
    "ExecuteTime": {
     "end_time": "2025-09-09T10:08:57.401493Z",
     "start_time": "2025-09-09T10:08:57.396918Z"
    }
   },
   "cell_type": "code",
   "source": "emp.notnull().sum()",
   "id": "f0af198ae34182fe",
   "outputs": [
    {
     "data": {
      "text/plain": [
       "np.int64(4653)"
      ]
     },
     "execution_count": 15,
     "metadata": {},
     "output_type": "execute_result"
    }
   ],
   "execution_count": 15
  },
  {
   "metadata": {
    "ExecuteTime": {
     "end_time": "2025-09-09T10:09:07.223729Z",
     "start_time": "2025-09-09T10:09:07.218492Z"
    }
   },
   "cell_type": "code",
   "source": "emp[emp.notnull()]",
   "id": "80680532334815a3",
   "outputs": [
    {
     "data": {
      "text/plain": [
       "0       Bangalore\n",
       "1            Pune\n",
       "2       New Delhi\n",
       "3       Bangalore\n",
       "4            Pune\n",
       "          ...    \n",
       "4648    Bangalore\n",
       "4649         Pune\n",
       "4650    New Delhi\n",
       "4651    Bangalore\n",
       "4652    Bangalore\n",
       "Name: City, Length: 4653, dtype: object"
      ]
     },
     "execution_count": 16,
     "metadata": {},
     "output_type": "execute_result"
    }
   ],
   "execution_count": 16
  },
  {
   "metadata": {
    "ExecuteTime": {
     "end_time": "2025-09-09T10:09:18.525707Z",
     "start_time": "2025-09-09T10:09:18.521199Z"
    }
   },
   "cell_type": "code",
   "source": "emp[~emp.notnull()]",
   "id": "b4d8fae5854f9290",
   "outputs": [
    {
     "data": {
      "text/plain": [
       "Series([], Name: City, dtype: object)"
      ]
     },
     "execution_count": 17,
     "metadata": {},
     "output_type": "execute_result"
    }
   ],
   "execution_count": 17
  },
  {
   "metadata": {},
   "cell_type": "code",
   "outputs": [],
   "execution_count": null,
   "source": "",
   "id": "6b47eb8494d199dd"
  }
 ],
 "metadata": {
  "kernelspec": {
   "display_name": "Python 3",
   "language": "python",
   "name": "python3"
  },
  "language_info": {
   "codemirror_mode": {
    "name": "ipython",
    "version": 2
   },
   "file_extension": ".py",
   "mimetype": "text/x-python",
   "name": "python",
   "nbconvert_exporter": "python",
   "pygments_lexer": "ipython2",
   "version": "2.7.6"
  }
 },
 "nbformat": 4,
 "nbformat_minor": 5
}
