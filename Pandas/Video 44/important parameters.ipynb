{
 "cells": [
  {
   "cell_type": "code",
   "id": "initial_id",
   "metadata": {
    "collapsed": true,
    "ExecuteTime": {
     "end_time": "2025-08-30T07:22:44.798302Z",
     "start_time": "2025-08-30T07:22:44.378433Z"
    }
   },
   "source": [
    "import pandas as pd\n",
    "from statsmodels.sandbox.regression.example_kernridge import index\n",
    "\n",
    "series = pd.Series([1,2,3] , ['a','b','c'])"
   ],
   "outputs": [],
   "execution_count": 1
  },
  {
   "metadata": {
    "ExecuteTime": {
     "end_time": "2025-08-30T07:22:46.898859Z",
     "start_time": "2025-08-30T07:22:46.890856Z"
    }
   },
   "cell_type": "code",
   "source": "series",
   "id": "4d1f3d1e097d55b3",
   "outputs": [
    {
     "data": {
      "text/plain": [
       "a    1\n",
       "b    2\n",
       "c    3\n",
       "dtype: int64"
      ]
     },
     "execution_count": 2,
     "metadata": {},
     "output_type": "execute_result"
    }
   ],
   "execution_count": 2
  },
  {
   "metadata": {
    "ExecuteTime": {
     "end_time": "2025-08-30T07:23:02.075398Z",
     "start_time": "2025-08-30T07:23:02.071035Z"
    }
   },
   "cell_type": "code",
   "source": "series.index",
   "id": "d6a6e13e0e9aeab",
   "outputs": [
    {
     "data": {
      "text/plain": [
       "Index(['a', 'b', 'c'], dtype='object')"
      ]
     },
     "execution_count": 3,
     "metadata": {},
     "output_type": "execute_result"
    }
   ],
   "execution_count": 3
  },
  {
   "metadata": {
    "ExecuteTime": {
     "end_time": "2025-08-30T07:23:44.385544Z",
     "start_time": "2025-08-30T07:23:44.380343Z"
    }
   },
   "cell_type": "code",
   "source": [
    "series = pd.Series(index=[1,2,3] ,data = ['a','b','c'])\n",
    "series"
   ],
   "id": "1b8d451443ed4d46",
   "outputs": [
    {
     "data": {
      "text/plain": [
       "1    a\n",
       "2    b\n",
       "3    c\n",
       "dtype: object"
      ]
     },
     "execution_count": 4,
     "metadata": {},
     "output_type": "execute_result"
    }
   ],
   "execution_count": 4
  },
  {
   "metadata": {
    "ExecuteTime": {
     "end_time": "2025-08-30T07:24:33.279454Z",
     "start_time": "2025-08-30T07:24:33.274720Z"
    }
   },
   "cell_type": "code",
   "source": [
    "series = pd.Series(data=[1,2,3] ,index = ['a','b','c'])\n",
    "series"
   ],
   "id": "8bb37c36bd00d42",
   "outputs": [
    {
     "data": {
      "text/plain": [
       "a    1\n",
       "b    2\n",
       "c    3\n",
       "dtype: int64"
      ]
     },
     "execution_count": 5,
     "metadata": {},
     "output_type": "execute_result"
    }
   ],
   "execution_count": 5
  },
  {
   "metadata": {
    "ExecuteTime": {
     "end_time": "2025-08-30T07:25:59.740746Z",
     "start_time": "2025-08-30T07:25:59.734495Z"
    }
   },
   "cell_type": "code",
   "source": [
    "series = pd.Series(index=[1,2,3] ,data = ['a','b','c'] , dtype='string')\n",
    "series"
   ],
   "id": "b77a1085f5d2f8b4",
   "outputs": [
    {
     "data": {
      "text/plain": [
       "1    a\n",
       "2    b\n",
       "3    c\n",
       "dtype: string"
      ]
     },
     "execution_count": 7,
     "metadata": {},
     "output_type": "execute_result"
    }
   ],
   "execution_count": 7
  },
  {
   "metadata": {
    "ExecuteTime": {
     "end_time": "2025-08-30T07:26:17.502366Z",
     "start_time": "2025-08-30T07:26:17.495636Z"
    }
   },
   "cell_type": "code",
   "source": [
    "series = pd.Series(index=[1,2,3] ,data = ['a','b','c'] , dtype='category')\n",
    "series"
   ],
   "id": "fb91343c683502ce",
   "outputs": [
    {
     "data": {
      "text/plain": [
       "1    a\n",
       "2    b\n",
       "3    c\n",
       "dtype: category\n",
       "Categories (3, object): ['a', 'b', 'c']"
      ]
     },
     "execution_count": 8,
     "metadata": {},
     "output_type": "execute_result"
    }
   ],
   "execution_count": 8
  },
  {
   "metadata": {
    "ExecuteTime": {
     "end_time": "2025-08-30T07:26:41.395124Z",
     "start_time": "2025-08-30T07:26:41.389485Z"
    }
   },
   "cell_type": "code",
   "source": [
    "series = pd.Series(index=[1,2,3] ,data = ['a','b','c'] , dtype='category' , name='Myseries')\n",
    "series"
   ],
   "id": "f60f848eee3515c7",
   "outputs": [
    {
     "data": {
      "text/plain": [
       "1    a\n",
       "2    b\n",
       "3    c\n",
       "Name: Myseries, dtype: category\n",
       "Categories (3, object): ['a', 'b', 'c']"
      ]
     },
     "execution_count": 9,
     "metadata": {},
     "output_type": "execute_result"
    }
   ],
   "execution_count": 9
  },
  {
   "metadata": {
    "ExecuteTime": {
     "end_time": "2025-08-30T07:27:31.901328Z",
     "start_time": "2025-08-30T07:27:31.896455Z"
    }
   },
   "cell_type": "code",
   "source": [
    "series.index.name = 'index'\n",
    "series"
   ],
   "id": "5dbd283f30c8af9e",
   "outputs": [
    {
     "data": {
      "text/plain": [
       "index\n",
       "1    a\n",
       "2    b\n",
       "3    c\n",
       "Name: Myseries, dtype: category\n",
       "Categories (3, object): ['a', 'b', 'c']"
      ]
     },
     "execution_count": 10,
     "metadata": {},
     "output_type": "execute_result"
    }
   ],
   "execution_count": 10
  },
  {
   "metadata": {
    "ExecuteTime": {
     "end_time": "2025-08-30T07:27:55.393420Z",
     "start_time": "2025-08-30T07:27:55.378437Z"
    }
   },
   "cell_type": "code",
   "source": [
    "employee = pd.read_csv('employee.csv')\n",
    "employee"
   ],
   "id": "93d44910945c4607",
   "outputs": [
    {
     "data": {
      "text/plain": [
       "      Education  JoiningYear       City  PaymentTier  Age  Gender EverBenched  \\\n",
       "0     Bachelors         2017  Bangalore            3   34    Male          No   \n",
       "1     Bachelors         2013       Pune            1   28  Female          No   \n",
       "2     Bachelors         2014  New Delhi            3   38  Female          No   \n",
       "3       Masters         2016  Bangalore            3   27    Male          No   \n",
       "4       Masters         2017       Pune            3   24    Male         Yes   \n",
       "...         ...          ...        ...          ...  ...     ...         ...   \n",
       "4648  Bachelors         2013  Bangalore            3   26  Female          No   \n",
       "4649    Masters         2013       Pune            2   37    Male          No   \n",
       "4650    Masters         2018  New Delhi            3   27    Male          No   \n",
       "4651  Bachelors         2012  Bangalore            3   30    Male         Yes   \n",
       "4652  Bachelors         2015  Bangalore            3   33    Male         Yes   \n",
       "\n",
       "      ExperienceInCurrentDomain  LeaveOrNot  \n",
       "0                             0           0  \n",
       "1                             3           1  \n",
       "2                             2           0  \n",
       "3                             5           1  \n",
       "4                             2           1  \n",
       "...                         ...         ...  \n",
       "4648                          4           0  \n",
       "4649                          2           1  \n",
       "4650                          5           1  \n",
       "4651                          2           0  \n",
       "4652                          4           0  \n",
       "\n",
       "[4653 rows x 9 columns]"
      ],
      "text/html": [
       "<div>\n",
       "<style scoped>\n",
       "    .dataframe tbody tr th:only-of-type {\n",
       "        vertical-align: middle;\n",
       "    }\n",
       "\n",
       "    .dataframe tbody tr th {\n",
       "        vertical-align: top;\n",
       "    }\n",
       "\n",
       "    .dataframe thead th {\n",
       "        text-align: right;\n",
       "    }\n",
       "</style>\n",
       "<table border=\"1\" class=\"dataframe\">\n",
       "  <thead>\n",
       "    <tr style=\"text-align: right;\">\n",
       "      <th></th>\n",
       "      <th>Education</th>\n",
       "      <th>JoiningYear</th>\n",
       "      <th>City</th>\n",
       "      <th>PaymentTier</th>\n",
       "      <th>Age</th>\n",
       "      <th>Gender</th>\n",
       "      <th>EverBenched</th>\n",
       "      <th>ExperienceInCurrentDomain</th>\n",
       "      <th>LeaveOrNot</th>\n",
       "    </tr>\n",
       "  </thead>\n",
       "  <tbody>\n",
       "    <tr>\n",
       "      <th>0</th>\n",
       "      <td>Bachelors</td>\n",
       "      <td>2017</td>\n",
       "      <td>Bangalore</td>\n",
       "      <td>3</td>\n",
       "      <td>34</td>\n",
       "      <td>Male</td>\n",
       "      <td>No</td>\n",
       "      <td>0</td>\n",
       "      <td>0</td>\n",
       "    </tr>\n",
       "    <tr>\n",
       "      <th>1</th>\n",
       "      <td>Bachelors</td>\n",
       "      <td>2013</td>\n",
       "      <td>Pune</td>\n",
       "      <td>1</td>\n",
       "      <td>28</td>\n",
       "      <td>Female</td>\n",
       "      <td>No</td>\n",
       "      <td>3</td>\n",
       "      <td>1</td>\n",
       "    </tr>\n",
       "    <tr>\n",
       "      <th>2</th>\n",
       "      <td>Bachelors</td>\n",
       "      <td>2014</td>\n",
       "      <td>New Delhi</td>\n",
       "      <td>3</td>\n",
       "      <td>38</td>\n",
       "      <td>Female</td>\n",
       "      <td>No</td>\n",
       "      <td>2</td>\n",
       "      <td>0</td>\n",
       "    </tr>\n",
       "    <tr>\n",
       "      <th>3</th>\n",
       "      <td>Masters</td>\n",
       "      <td>2016</td>\n",
       "      <td>Bangalore</td>\n",
       "      <td>3</td>\n",
       "      <td>27</td>\n",
       "      <td>Male</td>\n",
       "      <td>No</td>\n",
       "      <td>5</td>\n",
       "      <td>1</td>\n",
       "    </tr>\n",
       "    <tr>\n",
       "      <th>4</th>\n",
       "      <td>Masters</td>\n",
       "      <td>2017</td>\n",
       "      <td>Pune</td>\n",
       "      <td>3</td>\n",
       "      <td>24</td>\n",
       "      <td>Male</td>\n",
       "      <td>Yes</td>\n",
       "      <td>2</td>\n",
       "      <td>1</td>\n",
       "    </tr>\n",
       "    <tr>\n",
       "      <th>...</th>\n",
       "      <td>...</td>\n",
       "      <td>...</td>\n",
       "      <td>...</td>\n",
       "      <td>...</td>\n",
       "      <td>...</td>\n",
       "      <td>...</td>\n",
       "      <td>...</td>\n",
       "      <td>...</td>\n",
       "      <td>...</td>\n",
       "    </tr>\n",
       "    <tr>\n",
       "      <th>4648</th>\n",
       "      <td>Bachelors</td>\n",
       "      <td>2013</td>\n",
       "      <td>Bangalore</td>\n",
       "      <td>3</td>\n",
       "      <td>26</td>\n",
       "      <td>Female</td>\n",
       "      <td>No</td>\n",
       "      <td>4</td>\n",
       "      <td>0</td>\n",
       "    </tr>\n",
       "    <tr>\n",
       "      <th>4649</th>\n",
       "      <td>Masters</td>\n",
       "      <td>2013</td>\n",
       "      <td>Pune</td>\n",
       "      <td>2</td>\n",
       "      <td>37</td>\n",
       "      <td>Male</td>\n",
       "      <td>No</td>\n",
       "      <td>2</td>\n",
       "      <td>1</td>\n",
       "    </tr>\n",
       "    <tr>\n",
       "      <th>4650</th>\n",
       "      <td>Masters</td>\n",
       "      <td>2018</td>\n",
       "      <td>New Delhi</td>\n",
       "      <td>3</td>\n",
       "      <td>27</td>\n",
       "      <td>Male</td>\n",
       "      <td>No</td>\n",
       "      <td>5</td>\n",
       "      <td>1</td>\n",
       "    </tr>\n",
       "    <tr>\n",
       "      <th>4651</th>\n",
       "      <td>Bachelors</td>\n",
       "      <td>2012</td>\n",
       "      <td>Bangalore</td>\n",
       "      <td>3</td>\n",
       "      <td>30</td>\n",
       "      <td>Male</td>\n",
       "      <td>Yes</td>\n",
       "      <td>2</td>\n",
       "      <td>0</td>\n",
       "    </tr>\n",
       "    <tr>\n",
       "      <th>4652</th>\n",
       "      <td>Bachelors</td>\n",
       "      <td>2015</td>\n",
       "      <td>Bangalore</td>\n",
       "      <td>3</td>\n",
       "      <td>33</td>\n",
       "      <td>Male</td>\n",
       "      <td>Yes</td>\n",
       "      <td>4</td>\n",
       "      <td>0</td>\n",
       "    </tr>\n",
       "  </tbody>\n",
       "</table>\n",
       "<p>4653 rows × 9 columns</p>\n",
       "</div>"
      ]
     },
     "execution_count": 11,
     "metadata": {},
     "output_type": "execute_result"
    }
   ],
   "execution_count": 11
  },
  {
   "metadata": {
    "ExecuteTime": {
     "end_time": "2025-08-30T07:28:38.249285Z",
     "start_time": "2025-08-30T07:28:38.238933Z"
    }
   },
   "cell_type": "code",
   "source": [
    "employee = pd.read_csv('employee.csv' , usecols=['Education']).squeeze()\n",
    "employee"
   ],
   "id": "3dc7058d10f3ed29",
   "outputs": [
    {
     "data": {
      "text/plain": [
       "0       Bachelors\n",
       "1       Bachelors\n",
       "2       Bachelors\n",
       "3         Masters\n",
       "4         Masters\n",
       "          ...    \n",
       "4648    Bachelors\n",
       "4649      Masters\n",
       "4650      Masters\n",
       "4651    Bachelors\n",
       "4652    Bachelors\n",
       "Name: Education, Length: 4653, dtype: object"
      ]
     },
     "execution_count": 12,
     "metadata": {},
     "output_type": "execute_result"
    }
   ],
   "execution_count": 12
  },
  {
   "metadata": {
    "ExecuteTime": {
     "end_time": "2025-08-30T07:29:34.275464Z",
     "start_time": "2025-08-30T07:29:34.263269Z"
    }
   },
   "cell_type": "code",
   "source": [
    "employee = pd.read_csv('employee.csv' , usecols=['Education' , 'Age'] , index_col=0).squeeze()\n",
    "employee"
   ],
   "id": "3f7a91bbdc48f05f",
   "outputs": [
    {
     "data": {
      "text/plain": [
       "Education\n",
       "Bachelors    34\n",
       "Bachelors    28\n",
       "Bachelors    38\n",
       "Masters      27\n",
       "Masters      24\n",
       "             ..\n",
       "Bachelors    26\n",
       "Masters      37\n",
       "Masters      27\n",
       "Bachelors    30\n",
       "Bachelors    33\n",
       "Name: Age, Length: 4653, dtype: int64"
      ]
     },
     "execution_count": 13,
     "metadata": {},
     "output_type": "execute_result"
    }
   ],
   "execution_count": 13
  },
  {
   "metadata": {
    "ExecuteTime": {
     "end_time": "2025-08-30T07:29:52.438454Z",
     "start_time": "2025-08-30T07:29:52.430112Z"
    }
   },
   "cell_type": "code",
   "source": [
    "employee = pd.read_csv('employee.csv' , usecols=['Education' , 'Age'] , index_col=1).squeeze()\n",
    "employee"
   ],
   "id": "d8c463d10d8a9c24",
   "outputs": [
    {
     "data": {
      "text/plain": [
       "Age\n",
       "34    Bachelors\n",
       "28    Bachelors\n",
       "38    Bachelors\n",
       "27      Masters\n",
       "24      Masters\n",
       "        ...    \n",
       "26    Bachelors\n",
       "37      Masters\n",
       "27      Masters\n",
       "30    Bachelors\n",
       "33    Bachelors\n",
       "Name: Education, Length: 4653, dtype: object"
      ]
     },
     "execution_count": 14,
     "metadata": {},
     "output_type": "execute_result"
    }
   ],
   "execution_count": 14
  },
  {
   "metadata": {
    "ExecuteTime": {
     "end_time": "2025-08-30T07:30:14.174025Z",
     "start_time": "2025-08-30T07:30:14.162670Z"
    }
   },
   "cell_type": "code",
   "source": [
    "employee = pd.read_csv('employee.csv' , usecols=['Education' , 'Age'] , index_col='Age').squeeze()\n",
    "employee"
   ],
   "id": "49ff03b02279a75a",
   "outputs": [
    {
     "data": {
      "text/plain": [
       "Age\n",
       "34    Bachelors\n",
       "28    Bachelors\n",
       "38    Bachelors\n",
       "27      Masters\n",
       "24      Masters\n",
       "        ...    \n",
       "26    Bachelors\n",
       "37      Masters\n",
       "27      Masters\n",
       "30    Bachelors\n",
       "33    Bachelors\n",
       "Name: Education, Length: 4653, dtype: object"
      ]
     },
     "execution_count": 15,
     "metadata": {},
     "output_type": "execute_result"
    }
   ],
   "execution_count": 15
  },
  {
   "metadata": {
    "ExecuteTime": {
     "end_time": "2025-08-30T07:30:36.147854Z",
     "start_time": "2025-08-30T07:30:36.144190Z"
    }
   },
   "cell_type": "code",
   "source": "len(employee)",
   "id": "5477b5da69829748",
   "outputs": [
    {
     "data": {
      "text/plain": [
       "4653"
      ]
     },
     "execution_count": 16,
     "metadata": {},
     "output_type": "execute_result"
    }
   ],
   "execution_count": 16
  },
  {
   "metadata": {
    "ExecuteTime": {
     "end_time": "2025-08-30T07:31:25.320209Z",
     "start_time": "2025-08-30T07:31:25.309347Z"
    }
   },
   "cell_type": "code",
   "source": [
    "employee = pd.read_csv('employee.csv' ,\n",
    "                       usecols=['Education' , 'Age'] , \n",
    "                       index_col='Age',\n",
    "                       nrows=100\n",
    "                       ).squeeze()\n",
    "employee"
   ],
   "id": "b1a2f05945da8bc0",
   "outputs": [
    {
     "data": {
      "text/plain": [
       "Age\n",
       "34    Bachelors\n",
       "28    Bachelors\n",
       "38    Bachelors\n",
       "27      Masters\n",
       "24      Masters\n",
       "        ...    \n",
       "26          PHD\n",
       "31    Bachelors\n",
       "27    Bachelors\n",
       "29    Bachelors\n",
       "24    Bachelors\n",
       "Name: Education, Length: 100, dtype: object"
      ]
     },
     "execution_count": 17,
     "metadata": {},
     "output_type": "execute_result"
    }
   ],
   "execution_count": 17
  },
  {
   "metadata": {
    "ExecuteTime": {
     "end_time": "2025-08-30T07:31:29.906036Z",
     "start_time": "2025-08-30T07:31:29.901023Z"
    }
   },
   "cell_type": "code",
   "source": "len(employee)",
   "id": "57a66cf06089d57d",
   "outputs": [
    {
     "data": {
      "text/plain": [
       "100"
      ]
     },
     "execution_count": 18,
     "metadata": {},
     "output_type": "execute_result"
    }
   ],
   "execution_count": 18
  },
  {
   "metadata": {},
   "cell_type": "code",
   "outputs": [],
   "execution_count": null,
   "source": "",
   "id": "e8319eb5fe03c694"
  }
 ],
 "metadata": {
  "kernelspec": {
   "display_name": "Python 3",
   "language": "python",
   "name": "python3"
  },
  "language_info": {
   "codemirror_mode": {
    "name": "ipython",
    "version": 2
   },
   "file_extension": ".py",
   "mimetype": "text/x-python",
   "name": "python",
   "nbconvert_exporter": "python",
   "pygments_lexer": "ipython2",
   "version": "2.7.6"
  }
 },
 "nbformat": 4,
 "nbformat_minor": 5
}
