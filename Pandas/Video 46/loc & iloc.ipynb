{
 "cells": [
  {
   "cell_type": "code",
   "id": "initial_id",
   "metadata": {
    "collapsed": true,
    "ExecuteTime": {
     "end_time": "2025-08-31T14:21:08.444258Z",
     "start_time": "2025-08-31T14:21:07.406917Z"
    }
   },
   "source": [
    "import pandas as pd\n",
    "employees = pd.read_csv('Employee.csv')\n",
    "employees"
   ],
   "outputs": [
    {
     "data": {
      "text/plain": [
       "      Education  JoiningYear       City  PaymentTier  Age  Gender EverBenched  \\\n",
       "0     Bachelors         2017  Bangalore            3   34    Male          No   \n",
       "1     Bachelors         2013       Pune            1   28  Female          No   \n",
       "2     Bachelors         2014  New Delhi            3   38  Female          No   \n",
       "3       Masters         2016  Bangalore            3   27    Male          No   \n",
       "4       Masters         2017       Pune            3   24    Male         Yes   \n",
       "...         ...          ...        ...          ...  ...     ...         ...   \n",
       "4648  Bachelors         2013  Bangalore            3   26  Female          No   \n",
       "4649    Masters         2013       Pune            2   37    Male          No   \n",
       "4650    Masters         2018  New Delhi            3   27    Male          No   \n",
       "4651  Bachelors         2012  Bangalore            3   30    Male         Yes   \n",
       "4652  Bachelors         2015  Bangalore            3   33    Male         Yes   \n",
       "\n",
       "      ExperienceInCurrentDomain  LeaveOrNot  \n",
       "0                             0           0  \n",
       "1                             3           1  \n",
       "2                             2           0  \n",
       "3                             5           1  \n",
       "4                             2           1  \n",
       "...                         ...         ...  \n",
       "4648                          4           0  \n",
       "4649                          2           1  \n",
       "4650                          5           1  \n",
       "4651                          2           0  \n",
       "4652                          4           0  \n",
       "\n",
       "[4653 rows x 9 columns]"
      ],
      "text/html": [
       "<div>\n",
       "<style scoped>\n",
       "    .dataframe tbody tr th:only-of-type {\n",
       "        vertical-align: middle;\n",
       "    }\n",
       "\n",
       "    .dataframe tbody tr th {\n",
       "        vertical-align: top;\n",
       "    }\n",
       "\n",
       "    .dataframe thead th {\n",
       "        text-align: right;\n",
       "    }\n",
       "</style>\n",
       "<table border=\"1\" class=\"dataframe\">\n",
       "  <thead>\n",
       "    <tr style=\"text-align: right;\">\n",
       "      <th></th>\n",
       "      <th>Education</th>\n",
       "      <th>JoiningYear</th>\n",
       "      <th>City</th>\n",
       "      <th>PaymentTier</th>\n",
       "      <th>Age</th>\n",
       "      <th>Gender</th>\n",
       "      <th>EverBenched</th>\n",
       "      <th>ExperienceInCurrentDomain</th>\n",
       "      <th>LeaveOrNot</th>\n",
       "    </tr>\n",
       "  </thead>\n",
       "  <tbody>\n",
       "    <tr>\n",
       "      <th>0</th>\n",
       "      <td>Bachelors</td>\n",
       "      <td>2017</td>\n",
       "      <td>Bangalore</td>\n",
       "      <td>3</td>\n",
       "      <td>34</td>\n",
       "      <td>Male</td>\n",
       "      <td>No</td>\n",
       "      <td>0</td>\n",
       "      <td>0</td>\n",
       "    </tr>\n",
       "    <tr>\n",
       "      <th>1</th>\n",
       "      <td>Bachelors</td>\n",
       "      <td>2013</td>\n",
       "      <td>Pune</td>\n",
       "      <td>1</td>\n",
       "      <td>28</td>\n",
       "      <td>Female</td>\n",
       "      <td>No</td>\n",
       "      <td>3</td>\n",
       "      <td>1</td>\n",
       "    </tr>\n",
       "    <tr>\n",
       "      <th>2</th>\n",
       "      <td>Bachelors</td>\n",
       "      <td>2014</td>\n",
       "      <td>New Delhi</td>\n",
       "      <td>3</td>\n",
       "      <td>38</td>\n",
       "      <td>Female</td>\n",
       "      <td>No</td>\n",
       "      <td>2</td>\n",
       "      <td>0</td>\n",
       "    </tr>\n",
       "    <tr>\n",
       "      <th>3</th>\n",
       "      <td>Masters</td>\n",
       "      <td>2016</td>\n",
       "      <td>Bangalore</td>\n",
       "      <td>3</td>\n",
       "      <td>27</td>\n",
       "      <td>Male</td>\n",
       "      <td>No</td>\n",
       "      <td>5</td>\n",
       "      <td>1</td>\n",
       "    </tr>\n",
       "    <tr>\n",
       "      <th>4</th>\n",
       "      <td>Masters</td>\n",
       "      <td>2017</td>\n",
       "      <td>Pune</td>\n",
       "      <td>3</td>\n",
       "      <td>24</td>\n",
       "      <td>Male</td>\n",
       "      <td>Yes</td>\n",
       "      <td>2</td>\n",
       "      <td>1</td>\n",
       "    </tr>\n",
       "    <tr>\n",
       "      <th>...</th>\n",
       "      <td>...</td>\n",
       "      <td>...</td>\n",
       "      <td>...</td>\n",
       "      <td>...</td>\n",
       "      <td>...</td>\n",
       "      <td>...</td>\n",
       "      <td>...</td>\n",
       "      <td>...</td>\n",
       "      <td>...</td>\n",
       "    </tr>\n",
       "    <tr>\n",
       "      <th>4648</th>\n",
       "      <td>Bachelors</td>\n",
       "      <td>2013</td>\n",
       "      <td>Bangalore</td>\n",
       "      <td>3</td>\n",
       "      <td>26</td>\n",
       "      <td>Female</td>\n",
       "      <td>No</td>\n",
       "      <td>4</td>\n",
       "      <td>0</td>\n",
       "    </tr>\n",
       "    <tr>\n",
       "      <th>4649</th>\n",
       "      <td>Masters</td>\n",
       "      <td>2013</td>\n",
       "      <td>Pune</td>\n",
       "      <td>2</td>\n",
       "      <td>37</td>\n",
       "      <td>Male</td>\n",
       "      <td>No</td>\n",
       "      <td>2</td>\n",
       "      <td>1</td>\n",
       "    </tr>\n",
       "    <tr>\n",
       "      <th>4650</th>\n",
       "      <td>Masters</td>\n",
       "      <td>2018</td>\n",
       "      <td>New Delhi</td>\n",
       "      <td>3</td>\n",
       "      <td>27</td>\n",
       "      <td>Male</td>\n",
       "      <td>No</td>\n",
       "      <td>5</td>\n",
       "      <td>1</td>\n",
       "    </tr>\n",
       "    <tr>\n",
       "      <th>4651</th>\n",
       "      <td>Bachelors</td>\n",
       "      <td>2012</td>\n",
       "      <td>Bangalore</td>\n",
       "      <td>3</td>\n",
       "      <td>30</td>\n",
       "      <td>Male</td>\n",
       "      <td>Yes</td>\n",
       "      <td>2</td>\n",
       "      <td>0</td>\n",
       "    </tr>\n",
       "    <tr>\n",
       "      <th>4652</th>\n",
       "      <td>Bachelors</td>\n",
       "      <td>2015</td>\n",
       "      <td>Bangalore</td>\n",
       "      <td>3</td>\n",
       "      <td>33</td>\n",
       "      <td>Male</td>\n",
       "      <td>Yes</td>\n",
       "      <td>4</td>\n",
       "      <td>0</td>\n",
       "    </tr>\n",
       "  </tbody>\n",
       "</table>\n",
       "<p>4653 rows × 9 columns</p>\n",
       "</div>"
      ]
     },
     "execution_count": 1,
     "metadata": {},
     "output_type": "execute_result"
    }
   ],
   "execution_count": 1
  },
  {
   "metadata": {
    "ExecuteTime": {
     "end_time": "2025-08-31T14:21:48.414033Z",
     "start_time": "2025-08-31T14:21:48.407768Z"
    }
   },
   "cell_type": "code",
   "source": "employees['Education']",
   "id": "a57f93c402066f29",
   "outputs": [
    {
     "data": {
      "text/plain": [
       "0       Bachelors\n",
       "1       Bachelors\n",
       "2       Bachelors\n",
       "3         Masters\n",
       "4         Masters\n",
       "          ...    \n",
       "4648    Bachelors\n",
       "4649      Masters\n",
       "4650      Masters\n",
       "4651    Bachelors\n",
       "4652    Bachelors\n",
       "Name: Education, Length: 4653, dtype: object"
      ]
     },
     "execution_count": 2,
     "metadata": {},
     "output_type": "execute_result"
    }
   ],
   "execution_count": 2
  },
  {
   "metadata": {
    "ExecuteTime": {
     "end_time": "2025-08-31T14:22:02.817908Z",
     "start_time": "2025-08-31T14:22:02.813249Z"
    }
   },
   "cell_type": "code",
   "source": "employees['Education'].squeeze()",
   "id": "7f25458ebf7b9fdb",
   "outputs": [
    {
     "data": {
      "text/plain": [
       "0       Bachelors\n",
       "1       Bachelors\n",
       "2       Bachelors\n",
       "3         Masters\n",
       "4         Masters\n",
       "          ...    \n",
       "4648    Bachelors\n",
       "4649      Masters\n",
       "4650      Masters\n",
       "4651    Bachelors\n",
       "4652    Bachelors\n",
       "Name: Education, Length: 4653, dtype: object"
      ]
     },
     "execution_count": 3,
     "metadata": {},
     "output_type": "execute_result"
    }
   ],
   "execution_count": 3
  },
  {
   "metadata": {
    "ExecuteTime": {
     "end_time": "2025-08-31T14:23:13.705004Z",
     "start_time": "2025-08-31T14:23:13.699972Z"
    }
   },
   "cell_type": "code",
   "source": [
    "employee_edu=employees['Education'].squeeze()\n",
    "employee_edu "
   ],
   "id": "53536fb3f4b15a34",
   "outputs": [
    {
     "data": {
      "text/plain": [
       "0       Bachelors\n",
       "1       Bachelors\n",
       "2       Bachelors\n",
       "3         Masters\n",
       "4         Masters\n",
       "          ...    \n",
       "4648    Bachelors\n",
       "4649      Masters\n",
       "4650      Masters\n",
       "4651    Bachelors\n",
       "4652    Bachelors\n",
       "Name: Education, Length: 4653, dtype: object"
      ]
     },
     "execution_count": 5,
     "metadata": {},
     "output_type": "execute_result"
    }
   ],
   "execution_count": 5
  },
  {
   "metadata": {
    "ExecuteTime": {
     "end_time": "2025-08-31T14:23:41.126277Z",
     "start_time": "2025-08-31T14:23:41.120983Z"
    }
   },
   "cell_type": "code",
   "source": "employee_edu.count()",
   "id": "21137ba9313e9f73",
   "outputs": [
    {
     "data": {
      "text/plain": [
       "np.int64(4653)"
      ]
     },
     "execution_count": 6,
     "metadata": {},
     "output_type": "execute_result"
    }
   ],
   "execution_count": 6
  },
  {
   "metadata": {
    "ExecuteTime": {
     "end_time": "2025-08-31T14:24:06.905228Z",
     "start_time": "2025-08-31T14:24:06.901116Z"
    }
   },
   "cell_type": "code",
   "source": "employee_edu.loc[0]",
   "id": "555684235df179d8",
   "outputs": [
    {
     "data": {
      "text/plain": [
       "'Bachelors'"
      ]
     },
     "execution_count": 7,
     "metadata": {},
     "output_type": "execute_result"
    }
   ],
   "execution_count": 7
  },
  {
   "metadata": {
    "ExecuteTime": {
     "end_time": "2025-08-31T14:24:22.257390Z",
     "start_time": "2025-08-31T14:24:22.253159Z"
    }
   },
   "cell_type": "code",
   "source": "employee_edu.loc[3]",
   "id": "da155ca561a79913",
   "outputs": [
    {
     "data": {
      "text/plain": [
       "'Masters'"
      ]
     },
     "execution_count": 8,
     "metadata": {},
     "output_type": "execute_result"
    }
   ],
   "execution_count": 8
  },
  {
   "metadata": {
    "ExecuteTime": {
     "end_time": "2025-08-31T14:24:44.171807Z",
     "start_time": "2025-08-31T14:24:44.166097Z"
    }
   },
   "cell_type": "code",
   "source": "employee_edu.loc[[2,5,66]]",
   "id": "c9dee63047a7041",
   "outputs": [
    {
     "data": {
      "text/plain": [
       "2     Bachelors\n",
       "5     Bachelors\n",
       "66          PHD\n",
       "Name: Education, dtype: object"
      ]
     },
     "execution_count": 9,
     "metadata": {},
     "output_type": "execute_result"
    }
   ],
   "execution_count": 9
  },
  {
   "metadata": {
    "ExecuteTime": {
     "end_time": "2025-08-31T14:26:09.645772Z",
     "start_time": "2025-08-31T14:26:09.640958Z"
    }
   },
   "cell_type": "code",
   "source": "employee_edu[3:5]",
   "id": "707bd3695060d820",
   "outputs": [
    {
     "data": {
      "text/plain": [
       "3    Masters\n",
       "4    Masters\n",
       "Name: Education, dtype: object"
      ]
     },
     "execution_count": 10,
     "metadata": {},
     "output_type": "execute_result"
    }
   ],
   "execution_count": 10
  },
  {
   "metadata": {
    "ExecuteTime": {
     "end_time": "2025-08-31T14:26:33.584334Z",
     "start_time": "2025-08-31T14:26:33.579336Z"
    }
   },
   "cell_type": "code",
   "source": "employee_edu[:5]",
   "id": "681873a369c2a968",
   "outputs": [
    {
     "data": {
      "text/plain": [
       "0    Bachelors\n",
       "1    Bachelors\n",
       "2    Bachelors\n",
       "3      Masters\n",
       "4      Masters\n",
       "Name: Education, dtype: object"
      ]
     },
     "execution_count": 11,
     "metadata": {},
     "output_type": "execute_result"
    }
   ],
   "execution_count": 11
  },
  {
   "metadata": {
    "ExecuteTime": {
     "end_time": "2025-08-31T14:28:06.591596Z",
     "start_time": "2025-08-31T14:28:06.579496Z"
    }
   },
   "cell_type": "code",
   "source": [
    "employees = pd.read_csv('Employee.csv' , usecols=['Education' , 'Age'] , index_col=0).squeeze()\n",
    "employees"
   ],
   "id": "c1068efae69e0514",
   "outputs": [
    {
     "data": {
      "text/plain": [
       "Education\n",
       "Bachelors    34\n",
       "Bachelors    28\n",
       "Bachelors    38\n",
       "Masters      27\n",
       "Masters      24\n",
       "             ..\n",
       "Bachelors    26\n",
       "Masters      37\n",
       "Masters      27\n",
       "Bachelors    30\n",
       "Bachelors    33\n",
       "Name: Age, Length: 4653, dtype: int64"
      ]
     },
     "execution_count": 14,
     "metadata": {},
     "output_type": "execute_result"
    }
   ],
   "execution_count": 14
  },
  {
   "metadata": {
    "ExecuteTime": {
     "end_time": "2025-08-31T14:28:20.459002Z",
     "start_time": "2025-08-31T14:28:20.454939Z"
    }
   },
   "cell_type": "code",
   "source": "employees.index",
   "id": "1353e80495d9f8f6",
   "outputs": [
    {
     "data": {
      "text/plain": [
       "Index(['Bachelors', 'Bachelors', 'Bachelors', 'Masters', 'Masters',\n",
       "       'Bachelors', 'Bachelors', 'Bachelors', 'Bachelors', 'Masters',\n",
       "       ...\n",
       "       'Bachelors', 'Bachelors', 'Masters', 'Bachelors', 'Bachelors',\n",
       "       'Bachelors', 'Masters', 'Masters', 'Bachelors', 'Bachelors'],\n",
       "      dtype='object', name='Education', length=4653)"
      ]
     },
     "execution_count": 15,
     "metadata": {},
     "output_type": "execute_result"
    }
   ],
   "execution_count": 15
  },
  {
   "metadata": {
    "ExecuteTime": {
     "end_time": "2025-08-31T14:28:39.102567Z",
     "start_time": "2025-08-31T14:28:39.097567Z"
    }
   },
   "cell_type": "code",
   "source": "employees.loc['PHD']",
   "id": "3a7a3485bdb8d3aa",
   "outputs": [
    {
     "data": {
      "text/plain": [
       "Education\n",
       "PHD    25\n",
       "PHD    27\n",
       "PHD    34\n",
       "PHD    28\n",
       "PHD    25\n",
       "       ..\n",
       "PHD    34\n",
       "PHD    31\n",
       "PHD    23\n",
       "PHD    24\n",
       "PHD    30\n",
       "Name: Age, Length: 179, dtype: int64"
      ]
     },
     "execution_count": 16,
     "metadata": {},
     "output_type": "execute_result"
    }
   ],
   "execution_count": 16
  },
  {
   "metadata": {
    "ExecuteTime": {
     "end_time": "2025-08-31T14:28:52.946739Z",
     "start_time": "2025-08-31T14:28:52.940907Z"
    }
   },
   "cell_type": "code",
   "source": "employees.loc['PHD'].count()",
   "id": "b5e2425f9681d5ee",
   "outputs": [
    {
     "data": {
      "text/plain": [
       "np.int64(179)"
      ]
     },
     "execution_count": 17,
     "metadata": {},
     "output_type": "execute_result"
    }
   ],
   "execution_count": 17
  },
  {
   "metadata": {
    "ExecuteTime": {
     "end_time": "2025-08-31T14:31:07.834554Z",
     "start_time": "2025-08-31T14:31:07.820407Z"
    }
   },
   "cell_type": "code",
   "source": [
    "employees = pd.read_csv('Employee.csv' , usecols=['Education' , 'Age'] , index_col='Age').squeeze()\n",
    "employees"
   ],
   "id": "30db072b6370ae7e",
   "outputs": [
    {
     "data": {
      "text/plain": [
       "Age\n",
       "34    Bachelors\n",
       "28    Bachelors\n",
       "38    Bachelors\n",
       "27      Masters\n",
       "24      Masters\n",
       "        ...    \n",
       "26    Bachelors\n",
       "37      Masters\n",
       "27      Masters\n",
       "30    Bachelors\n",
       "33    Bachelors\n",
       "Name: Education, Length: 4653, dtype: object"
      ]
     },
     "execution_count": 18,
     "metadata": {},
     "output_type": "execute_result"
    }
   ],
   "execution_count": 18
  },
  {
   "metadata": {
    "ExecuteTime": {
     "end_time": "2025-08-31T14:31:57.896800Z",
     "start_time": "2025-08-31T14:31:57.890764Z"
    }
   },
   "cell_type": "code",
   "source": "employees.loc[25]",
   "id": "b440104507219bc5",
   "outputs": [
    {
     "data": {
      "text/plain": [
       "Age\n",
       "25          PHD\n",
       "25          PHD\n",
       "25    Bachelors\n",
       "25      Masters\n",
       "25    Bachelors\n",
       "        ...    \n",
       "25    Bachelors\n",
       "25    Bachelors\n",
       "25    Bachelors\n",
       "25    Bachelors\n",
       "25    Bachelors\n",
       "Name: Education, Length: 418, dtype: object"
      ]
     },
     "execution_count": 20,
     "metadata": {},
     "output_type": "execute_result"
    }
   ],
   "execution_count": 20
  },
  {
   "metadata": {
    "ExecuteTime": {
     "end_time": "2025-08-31T14:33:02.170177Z",
     "start_time": "2025-08-31T14:33:02.165496Z"
    }
   },
   "cell_type": "code",
   "source": "employees.loc[35]",
   "id": "b368df8d602c2c75",
   "outputs": [
    {
     "data": {
      "text/plain": [
       "Age\n",
       "35      Masters\n",
       "35    Bachelors\n",
       "35    Bachelors\n",
       "35    Bachelors\n",
       "35      Masters\n",
       "        ...    \n",
       "35    Bachelors\n",
       "35    Bachelors\n",
       "35    Bachelors\n",
       "35    Bachelors\n",
       "35    Bachelors\n",
       "Name: Education, Length: 123, dtype: object"
      ]
     },
     "execution_count": 23,
     "metadata": {},
     "output_type": "execute_result"
    }
   ],
   "execution_count": 23
  },
  {
   "metadata": {
    "ExecuteTime": {
     "end_time": "2025-08-31T14:33:14.975500Z",
     "start_time": "2025-08-31T14:33:14.971149Z"
    }
   },
   "cell_type": "code",
   "source": "employees.iloc[0]",
   "id": "8172ce732e58efb6",
   "outputs": [
    {
     "data": {
      "text/plain": [
       "'Bachelors'"
      ]
     },
     "execution_count": 24,
     "metadata": {},
     "output_type": "execute_result"
    }
   ],
   "execution_count": 24
  },
  {
   "metadata": {
    "ExecuteTime": {
     "end_time": "2025-08-31T14:33:30.383908Z",
     "start_time": "2025-08-31T14:33:30.379076Z"
    }
   },
   "cell_type": "code",
   "source": "employees.iloc[23:45]",
   "id": "efe857ec605787ab",
   "outputs": [
    {
     "data": {
      "text/plain": [
       "Age\n",
       "27    Bachelors\n",
       "29    Bachelors\n",
       "22    Bachelors\n",
       "37    Bachelors\n",
       "23    Bachelors\n",
       "31    Bachelors\n",
       "30      Masters\n",
       "25          PHD\n",
       "23    Bachelors\n",
       "26    Bachelors\n",
       "40    Bachelors\n",
       "37    Bachelors\n",
       "30    Bachelors\n",
       "29    Bachelors\n",
       "34    Bachelors\n",
       "29    Bachelors\n",
       "30    Bachelors\n",
       "36    Bachelors\n",
       "23      Masters\n",
       "30    Bachelors\n",
       "36    Bachelors\n",
       "39    Bachelors\n",
       "Name: Education, dtype: object"
      ]
     },
     "execution_count": 25,
     "metadata": {},
     "output_type": "execute_result"
    }
   ],
   "execution_count": 25
  },
  {
   "metadata": {
    "ExecuteTime": {
     "end_time": "2025-08-31T14:34:37.624866Z",
     "start_time": "2025-08-31T14:34:37.618994Z"
    }
   },
   "cell_type": "code",
   "source": "employees.iloc[2324:]",
   "id": "2d6a301ff7619c81",
   "outputs": [
    {
     "data": {
      "text/plain": [
       "Age\n",
       "28    Bachelors\n",
       "27    Bachelors\n",
       "26    Bachelors\n",
       "30      Masters\n",
       "28    Bachelors\n",
       "        ...    \n",
       "26    Bachelors\n",
       "37      Masters\n",
       "27      Masters\n",
       "30    Bachelors\n",
       "33    Bachelors\n",
       "Name: Education, Length: 2329, dtype: object"
      ]
     },
     "execution_count": 26,
     "metadata": {},
     "output_type": "execute_result"
    }
   ],
   "execution_count": 26
  },
  {
   "metadata": {},
   "cell_type": "code",
   "outputs": [],
   "execution_count": null,
   "source": "",
   "id": "b91cecc5459de8b9"
  }
 ],
 "metadata": {
  "kernelspec": {
   "display_name": "Python 3",
   "language": "python",
   "name": "python3"
  },
  "language_info": {
   "codemirror_mode": {
    "name": "ipython",
    "version": 2
   },
   "file_extension": ".py",
   "mimetype": "text/x-python",
   "name": "python",
   "nbconvert_exporter": "python",
   "pygments_lexer": "ipython2",
   "version": "2.7.6"
  }
 },
 "nbformat": 4,
 "nbformat_minor": 5
}
