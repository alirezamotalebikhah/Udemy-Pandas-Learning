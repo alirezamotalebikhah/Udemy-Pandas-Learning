{
 "cells": [
  {
   "cell_type": "code",
   "id": "initial_id",
   "metadata": {
    "collapsed": true,
    "ExecuteTime": {
     "end_time": "2025-08-26T07:04:16.450635Z",
     "start_time": "2025-08-26T07:04:15.496039Z"
    }
   },
   "source": "import pandas as pd",
   "outputs": [],
   "execution_count": 1
  },
  {
   "metadata": {
    "ExecuteTime": {
     "end_time": "2025-08-26T07:04:54.452491Z",
     "start_time": "2025-08-26T07:04:54.446908Z"
    }
   },
   "cell_type": "code",
   "source": "scalar_series=pd.Series(1)",
   "id": "d08bc17b430f2572",
   "outputs": [],
   "execution_count": 3
  },
  {
   "metadata": {
    "ExecuteTime": {
     "end_time": "2025-08-26T07:05:04.246377Z",
     "start_time": "2025-08-26T07:05:04.242470Z"
    }
   },
   "cell_type": "code",
   "source": "scalar_series",
   "id": "99ce37325c6f36ed",
   "outputs": [
    {
     "data": {
      "text/plain": [
       "0    1\n",
       "dtype: int64"
      ]
     },
     "execution_count": 4,
     "metadata": {},
     "output_type": "execute_result"
    }
   ],
   "execution_count": 4
  },
  {
   "metadata": {
    "ExecuteTime": {
     "end_time": "2025-08-26T07:05:19.213746Z",
     "start_time": "2025-08-26T07:05:19.209321Z"
    }
   },
   "cell_type": "code",
   "source": "scalar_series[0]",
   "id": "3169cff19bdefc03",
   "outputs": [
    {
     "data": {
      "text/plain": [
       "np.int64(1)"
      ]
     },
     "execution_count": 5,
     "metadata": {},
     "output_type": "execute_result"
    }
   ],
   "execution_count": 5
  },
  {
   "metadata": {
    "ExecuteTime": {
     "end_time": "2025-08-26T07:05:52.602088Z",
     "start_time": "2025-08-26T07:05:52.598007Z"
    }
   },
   "cell_type": "code",
   "source": [
    "decimal_series=pd.Series(1.5)\n",
    "decimal_series"
   ],
   "id": "9377fac5661a5010",
   "outputs": [
    {
     "data": {
      "text/plain": [
       "0    1.5\n",
       "dtype: float64"
      ]
     },
     "execution_count": 6,
     "metadata": {},
     "output_type": "execute_result"
    }
   ],
   "execution_count": 6
  },
  {
   "metadata": {
    "ExecuteTime": {
     "end_time": "2025-08-26T07:06:36.090993Z",
     "start_time": "2025-08-26T07:06:36.086175Z"
    }
   },
   "cell_type": "code",
   "source": [
    "string_series = pd.Series(\"Eshrat\")\n",
    "string_series"
   ],
   "id": "8cd054fa31a511b9",
   "outputs": [
    {
     "data": {
      "text/plain": [
       "0    Eshrat\n",
       "dtype: object"
      ]
     },
     "execution_count": 7,
     "metadata": {},
     "output_type": "execute_result"
    }
   ],
   "execution_count": 7
  },
  {
   "metadata": {
    "ExecuteTime": {
     "end_time": "2025-08-26T07:07:34.779913Z",
     "start_time": "2025-08-26T07:07:34.775343Z"
    }
   },
   "cell_type": "code",
   "source": [
    "python_list = [2,3,4]\n",
    "list_series = pd.Series(python_list)"
   ],
   "id": "b0b664efc636c116",
   "outputs": [],
   "execution_count": 8
  },
  {
   "metadata": {
    "ExecuteTime": {
     "end_time": "2025-08-26T07:07:39.601028Z",
     "start_time": "2025-08-26T07:07:39.596541Z"
    }
   },
   "cell_type": "code",
   "source": "list_series",
   "id": "5d5884ec0aaa9463",
   "outputs": [
    {
     "data": {
      "text/plain": [
       "0    2\n",
       "1    3\n",
       "2    4\n",
       "dtype: int64"
      ]
     },
     "execution_count": 9,
     "metadata": {},
     "output_type": "execute_result"
    }
   ],
   "execution_count": 9
  },
  {
   "metadata": {
    "ExecuteTime": {
     "end_time": "2025-08-26T07:07:57.455210Z",
     "start_time": "2025-08-26T07:07:57.450572Z"
    }
   },
   "cell_type": "code",
   "source": "list_series[2]",
   "id": "4a05986bb1ba407f",
   "outputs": [
    {
     "data": {
      "text/plain": [
       "np.int64(4)"
      ]
     },
     "execution_count": 10,
     "metadata": {},
     "output_type": "execute_result"
    }
   ],
   "execution_count": 10
  },
  {
   "metadata": {
    "ExecuteTime": {
     "end_time": "2025-08-26T07:09:02.612689Z",
     "start_time": "2025-08-26T07:09:02.608348Z"
    }
   },
   "cell_type": "code",
   "source": [
    "string_list=[\"eshrat\" , \"anjum\" , \"erena\"]\n",
    "string_series = pd.Series(string_list)\n",
    "string_series"
   ],
   "id": "6de27bf69d6302a9",
   "outputs": [
    {
     "data": {
      "text/plain": [
       "0    eshrat\n",
       "1     anjum\n",
       "2     erena\n",
       "dtype: object"
      ]
     },
     "execution_count": 11,
     "metadata": {},
     "output_type": "execute_result"
    }
   ],
   "execution_count": 11
  },
  {
   "metadata": {
    "ExecuteTime": {
     "end_time": "2025-08-26T07:10:43.109059Z",
     "start_time": "2025-08-26T07:10:43.104056Z"
    }
   },
   "cell_type": "code",
   "source": " string_series[1]",
   "id": "81c0598e9c5d1867",
   "outputs": [
    {
     "data": {
      "text/plain": [
       "'anjum'"
      ]
     },
     "execution_count": 14,
     "metadata": {},
     "output_type": "execute_result"
    }
   ],
   "execution_count": 14
  },
  {
   "metadata": {
    "ExecuteTime": {
     "end_time": "2025-08-26T07:11:46.084030Z",
     "start_time": "2025-08-26T07:11:46.078904Z"
    }
   },
   "cell_type": "code",
   "source": [
    "python_set={2,4,7}\n",
    "# set_series = pd.Series(python_set)\n",
    "set_series = pd.Series(list(python_set))\n",
    "set_series"
   ],
   "id": "bc48570fb7810138",
   "outputs": [
    {
     "data": {
      "text/plain": [
       "0    2\n",
       "1    4\n",
       "2    7\n",
       "dtype: int64"
      ]
     },
     "execution_count": 17,
     "metadata": {},
     "output_type": "execute_result"
    }
   ],
   "execution_count": 17
  },
  {
   "metadata": {
    "ExecuteTime": {
     "end_time": "2025-08-26T07:12:17.633835Z",
     "start_time": "2025-08-26T07:12:17.628737Z"
    }
   },
   "cell_type": "code",
   "source": [
    "pyhon_tuple = (3,7,8)\n",
    "tuple_series = pd.Series(pyhon_tuple)\n",
    "tuple_series"
   ],
   "id": "72af0b838c65c731",
   "outputs": [
    {
     "data": {
      "text/plain": [
       "0    3\n",
       "1    7\n",
       "2    8\n",
       "dtype: int64"
      ]
     },
     "execution_count": 18,
     "metadata": {},
     "output_type": "execute_result"
    }
   ],
   "execution_count": 18
  },
  {
   "metadata": {
    "ExecuteTime": {
     "end_time": "2025-08-26T07:16:00.130027Z",
     "start_time": "2025-08-26T07:16:00.123345Z"
    }
   },
   "cell_type": "code",
   "source": [
    "python_dic = {\n",
    "    'lovel' : 'nothing',\n",
    "    'care' : 'no',\n",
    "    'respect':'high'\n",
    "}"
   ],
   "id": "f9629bf49d453caa",
   "outputs": [],
   "execution_count": 19
  },
  {
   "metadata": {
    "ExecuteTime": {
     "end_time": "2025-08-26T07:16:06.112198Z",
     "start_time": "2025-08-26T07:16:06.108467Z"
    }
   },
   "cell_type": "code",
   "source": "python_dic",
   "id": "1e16cd121afb7b57",
   "outputs": [
    {
     "data": {
      "text/plain": [
       "{'lovel': 'nothing', 'care': 'no', 'respect': 'high'}"
      ]
     },
     "execution_count": 20,
     "metadata": {},
     "output_type": "execute_result"
    }
   ],
   "execution_count": 20
  },
  {
   "metadata": {
    "ExecuteTime": {
     "end_time": "2025-08-26T07:16:18.059490Z",
     "start_time": "2025-08-26T07:16:18.053766Z"
    }
   },
   "cell_type": "code",
   "source": [
    "dic_series = pd.Series(python_dic)\n",
    "dic_series"
   ],
   "id": "4ec6330b109af6d5",
   "outputs": [
    {
     "data": {
      "text/plain": [
       "lovel      nothing\n",
       "care            no\n",
       "respect       high\n",
       "dtype: object"
      ]
     },
     "execution_count": 21,
     "metadata": {},
     "output_type": "execute_result"
    }
   ],
   "execution_count": 21
  },
  {
   "metadata": {
    "ExecuteTime": {
     "end_time": "2025-08-26T07:16:28.284850Z",
     "start_time": "2025-08-26T07:16:28.280150Z"
    }
   },
   "cell_type": "code",
   "source": "dic_series['lovel']",
   "id": "c677450b60bfa3dd",
   "outputs": [
    {
     "data": {
      "text/plain": [
       "'nothing'"
      ]
     },
     "execution_count": 22,
     "metadata": {},
     "output_type": "execute_result"
    }
   ],
   "execution_count": 22
  },
  {
   "metadata": {
    "ExecuteTime": {
     "end_time": "2025-08-26T07:18:16.554175Z",
     "start_time": "2025-08-26T07:18:16.550641Z"
    }
   },
   "cell_type": "code",
   "source": [
    "list1=[1,2,3]\n",
    "list2=[111 , 222 , 33]"
   ],
   "id": "eb2355ca6a9e038f",
   "outputs": [],
   "execution_count": 23
  },
  {
   "metadata": {
    "ExecuteTime": {
     "end_time": "2025-08-26T07:18:31.378221Z",
     "start_time": "2025-08-26T07:18:31.372706Z"
    }
   },
   "cell_type": "code",
   "source": "pd.Series(list1 , list2)",
   "id": "9d8c341b088c22a5",
   "outputs": [
    {
     "data": {
      "text/plain": [
       "111    1\n",
       "222    2\n",
       "33     3\n",
       "dtype: int64"
      ]
     },
     "execution_count": 24,
     "metadata": {},
     "output_type": "execute_result"
    }
   ],
   "execution_count": 24
  },
  {
   "metadata": {
    "ExecuteTime": {
     "end_time": "2025-08-26T07:19:20.804789Z",
     "start_time": "2025-08-26T07:19:20.799899Z"
    }
   },
   "cell_type": "code",
   "source": "pd.Series('A' , [1])",
   "id": "6d91945792ae6aa0",
   "outputs": [
    {
     "data": {
      "text/plain": [
       "1    A\n",
       "dtype: object"
      ]
     },
     "execution_count": 26,
     "metadata": {},
     "output_type": "execute_result"
    }
   ],
   "execution_count": 26
  },
  {
   "metadata": {
    "ExecuteTime": {
     "end_time": "2025-08-26T07:21:12.331760Z",
     "start_time": "2025-08-26T07:21:12.326806Z"
    }
   },
   "cell_type": "code",
   "source": "pd.Series([True , False , True])",
   "id": "f9181dbc9cb2afa9",
   "outputs": [
    {
     "data": {
      "text/plain": [
       "0     True\n",
       "1    False\n",
       "2     True\n",
       "dtype: bool"
      ]
     },
     "execution_count": 27,
     "metadata": {},
     "output_type": "execute_result"
    }
   ],
   "execution_count": 27
  },
  {
   "metadata": {
    "ExecuteTime": {
     "end_time": "2025-08-26T07:22:19.099341Z",
     "start_time": "2025-08-26T07:22:19.096221Z"
    }
   },
   "cell_type": "code",
   "source": [
    "matrix=[\n",
    "    [1,2,3],\n",
    "    [4,5,6],\n",
    "]"
   ],
   "id": "ee1318ee3b17d686",
   "outputs": [],
   "execution_count": 28
  },
  {
   "metadata": {
    "ExecuteTime": {
     "end_time": "2025-08-26T07:22:28.509271Z",
     "start_time": "2025-08-26T07:22:28.504558Z"
    }
   },
   "cell_type": "code",
   "source": "pd.Series(matrix)",
   "id": "18c062e0b4bdbfa6",
   "outputs": [
    {
     "data": {
      "text/plain": [
       "0    [1, 2, 3]\n",
       "1    [4, 5, 6]\n",
       "dtype: object"
      ]
     },
     "execution_count": 29,
     "metadata": {},
     "output_type": "execute_result"
    }
   ],
   "execution_count": 29
  },
  {
   "metadata": {
    "ExecuteTime": {
     "end_time": "2025-08-26T07:23:53.165422Z",
     "start_time": "2025-08-26T07:23:53.156994Z"
    }
   },
   "cell_type": "code",
   "source": [
    "import numpy as np\n",
    "tensor=np.random.rand(2,3,4)\n",
    "tensor"
   ],
   "id": "9e9bf5e7b2073b84",
   "outputs": [
    {
     "data": {
      "text/plain": [
       "array([[[0.76723051, 0.41992202, 0.65758622, 0.42558566],\n",
       "        [0.46850291, 0.85699298, 0.9952104 , 0.20491585],\n",
       "        [0.6474457 , 0.06742775, 0.0213667 , 0.02905227]],\n",
       "\n",
       "       [[0.59898076, 0.06715061, 0.29753219, 0.23631858],\n",
       "        [0.95378858, 0.13824656, 0.28433675, 0.36728825],\n",
       "        [0.20833024, 0.7385952 , 0.51409533, 0.99414537]]])"
      ]
     },
     "execution_count": 30,
     "metadata": {},
     "output_type": "execute_result"
    }
   ],
   "execution_count": 30
  },
  {
   "metadata": {
    "ExecuteTime": {
     "end_time": "2025-08-26T07:25:13.153132Z",
     "start_time": "2025-08-26T07:25:13.147130Z"
    }
   },
   "cell_type": "code",
   "source": [
    "# pd.Series(tensor)\n",
    "vector=np.random.rand(10)\n",
    "vector"
   ],
   "id": "853bba0eca56accd",
   "outputs": [
    {
     "data": {
      "text/plain": [
       "array([0.50657018, 0.63853278, 0.53936885, 0.22722087, 0.87692375,\n",
       "       0.0102495 , 0.21884798, 0.47806912, 0.0683653 , 0.64167817])"
      ]
     },
     "execution_count": 32,
     "metadata": {},
     "output_type": "execute_result"
    }
   ],
   "execution_count": 32
  },
  {
   "metadata": {
    "ExecuteTime": {
     "end_time": "2025-08-26T07:25:23.185416Z",
     "start_time": "2025-08-26T07:25:23.180802Z"
    }
   },
   "cell_type": "code",
   "source": "pd.Series(vector)",
   "id": "4f59905cdb4b0697",
   "outputs": [
    {
     "data": {
      "text/plain": [
       "0    0.506570\n",
       "1    0.638533\n",
       "2    0.539369\n",
       "3    0.227221\n",
       "4    0.876924\n",
       "5    0.010250\n",
       "6    0.218848\n",
       "7    0.478069\n",
       "8    0.068365\n",
       "9    0.641678\n",
       "dtype: float64"
      ]
     },
     "execution_count": 33,
     "metadata": {},
     "output_type": "execute_result"
    }
   ],
   "execution_count": 33
  },
  {
   "metadata": {
    "ExecuteTime": {
     "end_time": "2025-08-26T07:26:26.233883Z",
     "start_time": "2025-08-26T07:26:23.158631Z"
    }
   },
   "cell_type": "code",
   "source": [
    "import torch\n",
    "torch_vector=torch.arange(1,101)\n",
    "torch_vector"
   ],
   "id": "81f5aea4cb739cc8",
   "outputs": [
    {
     "data": {
      "text/plain": [
       "tensor([  1,   2,   3,   4,   5,   6,   7,   8,   9,  10,  11,  12,  13,  14,\n",
       "         15,  16,  17,  18,  19,  20,  21,  22,  23,  24,  25,  26,  27,  28,\n",
       "         29,  30,  31,  32,  33,  34,  35,  36,  37,  38,  39,  40,  41,  42,\n",
       "         43,  44,  45,  46,  47,  48,  49,  50,  51,  52,  53,  54,  55,  56,\n",
       "         57,  58,  59,  60,  61,  62,  63,  64,  65,  66,  67,  68,  69,  70,\n",
       "         71,  72,  73,  74,  75,  76,  77,  78,  79,  80,  81,  82,  83,  84,\n",
       "         85,  86,  87,  88,  89,  90,  91,  92,  93,  94,  95,  96,  97,  98,\n",
       "         99, 100])"
      ]
     },
     "execution_count": 34,
     "metadata": {},
     "output_type": "execute_result"
    }
   ],
   "execution_count": 34
  },
  {
   "metadata": {
    "ExecuteTime": {
     "end_time": "2025-08-26T07:26:46.868904Z",
     "start_time": "2025-08-26T07:26:46.860609Z"
    }
   },
   "cell_type": "code",
   "source": "pd.Series(torch_vector)",
   "id": "6a2f5821c2700a10",
   "outputs": [
    {
     "data": {
      "text/plain": [
       "0       1\n",
       "1       2\n",
       "2       3\n",
       "3       4\n",
       "4       5\n",
       "     ... \n",
       "95     96\n",
       "96     97\n",
       "97     98\n",
       "98     99\n",
       "99    100\n",
       "Length: 100, dtype: int64"
      ]
     },
     "execution_count": 35,
     "metadata": {},
     "output_type": "execute_result"
    }
   ],
   "execution_count": 35
  },
  {
   "metadata": {},
   "cell_type": "code",
   "outputs": [],
   "execution_count": null,
   "source": "",
   "id": "7014c0c2e0cd26e4"
  }
 ],
 "metadata": {
  "kernelspec": {
   "display_name": "Python 3",
   "language": "python",
   "name": "python3"
  },
  "language_info": {
   "codemirror_mode": {
    "name": "ipython",
    "version": 2
   },
   "file_extension": ".py",
   "mimetype": "text/x-python",
   "name": "python",
   "nbconvert_exporter": "python",
   "pygments_lexer": "ipython2",
   "version": "2.7.6"
  }
 },
 "nbformat": 4,
 "nbformat_minor": 5
}
