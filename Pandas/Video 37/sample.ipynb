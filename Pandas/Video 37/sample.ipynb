{
 "cells": [
  {
   "cell_type": "code",
   "id": "initial_id",
   "metadata": {
    "collapsed": true,
    "ExecuteTime": {
     "end_time": "2025-08-28T10:06:44.440951Z",
     "start_time": "2025-08-28T10:06:43.465103Z"
    }
   },
   "source": [
    "import pandas as pd\n",
    "python_dictionary = {\n",
    "    'jo':'john',\n",
    "    'ma':'maria',\n",
    "    'ish':'Ishfee',\n",
    "    'afs':'Afsana',\n",
    "    'lu':'Lufor',\n",
    "    'mrt':'Martin',\n",
    "    'ev':'Evan',\n",
    "    'mor':'Morino',\n",
    "    'cr7':'Ronaldo',\n",
    "}"
   ],
   "outputs": [],
   "execution_count": 1
  },
  {
   "metadata": {
    "ExecuteTime": {
     "end_time": "2025-08-28T10:07:07.378829Z",
     "start_time": "2025-08-28T10:07:07.370363Z"
    }
   },
   "cell_type": "code",
   "source": [
    "series = pd.Series(python_dictionary)\n",
    "series"
   ],
   "id": "bfb49e603936ba5a",
   "outputs": [
    {
     "data": {
      "text/plain": [
       "jo        john\n",
       "ma       maria\n",
       "ish     Ishfee\n",
       "afs     Afsana\n",
       "lu       Lufor\n",
       "mrt     Martin\n",
       "ev        Evan\n",
       "mor     Morino\n",
       "cr7    Ronaldo\n",
       "dtype: object"
      ]
     },
     "execution_count": 2,
     "metadata": {},
     "output_type": "execute_result"
    }
   ],
   "execution_count": 2
  },
  {
   "metadata": {
    "ExecuteTime": {
     "end_time": "2025-08-28T10:23:57.397446Z",
     "start_time": "2025-08-28T10:23:57.391488Z"
    }
   },
   "cell_type": "code",
   "source": "series.sample()",
   "id": "aafbc815156a8389",
   "outputs": [
    {
     "data": {
      "text/plain": [
       "afs    Afsana\n",
       "dtype: object"
      ]
     },
     "execution_count": 3,
     "metadata": {},
     "output_type": "execute_result"
    }
   ],
   "execution_count": 3
  },
  {
   "metadata": {
    "ExecuteTime": {
     "end_time": "2025-08-28T10:24:08.120532Z",
     "start_time": "2025-08-28T10:24:08.115546Z"
    }
   },
   "cell_type": "code",
   "source": "series.sample()",
   "id": "d6bcbb5b1e9e38f2",
   "outputs": [
    {
     "data": {
      "text/plain": [
       "ma    maria\n",
       "dtype: object"
      ]
     },
     "execution_count": 4,
     "metadata": {},
     "output_type": "execute_result"
    }
   ],
   "execution_count": 4
  },
  {
   "metadata": {
    "ExecuteTime": {
     "end_time": "2025-08-28T10:24:17.518938Z",
     "start_time": "2025-08-28T10:24:17.512873Z"
    }
   },
   "cell_type": "code",
   "source": "series.sample(3)",
   "id": "a79c372373e8a22e",
   "outputs": [
    {
     "data": {
      "text/plain": [
       "lu      Lufor\n",
       "ish    Ishfee\n",
       "ma      maria\n",
       "dtype: object"
      ]
     },
     "execution_count": 5,
     "metadata": {},
     "output_type": "execute_result"
    }
   ],
   "execution_count": 5
  },
  {
   "metadata": {
    "ExecuteTime": {
     "end_time": "2025-08-28T10:24:28.014394Z",
     "start_time": "2025-08-28T10:24:28.009913Z"
    }
   },
   "cell_type": "code",
   "source": "series.head()",
   "id": "922bf5aab1d8d0fb",
   "outputs": [
    {
     "data": {
      "text/plain": [
       "jo       john\n",
       "ma      maria\n",
       "ish    Ishfee\n",
       "afs    Afsana\n",
       "lu      Lufor\n",
       "dtype: object"
      ]
     },
     "execution_count": 6,
     "metadata": {},
     "output_type": "execute_result"
    }
   ],
   "execution_count": 6
  },
  {
   "metadata": {
    "ExecuteTime": {
     "end_time": "2025-08-28T10:24:42.441477Z",
     "start_time": "2025-08-28T10:24:42.436518Z"
    }
   },
   "cell_type": "code",
   "source": "series.tail()",
   "id": "4a10e0a6c86d8dbc",
   "outputs": [
    {
     "data": {
      "text/plain": [
       "lu       Lufor\n",
       "mrt     Martin\n",
       "ev        Evan\n",
       "mor     Morino\n",
       "cr7    Ronaldo\n",
       "dtype: object"
      ]
     },
     "execution_count": 7,
     "metadata": {},
     "output_type": "execute_result"
    }
   ],
   "execution_count": 7
  },
  {
   "metadata": {
    "ExecuteTime": {
     "end_time": "2025-08-28T10:25:04.552980Z",
     "start_time": "2025-08-28T10:25:04.548101Z"
    }
   },
   "cell_type": "code",
   "source": "series.head(1)",
   "id": "619c6a0d31f29982",
   "outputs": [
    {
     "data": {
      "text/plain": [
       "jo    john\n",
       "dtype: object"
      ]
     },
     "execution_count": 8,
     "metadata": {},
     "output_type": "execute_result"
    }
   ],
   "execution_count": 8
  },
  {
   "metadata": {
    "ExecuteTime": {
     "end_time": "2025-08-28T10:25:08.130764Z",
     "start_time": "2025-08-28T10:25:08.126229Z"
    }
   },
   "cell_type": "code",
   "source": "series.tail(1)",
   "id": "98b46099eb6536b",
   "outputs": [
    {
     "data": {
      "text/plain": [
       "cr7    Ronaldo\n",
       "dtype: object"
      ]
     },
     "execution_count": 9,
     "metadata": {},
     "output_type": "execute_result"
    }
   ],
   "execution_count": 9
  },
  {
   "metadata": {
    "ExecuteTime": {
     "end_time": "2025-08-28T10:25:33.934889Z",
     "start_time": "2025-08-28T10:25:33.930078Z"
    }
   },
   "cell_type": "code",
   "source": "series.take([1,4,6])",
   "id": "8016a45272bafc81",
   "outputs": [
    {
     "data": {
      "text/plain": [
       "ma    maria\n",
       "lu    Lufor\n",
       "ev     Evan\n",
       "dtype: object"
      ]
     },
     "execution_count": 10,
     "metadata": {},
     "output_type": "execute_result"
    }
   ],
   "execution_count": 10
  },
  {
   "metadata": {
    "ExecuteTime": {
     "end_time": "2025-08-28T10:26:13.354844Z",
     "start_time": "2025-08-28T10:26:13.347148Z"
    }
   },
   "cell_type": "code",
   "source": "series.info()",
   "id": "42b1770f27b9592c",
   "outputs": [
    {
     "name": "stdout",
     "output_type": "stream",
     "text": [
      "<class 'pandas.core.series.Series'>\n",
      "Index: 9 entries, jo to cr7\n",
      "Series name: None\n",
      "Non-Null Count  Dtype \n",
      "--------------  ----- \n",
      "9 non-null      object\n",
      "dtypes: object(1)\n",
      "memory usage: 444.0+ bytes\n"
     ]
    }
   ],
   "execution_count": 11
  },
  {
   "metadata": {
    "ExecuteTime": {
     "end_time": "2025-08-28T10:26:26.342440Z",
     "start_time": "2025-08-28T10:26:26.335442Z"
    }
   },
   "cell_type": "code",
   "source": "series.describe()",
   "id": "f842f389175cfc96",
   "outputs": [
    {
     "data": {
      "text/plain": [
       "count        9\n",
       "unique       9\n",
       "top       john\n",
       "freq         1\n",
       "dtype: object"
      ]
     },
     "execution_count": 12,
     "metadata": {},
     "output_type": "execute_result"
    }
   ],
   "execution_count": 12
  },
  {
   "metadata": {},
   "cell_type": "code",
   "outputs": [],
   "execution_count": null,
   "source": "",
   "id": "ddc59c6daa3e63a0"
  }
 ],
 "metadata": {
  "kernelspec": {
   "display_name": "Python 3",
   "language": "python",
   "name": "python3"
  },
  "language_info": {
   "codemirror_mode": {
    "name": "ipython",
    "version": 2
   },
   "file_extension": ".py",
   "mimetype": "text/x-python",
   "name": "python",
   "nbconvert_exporter": "python",
   "pygments_lexer": "ipython2",
   "version": "2.7.6"
  }
 },
 "nbformat": 4,
 "nbformat_minor": 5
}
