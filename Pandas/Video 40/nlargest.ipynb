{
 "cells": [
  {
   "cell_type": "code",
   "id": "initial_id",
   "metadata": {
    "collapsed": true,
    "ExecuteTime": {
     "end_time": "2025-08-30T06:12:30.653875Z",
     "start_time": "2025-08-30T06:12:29.690903Z"
    }
   },
   "source": [
    "import pandas as pd\n",
    "series = pd.Series([29,1,39,21,90,0])"
   ],
   "outputs": [],
   "execution_count": 1
  },
  {
   "metadata": {
    "ExecuteTime": {
     "end_time": "2025-08-30T06:12:32.024803Z",
     "start_time": "2025-08-30T06:12:32.018708Z"
    }
   },
   "cell_type": "code",
   "source": "series",
   "id": "2f48c6ca82c2e3b1",
   "outputs": [
    {
     "data": {
      "text/plain": [
       "0    29\n",
       "1     1\n",
       "2    39\n",
       "3    21\n",
       "4    90\n",
       "5     0\n",
       "dtype: int64"
      ]
     },
     "execution_count": 2,
     "metadata": {},
     "output_type": "execute_result"
    }
   ],
   "execution_count": 2
  },
  {
   "metadata": {
    "ExecuteTime": {
     "end_time": "2025-08-30T06:12:53.182340Z",
     "start_time": "2025-08-30T06:12:53.177477Z"
    }
   },
   "cell_type": "code",
   "source": "series.head(3)\n",
   "id": "a655ae43cbbd5716",
   "outputs": [
    {
     "data": {
      "text/plain": [
       "0    29\n",
       "1     1\n",
       "2    39\n",
       "dtype: int64"
      ]
     },
     "execution_count": 3,
     "metadata": {},
     "output_type": "execute_result"
    }
   ],
   "execution_count": 3
  },
  {
   "metadata": {
    "ExecuteTime": {
     "end_time": "2025-08-30T06:13:10.399003Z",
     "start_time": "2025-08-30T06:13:10.394673Z"
    }
   },
   "cell_type": "code",
   "source": "series.tail(3)",
   "id": "a5d30d88ebcd5fa6",
   "outputs": [
    {
     "data": {
      "text/plain": [
       "3    21\n",
       "4    90\n",
       "5     0\n",
       "dtype: int64"
      ]
     },
     "execution_count": 4,
     "metadata": {},
     "output_type": "execute_result"
    }
   ],
   "execution_count": 4
  },
  {
   "metadata": {
    "ExecuteTime": {
     "end_time": "2025-08-30T06:13:42.621110Z",
     "start_time": "2025-08-30T06:13:42.616589Z"
    }
   },
   "cell_type": "code",
   "source": "min(series)",
   "id": "27b89cf49e1389b8",
   "outputs": [
    {
     "data": {
      "text/plain": [
       "0"
      ]
     },
     "execution_count": 5,
     "metadata": {},
     "output_type": "execute_result"
    }
   ],
   "execution_count": 5
  },
  {
   "metadata": {
    "ExecuteTime": {
     "end_time": "2025-08-30T06:13:45.955283Z",
     "start_time": "2025-08-30T06:13:45.951075Z"
    }
   },
   "cell_type": "code",
   "source": "max(series)",
   "id": "7387774c2721cb8",
   "outputs": [
    {
     "data": {
      "text/plain": [
       "90"
      ]
     },
     "execution_count": 6,
     "metadata": {},
     "output_type": "execute_result"
    }
   ],
   "execution_count": 6
  },
  {
   "metadata": {
    "ExecuteTime": {
     "end_time": "2025-08-30T06:14:36.647745Z",
     "start_time": "2025-08-30T06:14:36.639925Z"
    }
   },
   "cell_type": "code",
   "source": "series.nlargest()",
   "id": "1772556b7e7b36d1",
   "outputs": [
    {
     "data": {
      "text/plain": [
       "4    90\n",
       "2    39\n",
       "0    29\n",
       "3    21\n",
       "1     1\n",
       "dtype: int64"
      ]
     },
     "execution_count": 7,
     "metadata": {},
     "output_type": "execute_result"
    }
   ],
   "execution_count": 7
  },
  {
   "metadata": {
    "ExecuteTime": {
     "end_time": "2025-08-30T06:14:43.182579Z",
     "start_time": "2025-08-30T06:14:43.177421Z"
    }
   },
   "cell_type": "code",
   "source": "series.nlargest(3)",
   "id": "3db191d486280796",
   "outputs": [
    {
     "data": {
      "text/plain": [
       "4    90\n",
       "2    39\n",
       "0    29\n",
       "dtype: int64"
      ]
     },
     "execution_count": 8,
     "metadata": {},
     "output_type": "execute_result"
    }
   ],
   "execution_count": 8
  },
  {
   "metadata": {
    "ExecuteTime": {
     "end_time": "2025-08-30T06:15:28.751556Z",
     "start_time": "2025-08-30T06:15:28.746319Z"
    }
   },
   "cell_type": "code",
   "source": "series.nsmallest()",
   "id": "f3e2d0459e8558ad",
   "outputs": [
    {
     "data": {
      "text/plain": [
       "5     0\n",
       "1     1\n",
       "3    21\n",
       "0    29\n",
       "2    39\n",
       "dtype: int64"
      ]
     },
     "execution_count": 9,
     "metadata": {},
     "output_type": "execute_result"
    }
   ],
   "execution_count": 9
  },
  {
   "metadata": {
    "ExecuteTime": {
     "end_time": "2025-08-30T06:15:37.252884Z",
     "start_time": "2025-08-30T06:15:37.247588Z"
    }
   },
   "cell_type": "code",
   "source": "series.nsmallest(3)",
   "id": "d06f6f7cccf5a7ed",
   "outputs": [
    {
     "data": {
      "text/plain": [
       "5     0\n",
       "1     1\n",
       "3    21\n",
       "dtype: int64"
      ]
     },
     "execution_count": 10,
     "metadata": {},
     "output_type": "execute_result"
    }
   ],
   "execution_count": 10
  },
  {
   "metadata": {
    "ExecuteTime": {
     "end_time": "2025-08-30T06:16:50.478610Z",
     "start_time": "2025-08-30T06:16:50.474142Z"
    }
   },
   "cell_type": "code",
   "source": "series.keys()",
   "id": "c19259cb55d83978",
   "outputs": [
    {
     "data": {
      "text/plain": [
       "RangeIndex(start=0, stop=6, step=1)"
      ]
     },
     "execution_count": 11,
     "metadata": {},
     "output_type": "execute_result"
    }
   ],
   "execution_count": 11
  },
  {
   "metadata": {
    "ExecuteTime": {
     "end_time": "2025-08-30T06:18:04.244872Z",
     "start_time": "2025-08-30T06:18:04.241361Z"
    }
   },
   "cell_type": "code",
   "source": "type(series.items())",
   "id": "e9d736adb5bd5bd9",
   "outputs": [
    {
     "data": {
      "text/plain": [
       "zip"
      ]
     },
     "execution_count": 15,
     "metadata": {},
     "output_type": "execute_result"
    }
   ],
   "execution_count": 15
  },
  {
   "metadata": {
    "ExecuteTime": {
     "end_time": "2025-08-30T06:18:50.108059Z",
     "start_time": "2025-08-30T06:18:50.103882Z"
    }
   },
   "cell_type": "code",
   "source": [
    "for x in series.items():\n",
    "    print(x)"
   ],
   "id": "19730a24660a845a",
   "outputs": [
    {
     "name": "stdout",
     "output_type": "stream",
     "text": [
      "(0, 29)\n",
      "(1, 1)\n",
      "(2, 39)\n",
      "(3, 21)\n",
      "(4, 90)\n",
      "(5, 0)\n"
     ]
    }
   ],
   "execution_count": 17
  },
  {
   "metadata": {
    "ExecuteTime": {
     "end_time": "2025-08-30T06:19:48.943450Z",
     "start_time": "2025-08-30T06:19:48.939810Z"
    }
   },
   "cell_type": "code",
   "source": [
    "for index , value in series.items():\n",
    "    print(f\"index: {index}, value: {value}\")"
   ],
   "id": "430da9e91127c010",
   "outputs": [
    {
     "name": "stdout",
     "output_type": "stream",
     "text": [
      "index: 0, value: 29\n",
      "index: 1, value: 1\n",
      "index: 2, value: 39\n",
      "index: 3, value: 21\n",
      "index: 4, value: 90\n",
      "index: 5, value: 0\n"
     ]
    }
   ],
   "execution_count": 18
  },
  {
   "metadata": {},
   "cell_type": "code",
   "outputs": [],
   "execution_count": null,
   "source": "",
   "id": "db21b224347bc85"
  }
 ],
 "metadata": {
  "kernelspec": {
   "display_name": "Python 3",
   "language": "python",
   "name": "python3"
  },
  "language_info": {
   "codemirror_mode": {
    "name": "ipython",
    "version": 2
   },
   "file_extension": ".py",
   "mimetype": "text/x-python",
   "name": "python",
   "nbconvert_exporter": "python",
   "pygments_lexer": "ipython2",
   "version": "2.7.6"
  }
 },
 "nbformat": 4,
 "nbformat_minor": 5
}
