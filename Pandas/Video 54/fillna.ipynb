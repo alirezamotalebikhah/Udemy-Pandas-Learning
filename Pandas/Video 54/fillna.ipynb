{
 "cells": [
  {
   "cell_type": "code",
   "id": "initial_id",
   "metadata": {
    "collapsed": true,
    "ExecuteTime": {
     "end_time": "2025-09-09T09:40:35.885964Z",
     "start_time": "2025-09-09T09:40:35.412937Z"
    }
   },
   "source": [
    "import pandas as pd\n",
    "from sympy import false\n",
    "\n",
    "series = pd.Series([1,2,2,3,None , 45 , 23 , None , None , 23])"
   ],
   "outputs": [],
   "execution_count": 1
  },
  {
   "metadata": {
    "ExecuteTime": {
     "end_time": "2025-09-09T09:40:38.275908Z",
     "start_time": "2025-09-09T09:40:38.267445Z"
    }
   },
   "cell_type": "code",
   "source": "series",
   "id": "a8606aceeb599897",
   "outputs": [
    {
     "data": {
      "text/plain": [
       "0     1.0\n",
       "1     2.0\n",
       "2     2.0\n",
       "3     3.0\n",
       "4     NaN\n",
       "5    45.0\n",
       "6    23.0\n",
       "7     NaN\n",
       "8     NaN\n",
       "9    23.0\n",
       "dtype: float64"
      ]
     },
     "execution_count": 2,
     "metadata": {},
     "output_type": "execute_result"
    }
   ],
   "execution_count": 2
  },
  {
   "metadata": {
    "ExecuteTime": {
     "end_time": "2025-09-09T09:41:33.883556Z",
     "start_time": "2025-09-09T09:41:33.878604Z"
    }
   },
   "cell_type": "code",
   "source": "series.fillna(0)",
   "id": "aa8e7bbc9b229485",
   "outputs": [
    {
     "data": {
      "text/plain": [
       "0     1.0\n",
       "1     2.0\n",
       "2     2.0\n",
       "3     3.0\n",
       "4     0.0\n",
       "5    45.0\n",
       "6    23.0\n",
       "7     0.0\n",
       "8     0.0\n",
       "9    23.0\n",
       "dtype: float64"
      ]
     },
     "execution_count": 4,
     "metadata": {},
     "output_type": "execute_result"
    }
   ],
   "execution_count": 4
  },
  {
   "metadata": {
    "ExecuteTime": {
     "end_time": "2025-09-09T09:42:01.904901Z",
     "start_time": "2025-09-09T09:42:01.900410Z"
    }
   },
   "cell_type": "code",
   "source": "series",
   "id": "fe9a171028329257",
   "outputs": [
    {
     "data": {
      "text/plain": [
       "0     1.0\n",
       "1     2.0\n",
       "2     2.0\n",
       "3     3.0\n",
       "4     NaN\n",
       "5    45.0\n",
       "6    23.0\n",
       "7     NaN\n",
       "8     NaN\n",
       "9    23.0\n",
       "dtype: float64"
      ]
     },
     "execution_count": 5,
     "metadata": {},
     "output_type": "execute_result"
    }
   ],
   "execution_count": 5
  },
  {
   "metadata": {
    "ExecuteTime": {
     "end_time": "2025-09-09T09:42:28.817768Z",
     "start_time": "2025-09-09T09:42:28.812842Z"
    }
   },
   "cell_type": "code",
   "source": [
    "series.fillna(0 , inplace=True)\n",
    "series"
   ],
   "id": "374af011db3419c7",
   "outputs": [
    {
     "data": {
      "text/plain": [
       "0     1.0\n",
       "1     2.0\n",
       "2     2.0\n",
       "3     3.0\n",
       "4     0.0\n",
       "5    45.0\n",
       "6    23.0\n",
       "7     0.0\n",
       "8     0.0\n",
       "9    23.0\n",
       "dtype: float64"
      ]
     },
     "execution_count": 7,
     "metadata": {},
     "output_type": "execute_result"
    }
   ],
   "execution_count": 7
  },
  {
   "metadata": {
    "ExecuteTime": {
     "end_time": "2025-09-09T09:42:53.952997Z",
     "start_time": "2025-09-09T09:42:53.947564Z"
    }
   },
   "cell_type": "code",
   "source": [
    "series = pd.Series([1,2,2,3,None , 45 , 23 , None , None , 23])\n",
    "series"
   ],
   "id": "de7034121628e6cd",
   "outputs": [
    {
     "data": {
      "text/plain": [
       "0     1.0\n",
       "1     2.0\n",
       "2     2.0\n",
       "3     3.0\n",
       "4     NaN\n",
       "5    45.0\n",
       "6    23.0\n",
       "7     NaN\n",
       "8     NaN\n",
       "9    23.0\n",
       "dtype: float64"
      ]
     },
     "execution_count": 8,
     "metadata": {},
     "output_type": "execute_result"
    }
   ],
   "execution_count": 8
  },
  {
   "metadata": {
    "ExecuteTime": {
     "end_time": "2025-09-09T09:43:51.072433Z",
     "start_time": "2025-09-09T09:43:51.066491Z"
    }
   },
   "cell_type": "code",
   "source": "series.fillna(method='ffill')",
   "id": "870014dd808561bb",
   "outputs": [
    {
     "name": "stderr",
     "output_type": "stream",
     "text": [
      "C:\\Users\\ASUS\\AppData\\Local\\Temp\\ipykernel_22708\\2629756511.py:1: FutureWarning: Series.fillna with 'method' is deprecated and will raise in a future version. Use obj.ffill() or obj.bfill() instead.\n",
      "  series.fillna(method='ffill')\n"
     ]
    },
    {
     "data": {
      "text/plain": [
       "0     1.0\n",
       "1     2.0\n",
       "2     2.0\n",
       "3     3.0\n",
       "4     3.0\n",
       "5    45.0\n",
       "6    23.0\n",
       "7    23.0\n",
       "8    23.0\n",
       "9    23.0\n",
       "dtype: float64"
      ]
     },
     "execution_count": 10,
     "metadata": {},
     "output_type": "execute_result"
    }
   ],
   "execution_count": 10
  },
  {
   "metadata": {
    "ExecuteTime": {
     "end_time": "2025-09-09T09:44:42.574261Z",
     "start_time": "2025-09-09T09:44:42.568736Z"
    }
   },
   "cell_type": "code",
   "source": "series.fillna(method='bfill')",
   "id": "1672ab46e3ed7283",
   "outputs": [
    {
     "name": "stderr",
     "output_type": "stream",
     "text": [
      "C:\\Users\\ASUS\\AppData\\Local\\Temp\\ipykernel_22708\\621606220.py:1: FutureWarning: Series.fillna with 'method' is deprecated and will raise in a future version. Use obj.ffill() or obj.bfill() instead.\n",
      "  series.fillna(method='bfill')\n"
     ]
    },
    {
     "data": {
      "text/plain": [
       "0     1.0\n",
       "1     2.0\n",
       "2     2.0\n",
       "3     3.0\n",
       "4    45.0\n",
       "5    45.0\n",
       "6    23.0\n",
       "7    23.0\n",
       "8    23.0\n",
       "9    23.0\n",
       "dtype: float64"
      ]
     },
     "execution_count": 11,
     "metadata": {},
     "output_type": "execute_result"
    }
   ],
   "execution_count": 11
  },
  {
   "metadata": {
    "ExecuteTime": {
     "end_time": "2025-09-09T09:45:36.871955Z",
     "start_time": "2025-09-09T09:45:36.866720Z"
    }
   },
   "cell_type": "code",
   "source": "series.dropna()",
   "id": "68868e4959c51c57",
   "outputs": [
    {
     "data": {
      "text/plain": [
       "0     1.0\n",
       "1     2.0\n",
       "2     2.0\n",
       "3     3.0\n",
       "5    45.0\n",
       "6    23.0\n",
       "9    23.0\n",
       "dtype: float64"
      ]
     },
     "execution_count": 12,
     "metadata": {},
     "output_type": "execute_result"
    }
   ],
   "execution_count": 12
  },
  {
   "metadata": {
    "ExecuteTime": {
     "end_time": "2025-09-09T09:45:42.146294Z",
     "start_time": "2025-09-09T09:45:42.141592Z"
    }
   },
   "cell_type": "code",
   "source": "series",
   "id": "f6ba28424b0f68c6",
   "outputs": [
    {
     "data": {
      "text/plain": [
       "0     1.0\n",
       "1     2.0\n",
       "2     2.0\n",
       "3     3.0\n",
       "4     NaN\n",
       "5    45.0\n",
       "6    23.0\n",
       "7     NaN\n",
       "8     NaN\n",
       "9    23.0\n",
       "dtype: float64"
      ]
     },
     "execution_count": 13,
     "metadata": {},
     "output_type": "execute_result"
    }
   ],
   "execution_count": 13
  },
  {
   "metadata": {
    "ExecuteTime": {
     "end_time": "2025-09-09T09:45:51.020011Z",
     "start_time": "2025-09-09T09:45:51.016445Z"
    }
   },
   "cell_type": "code",
   "source": "series.dropna(inplace=True)",
   "id": "5ce50f70c2f4e21d",
   "outputs": [],
   "execution_count": 14
  },
  {
   "metadata": {
    "ExecuteTime": {
     "end_time": "2025-09-09T09:45:53.581961Z",
     "start_time": "2025-09-09T09:45:53.577862Z"
    }
   },
   "cell_type": "code",
   "source": "series",
   "id": "d5542dd58bbb6c54",
   "outputs": [
    {
     "data": {
      "text/plain": [
       "0     1.0\n",
       "1     2.0\n",
       "2     2.0\n",
       "3     3.0\n",
       "5    45.0\n",
       "6    23.0\n",
       "9    23.0\n",
       "dtype: float64"
      ]
     },
     "execution_count": 15,
     "metadata": {},
     "output_type": "execute_result"
    }
   ],
   "execution_count": 15
  },
  {
   "metadata": {
    "ExecuteTime": {
     "end_time": "2025-09-09T09:46:08.692831Z",
     "start_time": "2025-09-09T09:46:08.687258Z"
    }
   },
   "cell_type": "code",
   "source": "series.drop_duplicates()",
   "id": "20b01dd500ece533",
   "outputs": [
    {
     "data": {
      "text/plain": [
       "0     1.0\n",
       "1     2.0\n",
       "3     3.0\n",
       "5    45.0\n",
       "6    23.0\n",
       "dtype: float64"
      ]
     },
     "execution_count": 16,
     "metadata": {},
     "output_type": "execute_result"
    }
   ],
   "execution_count": 16
  },
  {
   "metadata": {
    "ExecuteTime": {
     "end_time": "2025-09-09T09:46:57.906880Z",
     "start_time": "2025-09-09T09:46:57.901557Z"
    }
   },
   "cell_type": "code",
   "source": "series.drop_duplicates(keep='last')",
   "id": "fdf066bb7ab178ed",
   "outputs": [
    {
     "data": {
      "text/plain": [
       "0     1.0\n",
       "2     2.0\n",
       "3     3.0\n",
       "5    45.0\n",
       "9    23.0\n",
       "dtype: float64"
      ]
     },
     "execution_count": 17,
     "metadata": {},
     "output_type": "execute_result"
    }
   ],
   "execution_count": 17
  },
  {
   "metadata": {
    "ExecuteTime": {
     "end_time": "2025-09-09T09:47:42.678575Z",
     "start_time": "2025-09-09T09:47:42.674088Z"
    }
   },
   "cell_type": "code",
   "source": "series.drop_duplicates(keep=False)",
   "id": "be3e84d41416cb8e",
   "outputs": [
    {
     "data": {
      "text/plain": [
       "0     1.0\n",
       "3     3.0\n",
       "5    45.0\n",
       "dtype: float64"
      ]
     },
     "execution_count": 19,
     "metadata": {},
     "output_type": "execute_result"
    }
   ],
   "execution_count": 19
  },
  {
   "metadata": {
    "ExecuteTime": {
     "end_time": "2025-09-09T09:48:02.693455Z",
     "start_time": "2025-09-09T09:48:02.689707Z"
    }
   },
   "cell_type": "code",
   "source": "series = pd.Series([1,2,2,3,None , 45 , 23 , None , None , 23])",
   "id": "98eb75d0dec6a14",
   "outputs": [],
   "execution_count": 21
  },
  {
   "metadata": {
    "ExecuteTime": {
     "end_time": "2025-09-09T09:48:07.492457Z",
     "start_time": "2025-09-09T09:48:07.487635Z"
    }
   },
   "cell_type": "code",
   "source": "series",
   "id": "1eab314e5d0f496e",
   "outputs": [
    {
     "data": {
      "text/plain": [
       "0     1.0\n",
       "1     2.0\n",
       "2     2.0\n",
       "3     3.0\n",
       "4     NaN\n",
       "5    45.0\n",
       "6    23.0\n",
       "7     NaN\n",
       "8     NaN\n",
       "9    23.0\n",
       "dtype: float64"
      ]
     },
     "execution_count": 22,
     "metadata": {},
     "output_type": "execute_result"
    }
   ],
   "execution_count": 22
  },
  {
   "metadata": {
    "ExecuteTime": {
     "end_time": "2025-09-09T09:48:34.538486Z",
     "start_time": "2025-09-09T09:48:34.533523Z"
    }
   },
   "cell_type": "code",
   "source": "series.drop_duplicates(keep=False)",
   "id": "db2ebeacd4ea5d3b",
   "outputs": [
    {
     "data": {
      "text/plain": [
       "0     1.0\n",
       "3     3.0\n",
       "5    45.0\n",
       "dtype: float64"
      ]
     },
     "execution_count": 23,
     "metadata": {},
     "output_type": "execute_result"
    }
   ],
   "execution_count": 23
  },
  {
   "metadata": {
    "ExecuteTime": {
     "end_time": "2025-09-09T09:48:41.608973Z",
     "start_time": "2025-09-09T09:48:41.603678Z"
    }
   },
   "cell_type": "code",
   "source": "series",
   "id": "7961bfd5b6b6c58b",
   "outputs": [
    {
     "data": {
      "text/plain": [
       "0     1.0\n",
       "1     2.0\n",
       "2     2.0\n",
       "3     3.0\n",
       "4     NaN\n",
       "5    45.0\n",
       "6    23.0\n",
       "7     NaN\n",
       "8     NaN\n",
       "9    23.0\n",
       "dtype: float64"
      ]
     },
     "execution_count": 24,
     "metadata": {},
     "output_type": "execute_result"
    }
   ],
   "execution_count": 24
  },
  {
   "metadata": {
    "ExecuteTime": {
     "end_time": "2025-09-09T09:48:59.619807Z",
     "start_time": "2025-09-09T09:48:59.615593Z"
    }
   },
   "cell_type": "code",
   "source": "series.drop_duplicates(keep=False , inplace=True)",
   "id": "3d1137bbe5b32fea",
   "outputs": [],
   "execution_count": 25
  },
  {
   "metadata": {
    "ExecuteTime": {
     "end_time": "2025-09-09T09:49:03.629097Z",
     "start_time": "2025-09-09T09:49:03.624479Z"
    }
   },
   "cell_type": "code",
   "source": "series",
   "id": "5fd53dac4054415e",
   "outputs": [
    {
     "data": {
      "text/plain": [
       "0     1.0\n",
       "3     3.0\n",
       "5    45.0\n",
       "dtype: float64"
      ]
     },
     "execution_count": 26,
     "metadata": {},
     "output_type": "execute_result"
    }
   ],
   "execution_count": 26
  },
  {
   "metadata": {
    "ExecuteTime": {
     "end_time": "2025-09-09T09:49:26.655380Z",
     "start_time": "2025-09-09T09:49:26.650963Z"
    }
   },
   "cell_type": "code",
   "source": [
    "series = pd.Series([1,2,2,3,None , 45 , 23 , None , None , 23])\n",
    "series"
   ],
   "id": "be2025acaaf81a01",
   "outputs": [
    {
     "data": {
      "text/plain": [
       "0     1.0\n",
       "1     2.0\n",
       "2     2.0\n",
       "3     3.0\n",
       "4     NaN\n",
       "5    45.0\n",
       "6    23.0\n",
       "7     NaN\n",
       "8     NaN\n",
       "9    23.0\n",
       "dtype: float64"
      ]
     },
     "execution_count": 27,
     "metadata": {},
     "output_type": "execute_result"
    }
   ],
   "execution_count": 27
  },
  {
   "metadata": {
    "ExecuteTime": {
     "end_time": "2025-09-09T09:49:50.997578Z",
     "start_time": "2025-09-09T09:49:50.992405Z"
    }
   },
   "cell_type": "code",
   "source": "series.drop(8)",
   "id": "98657e44e6da86b3",
   "outputs": [
    {
     "data": {
      "text/plain": [
       "0     1.0\n",
       "1     2.0\n",
       "2     2.0\n",
       "3     3.0\n",
       "4     NaN\n",
       "5    45.0\n",
       "6    23.0\n",
       "7     NaN\n",
       "9    23.0\n",
       "dtype: float64"
      ]
     },
     "execution_count": 28,
     "metadata": {},
     "output_type": "execute_result"
    }
   ],
   "execution_count": 28
  },
  {
   "metadata": {
    "ExecuteTime": {
     "end_time": "2025-09-09T09:50:28.217688Z",
     "start_time": "2025-09-09T09:50:28.212013Z"
    }
   },
   "cell_type": "code",
   "source": "series.drop([4,7,8])",
   "id": "f7970c4271a2d89b",
   "outputs": [
    {
     "data": {
      "text/plain": [
       "0     1.0\n",
       "1     2.0\n",
       "2     2.0\n",
       "3     3.0\n",
       "5    45.0\n",
       "6    23.0\n",
       "9    23.0\n",
       "dtype: float64"
      ]
     },
     "execution_count": 29,
     "metadata": {},
     "output_type": "execute_result"
    }
   ],
   "execution_count": 29
  },
  {
   "metadata": {
    "ExecuteTime": {
     "end_time": "2025-09-09T09:54:49.452988Z",
     "start_time": "2025-09-09T09:54:49.447015Z"
    }
   },
   "cell_type": "code",
   "source": "series[series != 45]",
   "id": "98a1494d6c8ee95c",
   "outputs": [
    {
     "data": {
      "text/plain": [
       "0     1.0\n",
       "1     2.0\n",
       "2     2.0\n",
       "3     3.0\n",
       "4     NaN\n",
       "6    23.0\n",
       "7     NaN\n",
       "8     NaN\n",
       "9    23.0\n",
       "dtype: float64"
      ]
     },
     "execution_count": 30,
     "metadata": {},
     "output_type": "execute_result"
    }
   ],
   "execution_count": 30
  },
  {
   "metadata": {},
   "cell_type": "code",
   "outputs": [],
   "execution_count": null,
   "source": "",
   "id": "69127586b2952212"
  }
 ],
 "metadata": {
  "kernelspec": {
   "display_name": "Python 3",
   "language": "python",
   "name": "python3"
  },
  "language_info": {
   "codemirror_mode": {
    "name": "ipython",
    "version": 2
   },
   "file_extension": ".py",
   "mimetype": "text/x-python",
   "name": "python",
   "nbconvert_exporter": "python",
   "pygments_lexer": "ipython2",
   "version": "2.7.6"
  }
 },
 "nbformat": 4,
 "nbformat_minor": 5
}
