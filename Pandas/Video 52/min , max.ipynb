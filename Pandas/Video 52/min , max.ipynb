{
 "cells": [
  {
   "cell_type": "code",
   "id": "initial_id",
   "metadata": {
    "collapsed": true,
    "ExecuteTime": {
     "end_time": "2025-09-06T10:09:27.696452Z",
     "start_time": "2025-09-06T10:09:27.377386Z"
    }
   },
   "source": [
    "import pandas as pd\n",
    "series = pd.Series([21 , 34  , 4 , 90 , None])\n",
    "series"
   ],
   "outputs": [
    {
     "data": {
      "text/plain": [
       "0    21.0\n",
       "1    34.0\n",
       "2     4.0\n",
       "3    90.0\n",
       "4     NaN\n",
       "dtype: float64"
      ]
     },
     "execution_count": 1,
     "metadata": {},
     "output_type": "execute_result"
    }
   ],
   "execution_count": 1
  },
  {
   "metadata": {
    "ExecuteTime": {
     "end_time": "2025-09-06T10:09:36.665173Z",
     "start_time": "2025-09-06T10:09:36.660465Z"
    }
   },
   "cell_type": "code",
   "source": "series.max()",
   "id": "22757779ae6b598f",
   "outputs": [
    {
     "data": {
      "text/plain": [
       "np.float64(90.0)"
      ]
     },
     "execution_count": 2,
     "metadata": {},
     "output_type": "execute_result"
    }
   ],
   "execution_count": 2
  },
  {
   "metadata": {
    "ExecuteTime": {
     "end_time": "2025-09-06T10:09:47.936210Z",
     "start_time": "2025-09-06T10:09:47.931188Z"
    }
   },
   "cell_type": "code",
   "source": "series.argmax()",
   "id": "aa78ac87694aa89f",
   "outputs": [
    {
     "data": {
      "text/plain": [
       "np.int64(3)"
      ]
     },
     "execution_count": 3,
     "metadata": {},
     "output_type": "execute_result"
    }
   ],
   "execution_count": 3
  },
  {
   "metadata": {
    "ExecuteTime": {
     "end_time": "2025-09-06T10:09:55.497690Z",
     "start_time": "2025-09-06T10:09:55.493423Z"
    }
   },
   "cell_type": "code",
   "source": "series.min()",
   "id": "20a1c512b02fd6ce",
   "outputs": [
    {
     "data": {
      "text/plain": [
       "np.float64(4.0)"
      ]
     },
     "execution_count": 4,
     "metadata": {},
     "output_type": "execute_result"
    }
   ],
   "execution_count": 4
  },
  {
   "metadata": {
    "ExecuteTime": {
     "end_time": "2025-09-06T10:10:01.598647Z",
     "start_time": "2025-09-06T10:10:01.594144Z"
    }
   },
   "cell_type": "code",
   "source": "series.argmin()",
   "id": "bd71d2652de4993",
   "outputs": [
    {
     "data": {
      "text/plain": [
       "np.int64(2)"
      ]
     },
     "execution_count": 5,
     "metadata": {},
     "output_type": "execute_result"
    }
   ],
   "execution_count": 5
  },
  {
   "metadata": {
    "ExecuteTime": {
     "end_time": "2025-09-06T10:10:59.214576Z",
     "start_time": "2025-09-06T10:10:59.210011Z"
    }
   },
   "cell_type": "code",
   "source": "series.mean()",
   "id": "5017786b201b1e9a",
   "outputs": [
    {
     "data": {
      "text/plain": [
       "np.float64(37.25)"
      ]
     },
     "execution_count": 6,
     "metadata": {},
     "output_type": "execute_result"
    }
   ],
   "execution_count": 6
  },
  {
   "metadata": {
    "ExecuteTime": {
     "end_time": "2025-09-06T10:11:17.215269Z",
     "start_time": "2025-09-06T10:11:17.209517Z"
    }
   },
   "cell_type": "code",
   "source": "series.median()",
   "id": "5cf8cc60921e2e49",
   "outputs": [
    {
     "data": {
      "text/plain": [
       "np.float64(27.5)"
      ]
     },
     "execution_count": 7,
     "metadata": {},
     "output_type": "execute_result"
    }
   ],
   "execution_count": 7
  },
  {
   "metadata": {
    "ExecuteTime": {
     "end_time": "2025-09-06T10:11:26.970716Z",
     "start_time": "2025-09-06T10:11:26.965670Z"
    }
   },
   "cell_type": "code",
   "source": "series.sum()",
   "id": "a66567565b76a0b4",
   "outputs": [
    {
     "data": {
      "text/plain": [
       "np.float64(149.0)"
      ]
     },
     "execution_count": 8,
     "metadata": {},
     "output_type": "execute_result"
    }
   ],
   "execution_count": 8
  },
  {
   "metadata": {
    "ExecuteTime": {
     "end_time": "2025-09-06T10:11:29.245611Z",
     "start_time": "2025-09-06T10:11:29.241074Z"
    }
   },
   "cell_type": "code",
   "source": "series.std()",
   "id": "c56fa5bd6831a73c",
   "outputs": [
    {
     "data": {
      "text/plain": [
       "np.float64(37.25027964100851)"
      ]
     },
     "execution_count": 9,
     "metadata": {},
     "output_type": "execute_result"
    }
   ],
   "execution_count": 9
  },
  {
   "metadata": {
    "ExecuteTime": {
     "end_time": "2025-09-06T10:13:31.914768Z",
     "start_time": "2025-09-06T10:13:31.908151Z"
    }
   },
   "cell_type": "code",
   "source": "ages = pd.read_csv(\"Employee.csv\" , usecols=['Age']).squeeze()",
   "id": "b79c66d656001d08",
   "outputs": [],
   "execution_count": 11
  },
  {
   "metadata": {
    "ExecuteTime": {
     "end_time": "2025-09-06T10:13:34.514319Z",
     "start_time": "2025-09-06T10:13:34.509518Z"
    }
   },
   "cell_type": "code",
   "source": "ages",
   "id": "b44b6916193944b9",
   "outputs": [
    {
     "data": {
      "text/plain": [
       "0       34\n",
       "1       28\n",
       "2       38\n",
       "3       27\n",
       "4       24\n",
       "        ..\n",
       "4648    26\n",
       "4649    37\n",
       "4650    27\n",
       "4651    30\n",
       "4652    33\n",
       "Name: Age, Length: 4653, dtype: int64"
      ]
     },
     "execution_count": 12,
     "metadata": {},
     "output_type": "execute_result"
    }
   ],
   "execution_count": 12
  },
  {
   "metadata": {
    "ExecuteTime": {
     "end_time": "2025-09-06T10:13:58.448316Z",
     "start_time": "2025-09-06T10:13:58.444504Z"
    }
   },
   "cell_type": "code",
   "source": "ages.max()",
   "id": "5abb42acc1798c60",
   "outputs": [
    {
     "data": {
      "text/plain": [
       "np.int64(41)"
      ]
     },
     "execution_count": 13,
     "metadata": {},
     "output_type": "execute_result"
    }
   ],
   "execution_count": 13
  },
  {
   "metadata": {
    "ExecuteTime": {
     "end_time": "2025-09-06T10:14:04.166826Z",
     "start_time": "2025-09-06T10:14:04.161123Z"
    }
   },
   "cell_type": "code",
   "source": "ages.argmax()",
   "id": "99f9ea8fb5b75fc5",
   "outputs": [
    {
     "data": {
      "text/plain": [
       "np.int64(3004)"
      ]
     },
     "execution_count": 14,
     "metadata": {},
     "output_type": "execute_result"
    }
   ],
   "execution_count": 14
  },
  {
   "metadata": {
    "ExecuteTime": {
     "end_time": "2025-09-06T10:16:48.950932Z",
     "start_time": "2025-09-06T10:16:48.946388Z"
    }
   },
   "cell_type": "code",
   "source": "ages[3004]",
   "id": "44b88a8b6a7e6f3b",
   "outputs": [
    {
     "data": {
      "text/plain": [
       "np.int64(41)"
      ]
     },
     "execution_count": 15,
     "metadata": {},
     "output_type": "execute_result"
    }
   ],
   "execution_count": 15
  },
  {
   "metadata": {
    "ExecuteTime": {
     "end_time": "2025-09-06T10:16:59.496278Z",
     "start_time": "2025-09-06T10:16:59.492182Z"
    }
   },
   "cell_type": "code",
   "source": "ages.sum()",
   "id": "df19222e6bd1db5c",
   "outputs": [
    {
     "data": {
      "text/plain": [
       "np.int64(136767)"
      ]
     },
     "execution_count": 16,
     "metadata": {},
     "output_type": "execute_result"
    }
   ],
   "execution_count": 16
  },
  {
   "metadata": {
    "ExecuteTime": {
     "end_time": "2025-09-06T10:17:30.579788Z",
     "start_time": "2025-09-06T10:17:30.575150Z"
    }
   },
   "cell_type": "code",
   "source": "ages.std()",
   "id": "af993726639b5578",
   "outputs": [
    {
     "data": {
      "text/plain": [
       "np.float64(4.826087009126065)"
      ]
     },
     "execution_count": 17,
     "metadata": {},
     "output_type": "execute_result"
    }
   ],
   "execution_count": 17
  },
  {
   "metadata": {},
   "cell_type": "code",
   "outputs": [],
   "execution_count": null,
   "source": "",
   "id": "7260950a547100d5"
  }
 ],
 "metadata": {
  "kernelspec": {
   "display_name": "Python 3",
   "language": "python",
   "name": "python3"
  },
  "language_info": {
   "codemirror_mode": {
    "name": "ipython",
    "version": 2
   },
   "file_extension": ".py",
   "mimetype": "text/x-python",
   "name": "python",
   "nbconvert_exporter": "python",
   "pygments_lexer": "ipython2",
   "version": "2.7.6"
  }
 },
 "nbformat": 4,
 "nbformat_minor": 5
}
