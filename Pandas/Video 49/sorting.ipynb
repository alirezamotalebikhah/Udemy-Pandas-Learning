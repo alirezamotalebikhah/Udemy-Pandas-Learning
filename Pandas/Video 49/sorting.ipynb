{
 "cells": [
  {
   "cell_type": "code",
   "id": "initial_id",
   "metadata": {
    "collapsed": true,
    "ExecuteTime": {
     "end_time": "2025-09-01T11:39:47.948866Z",
     "start_time": "2025-09-01T11:39:47.496335Z"
    }
   },
   "source": [
    "import pandas as pd\n",
    "series = pd.Series([1, 32 , 4, 90])\n",
    "series"
   ],
   "outputs": [
    {
     "data": {
      "text/plain": [
       "0     1\n",
       "1    32\n",
       "2     4\n",
       "3    90\n",
       "dtype: int64"
      ]
     },
     "execution_count": 1,
     "metadata": {},
     "output_type": "execute_result"
    }
   ],
   "execution_count": 1
  },
  {
   "metadata": {
    "ExecuteTime": {
     "end_time": "2025-09-01T11:40:04.833094Z",
     "start_time": "2025-09-01T11:40:04.828204Z"
    }
   },
   "cell_type": "code",
   "source": "series.sort_index()",
   "id": "76d3859afaec3e39",
   "outputs": [
    {
     "data": {
      "text/plain": [
       "0     1\n",
       "1    32\n",
       "2     4\n",
       "3    90\n",
       "dtype: int64"
      ]
     },
     "execution_count": 2,
     "metadata": {},
     "output_type": "execute_result"
    }
   ],
   "execution_count": 2
  },
  {
   "metadata": {
    "ExecuteTime": {
     "end_time": "2025-09-01T11:40:11.501155Z",
     "start_time": "2025-09-01T11:40:11.495928Z"
    }
   },
   "cell_type": "code",
   "source": "series.sort_index(ascending=False)",
   "id": "ab7ecd1a870a4491",
   "outputs": [
    {
     "data": {
      "text/plain": [
       "3    90\n",
       "2     4\n",
       "1    32\n",
       "0     1\n",
       "dtype: int64"
      ]
     },
     "execution_count": 3,
     "metadata": {},
     "output_type": "execute_result"
    }
   ],
   "execution_count": 3
  },
  {
   "metadata": {
    "ExecuteTime": {
     "end_time": "2025-09-01T11:40:44.336420Z",
     "start_time": "2025-09-01T11:40:44.332900Z"
    }
   },
   "cell_type": "code",
   "source": "series.sort_values(ascending=False , inplace=True)",
   "id": "873d1bbf5fcc1eb4",
   "outputs": [],
   "execution_count": 4
  },
  {
   "metadata": {
    "ExecuteTime": {
     "end_time": "2025-09-01T11:40:58.864142Z",
     "start_time": "2025-09-01T11:40:58.859782Z"
    }
   },
   "cell_type": "code",
   "source": "series",
   "id": "cca16c07adc8c729",
   "outputs": [
    {
     "data": {
      "text/plain": [
       "3    90\n",
       "1    32\n",
       "2     4\n",
       "0     1\n",
       "dtype: int64"
      ]
     },
     "execution_count": 6,
     "metadata": {},
     "output_type": "execute_result"
    }
   ],
   "execution_count": 6
  },
  {
   "metadata": {
    "ExecuteTime": {
     "end_time": "2025-09-01T11:41:23.487095Z",
     "start_time": "2025-09-01T11:41:23.482143Z"
    }
   },
   "cell_type": "code",
   "source": [
    "series.sort_index(kind='mergesort')\n",
    "series"
   ],
   "id": "1af4b064c8de9b1b",
   "outputs": [
    {
     "data": {
      "text/plain": [
       "3    90\n",
       "1    32\n",
       "2     4\n",
       "0     1\n",
       "dtype: int64"
      ]
     },
     "execution_count": 7,
     "metadata": {},
     "output_type": "execute_result"
    }
   ],
   "execution_count": 7
  },
  {
   "metadata": {
    "ExecuteTime": {
     "end_time": "2025-09-01T11:41:51.349843Z",
     "start_time": "2025-09-01T11:41:51.345135Z"
    }
   },
   "cell_type": "code",
   "source": "series.sort_index(kind='quicksort')",
   "id": "7b2c0a10b9c98379",
   "outputs": [
    {
     "data": {
      "text/plain": [
       "0     1\n",
       "1    32\n",
       "2     4\n",
       "3    90\n",
       "dtype: int64"
      ]
     },
     "execution_count": 8,
     "metadata": {},
     "output_type": "execute_result"
    }
   ],
   "execution_count": 8
  },
  {
   "metadata": {
    "ExecuteTime": {
     "end_time": "2025-09-01T11:42:51.278695Z",
     "start_time": "2025-09-01T11:42:51.275471Z"
    }
   },
   "cell_type": "code",
   "source": "series.sort_index(ascending=False , inplace=True , kind='heapsort')\n",
   "id": "1a6b136725ac63b",
   "outputs": [],
   "execution_count": 9
  },
  {
   "metadata": {
    "ExecuteTime": {
     "end_time": "2025-09-01T11:42:53.625929Z",
     "start_time": "2025-09-01T11:42:53.621804Z"
    }
   },
   "cell_type": "code",
   "source": "series",
   "id": "1b4089a037cd646f",
   "outputs": [
    {
     "data": {
      "text/plain": [
       "3    90\n",
       "2     4\n",
       "1    32\n",
       "0     1\n",
       "dtype: int64"
      ]
     },
     "execution_count": 10,
     "metadata": {},
     "output_type": "execute_result"
    }
   ],
   "execution_count": 10
  },
  {
   "metadata": {
    "ExecuteTime": {
     "end_time": "2025-09-01T11:45:15.931072Z",
     "start_time": "2025-09-01T11:45:15.925212Z"
    }
   },
   "cell_type": "code",
   "source": [
    "series = pd.Series(index= [20 ,1 , 90 , None , 100 , None , 2 , None , 30] , data=['usa' , 'uk' , 'uae' , 'japan','korea','china','india' , 'iran' , 'iraq'])\n",
    "series"
   ],
   "id": "45ba4fcf789554f",
   "outputs": [
    {
     "data": {
      "text/plain": [
       "20.0       usa\n",
       "1.0         uk\n",
       "90.0       uae\n",
       "NaN      japan\n",
       "100.0    korea\n",
       "NaN      china\n",
       "2.0      india\n",
       "NaN       iran\n",
       "30.0      iraq\n",
       "dtype: object"
      ]
     },
     "execution_count": 12,
     "metadata": {},
     "output_type": "execute_result"
    }
   ],
   "execution_count": 12
  },
  {
   "metadata": {
    "ExecuteTime": {
     "end_time": "2025-09-01T11:45:37.920668Z",
     "start_time": "2025-09-01T11:45:37.913454Z"
    }
   },
   "cell_type": "code",
   "source": "series.sort_index(na_position='last')",
   "id": "2fb42b211194910a",
   "outputs": [
    {
     "data": {
      "text/plain": [
       "1.0         uk\n",
       "2.0      india\n",
       "20.0       usa\n",
       "30.0      iraq\n",
       "90.0       uae\n",
       "100.0    korea\n",
       "NaN      japan\n",
       "NaN      china\n",
       "NaN       iran\n",
       "dtype: object"
      ]
     },
     "execution_count": 13,
     "metadata": {},
     "output_type": "execute_result"
    }
   ],
   "execution_count": 13
  },
  {
   "metadata": {
    "ExecuteTime": {
     "end_time": "2025-09-01T11:47:30.355925Z",
     "start_time": "2025-09-01T11:47:30.351022Z"
    }
   },
   "cell_type": "code",
   "source": [
    "series = pd.Series(index=['banana' , 'apple' , 'cherry',None , 'lichi' , 'fig'] , data=[2,10,5,0,4,12])\n",
    "series"
   ],
   "id": "2b6ec7265cb2db7b",
   "outputs": [
    {
     "data": {
      "text/plain": [
       "banana     2\n",
       "apple     10\n",
       "cherry     5\n",
       "None       0\n",
       "lichi      4\n",
       "fig       12\n",
       "dtype: int64"
      ]
     },
     "execution_count": 15,
     "metadata": {},
     "output_type": "execute_result"
    }
   ],
   "execution_count": 15
  },
  {
   "metadata": {
    "ExecuteTime": {
     "end_time": "2025-09-01T11:48:30.635623Z",
     "start_time": "2025-09-01T11:48:30.628104Z"
    }
   },
   "cell_type": "code",
   "source": "series.sort_index(key = lambda x:x.str.len())",
   "id": "48d87ae979b58cae",
   "outputs": [
    {
     "data": {
      "text/plain": [
       "fig       12\n",
       "apple     10\n",
       "lichi      4\n",
       "banana     2\n",
       "cherry     5\n",
       "None       0\n",
       "dtype: int64"
      ]
     },
     "execution_count": 16,
     "metadata": {},
     "output_type": "execute_result"
    }
   ],
   "execution_count": 16
  },
  {
   "metadata": {
    "ExecuteTime": {
     "end_time": "2025-09-01T11:48:44.640108Z",
     "start_time": "2025-09-01T11:48:44.635574Z"
    }
   },
   "cell_type": "code",
   "source": "series",
   "id": "e5f46f01c115854f",
   "outputs": [
    {
     "data": {
      "text/plain": [
       "banana     2\n",
       "apple     10\n",
       "cherry     5\n",
       "None       0\n",
       "lichi      4\n",
       "fig       12\n",
       "dtype: int64"
      ]
     },
     "execution_count": 17,
     "metadata": {},
     "output_type": "execute_result"
    }
   ],
   "execution_count": 17
  },
  {
   "metadata": {
    "ExecuteTime": {
     "end_time": "2025-09-01T11:48:58.845790Z",
     "start_time": "2025-09-01T11:48:58.840135Z"
    }
   },
   "cell_type": "code",
   "source": [
    "series.sort_index(key = lambda x:x.str.len() , inplace=True )\n",
    "series"
   ],
   "id": "bef2f177cc47de65",
   "outputs": [
    {
     "data": {
      "text/plain": [
       "fig       12\n",
       "apple     10\n",
       "lichi      4\n",
       "banana     2\n",
       "cherry     5\n",
       "None       0\n",
       "dtype: int64"
      ]
     },
     "execution_count": 18,
     "metadata": {},
     "output_type": "execute_result"
    }
   ],
   "execution_count": 18
  },
  {
   "metadata": {
    "ExecuteTime": {
     "end_time": "2025-09-01T11:49:37.986179Z",
     "start_time": "2025-09-01T11:49:37.979580Z"
    }
   },
   "cell_type": "code",
   "source": [
    "series.sort_index(key = lambda x:x.str.len() , ascending=False , inplace=True , kind='heapsort',na_position='first')\n",
    "series"
   ],
   "id": "e9e31aa07eb59b53",
   "outputs": [
    {
     "data": {
      "text/plain": [
       "None       0\n",
       "cherry     5\n",
       "banana     2\n",
       "apple     10\n",
       "lichi      4\n",
       "fig       12\n",
       "dtype: int64"
      ]
     },
     "execution_count": 19,
     "metadata": {},
     "output_type": "execute_result"
    }
   ],
   "execution_count": 19
  },
  {
   "metadata": {},
   "cell_type": "code",
   "outputs": [],
   "execution_count": null,
   "source": "",
   "id": "a05b3e2245eab246"
  }
 ],
 "metadata": {
  "kernelspec": {
   "display_name": "Python 3",
   "language": "python",
   "name": "python3"
  },
  "language_info": {
   "codemirror_mode": {
    "name": "ipython",
    "version": 2
   },
   "file_extension": ".py",
   "mimetype": "text/x-python",
   "name": "python",
   "nbconvert_exporter": "python",
   "pygments_lexer": "ipython2",
   "version": "2.7.6"
  }
 },
 "nbformat": 4,
 "nbformat_minor": 5
}
