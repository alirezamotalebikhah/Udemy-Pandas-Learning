{
 "cells": [
  {
   "cell_type": "code",
   "id": "initial_id",
   "metadata": {
    "collapsed": true,
    "ExecuteTime": {
     "end_time": "2025-09-09T10:12:20.613673Z",
     "start_time": "2025-09-09T10:12:20.263047Z"
    }
   },
   "source": [
    "import pandas as pd\n",
    "city = pd.read_csv('Employee.csv' , usecols=['City' , 'Age'] , index_col=0).squeeze()"
   ],
   "outputs": [],
   "execution_count": 1
  },
  {
   "metadata": {
    "ExecuteTime": {
     "end_time": "2025-09-09T10:12:23.858162Z",
     "start_time": "2025-09-09T10:12:23.848107Z"
    }
   },
   "cell_type": "code",
   "source": "city",
   "id": "14a301dc02eae8de",
   "outputs": [
    {
     "data": {
      "text/plain": [
       "City\n",
       "Bangalore    34\n",
       "Pune         28\n",
       "New Delhi    38\n",
       "Bangalore    27\n",
       "Pune         24\n",
       "             ..\n",
       "Bangalore    26\n",
       "Pune         37\n",
       "New Delhi    27\n",
       "Bangalore    30\n",
       "Bangalore    33\n",
       "Name: Age, Length: 4653, dtype: int64"
      ]
     },
     "execution_count": 2,
     "metadata": {},
     "output_type": "execute_result"
    }
   ],
   "execution_count": 2
  },
  {
   "metadata": {
    "ExecuteTime": {
     "end_time": "2025-09-09T10:14:26.699399Z",
     "start_time": "2025-09-09T10:14:26.692609Z"
    }
   },
   "cell_type": "code",
   "source": "city.where(city<26)",
   "id": "7ee815ecd0ed1eb9",
   "outputs": [
    {
     "data": {
      "text/plain": [
       "City\n",
       "Bangalore     NaN\n",
       "Pune          NaN\n",
       "New Delhi     NaN\n",
       "Bangalore     NaN\n",
       "Pune         24.0\n",
       "             ... \n",
       "Bangalore     NaN\n",
       "Pune          NaN\n",
       "New Delhi     NaN\n",
       "Bangalore     NaN\n",
       "Bangalore     NaN\n",
       "Name: Age, Length: 4653, dtype: float64"
      ]
     },
     "execution_count": 4,
     "metadata": {},
     "output_type": "execute_result"
    }
   ],
   "execution_count": 4
  },
  {
   "metadata": {
    "ExecuteTime": {
     "end_time": "2025-09-09T10:15:07.714276Z",
     "start_time": "2025-09-09T10:15:07.708505Z"
    }
   },
   "cell_type": "code",
   "source": "city.where(city<26 , other = 0)",
   "id": "6953e288f25633a4",
   "outputs": [
    {
     "data": {
      "text/plain": [
       "City\n",
       "Bangalore     0\n",
       "Pune          0\n",
       "New Delhi     0\n",
       "Bangalore     0\n",
       "Pune         24\n",
       "             ..\n",
       "Bangalore     0\n",
       "Pune          0\n",
       "New Delhi     0\n",
       "Bangalore     0\n",
       "Bangalore     0\n",
       "Name: Age, Length: 4653, dtype: int64"
      ]
     },
     "execution_count": 5,
     "metadata": {},
     "output_type": "execute_result"
    }
   ],
   "execution_count": 5
  },
  {
   "metadata": {
    "ExecuteTime": {
     "end_time": "2025-09-09T10:16:30.748870Z",
     "start_time": "2025-09-09T10:16:30.742160Z"
    }
   },
   "cell_type": "code",
   "source": "city.where((city<26) & (city>22))",
   "id": "7b95b836f54a3c67",
   "outputs": [
    {
     "data": {
      "text/plain": [
       "City\n",
       "Bangalore     NaN\n",
       "Pune          NaN\n",
       "New Delhi     NaN\n",
       "Bangalore     NaN\n",
       "Pune         24.0\n",
       "             ... \n",
       "Bangalore     NaN\n",
       "Pune          NaN\n",
       "New Delhi     NaN\n",
       "Bangalore     NaN\n",
       "Bangalore     NaN\n",
       "Name: Age, Length: 4653, dtype: float64"
      ]
     },
     "execution_count": 7,
     "metadata": {},
     "output_type": "execute_result"
    }
   ],
   "execution_count": 7
  },
  {
   "metadata": {
    "ExecuteTime": {
     "end_time": "2025-09-09T10:16:40.010457Z",
     "start_time": "2025-09-09T10:16:40.005223Z"
    }
   },
   "cell_type": "code",
   "source": "city",
   "id": "282f2e5d5c69ef0e",
   "outputs": [
    {
     "data": {
      "text/plain": [
       "City\n",
       "Bangalore    34\n",
       "Pune         28\n",
       "New Delhi    38\n",
       "Bangalore    27\n",
       "Pune         24\n",
       "             ..\n",
       "Bangalore    26\n",
       "Pune         37\n",
       "New Delhi    27\n",
       "Bangalore    30\n",
       "Bangalore    33\n",
       "Name: Age, Length: 4653, dtype: int64"
      ]
     },
     "execution_count": 8,
     "metadata": {},
     "output_type": "execute_result"
    }
   ],
   "execution_count": 8
  },
  {
   "metadata": {
    "ExecuteTime": {
     "end_time": "2025-09-09T10:21:23.340102Z",
     "start_time": "2025-09-09T10:21:23.330985Z"
    }
   },
   "cell_type": "code",
   "source": "city.mask(city < 26 ) ",
   "id": "ce585e1d4b9b6a47",
   "outputs": [
    {
     "data": {
      "text/plain": [
       "City\n",
       "Bangalore    34.0\n",
       "Pune         28.0\n",
       "New Delhi    38.0\n",
       "Bangalore    27.0\n",
       "Pune          NaN\n",
       "             ... \n",
       "Bangalore    26.0\n",
       "Pune         37.0\n",
       "New Delhi    27.0\n",
       "Bangalore    30.0\n",
       "Bangalore    33.0\n",
       "Name: Age, Length: 4653, dtype: float64"
      ]
     },
     "execution_count": 9,
     "metadata": {},
     "output_type": "execute_result"
    }
   ],
   "execution_count": 9
  },
  {
   "metadata": {
    "ExecuteTime": {
     "end_time": "2025-09-09T10:21:40.078391Z",
     "start_time": "2025-09-09T10:21:40.071729Z"
    }
   },
   "cell_type": "code",
   "source": "city.mask((city < 26) & (city>22) ) ",
   "id": "8402ce0f104ee13f",
   "outputs": [
    {
     "data": {
      "text/plain": [
       "City\n",
       "Bangalore    34.0\n",
       "Pune         28.0\n",
       "New Delhi    38.0\n",
       "Bangalore    27.0\n",
       "Pune          NaN\n",
       "             ... \n",
       "Bangalore    26.0\n",
       "Pune         37.0\n",
       "New Delhi    27.0\n",
       "Bangalore    30.0\n",
       "Bangalore    33.0\n",
       "Name: Age, Length: 4653, dtype: float64"
      ]
     },
     "execution_count": 10,
     "metadata": {},
     "output_type": "execute_result"
    }
   ],
   "execution_count": 10
  },
  {
   "metadata": {
    "ExecuteTime": {
     "end_time": "2025-09-09T10:23:05.063673Z",
     "start_time": "2025-09-09T10:23:05.057449Z"
    }
   },
   "cell_type": "code",
   "source": "city.between(22 , 26)",
   "id": "15395ed2682c7f71",
   "outputs": [
    {
     "data": {
      "text/plain": [
       "City\n",
       "Bangalore    False\n",
       "Pune         False\n",
       "New Delhi    False\n",
       "Bangalore    False\n",
       "Pune          True\n",
       "             ...  \n",
       "Bangalore     True\n",
       "Pune         False\n",
       "New Delhi    False\n",
       "Bangalore    False\n",
       "Bangalore    False\n",
       "Name: Age, Length: 4653, dtype: bool"
      ]
     },
     "execution_count": 11,
     "metadata": {},
     "output_type": "execute_result"
    }
   ],
   "execution_count": 11
  },
  {
   "metadata": {
    "ExecuteTime": {
     "end_time": "2025-09-09T10:25:38.708964Z",
     "start_time": "2025-09-09T10:25:38.703163Z"
    }
   },
   "cell_type": "code",
   "source": "city[city.between(22 , 26)]",
   "id": "6447005a50bb9581",
   "outputs": [
    {
     "data": {
      "text/plain": [
       "City\n",
       "Pune         24\n",
       "Bangalore    22\n",
       "Pune         23\n",
       "New Delhi    22\n",
       "Bangalore    22\n",
       "             ..\n",
       "Pune         25\n",
       "Bangalore    22\n",
       "Bangalore    26\n",
       "Bangalore    25\n",
       "Bangalore    26\n",
       "Name: Age, Length: 1545, dtype: int64"
      ]
     },
     "execution_count": 12,
     "metadata": {},
     "output_type": "execute_result"
    }
   ],
   "execution_count": 12
  },
  {
   "metadata": {
    "ExecuteTime": {
     "end_time": "2025-09-09T10:26:22.803339Z",
     "start_time": "2025-09-09T10:26:22.796273Z"
    }
   },
   "cell_type": "code",
   "source": "city.where(lambda c : c > 26)",
   "id": "d775662080ee484e",
   "outputs": [
    {
     "data": {
      "text/plain": [
       "City\n",
       "Bangalore    34.0\n",
       "Pune         28.0\n",
       "New Delhi    38.0\n",
       "Bangalore    27.0\n",
       "Pune          NaN\n",
       "             ... \n",
       "Bangalore     NaN\n",
       "Pune         37.0\n",
       "New Delhi    27.0\n",
       "Bangalore    30.0\n",
       "Bangalore    33.0\n",
       "Name: Age, Length: 4653, dtype: float64"
      ]
     },
     "execution_count": 13,
     "metadata": {},
     "output_type": "execute_result"
    }
   ],
   "execution_count": 13
  },
  {
   "metadata": {
    "ExecuteTime": {
     "end_time": "2025-09-09T10:30:19.948622Z",
     "start_time": "2025-09-09T10:30:19.941173Z"
    }
   },
   "cell_type": "code",
   "source": "city.where(lambda c : c > 26 , other = 0)",
   "id": "c881f0c8842410df",
   "outputs": [
    {
     "data": {
      "text/plain": [
       "City\n",
       "Bangalore    34\n",
       "Pune         28\n",
       "New Delhi    38\n",
       "Bangalore    27\n",
       "Pune          0\n",
       "             ..\n",
       "Bangalore     0\n",
       "Pune         37\n",
       "New Delhi    27\n",
       "Bangalore    30\n",
       "Bangalore    33\n",
       "Name: Age, Length: 4653, dtype: int64"
      ]
     },
     "execution_count": 14,
     "metadata": {},
     "output_type": "execute_result"
    }
   ],
   "execution_count": 14
  },
  {
   "metadata": {
    "ExecuteTime": {
     "end_time": "2025-09-09T10:30:56.590800Z",
     "start_time": "2025-09-09T10:30:56.588367Z"
    }
   },
   "cell_type": "code",
   "source": [
    "def getcity(x):\n",
    "    return x > 26\n"
   ],
   "id": "2450a43cf0ee98b6",
   "outputs": [],
   "execution_count": 15
  },
  {
   "metadata": {
    "ExecuteTime": {
     "end_time": "2025-09-09T10:31:26.806633Z",
     "start_time": "2025-09-09T10:31:26.800561Z"
    }
   },
   "cell_type": "code",
   "source": "city.where(getcity(city) , other = 0)",
   "id": "6c98b4900edd1c36",
   "outputs": [
    {
     "data": {
      "text/plain": [
       "City\n",
       "Bangalore    34\n",
       "Pune         28\n",
       "New Delhi    38\n",
       "Bangalore    27\n",
       "Pune          0\n",
       "             ..\n",
       "Bangalore     0\n",
       "Pune         37\n",
       "New Delhi    27\n",
       "Bangalore    30\n",
       "Bangalore    33\n",
       "Name: Age, Length: 4653, dtype: int64"
      ]
     },
     "execution_count": 17,
     "metadata": {},
     "output_type": "execute_result"
    }
   ],
   "execution_count": 17
  },
  {
   "metadata": {
    "ExecuteTime": {
     "end_time": "2025-09-09T10:31:42.107352Z",
     "start_time": "2025-09-09T10:31:42.101197Z"
    }
   },
   "cell_type": "code",
   "source": "city.mask(getcity(city) , other = 0)",
   "id": "e3db8e2d119817dc",
   "outputs": [
    {
     "data": {
      "text/plain": [
       "City\n",
       "Bangalore     0\n",
       "Pune          0\n",
       "New Delhi     0\n",
       "Bangalore     0\n",
       "Pune         24\n",
       "             ..\n",
       "Bangalore    26\n",
       "Pune          0\n",
       "New Delhi     0\n",
       "Bangalore     0\n",
       "Bangalore     0\n",
       "Name: Age, Length: 4653, dtype: int64"
      ]
     },
     "execution_count": 18,
     "metadata": {},
     "output_type": "execute_result"
    }
   ],
   "execution_count": 18
  },
  {
   "metadata": {
    "ExecuteTime": {
     "end_time": "2025-09-09T10:33:14.138793Z",
     "start_time": "2025-09-09T10:33:14.132289Z"
    }
   },
   "cell_type": "code",
   "source": "city.apply(lambda x : x > 26)",
   "id": "6e8fd126d1df4f51",
   "outputs": [
    {
     "data": {
      "text/plain": [
       "City\n",
       "Bangalore     True\n",
       "Pune          True\n",
       "New Delhi     True\n",
       "Bangalore     True\n",
       "Pune         False\n",
       "             ...  \n",
       "Bangalore    False\n",
       "Pune          True\n",
       "New Delhi     True\n",
       "Bangalore     True\n",
       "Bangalore     True\n",
       "Name: Age, Length: 4653, dtype: bool"
      ]
     },
     "execution_count": 20,
     "metadata": {},
     "output_type": "execute_result"
    }
   ],
   "execution_count": 20
  },
  {
   "metadata": {
    "ExecuteTime": {
     "end_time": "2025-09-09T10:33:32.573613Z",
     "start_time": "2025-09-09T10:33:32.566614Z"
    }
   },
   "cell_type": "code",
   "source": "city[city.apply(lambda x : x > 26)]",
   "id": "3482b192798617c5",
   "outputs": [
    {
     "data": {
      "text/plain": [
       "City\n",
       "Bangalore    34\n",
       "Pune         28\n",
       "New Delhi    38\n",
       "Bangalore    27\n",
       "New Delhi    38\n",
       "             ..\n",
       "Pune         30\n",
       "Pune         37\n",
       "New Delhi    27\n",
       "Bangalore    30\n",
       "Bangalore    33\n",
       "Name: Age, Length: 3108, dtype: int64"
      ]
     },
     "execution_count": 21,
     "metadata": {},
     "output_type": "execute_result"
    }
   ],
   "execution_count": 21
  },
  {
   "metadata": {
    "ExecuteTime": {
     "end_time": "2025-09-09T10:34:26.567218Z",
     "start_time": "2025-09-09T10:34:26.559563Z"
    }
   },
   "cell_type": "code",
   "source": "city[city.apply(getcity)]",
   "id": "654e8852cda13a3c",
   "outputs": [
    {
     "data": {
      "text/plain": [
       "City\n",
       "Bangalore    34\n",
       "Pune         28\n",
       "New Delhi    38\n",
       "Bangalore    27\n",
       "New Delhi    38\n",
       "             ..\n",
       "Pune         30\n",
       "Pune         37\n",
       "New Delhi    27\n",
       "Bangalore    30\n",
       "Bangalore    33\n",
       "Name: Age, Length: 3108, dtype: int64"
      ]
     },
     "execution_count": 24,
     "metadata": {},
     "output_type": "execute_result"
    }
   ],
   "execution_count": 24
  },
  {
   "metadata": {},
   "cell_type": "code",
   "outputs": [],
   "execution_count": null,
   "source": "",
   "id": "1918ede9c97a6168"
  }
 ],
 "metadata": {
  "kernelspec": {
   "display_name": "Python 3",
   "language": "python",
   "name": "python3"
  },
  "language_info": {
   "codemirror_mode": {
    "name": "ipython",
    "version": 2
   },
   "file_extension": ".py",
   "mimetype": "text/x-python",
   "name": "python",
   "nbconvert_exporter": "python",
   "pygments_lexer": "ipython2",
   "version": "2.7.6"
  }
 },
 "nbformat": 4,
 "nbformat_minor": 5
}
