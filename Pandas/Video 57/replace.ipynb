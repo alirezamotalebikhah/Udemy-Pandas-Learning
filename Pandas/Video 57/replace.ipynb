{
 "cells": [
  {
   "cell_type": "code",
   "id": "initial_id",
   "metadata": {
    "collapsed": true,
    "ExecuteTime": {
     "end_time": "2025-09-09T11:10:08.238980Z",
     "start_time": "2025-09-09T11:10:07.778898Z"
    }
   },
   "source": [
    "import pandas as pd\n",
    "from mpmath import limit\n",
    "\n",
    "series = pd.Series([12 , 23 , 23 , 4 , 5 , 9 , 9])\n",
    "series"
   ],
   "outputs": [
    {
     "data": {
      "text/plain": [
       "0    12\n",
       "1    23\n",
       "2    23\n",
       "3     4\n",
       "4     5\n",
       "5     9\n",
       "6     9\n",
       "dtype: int64"
      ]
     },
     "execution_count": 1,
     "metadata": {},
     "output_type": "execute_result"
    }
   ],
   "execution_count": 1
  },
  {
   "metadata": {
    "ExecuteTime": {
     "end_time": "2025-09-09T11:10:31.546259Z",
     "start_time": "2025-09-09T11:10:31.541404Z"
    }
   },
   "cell_type": "code",
   "source": "series.replace(12 , 120)",
   "id": "c9491ff3ac29d86a",
   "outputs": [
    {
     "data": {
      "text/plain": [
       "0    120\n",
       "1     23\n",
       "2     23\n",
       "3      4\n",
       "4      5\n",
       "5      9\n",
       "6      9\n",
       "dtype: int64"
      ]
     },
     "execution_count": 2,
     "metadata": {},
     "output_type": "execute_result"
    }
   ],
   "execution_count": 2
  },
  {
   "metadata": {
    "ExecuteTime": {
     "end_time": "2025-09-09T11:10:39.533687Z",
     "start_time": "2025-09-09T11:10:39.528687Z"
    }
   },
   "cell_type": "code",
   "source": "series",
   "id": "7d7222337450b189",
   "outputs": [
    {
     "data": {
      "text/plain": [
       "0    12\n",
       "1    23\n",
       "2    23\n",
       "3     4\n",
       "4     5\n",
       "5     9\n",
       "6     9\n",
       "dtype: int64"
      ]
     },
     "execution_count": 3,
     "metadata": {},
     "output_type": "execute_result"
    }
   ],
   "execution_count": 3
  },
  {
   "metadata": {
    "ExecuteTime": {
     "end_time": "2025-09-09T11:11:04.687134Z",
     "start_time": "2025-09-09T11:11:04.681864Z"
    }
   },
   "cell_type": "code",
   "source": [
    "series.replace(12 , 120 , inplace = True)\n",
    "series"
   ],
   "id": "8b9daa8cebc06480",
   "outputs": [
    {
     "data": {
      "text/plain": [
       "0    120\n",
       "1     23\n",
       "2     23\n",
       "3      4\n",
       "4      5\n",
       "5      9\n",
       "6      9\n",
       "dtype: int64"
      ]
     },
     "execution_count": 4,
     "metadata": {},
     "output_type": "execute_result"
    }
   ],
   "execution_count": 4
  },
  {
   "metadata": {
    "ExecuteTime": {
     "end_time": "2025-09-09T11:11:26.446458Z",
     "start_time": "2025-09-09T11:11:26.441952Z"
    }
   },
   "cell_type": "code",
   "source": "series.replace(23 , 230)",
   "id": "8017ef54ca368a60",
   "outputs": [
    {
     "data": {
      "text/plain": [
       "0    120\n",
       "1    230\n",
       "2    230\n",
       "3      4\n",
       "4      5\n",
       "5      9\n",
       "6      9\n",
       "dtype: int64"
      ]
     },
     "execution_count": 5,
     "metadata": {},
     "output_type": "execute_result"
    }
   ],
   "execution_count": 5
  },
  {
   "metadata": {
    "ExecuteTime": {
     "end_time": "2025-09-09T11:12:08.291373Z",
     "start_time": "2025-09-09T11:12:08.286844Z"
    }
   },
   "cell_type": "code",
   "source": "series.replace([23 , 4 , 9] , [230 , 444 , 999])",
   "id": "1584f5191b4a9782",
   "outputs": [
    {
     "data": {
      "text/plain": [
       "0    120\n",
       "1    230\n",
       "2    230\n",
       "3    444\n",
       "4      5\n",
       "5    999\n",
       "6    999\n",
       "dtype: int64"
      ]
     },
     "execution_count": 6,
     "metadata": {},
     "output_type": "execute_result"
    }
   ],
   "execution_count": 6
  },
  {
   "metadata": {
    "ExecuteTime": {
     "end_time": "2025-09-09T11:12:16.120086Z",
     "start_time": "2025-09-09T11:12:16.115732Z"
    }
   },
   "cell_type": "code",
   "source": "series",
   "id": "87e1f84d82fff92",
   "outputs": [
    {
     "data": {
      "text/plain": [
       "0    120\n",
       "1     23\n",
       "2     23\n",
       "3      4\n",
       "4      5\n",
       "5      9\n",
       "6      9\n",
       "dtype: int64"
      ]
     },
     "execution_count": 7,
     "metadata": {},
     "output_type": "execute_result"
    }
   ],
   "execution_count": 7
  },
  {
   "metadata": {
    "ExecuteTime": {
     "end_time": "2025-09-09T11:12:44.743671Z",
     "start_time": "2025-09-09T11:12:44.737659Z"
    }
   },
   "cell_type": "code",
   "source": "series.replace(23 , 230 , limit = 1) ",
   "id": "49e92d7a7b14fa29",
   "outputs": [
    {
     "name": "stderr",
     "output_type": "stream",
     "text": [
      "C:\\Users\\ASUS\\AppData\\Local\\Temp\\ipykernel_1688\\1405685630.py:1: FutureWarning: The 'limit' keyword in Series.replace is deprecated and will be removed in a future version.\n",
      "  series.replace(23 , 230 , limit = 1)\n"
     ]
    },
    {
     "data": {
      "text/plain": [
       "0    120\n",
       "1    230\n",
       "2    230\n",
       "3      4\n",
       "4      5\n",
       "5      9\n",
       "6      9\n",
       "dtype: int64"
      ]
     },
     "execution_count": 8,
     "metadata": {},
     "output_type": "execute_result"
    }
   ],
   "execution_count": 8
  },
  {
   "metadata": {
    "ExecuteTime": {
     "end_time": "2025-09-09T11:14:05.378534Z",
     "start_time": "2025-09-09T11:14:05.373887Z"
    }
   },
   "cell_type": "code",
   "source": [
    "st_series = pd.Series(['apple' , 'berry' , 'banan' , 'orange' , 'artbus'])\n",
    "st_series"
   ],
   "id": "535c751344ebaf1f",
   "outputs": [
    {
     "data": {
      "text/plain": [
       "0     apple\n",
       "1     berry\n",
       "2     banan\n",
       "3    orange\n",
       "4    artbus\n",
       "dtype: object"
      ]
     },
     "execution_count": 9,
     "metadata": {},
     "output_type": "execute_result"
    }
   ],
   "execution_count": 9
  },
  {
   "metadata": {
    "ExecuteTime": {
     "end_time": "2025-09-09T11:15:22.048306Z",
     "start_time": "2025-09-09T11:15:22.043783Z"
    }
   },
   "cell_type": "code",
   "source": "st_series.replace(r'^b.*' , 'Cherry' , regex=True)",
   "id": "f04928d60197c1",
   "outputs": [
    {
     "data": {
      "text/plain": [
       "0     apple\n",
       "1    Cherry\n",
       "2    Cherry\n",
       "3    orange\n",
       "4    artbus\n",
       "dtype: object"
      ]
     },
     "execution_count": 11,
     "metadata": {},
     "output_type": "execute_result"
    }
   ],
   "execution_count": 11
  },
  {
   "metadata": {},
   "cell_type": "code",
   "outputs": [],
   "execution_count": null,
   "source": "",
   "id": "713087c67d3cf4d2"
  }
 ],
 "metadata": {
  "kernelspec": {
   "display_name": "Python 3",
   "language": "python",
   "name": "python3"
  },
  "language_info": {
   "codemirror_mode": {
    "name": "ipython",
    "version": 2
   },
   "file_extension": ".py",
   "mimetype": "text/x-python",
   "name": "python",
   "nbconvert_exporter": "python",
   "pygments_lexer": "ipython2",
   "version": "2.7.6"
  }
 },
 "nbformat": 4,
 "nbformat_minor": 5
}
