{
 "cells": [
  {
   "cell_type": "code",
   "id": "initial_id",
   "metadata": {
    "collapsed": true,
    "ExecuteTime": {
     "end_time": "2025-09-01T11:51:39.340489Z",
     "start_time": "2025-09-01T11:51:39.009982Z"
    }
   },
   "source": [
    "import pandas as pd\n",
    "series = pd.Series([12 , 43 , 6])\n",
    "series"
   ],
   "outputs": [
    {
     "data": {
      "text/plain": [
       "0    12\n",
       "1    43\n",
       "2     6\n",
       "dtype: int64"
      ]
     },
     "execution_count": 1,
     "metadata": {},
     "output_type": "execute_result"
    }
   ],
   "execution_count": 1
  },
  {
   "metadata": {
    "ExecuteTime": {
     "end_time": "2025-09-01T11:51:57.353506Z",
     "start_time": "2025-09-01T11:51:57.349076Z"
    }
   },
   "cell_type": "code",
   "source": "series + 10",
   "id": "a7c9cf3a2c3eb596",
   "outputs": [
    {
     "data": {
      "text/plain": [
       "0    22\n",
       "1    53\n",
       "2    16\n",
       "dtype: int64"
      ]
     },
     "execution_count": 2,
     "metadata": {},
     "output_type": "execute_result"
    }
   ],
   "execution_count": 2
  },
  {
   "metadata": {
    "ExecuteTime": {
     "end_time": "2025-09-01T11:52:20.471694Z",
     "start_time": "2025-09-01T11:52:20.466315Z"
    }
   },
   "cell_type": "code",
   "source": "series - 10",
   "id": "7dd3321b4d629af7",
   "outputs": [
    {
     "data": {
      "text/plain": [
       "0     2\n",
       "1    33\n",
       "2    -4\n",
       "dtype: int64"
      ]
     },
     "execution_count": 3,
     "metadata": {},
     "output_type": "execute_result"
    }
   ],
   "execution_count": 3
  },
  {
   "metadata": {
    "ExecuteTime": {
     "end_time": "2025-09-01T11:52:26.296884Z",
     "start_time": "2025-09-01T11:52:26.292142Z"
    }
   },
   "cell_type": "code",
   "source": "series * 10",
   "id": "59702bcda10d01b6",
   "outputs": [
    {
     "data": {
      "text/plain": [
       "0    120\n",
       "1    430\n",
       "2     60\n",
       "dtype: int64"
      ]
     },
     "execution_count": 4,
     "metadata": {},
     "output_type": "execute_result"
    }
   ],
   "execution_count": 4
  },
  {
   "metadata": {
    "ExecuteTime": {
     "end_time": "2025-09-01T11:52:28.796674Z",
     "start_time": "2025-09-01T11:52:28.791685Z"
    }
   },
   "cell_type": "code",
   "source": "series / 10",
   "id": "c6a086361ee43274",
   "outputs": [
    {
     "data": {
      "text/plain": [
       "0    1.2\n",
       "1    4.3\n",
       "2    0.6\n",
       "dtype: float64"
      ]
     },
     "execution_count": 5,
     "metadata": {},
     "output_type": "execute_result"
    }
   ],
   "execution_count": 5
  },
  {
   "metadata": {
    "ExecuteTime": {
     "end_time": "2025-09-01T11:52:43.328720Z",
     "start_time": "2025-09-01T11:52:43.324118Z"
    }
   },
   "cell_type": "code",
   "source": "series.add(10)",
   "id": "b69395332884962c",
   "outputs": [
    {
     "data": {
      "text/plain": [
       "0    22\n",
       "1    53\n",
       "2    16\n",
       "dtype: int64"
      ]
     },
     "execution_count": 6,
     "metadata": {},
     "output_type": "execute_result"
    }
   ],
   "execution_count": 6
  },
  {
   "metadata": {
    "ExecuteTime": {
     "end_time": "2025-09-01T11:53:01.180402Z",
     "start_time": "2025-09-01T11:53:01.175053Z"
    }
   },
   "cell_type": "code",
   "source": "series.mul(10)",
   "id": "407170ffc01540df",
   "outputs": [
    {
     "data": {
      "text/plain": [
       "0    120\n",
       "1    430\n",
       "2     60\n",
       "dtype: int64"
      ]
     },
     "execution_count": 7,
     "metadata": {},
     "output_type": "execute_result"
    }
   ],
   "execution_count": 7
  },
  {
   "metadata": {
    "ExecuteTime": {
     "end_time": "2025-09-01T11:53:06.012529Z",
     "start_time": "2025-09-01T11:53:06.008160Z"
    }
   },
   "cell_type": "code",
   "source": "series.div(10)",
   "id": "ec0f53578775e8eb",
   "outputs": [
    {
     "data": {
      "text/plain": [
       "0    1.2\n",
       "1    4.3\n",
       "2    0.6\n",
       "dtype: float64"
      ]
     },
     "execution_count": 8,
     "metadata": {},
     "output_type": "execute_result"
    }
   ],
   "execution_count": 8
  },
  {
   "metadata": {
    "ExecuteTime": {
     "end_time": "2025-09-01T11:53:29.667827Z",
     "start_time": "2025-09-01T11:53:29.663116Z"
    }
   },
   "cell_type": "code",
   "source": [
    "series1 = pd.Series([12 , 43 , 54])\n",
    "series1"
   ],
   "id": "3a556f05ec722ddb",
   "outputs": [
    {
     "data": {
      "text/plain": [
       "0    12\n",
       "1    43\n",
       "2    54\n",
       "dtype: int64"
      ]
     },
     "execution_count": 9,
     "metadata": {},
     "output_type": "execute_result"
    }
   ],
   "execution_count": 9
  },
  {
   "metadata": {
    "ExecuteTime": {
     "end_time": "2025-09-01T11:53:50.375375Z",
     "start_time": "2025-09-01T11:53:50.371230Z"
    }
   },
   "cell_type": "code",
   "source": [
    "series2 = pd.Series([21,90,3])\n",
    "series2"
   ],
   "id": "f1d1e8fa55968863",
   "outputs": [
    {
     "data": {
      "text/plain": [
       "0    21\n",
       "1    90\n",
       "2     3\n",
       "dtype: int64"
      ]
     },
     "execution_count": 10,
     "metadata": {},
     "output_type": "execute_result"
    }
   ],
   "execution_count": 10
  },
  {
   "metadata": {
    "ExecuteTime": {
     "end_time": "2025-09-01T11:54:04.297266Z",
     "start_time": "2025-09-01T11:54:04.292703Z"
    }
   },
   "cell_type": "code",
   "source": "series1 + series2",
   "id": "bd6276ea12573eea",
   "outputs": [
    {
     "data": {
      "text/plain": [
       "0     33\n",
       "1    133\n",
       "2     57\n",
       "dtype: int64"
      ]
     },
     "execution_count": 11,
     "metadata": {},
     "output_type": "execute_result"
    }
   ],
   "execution_count": 11
  },
  {
   "metadata": {
    "ExecuteTime": {
     "end_time": "2025-09-01T11:54:19.503869Z",
     "start_time": "2025-09-01T11:54:19.499060Z"
    }
   },
   "cell_type": "code",
   "source": "series1.add(series2)",
   "id": "75c76b9c85e4f1",
   "outputs": [
    {
     "data": {
      "text/plain": [
       "0     33\n",
       "1    133\n",
       "2     57\n",
       "dtype: int64"
      ]
     },
     "execution_count": 12,
     "metadata": {},
     "output_type": "execute_result"
    }
   ],
   "execution_count": 12
  },
  {
   "metadata": {
    "ExecuteTime": {
     "end_time": "2025-09-01T11:55:03.951677Z",
     "start_time": "2025-09-01T11:55:03.946618Z"
    }
   },
   "cell_type": "code",
   "source": [
    "series1 = pd.Series([23 , 45 ,12])\n",
    "series2 = pd.Series([90,4])"
   ],
   "id": "d92ed02cf2b56ed2",
   "outputs": [],
   "execution_count": 13
  },
  {
   "metadata": {
    "ExecuteTime": {
     "end_time": "2025-09-01T11:55:14.441182Z",
     "start_time": "2025-09-01T11:55:14.435142Z"
    }
   },
   "cell_type": "code",
   "source": "series1 + series2",
   "id": "c651ccec3078b05f",
   "outputs": [
    {
     "data": {
      "text/plain": [
       "0    113.0\n",
       "1     49.0\n",
       "2      NaN\n",
       "dtype: float64"
      ]
     },
     "execution_count": 14,
     "metadata": {},
     "output_type": "execute_result"
    }
   ],
   "execution_count": 14
  },
  {
   "metadata": {
    "ExecuteTime": {
     "end_time": "2025-09-01T11:55:40.104880Z",
     "start_time": "2025-09-01T11:55:40.099353Z"
    }
   },
   "cell_type": "code",
   "source": "series1.add(series2)",
   "id": "d7a122a5c440d36b",
   "outputs": [
    {
     "data": {
      "text/plain": [
       "0    113.0\n",
       "1     49.0\n",
       "2      NaN\n",
       "dtype: float64"
      ]
     },
     "execution_count": 15,
     "metadata": {},
     "output_type": "execute_result"
    }
   ],
   "execution_count": 15
  },
  {
   "metadata": {
    "ExecuteTime": {
     "end_time": "2025-09-01T11:56:17.698071Z",
     "start_time": "2025-09-01T11:56:17.692870Z"
    }
   },
   "cell_type": "code",
   "source": "series1.add(series2 , fill_value=0)",
   "id": "4de11c81ab735408",
   "outputs": [
    {
     "data": {
      "text/plain": [
       "0    113.0\n",
       "1     49.0\n",
       "2     12.0\n",
       "dtype: float64"
      ]
     },
     "execution_count": 16,
     "metadata": {},
     "output_type": "execute_result"
    }
   ],
   "execution_count": 16
  },
  {
   "metadata": {
    "ExecuteTime": {
     "end_time": "2025-09-01T12:00:14.590778Z",
     "start_time": "2025-09-01T12:00:14.584176Z"
    }
   },
   "cell_type": "code",
   "source": "series1.mul(series2 , fill_value=0)",
   "id": "8e2247d38b3f765b",
   "outputs": [
    {
     "data": {
      "text/plain": [
       "0    2070.0\n",
       "1     180.0\n",
       "2       0.0\n",
       "dtype: float64"
      ]
     },
     "execution_count": 17,
     "metadata": {},
     "output_type": "execute_result"
    }
   ],
   "execution_count": 17
  },
  {
   "metadata": {
    "ExecuteTime": {
     "end_time": "2025-09-01T12:00:35.708859Z",
     "start_time": "2025-09-01T12:00:35.703544Z"
    }
   },
   "cell_type": "code",
   "source": "series1.div(series2 , fill_value=10)",
   "id": "9c626174098adf22",
   "outputs": [
    {
     "data": {
      "text/plain": [
       "0     0.255556\n",
       "1    11.250000\n",
       "2     1.200000\n",
       "dtype: float64"
      ]
     },
     "execution_count": 18,
     "metadata": {},
     "output_type": "execute_result"
    }
   ],
   "execution_count": 18
  },
  {
   "metadata": {},
   "cell_type": "code",
   "outputs": [],
   "execution_count": null,
   "source": "",
   "id": "e808b4fc012b03ae"
  }
 ],
 "metadata": {
  "kernelspec": {
   "display_name": "Python 3",
   "language": "python",
   "name": "python3"
  },
  "language_info": {
   "codemirror_mode": {
    "name": "ipython",
    "version": 2
   },
   "file_extension": ".py",
   "mimetype": "text/x-python",
   "name": "python",
   "nbconvert_exporter": "python",
   "pygments_lexer": "ipython2",
   "version": "2.7.6"
  }
 },
 "nbformat": 4,
 "nbformat_minor": 5
}
