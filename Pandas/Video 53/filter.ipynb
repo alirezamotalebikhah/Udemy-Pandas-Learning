{
 "cells": [
  {
   "cell_type": "code",
   "id": "initial_id",
   "metadata": {
    "collapsed": true,
    "ExecuteTime": {
     "end_time": "2025-09-06T10:22:53.672597Z",
     "start_time": "2025-09-06T10:22:53.342469Z"
    }
   },
   "source": [
    "import pandas as pd\n",
    "employees = pd.read_csv('Employee.csv')\n",
    "employees"
   ],
   "outputs": [
    {
     "data": {
      "text/plain": [
       "      Education  JoiningYear       City  PaymentTier  Age  Gender EverBenched  \\\n",
       "0     Bachelors         2017  Bangalore            3   34    Male          No   \n",
       "1     Bachelors         2013       Pune            1   28  Female          No   \n",
       "2     Bachelors         2014  New Delhi            3   38  Female          No   \n",
       "3       Masters         2016  Bangalore            3   27    Male          No   \n",
       "4       Masters         2017       Pune            3   24    Male         Yes   \n",
       "...         ...          ...        ...          ...  ...     ...         ...   \n",
       "4648  Bachelors         2013  Bangalore            3   26  Female          No   \n",
       "4649    Masters         2013       Pune            2   37    Male          No   \n",
       "4650    Masters         2018  New Delhi            3   27    Male          No   \n",
       "4651  Bachelors         2012  Bangalore            3   30    Male         Yes   \n",
       "4652  Bachelors         2015  Bangalore            3   33    Male         Yes   \n",
       "\n",
       "      ExperienceInCurrentDomain  LeaveOrNot  \n",
       "0                             0           0  \n",
       "1                             3           1  \n",
       "2                             2           0  \n",
       "3                             5           1  \n",
       "4                             2           1  \n",
       "...                         ...         ...  \n",
       "4648                          4           0  \n",
       "4649                          2           1  \n",
       "4650                          5           1  \n",
       "4651                          2           0  \n",
       "4652                          4           0  \n",
       "\n",
       "[4653 rows x 9 columns]"
      ],
      "text/html": [
       "<div>\n",
       "<style scoped>\n",
       "    .dataframe tbody tr th:only-of-type {\n",
       "        vertical-align: middle;\n",
       "    }\n",
       "\n",
       "    .dataframe tbody tr th {\n",
       "        vertical-align: top;\n",
       "    }\n",
       "\n",
       "    .dataframe thead th {\n",
       "        text-align: right;\n",
       "    }\n",
       "</style>\n",
       "<table border=\"1\" class=\"dataframe\">\n",
       "  <thead>\n",
       "    <tr style=\"text-align: right;\">\n",
       "      <th></th>\n",
       "      <th>Education</th>\n",
       "      <th>JoiningYear</th>\n",
       "      <th>City</th>\n",
       "      <th>PaymentTier</th>\n",
       "      <th>Age</th>\n",
       "      <th>Gender</th>\n",
       "      <th>EverBenched</th>\n",
       "      <th>ExperienceInCurrentDomain</th>\n",
       "      <th>LeaveOrNot</th>\n",
       "    </tr>\n",
       "  </thead>\n",
       "  <tbody>\n",
       "    <tr>\n",
       "      <th>0</th>\n",
       "      <td>Bachelors</td>\n",
       "      <td>2017</td>\n",
       "      <td>Bangalore</td>\n",
       "      <td>3</td>\n",
       "      <td>34</td>\n",
       "      <td>Male</td>\n",
       "      <td>No</td>\n",
       "      <td>0</td>\n",
       "      <td>0</td>\n",
       "    </tr>\n",
       "    <tr>\n",
       "      <th>1</th>\n",
       "      <td>Bachelors</td>\n",
       "      <td>2013</td>\n",
       "      <td>Pune</td>\n",
       "      <td>1</td>\n",
       "      <td>28</td>\n",
       "      <td>Female</td>\n",
       "      <td>No</td>\n",
       "      <td>3</td>\n",
       "      <td>1</td>\n",
       "    </tr>\n",
       "    <tr>\n",
       "      <th>2</th>\n",
       "      <td>Bachelors</td>\n",
       "      <td>2014</td>\n",
       "      <td>New Delhi</td>\n",
       "      <td>3</td>\n",
       "      <td>38</td>\n",
       "      <td>Female</td>\n",
       "      <td>No</td>\n",
       "      <td>2</td>\n",
       "      <td>0</td>\n",
       "    </tr>\n",
       "    <tr>\n",
       "      <th>3</th>\n",
       "      <td>Masters</td>\n",
       "      <td>2016</td>\n",
       "      <td>Bangalore</td>\n",
       "      <td>3</td>\n",
       "      <td>27</td>\n",
       "      <td>Male</td>\n",
       "      <td>No</td>\n",
       "      <td>5</td>\n",
       "      <td>1</td>\n",
       "    </tr>\n",
       "    <tr>\n",
       "      <th>4</th>\n",
       "      <td>Masters</td>\n",
       "      <td>2017</td>\n",
       "      <td>Pune</td>\n",
       "      <td>3</td>\n",
       "      <td>24</td>\n",
       "      <td>Male</td>\n",
       "      <td>Yes</td>\n",
       "      <td>2</td>\n",
       "      <td>1</td>\n",
       "    </tr>\n",
       "    <tr>\n",
       "      <th>...</th>\n",
       "      <td>...</td>\n",
       "      <td>...</td>\n",
       "      <td>...</td>\n",
       "      <td>...</td>\n",
       "      <td>...</td>\n",
       "      <td>...</td>\n",
       "      <td>...</td>\n",
       "      <td>...</td>\n",
       "      <td>...</td>\n",
       "    </tr>\n",
       "    <tr>\n",
       "      <th>4648</th>\n",
       "      <td>Bachelors</td>\n",
       "      <td>2013</td>\n",
       "      <td>Bangalore</td>\n",
       "      <td>3</td>\n",
       "      <td>26</td>\n",
       "      <td>Female</td>\n",
       "      <td>No</td>\n",
       "      <td>4</td>\n",
       "      <td>0</td>\n",
       "    </tr>\n",
       "    <tr>\n",
       "      <th>4649</th>\n",
       "      <td>Masters</td>\n",
       "      <td>2013</td>\n",
       "      <td>Pune</td>\n",
       "      <td>2</td>\n",
       "      <td>37</td>\n",
       "      <td>Male</td>\n",
       "      <td>No</td>\n",
       "      <td>2</td>\n",
       "      <td>1</td>\n",
       "    </tr>\n",
       "    <tr>\n",
       "      <th>4650</th>\n",
       "      <td>Masters</td>\n",
       "      <td>2018</td>\n",
       "      <td>New Delhi</td>\n",
       "      <td>3</td>\n",
       "      <td>27</td>\n",
       "      <td>Male</td>\n",
       "      <td>No</td>\n",
       "      <td>5</td>\n",
       "      <td>1</td>\n",
       "    </tr>\n",
       "    <tr>\n",
       "      <th>4651</th>\n",
       "      <td>Bachelors</td>\n",
       "      <td>2012</td>\n",
       "      <td>Bangalore</td>\n",
       "      <td>3</td>\n",
       "      <td>30</td>\n",
       "      <td>Male</td>\n",
       "      <td>Yes</td>\n",
       "      <td>2</td>\n",
       "      <td>0</td>\n",
       "    </tr>\n",
       "    <tr>\n",
       "      <th>4652</th>\n",
       "      <td>Bachelors</td>\n",
       "      <td>2015</td>\n",
       "      <td>Bangalore</td>\n",
       "      <td>3</td>\n",
       "      <td>33</td>\n",
       "      <td>Male</td>\n",
       "      <td>Yes</td>\n",
       "      <td>4</td>\n",
       "      <td>0</td>\n",
       "    </tr>\n",
       "  </tbody>\n",
       "</table>\n",
       "<p>4653 rows × 9 columns</p>\n",
       "</div>"
      ]
     },
     "execution_count": 1,
     "metadata": {},
     "output_type": "execute_result"
    }
   ],
   "execution_count": 1
  },
  {
   "metadata": {
    "ExecuteTime": {
     "end_time": "2025-09-06T10:24:27.648532Z",
     "start_time": "2025-09-06T10:24:27.643188Z"
    }
   },
   "cell_type": "code",
   "source": "ages = employees['Age']",
   "id": "88767052b2276492",
   "outputs": [],
   "execution_count": 2
  },
  {
   "metadata": {
    "ExecuteTime": {
     "end_time": "2025-09-06T10:24:30.414147Z",
     "start_time": "2025-09-06T10:24:30.408966Z"
    }
   },
   "cell_type": "code",
   "source": "ages",
   "id": "9508308cdf7a5f72",
   "outputs": [
    {
     "data": {
      "text/plain": [
       "0       34\n",
       "1       28\n",
       "2       38\n",
       "3       27\n",
       "4       24\n",
       "        ..\n",
       "4648    26\n",
       "4649    37\n",
       "4650    27\n",
       "4651    30\n",
       "4652    33\n",
       "Name: Age, Length: 4653, dtype: int64"
      ]
     },
     "execution_count": 3,
     "metadata": {},
     "output_type": "execute_result"
    }
   ],
   "execution_count": 3
  },
  {
   "metadata": {
    "ExecuteTime": {
     "end_time": "2025-09-06T10:34:27.266037Z",
     "start_time": "2025-09-06T10:34:27.259798Z"
    }
   },
   "cell_type": "code",
   "source": "ages[ages>25]",
   "id": "fc1a5a620eff99be",
   "outputs": [
    {
     "data": {
      "text/plain": [
       "0       34\n",
       "1       28\n",
       "2       38\n",
       "3       27\n",
       "6       38\n",
       "        ..\n",
       "4648    26\n",
       "4649    37\n",
       "4650    27\n",
       "4651    30\n",
       "4652    33\n",
       "Name: Age, Length: 3753, dtype: int64"
      ]
     },
     "execution_count": 4,
     "metadata": {},
     "output_type": "execute_result"
    }
   ],
   "execution_count": 4
  },
  {
   "metadata": {
    "ExecuteTime": {
     "end_time": "2025-09-06T10:34:43.423319Z",
     "start_time": "2025-09-06T10:34:43.417363Z"
    }
   },
   "cell_type": "code",
   "source": "ages[ages<25].count()",
   "id": "e56b9bd452138c94",
   "outputs": [
    {
     "data": {
      "text/plain": [
       "np.int64(482)"
      ]
     },
     "execution_count": 5,
     "metadata": {},
     "output_type": "execute_result"
    }
   ],
   "execution_count": 5
  },
  {
   "metadata": {
    "ExecuteTime": {
     "end_time": "2025-09-06T10:39:36.177028Z",
     "start_time": "2025-09-06T10:39:36.172055Z"
    }
   },
   "cell_type": "code",
   "source": "ages[ages<=25].count()",
   "id": "f18570edbdb34593",
   "outputs": [
    {
     "data": {
      "text/plain": [
       "np.int64(900)"
      ]
     },
     "execution_count": 6,
     "metadata": {},
     "output_type": "execute_result"
    }
   ],
   "execution_count": 6
  },
  {
   "metadata": {
    "ExecuteTime": {
     "end_time": "2025-09-06T10:40:28.918424Z",
     "start_time": "2025-09-06T10:40:28.912420Z"
    }
   },
   "cell_type": "code",
   "source": "ages[ages==25].count()",
   "id": "dea2016bbd2c60d4",
   "outputs": [
    {
     "data": {
      "text/plain": [
       "np.int64(418)"
      ]
     },
     "execution_count": 7,
     "metadata": {},
     "output_type": "execute_result"
    }
   ],
   "execution_count": 7
  },
  {
   "metadata": {
    "ExecuteTime": {
     "end_time": "2025-09-06T10:41:27.311269Z",
     "start_time": "2025-09-06T10:41:27.307592Z"
    }
   },
   "cell_type": "code",
   "source": "ages[ages!=25].count()",
   "id": "4633ad01c15a8040",
   "outputs": [
    {
     "data": {
      "text/plain": [
       "np.int64(4235)"
      ]
     },
     "execution_count": 9,
     "metadata": {},
     "output_type": "execute_result"
    }
   ],
   "execution_count": 9
  },
  {
   "metadata": {
    "ExecuteTime": {
     "end_time": "2025-09-06T10:42:13.522856Z",
     "start_time": "2025-09-06T10:42:13.517448Z"
    }
   },
   "cell_type": "code",
   "source": "ages.loc[ages==25]",
   "id": "9f7537d5c93d9ae5",
   "outputs": [
    {
     "data": {
      "text/plain": [
       "30      25\n",
       "62      25\n",
       "72      25\n",
       "74      25\n",
       "83      25\n",
       "        ..\n",
       "4580    25\n",
       "4597    25\n",
       "4614    25\n",
       "4630    25\n",
       "4646    25\n",
       "Name: Age, Length: 418, dtype: int64"
      ]
     },
     "execution_count": 10,
     "metadata": {},
     "output_type": "execute_result"
    }
   ],
   "execution_count": 10
  },
  {
   "metadata": {
    "ExecuteTime": {
     "end_time": "2025-09-06T10:42:21.663604Z",
     "start_time": "2025-09-06T10:42:21.658670Z"
    }
   },
   "cell_type": "code",
   "source": "ages.loc[ages>25]",
   "id": "a2e63dd9c18e9395",
   "outputs": [
    {
     "data": {
      "text/plain": [
       "0       34\n",
       "1       28\n",
       "2       38\n",
       "3       27\n",
       "6       38\n",
       "        ..\n",
       "4648    26\n",
       "4649    37\n",
       "4650    27\n",
       "4651    30\n",
       "4652    33\n",
       "Name: Age, Length: 3753, dtype: int64"
      ]
     },
     "execution_count": 11,
     "metadata": {},
     "output_type": "execute_result"
    }
   ],
   "execution_count": 11
  },
  {
   "metadata": {
    "ExecuteTime": {
     "end_time": "2025-09-06T10:43:37.649417Z",
     "start_time": "2025-09-06T10:43:37.639907Z"
    }
   },
   "cell_type": "code",
   "source": "ages.filter(items = [2])",
   "id": "3e52d236019dd9ab",
   "outputs": [
    {
     "data": {
      "text/plain": [
       "2    38\n",
       "Name: Age, dtype: int64"
      ]
     },
     "execution_count": 12,
     "metadata": {},
     "output_type": "execute_result"
    }
   ],
   "execution_count": 12
  },
  {
   "metadata": {
    "ExecuteTime": {
     "end_time": "2025-09-06T10:43:48.055373Z",
     "start_time": "2025-09-06T10:43:48.049152Z"
    }
   },
   "cell_type": "code",
   "source": "ages.filter(items = [2,200 , 99])",
   "id": "33ca46ed526c6a1f",
   "outputs": [
    {
     "data": {
      "text/plain": [
       "2      38\n",
       "200    25\n",
       "99     24\n",
       "Name: Age, dtype: int64"
      ]
     },
     "execution_count": 13,
     "metadata": {},
     "output_type": "execute_result"
    }
   ],
   "execution_count": 13
  },
  {
   "metadata": {
    "ExecuteTime": {
     "end_time": "2025-09-06T10:45:50.466165Z",
     "start_time": "2025-09-06T10:45:50.454002Z"
    }
   },
   "cell_type": "code",
   "source": [
    "employees = pd.read_csv('Employee.csv' , usecols = ['Education' , 'Age'] , index_col = 'Education').squeeze()\n",
    "employees"
   ],
   "id": "6ff932f08db50001",
   "outputs": [
    {
     "data": {
      "text/plain": [
       "Education\n",
       "Bachelors    34\n",
       "Bachelors    28\n",
       "Bachelors    38\n",
       "Masters      27\n",
       "Masters      24\n",
       "             ..\n",
       "Bachelors    26\n",
       "Masters      37\n",
       "Masters      27\n",
       "Bachelors    30\n",
       "Bachelors    33\n",
       "Name: Age, Length: 4653, dtype: int64"
      ]
     },
     "execution_count": 16,
     "metadata": {},
     "output_type": "execute_result"
    }
   ],
   "execution_count": 16
  },
  {
   "metadata": {
    "ExecuteTime": {
     "end_time": "2025-09-06T10:45:52.036735Z",
     "start_time": "2025-09-06T10:45:52.028813Z"
    }
   },
   "cell_type": "code",
   "source": "employees.filter(like='B')",
   "id": "3b36e44e78170969",
   "outputs": [
    {
     "data": {
      "text/plain": [
       "Education\n",
       "Bachelors    34\n",
       "Bachelors    28\n",
       "Bachelors    38\n",
       "Bachelors    22\n",
       "Bachelors    38\n",
       "             ..\n",
       "Bachelors    25\n",
       "Bachelors    30\n",
       "Bachelors    26\n",
       "Bachelors    30\n",
       "Bachelors    33\n",
       "Name: Age, Length: 3601, dtype: int64"
      ]
     },
     "execution_count": 17,
     "metadata": {},
     "output_type": "execute_result"
    }
   ],
   "execution_count": 17
  },
  {
   "metadata": {
    "ExecuteTime": {
     "end_time": "2025-09-06T10:46:05.528342Z",
     "start_time": "2025-09-06T10:46:05.521274Z"
    }
   },
   "cell_type": "code",
   "source": "employees.filter(like='r')",
   "id": "5d1297651a3d01fc",
   "outputs": [
    {
     "data": {
      "text/plain": [
       "Education\n",
       "Bachelors    34\n",
       "Bachelors    28\n",
       "Bachelors    38\n",
       "Masters      27\n",
       "Masters      24\n",
       "             ..\n",
       "Bachelors    26\n",
       "Masters      37\n",
       "Masters      27\n",
       "Bachelors    30\n",
       "Bachelors    33\n",
       "Name: Age, Length: 4474, dtype: int64"
      ]
     },
     "execution_count": 18,
     "metadata": {},
     "output_type": "execute_result"
    }
   ],
   "execution_count": 18
  },
  {
   "metadata": {
    "ExecuteTime": {
     "end_time": "2025-09-06T10:46:14.051988Z",
     "start_time": "2025-09-06T10:46:14.045630Z"
    }
   },
   "cell_type": "code",
   "source": "employees.filter(like='HD')",
   "id": "363d4d97b678374d",
   "outputs": [
    {
     "data": {
      "text/plain": [
       "Education\n",
       "PHD    25\n",
       "PHD    27\n",
       "PHD    34\n",
       "PHD    28\n",
       "PHD    25\n",
       "       ..\n",
       "PHD    34\n",
       "PHD    31\n",
       "PHD    23\n",
       "PHD    24\n",
       "PHD    30\n",
       "Name: Age, Length: 179, dtype: int64"
      ]
     },
     "execution_count": 19,
     "metadata": {},
     "output_type": "execute_result"
    }
   ],
   "execution_count": 19
  },
  {
   "metadata": {
    "ExecuteTime": {
     "end_time": "2025-09-06T10:46:33.905494Z",
     "start_time": "2025-09-06T10:46:33.900082Z"
    }
   },
   "cell_type": "code",
   "source": "employees.filter(like='HD').count()",
   "id": "32da4617f3397dcf",
   "outputs": [
    {
     "data": {
      "text/plain": [
       "np.int64(179)"
      ]
     },
     "execution_count": 21,
     "metadata": {},
     "output_type": "execute_result"
    }
   ],
   "execution_count": 21
  },
  {
   "metadata": {
    "ExecuteTime": {
     "end_time": "2025-09-06T10:46:50.827230Z",
     "start_time": "2025-09-06T10:46:50.818832Z"
    }
   },
   "cell_type": "code",
   "source": "employees.filter(regex='B')",
   "id": "bd30dcae77a675a8",
   "outputs": [
    {
     "data": {
      "text/plain": [
       "Education\n",
       "Bachelors    34\n",
       "Bachelors    28\n",
       "Bachelors    38\n",
       "Bachelors    22\n",
       "Bachelors    38\n",
       "             ..\n",
       "Bachelors    25\n",
       "Bachelors    30\n",
       "Bachelors    26\n",
       "Bachelors    30\n",
       "Bachelors    33\n",
       "Name: Age, Length: 3601, dtype: int64"
      ]
     },
     "execution_count": 22,
     "metadata": {},
     "output_type": "execute_result"
    }
   ],
   "execution_count": 22
  },
  {
   "metadata": {
    "ExecuteTime": {
     "end_time": "2025-09-06T10:47:10.011355Z",
     "start_time": "2025-09-06T10:47:10.004091Z"
    }
   },
   "cell_type": "code",
   "source": "employees.filter(regex='^B')",
   "id": "2784119686840f7f",
   "outputs": [
    {
     "data": {
      "text/plain": [
       "Education\n",
       "Bachelors    34\n",
       "Bachelors    28\n",
       "Bachelors    38\n",
       "Bachelors    22\n",
       "Bachelors    38\n",
       "             ..\n",
       "Bachelors    25\n",
       "Bachelors    30\n",
       "Bachelors    26\n",
       "Bachelors    30\n",
       "Bachelors    33\n",
       "Name: Age, Length: 3601, dtype: int64"
      ]
     },
     "execution_count": 23,
     "metadata": {},
     "output_type": "execute_result"
    }
   ],
   "execution_count": 23
  },
  {
   "metadata": {},
   "cell_type": "code",
   "outputs": [],
   "execution_count": null,
   "source": "",
   "id": "30cbc63d8c264464"
  }
 ],
 "metadata": {
  "kernelspec": {
   "display_name": "Python 3",
   "language": "python",
   "name": "python3"
  },
  "language_info": {
   "codemirror_mode": {
    "name": "ipython",
    "version": 2
   },
   "file_extension": ".py",
   "mimetype": "text/x-python",
   "name": "python",
   "nbconvert_exporter": "python",
   "pygments_lexer": "ipython2",
   "version": "2.7.6"
  }
 },
 "nbformat": 4,
 "nbformat_minor": 5
}
