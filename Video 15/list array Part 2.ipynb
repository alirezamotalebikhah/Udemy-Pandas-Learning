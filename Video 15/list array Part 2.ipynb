{
 "cells": [
  {
   "cell_type": "code",
   "id": "initial_id",
   "metadata": {
    "collapsed": true,
    "ExecuteTime": {
     "end_time": "2025-08-20T16:24:47.256181Z",
     "start_time": "2025-08-20T16:24:47.252471Z"
    }
   },
   "source": [
    "numbers=[1,5,9,14]\n",
    "names=['anika','monika','maria','sofia']"
   ],
   "outputs": [],
   "execution_count": 1
  },
  {
   "metadata": {
    "ExecuteTime": {
     "end_time": "2025-08-20T16:26:22.101189Z",
     "start_time": "2025-08-20T16:26:22.097672Z"
    }
   },
   "cell_type": "code",
   "source": "print(names[-1])",
   "id": "e1b8973dacb5b487",
   "outputs": [
    {
     "name": "stdout",
     "output_type": "stream",
     "text": [
      "sofia\n"
     ]
    }
   ],
   "execution_count": 2
  },
  {
   "metadata": {
    "ExecuteTime": {
     "end_time": "2025-08-20T16:26:35.774071Z",
     "start_time": "2025-08-20T16:26:35.771102Z"
    }
   },
   "cell_type": "code",
   "source": "print(names[len(names)-1])",
   "id": "fba741bb27eaa542",
   "outputs": [
    {
     "name": "stdout",
     "output_type": "stream",
     "text": [
      "sofia\n"
     ]
    }
   ],
   "execution_count": 3
  },
  {
   "metadata": {
    "ExecuteTime": {
     "end_time": "2025-08-20T16:29:22.302276Z",
     "start_time": "2025-08-20T16:29:22.298816Z"
    }
   },
   "cell_type": "code",
   "source": [
    "names=['anika','monika','maria','sofia','Anya' , 'Kavya','natalia' , 'hua' , 'Olivia' , 'amelia' , 'isabella']\n",
    "print(names)"
   ],
   "id": "ba03a3d8da677e96",
   "outputs": [
    {
     "name": "stdout",
     "output_type": "stream",
     "text": [
      "['anika', 'monika', 'maria', 'sofia', 'Anya', 'Kavya', 'natalia', 'hua', 'Olivia', 'amelia', 'isabella']\n"
     ]
    }
   ],
   "execution_count": 5
  },
  {
   "metadata": {
    "ExecuteTime": {
     "end_time": "2025-08-20T16:29:58.583221Z",
     "start_time": "2025-08-20T16:29:58.579574Z"
    }
   },
   "cell_type": "code",
   "source": "print(names[1:3])",
   "id": "6d16ac3c2c35d0fe",
   "outputs": [
    {
     "name": "stdout",
     "output_type": "stream",
     "text": [
      "['monika', 'maria']\n"
     ]
    }
   ],
   "execution_count": 6
  },
  {
   "metadata": {
    "ExecuteTime": {
     "end_time": "2025-08-20T16:30:17.219945Z",
     "start_time": "2025-08-20T16:30:17.216104Z"
    }
   },
   "cell_type": "code",
   "source": "print(names[2:])",
   "id": "3d0a522f64f0663b",
   "outputs": [
    {
     "name": "stdout",
     "output_type": "stream",
     "text": [
      "['maria', 'sofia', 'Anya', 'Kavya', 'natalia', 'hua', 'Olivia', 'amelia', 'isabella']\n"
     ]
    }
   ],
   "execution_count": 7
  },
  {
   "metadata": {
    "ExecuteTime": {
     "end_time": "2025-08-20T16:30:36.181565Z",
     "start_time": "2025-08-20T16:30:36.178322Z"
    }
   },
   "cell_type": "code",
   "source": "print(names[:6])",
   "id": "51394d091d2fbe76",
   "outputs": [
    {
     "name": "stdout",
     "output_type": "stream",
     "text": [
      "['anika', 'monika', 'maria', 'sofia', 'Anya', 'Kavya']\n"
     ]
    }
   ],
   "execution_count": 8
  },
  {
   "metadata": {
    "ExecuteTime": {
     "end_time": "2025-08-20T16:31:33.045135Z",
     "start_time": "2025-08-20T16:31:33.042020Z"
    }
   },
   "cell_type": "code",
   "source": [
    "names.remove('anika')\n",
    "print(names)"
   ],
   "id": "f3acd550b91b83a3",
   "outputs": [
    {
     "name": "stdout",
     "output_type": "stream",
     "text": [
      "['monika', 'maria', 'sofia', 'Anya', 'Kavya', 'natalia', 'hua', 'Olivia', 'amelia', 'isabella']\n"
     ]
    }
   ],
   "execution_count": 9
  },
  {
   "metadata": {
    "ExecuteTime": {
     "end_time": "2025-08-20T16:32:27.732439Z",
     "start_time": "2025-08-20T16:32:27.729508Z"
    }
   },
   "cell_type": "code",
   "source": [
    "names.pop(-1)\n",
    "print(names)"
   ],
   "id": "68a250ec2d757c86",
   "outputs": [
    {
     "name": "stdout",
     "output_type": "stream",
     "text": [
      "['maria', 'sofia', 'Anya', 'Kavya', 'natalia', 'hua', 'Olivia', 'amelia']\n"
     ]
    }
   ],
   "execution_count": 12
  },
  {
   "metadata": {
    "ExecuteTime": {
     "end_time": "2025-08-20T16:32:42.322396Z",
     "start_time": "2025-08-20T16:32:42.318680Z"
    }
   },
   "cell_type": "code",
   "source": "names.sort()",
   "id": "83b2de8776a172fd",
   "outputs": [],
   "execution_count": 13
  },
  {
   "metadata": {
    "ExecuteTime": {
     "end_time": "2025-08-20T16:32:48.084043Z",
     "start_time": "2025-08-20T16:32:48.080840Z"
    }
   },
   "cell_type": "code",
   "source": "print(names)",
   "id": "802a2315dbda69cd",
   "outputs": [
    {
     "name": "stdout",
     "output_type": "stream",
     "text": [
      "['Anya', 'Kavya', 'Olivia', 'amelia', 'hua', 'maria', 'natalia', 'sofia']\n"
     ]
    }
   ],
   "execution_count": 14
  },
  {
   "metadata": {
    "ExecuteTime": {
     "end_time": "2025-08-20T16:33:01.257596Z",
     "start_time": "2025-08-20T16:33:01.253578Z"
    }
   },
   "cell_type": "code",
   "source": [
    "names.sort(reverse=True)\n",
    "print(names)"
   ],
   "id": "5151f5837f9bb423",
   "outputs": [
    {
     "name": "stdout",
     "output_type": "stream",
     "text": [
      "['sofia', 'natalia', 'maria', 'hua', 'amelia', 'Olivia', 'Kavya', 'Anya']\n"
     ]
    }
   ],
   "execution_count": 15
  },
  {
   "metadata": {
    "ExecuteTime": {
     "end_time": "2025-08-20T16:33:46.915544Z",
     "start_time": "2025-08-20T16:33:46.911129Z"
    }
   },
   "cell_type": "code",
   "source": [
    "joined_list=numbers+names\n",
    "print(joined_list)"
   ],
   "id": "46fb76d15a02a81f",
   "outputs": [
    {
     "name": "stdout",
     "output_type": "stream",
     "text": [
      "[1, 5, 9, 14, 'sofia', 'natalia', 'maria', 'hua', 'amelia', 'Olivia', 'Kavya', 'Anya']\n"
     ]
    }
   ],
   "execution_count": 16
  },
  {
   "metadata": {
    "ExecuteTime": {
     "end_time": "2025-08-20T16:34:13.451383Z",
     "start_time": "2025-08-20T16:34:13.447188Z"
    }
   },
   "cell_type": "code",
   "source": [
    "joined_list.clear()\n",
    "print(joined_list)"
   ],
   "id": "403c3ba426c160c2",
   "outputs": [
    {
     "name": "stdout",
     "output_type": "stream",
     "text": [
      "[]\n"
     ]
    }
   ],
   "execution_count": 17
  },
  {
   "metadata": {},
   "cell_type": "code",
   "outputs": [],
   "execution_count": null,
   "source": "",
   "id": "3eda05bf01a3080a"
  }
 ],
 "metadata": {
  "kernelspec": {
   "display_name": "Python 3",
   "language": "python",
   "name": "python3"
  },
  "language_info": {
   "codemirror_mode": {
    "name": "ipython",
    "version": 2
   },
   "file_extension": ".py",
   "mimetype": "text/x-python",
   "name": "python",
   "nbconvert_exporter": "python",
   "pygments_lexer": "ipython2",
   "version": "2.7.6"
  }
 },
 "nbformat": 4,
 "nbformat_minor": 5
}
