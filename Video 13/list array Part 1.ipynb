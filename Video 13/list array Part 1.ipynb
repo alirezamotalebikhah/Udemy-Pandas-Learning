{
 "cells": [
  {
   "cell_type": "code",
   "id": "initial_id",
   "metadata": {
    "collapsed": true,
    "ExecuteTime": {
     "end_time": "2025-08-19T07:06:01.168169Z",
     "start_time": "2025-08-19T07:06:01.165414Z"
    }
   },
   "source": [
    "numbers  =[1,3,6,8]\n",
    "print(numbers)"
   ],
   "outputs": [
    {
     "name": "stdout",
     "output_type": "stream",
     "text": [
      "[1, 3, 6, 8]\n"
     ]
    }
   ],
   "execution_count": 10
  },
  {
   "metadata": {
    "ExecuteTime": {
     "end_time": "2025-08-19T07:06:01.955130Z",
     "start_time": "2025-08-19T07:06:01.950376Z"
    }
   },
   "cell_type": "code",
   "source": "print(type(numbers))",
   "id": "2903bd10367fe7c",
   "outputs": [
    {
     "name": "stdout",
     "output_type": "stream",
     "text": [
      "<class 'list'>\n"
     ]
    }
   ],
   "execution_count": 11
  },
  {
   "metadata": {
    "ExecuteTime": {
     "end_time": "2025-08-19T07:06:02.715330Z",
     "start_time": "2025-08-19T07:06:02.711345Z"
    }
   },
   "cell_type": "code",
   "source": "print(numbers[3])",
   "id": "c3e0980ce975ff87",
   "outputs": [
    {
     "name": "stdout",
     "output_type": "stream",
     "text": [
      "8\n"
     ]
    }
   ],
   "execution_count": 12
  },
  {
   "metadata": {
    "ExecuteTime": {
     "end_time": "2025-08-19T07:06:03.818750Z",
     "start_time": "2025-08-19T07:06:03.814576Z"
    }
   },
   "cell_type": "code",
   "source": "print(type(numbers[3]))",
   "id": "5b28ea3556cd1b1a",
   "outputs": [
    {
     "name": "stdout",
     "output_type": "stream",
     "text": [
      "<class 'int'>\n"
     ]
    }
   ],
   "execution_count": 13
  },
  {
   "metadata": {
    "ExecuteTime": {
     "end_time": "2025-08-19T07:06:04.709248Z",
     "start_time": "2025-08-19T07:06:04.704431Z"
    }
   },
   "cell_type": "code",
   "source": "print(numbers[-1])",
   "id": "c2e2bd95db77f47f",
   "outputs": [
    {
     "name": "stdout",
     "output_type": "stream",
     "text": [
      "8\n"
     ]
    }
   ],
   "execution_count": 14
  },
  {
   "metadata": {
    "ExecuteTime": {
     "end_time": "2025-08-19T07:06:06.314410Z",
     "start_time": "2025-08-19T07:06:06.310613Z"
    }
   },
   "cell_type": "code",
   "source": [
    "for number in numbers:\n",
    "    print(number)"
   ],
   "id": "b81f403d49c9307c",
   "outputs": [
    {
     "name": "stdout",
     "output_type": "stream",
     "text": [
      "1\n",
      "3\n",
      "6\n",
      "8\n"
     ]
    }
   ],
   "execution_count": 15
  },
  {
   "metadata": {
    "ExecuteTime": {
     "end_time": "2025-08-19T07:06:12.657275Z",
     "start_time": "2025-08-19T07:06:12.654348Z"
    }
   },
   "cell_type": "code",
   "source": "print(len(numbers))",
   "id": "a4a92b45d91f1b31",
   "outputs": [
    {
     "name": "stdout",
     "output_type": "stream",
     "text": [
      "4\n"
     ]
    }
   ],
   "execution_count": 16
  },
  {
   "metadata": {
    "ExecuteTime": {
     "end_time": "2025-08-19T07:06:33.395032Z",
     "start_time": "2025-08-19T07:06:33.391506Z"
    }
   },
   "cell_type": "code",
   "source": [
    "for i in range(len(numbers)):\n",
    "    print(numbers[i])"
   ],
   "id": "f1cc28f4888747b6",
   "outputs": [
    {
     "name": "stdout",
     "output_type": "stream",
     "text": [
      "1\n",
      "3\n",
      "6\n",
      "8\n"
     ]
    }
   ],
   "execution_count": 17
  },
  {
   "metadata": {
    "ExecuteTime": {
     "end_time": "2025-08-19T07:10:08.822113Z",
     "start_time": "2025-08-19T07:10:08.818590Z"
    }
   },
   "cell_type": "code",
   "source": "names=['anika' , 'monika','maria' , 'sofia']",
   "id": "177684fbc9d865a7",
   "outputs": [],
   "execution_count": 18
  },
  {
   "metadata": {
    "ExecuteTime": {
     "end_time": "2025-08-19T07:10:17.309624Z",
     "start_time": "2025-08-19T07:10:17.306971Z"
    }
   },
   "cell_type": "code",
   "source": "print(names[1])",
   "id": "fe32b56ceecafc14",
   "outputs": [
    {
     "name": "stdout",
     "output_type": "stream",
     "text": [
      "monika\n"
     ]
    }
   ],
   "execution_count": 19
  },
  {
   "metadata": {
    "ExecuteTime": {
     "end_time": "2025-08-19T07:10:34.459443Z",
     "start_time": "2025-08-19T07:10:34.456647Z"
    }
   },
   "cell_type": "code",
   "source": [
    "for name in names:\n",
    "    print(name)"
   ],
   "id": "a1d36925687f3a3a",
   "outputs": [
    {
     "name": "stdout",
     "output_type": "stream",
     "text": [
      "anika\n",
      "monika\n",
      "maria\n",
      "sofia\n"
     ]
    }
   ],
   "execution_count": 21
  },
  {
   "metadata": {
    "ExecuteTime": {
     "end_time": "2025-08-19T07:10:52.719660Z",
     "start_time": "2025-08-19T07:10:52.715925Z"
    }
   },
   "cell_type": "code",
   "source": [
    "for i in range(len(names)):\n",
    "    print(names[i])"
   ],
   "id": "2d5bc766296e62a",
   "outputs": [
    {
     "name": "stdout",
     "output_type": "stream",
     "text": [
      "anika\n",
      "monika\n",
      "maria\n",
      "sofia\n"
     ]
    }
   ],
   "execution_count": 22
  },
  {
   "metadata": {
    "ExecuteTime": {
     "end_time": "2025-08-19T07:11:31.987592Z",
     "start_time": "2025-08-19T07:11:31.983601Z"
    }
   },
   "cell_type": "code",
   "source": [
    "names[1]='luria'\n",
    "for i in range(len(names)):\n",
    "    print(names[i])"
   ],
   "id": "254f709a9967c337",
   "outputs": [
    {
     "name": "stdout",
     "output_type": "stream",
     "text": [
      "anika\n",
      "luria\n",
      "maria\n",
      "sofia\n"
     ]
    }
   ],
   "execution_count": 23
  },
  {
   "metadata": {
    "ExecuteTime": {
     "end_time": "2025-08-19T07:12:35.628304Z",
     "start_time": "2025-08-19T07:12:35.624946Z"
    }
   },
   "cell_type": "code",
   "source": [
    "names.append('Ria')\n",
    "for i in range(len(names)):\n",
    "    print(names[i])"
   ],
   "id": "a39dd6bef3485d65",
   "outputs": [
    {
     "name": "stdout",
     "output_type": "stream",
     "text": [
      "anika\n",
      "luria\n",
      "maria\n",
      "sofia\n",
      "Ria\n"
     ]
    }
   ],
   "execution_count": 24
  },
  {
   "metadata": {},
   "cell_type": "code",
   "outputs": [],
   "execution_count": null,
   "source": "",
   "id": "2bc244a23ad30ab2"
  }
 ],
 "metadata": {
  "kernelspec": {
   "display_name": "Python 3",
   "language": "python",
   "name": "python3"
  },
  "language_info": {
   "codemirror_mode": {
    "name": "ipython",
    "version": 2
   },
   "file_extension": ".py",
   "mimetype": "text/x-python",
   "name": "python",
   "nbconvert_exporter": "python",
   "pygments_lexer": "ipython2",
   "version": "2.7.6"
  }
 },
 "nbformat": 4,
 "nbformat_minor": 5
}
