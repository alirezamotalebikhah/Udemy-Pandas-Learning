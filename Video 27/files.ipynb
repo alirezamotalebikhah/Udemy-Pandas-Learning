{
 "cells": [
  {
   "cell_type": "code",
   "id": "initial_id",
   "metadata": {
    "collapsed": true,
    "ExecuteTime": {
     "end_time": "2025-08-23T13:27:33.226356Z",
     "start_time": "2025-08-23T13:27:33.222257Z"
    }
   },
   "source": [
    "import os\n",
    "if os.path.exists('filename.txt'):\n",
    "    file = open('filename.txt' , \"a\")\n",
    "    file.write(\"New content added\")\n",
    "    file.close()"
   ],
   "outputs": [],
   "execution_count": 13
  },
  {
   "metadata": {
    "ExecuteTime": {
     "end_time": "2025-08-23T13:28:00.864581Z",
     "start_time": "2025-08-23T13:28:00.861243Z"
    }
   },
   "cell_type": "code",
   "source": [
    "if os.path.exists('filename.txt'):\n",
    "    file = open('filename.txt' , \"r\")\n",
    "    print(file.read())"
   ],
   "id": "94b1cc92d0f6b748",
   "outputs": [
    {
     "name": "stdout",
     "output_type": "stream",
     "text": [
      "Welcom to my universeNew content addedNew content added\n"
     ]
    }
   ],
   "execution_count": 14
  },
  {
   "metadata": {
    "ExecuteTime": {
     "end_time": "2025-08-23T13:31:46.312546Z",
     "start_time": "2025-08-23T13:31:46.307961Z"
    }
   },
   "cell_type": "code",
   "source": [
    "if os.path.exists('filename2.txt'):\n",
    "    file = open('filename2.txt' , \"r\")\n",
    "    print(file.read())\n",
    "else:\n",
    "    open('filename2.txt' , 'x')\n",
    "    file =open('filename2.txt' , \"a\")\n",
    "    file.write(\"New content added\")\n",
    "    file.close()\n",
    "    print(file.read())"
   ],
   "id": "55c9cc20f8962966",
   "outputs": [
    {
     "name": "stdout",
     "output_type": "stream",
     "text": [
      "New content added\n"
     ]
    }
   ],
   "execution_count": 18
  },
  {
   "metadata": {
    "ExecuteTime": {
     "end_time": "2025-08-23T13:32:27.320471Z",
     "start_time": "2025-08-23T13:32:27.316977Z"
    }
   },
   "cell_type": "code",
   "source": "os.remove('filename.txt')",
   "id": "ab96e300f54bd869",
   "outputs": [],
   "execution_count": 19
  },
  {
   "metadata": {},
   "cell_type": "code",
   "outputs": [],
   "execution_count": null,
   "source": "",
   "id": "f0e378adf502f353"
  }
 ],
 "metadata": {
  "kernelspec": {
   "display_name": "Python 3",
   "language": "python",
   "name": "python3"
  },
  "language_info": {
   "codemirror_mode": {
    "name": "ipython",
    "version": 2
   },
   "file_extension": ".py",
   "mimetype": "text/x-python",
   "name": "python",
   "nbconvert_exporter": "python",
   "pygments_lexer": "ipython2",
   "version": "2.7.6"
  }
 },
 "nbformat": 4,
 "nbformat_minor": 5
}
