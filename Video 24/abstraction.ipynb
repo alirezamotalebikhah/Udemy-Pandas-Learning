{
 "cells": [
  {
   "cell_type": "code",
   "id": "initial_id",
   "metadata": {
    "collapsed": true,
    "ExecuteTime": {
     "end_time": "2025-08-23T12:45:43.814106Z",
     "start_time": "2025-08-23T12:45:43.808309Z"
    }
   },
   "source": [
    "from abc import abstractmethod\n",
    "\n",
    "names = ['Maria' , 'Ishfee' , 'Natalia']\n",
    "len(names)"
   ],
   "outputs": [
    {
     "data": {
      "text/plain": [
       "3"
      ]
     },
     "execution_count": 1,
     "metadata": {},
     "output_type": "execute_result"
    }
   ],
   "execution_count": 1
  },
  {
   "metadata": {
    "ExecuteTime": {
     "end_time": "2025-08-23T12:46:00.147158Z",
     "start_time": "2025-08-23T12:46:00.142138Z"
    }
   },
   "cell_type": "code",
   "source": [
    "name = 'Maria'\n",
    "len(name)"
   ],
   "id": "609f044330a08b50",
   "outputs": [
    {
     "data": {
      "text/plain": [
       "5"
      ]
     },
     "execution_count": 2,
     "metadata": {},
     "output_type": "execute_result"
    }
   ],
   "execution_count": 2
  },
  {
   "metadata": {
    "ExecuteTime": {
     "end_time": "2025-08-23T12:47:07.623345Z",
     "start_time": "2025-08-23T12:47:07.619509Z"
    }
   },
   "cell_type": "code",
   "source": [
    "def addition(a,b,c=0):\n",
    "    return a+b+c\n",
    "result = addition(1,2,19)\n",
    "print(result)"
   ],
   "id": "d9126609012f568c",
   "outputs": [
    {
     "name": "stdout",
     "output_type": "stream",
     "text": [
      "22\n"
     ]
    }
   ],
   "execution_count": 3
  },
  {
   "metadata": {
    "ExecuteTime": {
     "end_time": "2025-08-23T12:47:31.665558Z",
     "start_time": "2025-08-23T12:47:31.662540Z"
    }
   },
   "cell_type": "code",
   "source": [
    "result=addition(1,2)\n",
    "print(result)"
   ],
   "id": "d8026b65be84622d",
   "outputs": [
    {
     "name": "stdout",
     "output_type": "stream",
     "text": [
      "3\n"
     ]
    }
   ],
   "execution_count": 4
  },
  {
   "metadata": {
    "ExecuteTime": {
     "end_time": "2025-08-23T12:55:01.768413Z",
     "start_time": "2025-08-23T12:55:01.762873Z"
    }
   },
   "cell_type": "code",
   "source": [
    "from abc import ABC, abstractmethod \n",
    "class person(ABC):\n",
    "    def __init__(self, name, age):\n",
    "        self.name = name\n",
    "        self.age = age\n",
    "    @abstractmethod\n",
    "    def getInfo(self):\n",
    "        pass\n",
    "\n",
    "\n",
    "class Student(person):\n",
    "    def __init__(self, name, age , roll , fee):\n",
    "        super().__init__(name, age)\n",
    "        self.roll = roll\n",
    "        self.fee = fee\n",
    "    \n",
    "    def getInfo(self):\n",
    "        return f\"Student Name:{self.name}, student age:{self.age}, student roll:{self.roll}, student fee:{self.fee}\" \n",
    "\n",
    "\n",
    "class Teacher(person):\n",
    "    def __init__(self, name, age , roll , salary , empoloyee_grade):\n",
    "        super().__init__(name, age)\n",
    "        self.roll = roll\n",
    "        self.salary = salary\n",
    "        self.empoloyee_grade = empoloyee_grade\n",
    "    def getInfo(self):\n",
    "        return f\"Teacher Name:{self.name}, Teacher age:{self.age} , Teacher roll:{self.roll} , teacher salary;{self.salary} ,teacher empoloyee_grade:{self.empoloyee_grade}\"\n",
    "\n",
    "\n",
    "class Peon(person):\n",
    "    def __init__(self, name, age , roll , salary , empoloyee_grade):\n",
    "        super().__init__(name, age)\n",
    "        self.roll = roll\n",
    "        self.salary = salary\n",
    "        self.empoloyee_grade = empoloyee_grade\n",
    "    def getInfo(self):\n",
    "        return f\"Peon Name:{self.name}, Peon age:{self.age} , Peon roll:{self.roll} , Peon salary;{self.salary} ,Peon empoloyee_grade:{self.empoloyee_grade}\"\n",
    "    \n",
    "\n",
    "    \n",
    "student=Student('maria' , 21 , 101 , 500)"
   ],
   "id": "45a34a20b2ca4c7f",
   "outputs": [],
   "execution_count": 13
  },
  {
   "metadata": {
    "ExecuteTime": {
     "end_time": "2025-08-23T12:55:26.807176Z",
     "start_time": "2025-08-23T12:55:26.803612Z"
    }
   },
   "cell_type": "code",
   "source": "student.getInfo()",
   "id": "3c8ea00ecc1b74ae",
   "outputs": [
    {
     "data": {
      "text/plain": [
       "'Student Name:maria, student age:21, student roll:101, student fee:500'"
      ]
     },
     "execution_count": 14,
     "metadata": {},
     "output_type": "execute_result"
    }
   ],
   "execution_count": 14
  },
  {
   "metadata": {
    "ExecuteTime": {
     "end_time": "2025-08-23T12:57:29.575421Z",
     "start_time": "2025-08-23T12:57:29.571784Z"
    }
   },
   "cell_type": "code",
   "source": [
    "teacher=Teacher('Lufor' , 31 , 101 , 5000,'A')\n",
    "peon=Peon('Daniel' , 25 , 101 , 50000,'A')\n"
   ],
   "id": "c5bb782f2de2597a",
   "outputs": [],
   "execution_count": 15
  },
  {
   "metadata": {
    "ExecuteTime": {
     "end_time": "2025-08-23T12:57:55.333158Z",
     "start_time": "2025-08-23T12:57:55.329322Z"
    }
   },
   "cell_type": "code",
   "source": "peon.getInfo()",
   "id": "24aad5847a88db4e",
   "outputs": [
    {
     "data": {
      "text/plain": [
       "'Peon Name:Daniel, Peon age:25 , Peon roll:101 , Peon salary;50000 ,Peon empoloyee_grade:A'"
      ]
     },
     "execution_count": 17,
     "metadata": {},
     "output_type": "execute_result"
    }
   ],
   "execution_count": 17
  },
  {
   "metadata": {
    "ExecuteTime": {
     "end_time": "2025-08-23T12:57:56.895808Z",
     "start_time": "2025-08-23T12:57:56.891983Z"
    }
   },
   "cell_type": "code",
   "source": "teacher.getInfo()",
   "id": "9cd0ad966526d66a",
   "outputs": [
    {
     "data": {
      "text/plain": [
       "'Teacher Name:Lufor, Teacher age:31 , Teacher roll:101 , teacher salary;5000 ,teacher empoloyee_grade:A'"
      ]
     },
     "execution_count": 18,
     "metadata": {},
     "output_type": "execute_result"
    }
   ],
   "execution_count": 18
  },
  {
   "metadata": {},
   "cell_type": "code",
   "outputs": [],
   "execution_count": null,
   "source": "",
   "id": "8ee1393ded0354d7"
  }
 ],
 "metadata": {
  "kernelspec": {
   "display_name": "Python 3",
   "language": "python",
   "name": "python3"
  },
  "language_info": {
   "codemirror_mode": {
    "name": "ipython",
    "version": 2
   },
   "file_extension": ".py",
   "mimetype": "text/x-python",
   "name": "python",
   "nbconvert_exporter": "python",
   "pygments_lexer": "ipython2",
   "version": "2.7.6"
  }
 },
 "nbformat": 4,
 "nbformat_minor": 5
}
