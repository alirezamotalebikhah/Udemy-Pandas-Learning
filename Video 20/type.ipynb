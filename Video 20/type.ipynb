{
 "cells": [
  {
   "cell_type": "code",
   "id": "initial_id",
   "metadata": {
    "collapsed": true,
    "ExecuteTime": {
     "end_time": "2025-08-21T07:22:44.874851Z",
     "start_time": "2025-08-21T07:22:44.870851Z"
    }
   },
   "source": [
    "from time import perf_counter\n",
    "\n",
    "\n",
    "class student:\n",
    "    id = 101\n",
    "    name = \"Yash\"\n",
    "    age =3\n",
    "    fee = 99.99\n",
    "student = student()\n",
    "print(student.id)"
   ],
   "outputs": [
    {
     "name": "stdout",
     "output_type": "stream",
     "text": [
      "101\n"
     ]
    }
   ],
   "execution_count": 1
  },
  {
   "metadata": {
    "ExecuteTime": {
     "end_time": "2025-08-21T07:23:02.098690Z",
     "start_time": "2025-08-21T07:23:02.094938Z"
    }
   },
   "cell_type": "code",
   "source": [
    "print(student.name)\n",
    "print(student.age)\n",
    "print(student.fee)"
   ],
   "id": "5bb63f3d095a982f",
   "outputs": [
    {
     "name": "stdout",
     "output_type": "stream",
     "text": [
      "Yash\n",
      "3\n",
      "99.99\n"
     ]
    }
   ],
   "execution_count": 2
  },
  {
   "metadata": {},
   "cell_type": "code",
   "outputs": [],
   "execution_count": null,
   "source": "",
   "id": "f0a33bfa42236e92"
  }
 ],
 "metadata": {
  "kernelspec": {
   "display_name": "Python 3",
   "language": "python",
   "name": "python3"
  },
  "language_info": {
   "codemirror_mode": {
    "name": "ipython",
    "version": 2
   },
   "file_extension": ".py",
   "mimetype": "text/x-python",
   "name": "python",
   "nbconvert_exporter": "python",
   "pygments_lexer": "ipython2",
   "version": "2.7.6"
  }
 },
 "nbformat": 4,
 "nbformat_minor": 5
}
