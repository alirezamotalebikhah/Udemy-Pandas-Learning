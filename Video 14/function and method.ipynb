{
 "cells": [
  {
   "cell_type": "code",
   "id": "initial_id",
   "metadata": {
    "collapsed": true,
    "ExecuteTime": {
     "end_time": "2025-08-19T07:16:24.700096Z",
     "start_time": "2025-08-19T07:16:24.696334Z"
    }
   },
   "source": [
    "def addition():\n",
    "    print(10+15)\n",
    "    \n",
    "addition()"
   ],
   "outputs": [
    {
     "name": "stdout",
     "output_type": "stream",
     "text": [
      "25\n"
     ]
    }
   ],
   "execution_count": 1
  },
  {
   "metadata": {
    "ExecuteTime": {
     "end_time": "2025-08-19T07:17:31.515699Z",
     "start_time": "2025-08-19T07:17:31.512138Z"
    }
   },
   "cell_type": "code",
   "source": [
    "def addition(first, second):\n",
    "    print(first+second)\n",
    "    \n",
    "addition(1, 2)"
   ],
   "id": "c213e5a95dc18140",
   "outputs": [
    {
     "name": "stdout",
     "output_type": "stream",
     "text": [
      "3\n"
     ]
    }
   ],
   "execution_count": 2
  },
  {
   "metadata": {
    "ExecuteTime": {
     "end_time": "2025-08-19T07:19:24.838873Z",
     "start_time": "2025-08-19T07:19:24.835219Z"
    }
   },
   "cell_type": "code",
   "source": [
    "def addition(first, second):\n",
    "    return first+second\n",
    "result = addition(1, 2)\n",
    "print(result)"
   ],
   "id": "9272a7d6948c63ad",
   "outputs": [
    {
     "name": "stdout",
     "output_type": "stream",
     "text": [
      "3\n"
     ]
    }
   ],
   "execution_count": 3
  },
  {
   "metadata": {},
   "cell_type": "code",
   "outputs": [],
   "execution_count": null,
   "source": "",
   "id": "c4dc8010c0cdbf93"
  }
 ],
 "metadata": {
  "kernelspec": {
   "display_name": "Python 3",
   "language": "python",
   "name": "python3"
  },
  "language_info": {
   "codemirror_mode": {
    "name": "ipython",
    "version": 2
   },
   "file_extension": ".py",
   "mimetype": "text/x-python",
   "name": "python",
   "nbconvert_exporter": "python",
   "pygments_lexer": "ipython2",
   "version": "2.7.6"
  }
 },
 "nbformat": 4,
 "nbformat_minor": 5
}
