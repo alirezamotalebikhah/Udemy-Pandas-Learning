{
 "cells": [
  {
   "cell_type": "code",
   "id": "initial_id",
   "metadata": {
    "collapsed": true,
    "ExecuteTime": {
     "end_time": "2025-08-24T08:08:57.608751Z",
     "start_time": "2025-08-24T08:08:57.184762Z"
    }
   },
   "source": [
    "import numpy as np\n",
    "np.array([12, 23 , 34 , 55])"
   ],
   "outputs": [
    {
     "data": {
      "text/plain": [
       "array([12, 23, 34, 55])"
      ]
     },
     "execution_count": 1,
     "metadata": {},
     "output_type": "execute_result"
    }
   ],
   "execution_count": 1
  },
  {
   "metadata": {
    "ExecuteTime": {
     "end_time": "2025-08-24T08:09:26.606639Z",
     "start_time": "2025-08-24T08:09:26.600607Z"
    }
   },
   "cell_type": "code",
   "source": "np.array([12, 23 , 34 , 55] , dtype=float)",
   "id": "d6abfa3d3a320ae1",
   "outputs": [
    {
     "data": {
      "text/plain": [
       "array([12., 23., 34., 55.])"
      ]
     },
     "execution_count": 2,
     "metadata": {},
     "output_type": "execute_result"
    }
   ],
   "execution_count": 2
  },
  {
   "metadata": {
    "ExecuteTime": {
     "end_time": "2025-08-24T08:09:51.425252Z",
     "start_time": "2025-08-24T08:09:51.418276Z"
    }
   },
   "cell_type": "code",
   "source": "np.empty(10)",
   "id": "61f472263c3a815f",
   "outputs": [
    {
     "data": {
      "text/plain": [
       "array([            nan, 0.00000000e+000, 1.26124233e-311, 2.02369289e-320,\n",
       "       0.00000000e+000, 0.00000000e+000, 0.00000000e+000, 0.00000000e+000,\n",
       "       0.00000000e+000, 0.00000000e+000])"
      ]
     },
     "execution_count": 3,
     "metadata": {},
     "output_type": "execute_result"
    }
   ],
   "execution_count": 3
  },
  {
   "metadata": {
    "ExecuteTime": {
     "end_time": "2025-08-24T08:10:48.301174Z",
     "start_time": "2025-08-24T08:10:48.296713Z"
    }
   },
   "cell_type": "code",
   "source": "np.empty([3,5])",
   "id": "a6aac2ba01f8721e",
   "outputs": [
    {
     "data": {
      "text/plain": [
       "array([[0., 0., 0., 0., 0.],\n",
       "       [0., 0., 0., 0., 0.],\n",
       "       [0., 0., 0., 0., 0.]])"
      ]
     },
     "execution_count": 5,
     "metadata": {},
     "output_type": "execute_result"
    }
   ],
   "execution_count": 5
  },
  {
   "metadata": {
    "ExecuteTime": {
     "end_time": "2025-08-24T08:11:19.719362Z",
     "start_time": "2025-08-24T08:11:19.715740Z"
    }
   },
   "cell_type": "code",
   "source": "np.eye(3)",
   "id": "e220013bff33389e",
   "outputs": [
    {
     "data": {
      "text/plain": [
       "array([[1., 0., 0.],\n",
       "       [0., 1., 0.],\n",
       "       [0., 0., 1.]])"
      ]
     },
     "execution_count": 6,
     "metadata": {},
     "output_type": "execute_result"
    }
   ],
   "execution_count": 6
  },
  {
   "metadata": {
    "ExecuteTime": {
     "end_time": "2025-08-24T08:11:35.224950Z",
     "start_time": "2025-08-24T08:11:35.220950Z"
    }
   },
   "cell_type": "code",
   "source": "np.eye(3,6)\n",
   "id": "67be535f2fa29b79",
   "outputs": [
    {
     "data": {
      "text/plain": [
       "array([[1., 0., 0., 0., 0., 0.],\n",
       "       [0., 1., 0., 0., 0., 0.],\n",
       "       [0., 0., 1., 0., 0., 0.]])"
      ]
     },
     "execution_count": 7,
     "metadata": {},
     "output_type": "execute_result"
    }
   ],
   "execution_count": 7
  },
  {
   "metadata": {
    "ExecuteTime": {
     "end_time": "2025-08-24T08:16:50.361666Z",
     "start_time": "2025-08-24T08:16:50.356657Z"
    }
   },
   "cell_type": "code",
   "source": "np.eye(3,6 , dtype=int)",
   "id": "e23083a918363184",
   "outputs": [
    {
     "data": {
      "text/plain": [
       "array([[1, 0, 0, 0, 0, 0],\n",
       "       [0, 1, 0, 0, 0, 0],\n",
       "       [0, 0, 1, 0, 0, 0]])"
      ]
     },
     "execution_count": 8,
     "metadata": {},
     "output_type": "execute_result"
    }
   ],
   "execution_count": 8
  },
  {
   "metadata": {
    "ExecuteTime": {
     "end_time": "2025-08-24T08:17:12.880426Z",
     "start_time": "2025-08-24T08:17:12.876477Z"
    }
   },
   "cell_type": "code",
   "source": "np.zeros(10)",
   "id": "5db6219c0ba54476",
   "outputs": [
    {
     "data": {
      "text/plain": [
       "array([0., 0., 0., 0., 0., 0., 0., 0., 0., 0.])"
      ]
     },
     "execution_count": 9,
     "metadata": {},
     "output_type": "execute_result"
    }
   ],
   "execution_count": 9
  },
  {
   "metadata": {
    "ExecuteTime": {
     "end_time": "2025-08-24T08:17:27.330506Z",
     "start_time": "2025-08-24T08:17:27.325948Z"
    }
   },
   "cell_type": "code",
   "source": "np.zeros([3,5])",
   "id": "83e91bf097049311",
   "outputs": [
    {
     "data": {
      "text/plain": [
       "array([[0., 0., 0., 0., 0.],\n",
       "       [0., 0., 0., 0., 0.],\n",
       "       [0., 0., 0., 0., 0.]])"
      ]
     },
     "execution_count": 10,
     "metadata": {},
     "output_type": "execute_result"
    }
   ],
   "execution_count": 10
  },
  {
   "metadata": {
    "ExecuteTime": {
     "end_time": "2025-08-24T08:17:49.223528Z",
     "start_time": "2025-08-24T08:17:49.218713Z"
    }
   },
   "cell_type": "code",
   "source": "np.ones([2,4])",
   "id": "8066f4000826252b",
   "outputs": [
    {
     "data": {
      "text/plain": [
       "array([[1., 1., 1., 1.],\n",
       "       [1., 1., 1., 1.]])"
      ]
     },
     "execution_count": 11,
     "metadata": {},
     "output_type": "execute_result"
    }
   ],
   "execution_count": 11
  },
  {
   "metadata": {
    "ExecuteTime": {
     "end_time": "2025-08-24T08:18:16.784915Z",
     "start_time": "2025-08-24T08:18:16.780594Z"
    }
   },
   "cell_type": "code",
   "source": "np.arange(10)",
   "id": "7901056da10092d3",
   "outputs": [
    {
     "data": {
      "text/plain": [
       "array([0, 1, 2, 3, 4, 5, 6, 7, 8, 9])"
      ]
     },
     "execution_count": 12,
     "metadata": {},
     "output_type": "execute_result"
    }
   ],
   "execution_count": 12
  },
  {
   "metadata": {
    "ExecuteTime": {
     "end_time": "2025-08-24T08:19:16.150501Z",
     "start_time": "2025-08-24T08:19:16.146189Z"
    }
   },
   "cell_type": "code",
   "source": "np.arange(10, 21)",
   "id": "550d3c14d9e70b2d",
   "outputs": [
    {
     "data": {
      "text/plain": [
       "array([10, 11, 12, 13, 14, 15, 16, 17, 18, 19, 20])"
      ]
     },
     "execution_count": 15,
     "metadata": {},
     "output_type": "execute_result"
    }
   ],
   "execution_count": 15
  },
  {
   "metadata": {
    "ExecuteTime": {
     "end_time": "2025-08-24T08:19:40.930574Z",
     "start_time": "2025-08-24T08:19:40.926674Z"
    }
   },
   "cell_type": "code",
   "source": "np.arange(10,21,5) ",
   "id": "36a412ebbff0591e",
   "outputs": [
    {
     "data": {
      "text/plain": [
       "array([10, 15, 20])"
      ]
     },
     "execution_count": 17,
     "metadata": {},
     "output_type": "execute_result"
    }
   ],
   "execution_count": 17
  },
  {
   "metadata": {
    "ExecuteTime": {
     "end_time": "2025-08-24T08:21:08.730250Z",
     "start_time": "2025-08-24T08:21:08.726072Z"
    }
   },
   "cell_type": "code",
   "source": "np.random.rand(10)",
   "id": "c061441906ffa499",
   "outputs": [
    {
     "data": {
      "text/plain": [
       "0"
      ]
     },
     "execution_count": 19,
     "metadata": {},
     "output_type": "execute_result"
    }
   ],
   "execution_count": 19
  },
  {
   "metadata": {
    "ExecuteTime": {
     "end_time": "2025-08-24T08:22:17.123911Z",
     "start_time": "2025-08-24T08:22:17.117406Z"
    }
   },
   "cell_type": "code",
   "source": "np.random.rand(2,3)",
   "id": "11719770ab935725",
   "outputs": [
    {
     "data": {
      "text/plain": [
       "array([[0.92906572, 0.83547403, 0.77325194],\n",
       "       [0.43408277, 0.40957086, 0.90803997]])"
      ]
     },
     "execution_count": 20,
     "metadata": {},
     "output_type": "execute_result"
    }
   ],
   "execution_count": 20
  },
  {
   "metadata": {
    "ExecuteTime": {
     "end_time": "2025-08-24T08:23:30.677016Z",
     "start_time": "2025-08-24T08:23:30.672264Z"
    }
   },
   "cell_type": "code",
   "source": "np.random.randint(0,10, size=(5,5))",
   "id": "2c0dfe56440a6714",
   "outputs": [
    {
     "data": {
      "text/plain": [
       "array([[9, 6, 9, 4, 0],\n",
       "       [3, 3, 9, 1, 7],\n",
       "       [0, 8, 3, 9, 3],\n",
       "       [6, 9, 0, 5, 3],\n",
       "       [7, 7, 6, 9, 4]], dtype=int32)"
      ]
     },
     "execution_count": 22,
     "metadata": {},
     "output_type": "execute_result"
    }
   ],
   "execution_count": 22
  },
  {
   "metadata": {
    "ExecuteTime": {
     "end_time": "2025-08-24T08:24:06.406221Z",
     "start_time": "2025-08-24T08:24:06.401418Z"
    }
   },
   "cell_type": "code",
   "source": "np.random.randint(11,55, size=(5,5))",
   "id": "29259862a5268213",
   "outputs": [
    {
     "data": {
      "text/plain": [
       "array([[18, 50, 39, 38, 45],\n",
       "       [32, 35, 41, 40, 22],\n",
       "       [24, 31, 31, 24, 19],\n",
       "       [19, 43, 15, 28, 31],\n",
       "       [22, 11, 41, 21, 27]], dtype=int32)"
      ]
     },
     "execution_count": 23,
     "metadata": {},
     "output_type": "execute_result"
    }
   ],
   "execution_count": 23
  },
  {
   "metadata": {
    "ExecuteTime": {
     "end_time": "2025-08-24T08:49:05.869038Z",
     "start_time": "2025-08-24T08:49:05.864040Z"
    }
   },
   "cell_type": "code",
   "source": "np.random.sample(size=(3,5))",
   "id": "7215b2f0280c7d7b",
   "outputs": [
    {
     "data": {
      "text/plain": [
       "array([[0.37815838, 0.49878996, 0.41173821, 0.37401221, 0.64798078],\n",
       "       [0.08950446, 0.28745438, 0.1995038 , 0.29910402, 0.98032707],\n",
       "       [0.97016389, 0.83566675, 0.47185199, 0.51074807, 0.57044247]])"
      ]
     },
     "execution_count": 24,
     "metadata": {},
     "output_type": "execute_result"
    }
   ],
   "execution_count": 24
  },
  {
   "metadata": {
    "ExecuteTime": {
     "end_time": "2025-08-24T08:49:30.769641Z",
     "start_time": "2025-08-24T08:49:30.764647Z"
    }
   },
   "cell_type": "code",
   "source": "np.random.normal(50 , 5 , size=(3,5))",
   "id": "2eb6c1c58f0c75b1",
   "outputs": [
    {
     "data": {
      "text/plain": [
       "array([[40.28621201, 46.54329275, 58.49839639, 54.76377991, 53.75325558],\n",
       "       [56.586386  , 48.18703664, 48.66736557, 54.90958758, 52.0990011 ],\n",
       "       [44.64483334, 50.39548015, 41.93572107, 52.78723908, 45.1435634 ]])"
      ]
     },
     "execution_count": 26,
     "metadata": {},
     "output_type": "execute_result"
    }
   ],
   "execution_count": 26
  },
  {
   "metadata": {},
   "cell_type": "code",
   "outputs": [],
   "execution_count": null,
   "source": "",
   "id": "825382fe4cf429d1"
  }
 ],
 "metadata": {
  "kernelspec": {
   "display_name": "Python 3",
   "language": "python",
   "name": "python3"
  },
  "language_info": {
   "codemirror_mode": {
    "name": "ipython",
    "version": 2
   },
   "file_extension": ".py",
   "mimetype": "text/x-python",
   "name": "python",
   "nbconvert_exporter": "python",
   "pygments_lexer": "ipython2",
   "version": "2.7.6"
  }
 },
 "nbformat": 4,
 "nbformat_minor": 5
}
