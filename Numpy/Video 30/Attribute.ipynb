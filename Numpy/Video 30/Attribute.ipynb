{
 "cells": [
  {
   "cell_type": "code",
   "id": "initial_id",
   "metadata": {
    "collapsed": true,
    "ExecuteTime": {
     "end_time": "2025-08-24T08:51:47.645924Z",
     "start_time": "2025-08-24T08:51:47.567254Z"
    }
   },
   "source": [
    "import numpy as np\n",
    "ar1 = np.array([12 , 23 , 34 , 55], dtype=float)\n",
    "print(ar1)"
   ],
   "outputs": [
    {
     "name": "stdout",
     "output_type": "stream",
     "text": [
      "[12. 23. 34. 55.]\n"
     ]
    }
   ],
   "execution_count": 1
  },
  {
   "metadata": {
    "ExecuteTime": {
     "end_time": "2025-08-24T08:52:21.844586Z",
     "start_time": "2025-08-24T08:52:21.840287Z"
    }
   },
   "cell_type": "code",
   "source": [
    "ar2 = np.eye(3,6,dtype=int)\n",
    "print(ar2)"
   ],
   "id": "5e6942a9b0e74bdd",
   "outputs": [
    {
     "name": "stdout",
     "output_type": "stream",
     "text": [
      "[[1 0 0 0 0 0]\n",
      " [0 1 0 0 0 0]\n",
      " [0 0 1 0 0 0]]\n"
     ]
    }
   ],
   "execution_count": 2
  },
  {
   "metadata": {
    "ExecuteTime": {
     "end_time": "2025-08-24T08:52:48.903272Z",
     "start_time": "2025-08-24T08:52:48.898954Z"
    }
   },
   "cell_type": "code",
   "source": [
    "ar3  = np.arange(10 , 21 , 3)\n",
    "print(ar3)"
   ],
   "id": "5dd4ebca9bd2840",
   "outputs": [
    {
     "name": "stdout",
     "output_type": "stream",
     "text": [
      "[10 13 16 19]\n"
     ]
    }
   ],
   "execution_count": 4
  },
  {
   "metadata": {
    "ExecuteTime": {
     "end_time": "2025-08-24T08:53:16.279324Z",
     "start_time": "2025-08-24T08:53:16.264655Z"
    }
   },
   "cell_type": "code",
   "source": [
    "ar4 = np.random.normal(50 , 5 , size=(4 ,5))\n",
    "print(ar4)"
   ],
   "id": "2dc6b3e975f070e3",
   "outputs": [
    {
     "name": "stdout",
     "output_type": "stream",
     "text": [
      "[[50.09329263 48.52325253 52.41290078 44.89017186 57.19293099]\n",
      " [47.72338757 56.8111591  57.24019434 47.3832005  44.56053895]\n",
      " [56.43479404 54.17820748 48.47441912 50.32046294 49.02376656]\n",
      " [50.79351054 44.27840079 51.75767542 50.12738529 52.52827248]]\n"
     ]
    }
   ],
   "execution_count": 5
  },
  {
   "metadata": {
    "ExecuteTime": {
     "end_time": "2025-08-24T08:53:28.838741Z",
     "start_time": "2025-08-24T08:53:28.832207Z"
    }
   },
   "cell_type": "code",
   "source": "ar1.ndim",
   "id": "3434273f6dca59d",
   "outputs": [
    {
     "data": {
      "text/plain": [
       "1"
      ]
     },
     "execution_count": 6,
     "metadata": {},
     "output_type": "execute_result"
    }
   ],
   "execution_count": 6
  },
  {
   "metadata": {
    "ExecuteTime": {
     "end_time": "2025-08-24T08:53:39.490016Z",
     "start_time": "2025-08-24T08:53:39.486017Z"
    }
   },
   "cell_type": "code",
   "source": "ar2.ndim",
   "id": "3ecc78d2b8da32be",
   "outputs": [
    {
     "data": {
      "text/plain": [
       "2"
      ]
     },
     "execution_count": 7,
     "metadata": {},
     "output_type": "execute_result"
    }
   ],
   "execution_count": 7
  },
  {
   "metadata": {
    "ExecuteTime": {
     "end_time": "2025-08-24T08:53:58.693698Z",
     "start_time": "2025-08-24T08:53:58.689881Z"
    }
   },
   "cell_type": "code",
   "source": "ar2.size",
   "id": "5a418445f6b81359",
   "outputs": [
    {
     "data": {
      "text/plain": [
       "18"
      ]
     },
     "execution_count": 8,
     "metadata": {},
     "output_type": "execute_result"
    }
   ],
   "execution_count": 8
  },
  {
   "metadata": {
    "ExecuteTime": {
     "end_time": "2025-08-24T08:54:15.297476Z",
     "start_time": "2025-08-24T08:54:15.293797Z"
    }
   },
   "cell_type": "code",
   "source": "ar2.shape",
   "id": "4304e8d9c5d6bbb6",
   "outputs": [
    {
     "data": {
      "text/plain": [
       "(3, 6)"
      ]
     },
     "execution_count": 9,
     "metadata": {},
     "output_type": "execute_result"
    }
   ],
   "execution_count": 9
  },
  {
   "metadata": {
    "ExecuteTime": {
     "end_time": "2025-08-24T08:54:23.798756Z",
     "start_time": "2025-08-24T08:54:23.794761Z"
    }
   },
   "cell_type": "code",
   "source": "ar4.shape",
   "id": "e7e07e52f5869878",
   "outputs": [
    {
     "data": {
      "text/plain": [
       "(4, 5)"
      ]
     },
     "execution_count": 10,
     "metadata": {},
     "output_type": "execute_result"
    }
   ],
   "execution_count": 10
  },
  {
   "metadata": {
    "ExecuteTime": {
     "end_time": "2025-08-24T08:55:19.435413Z",
     "start_time": "2025-08-24T08:55:19.429674Z"
    }
   },
   "cell_type": "code",
   "source": "np.sort(ar4)",
   "id": "6723305e1aa3e79a",
   "outputs": [
    {
     "data": {
      "text/plain": [
       "array([[44.89017186, 48.52325253, 50.09329263, 52.41290078, 57.19293099],\n",
       "       [44.56053895, 47.3832005 , 47.72338757, 56.8111591 , 57.24019434],\n",
       "       [48.47441912, 49.02376656, 50.32046294, 54.17820748, 56.43479404],\n",
       "       [44.27840079, 50.12738529, 50.79351054, 51.75767542, 52.52827248]])"
      ]
     },
     "execution_count": 11,
     "metadata": {},
     "output_type": "execute_result"
    }
   ],
   "execution_count": 11
  },
  {
   "metadata": {
    "ExecuteTime": {
     "end_time": "2025-08-24T08:57:02.541877Z",
     "start_time": "2025-08-24T08:57:02.537151Z"
    }
   },
   "cell_type": "code",
   "source": [
    "ar4 = np.random.normal(50 , 5 , size=(3 ,6))\n",
    "np.concat([ar2 ,ar4])"
   ],
   "id": "f25189306eb4b028",
   "outputs": [
    {
     "data": {
      "text/plain": [
       "array([[ 1.        ,  0.        ,  0.        ,  0.        ,  0.        ,\n",
       "         0.        ],\n",
       "       [ 0.        ,  1.        ,  0.        ,  0.        ,  0.        ,\n",
       "         0.        ],\n",
       "       [ 0.        ,  0.        ,  1.        ,  0.        ,  0.        ,\n",
       "         0.        ],\n",
       "       [54.00955705, 48.70730615, 50.35302881, 40.5376407 , 58.5452284 ,\n",
       "        55.10305116],\n",
       "       [54.35131578, 40.63598359, 51.35477583, 40.51959926, 59.09034935,\n",
       "        45.43897966],\n",
       "       [42.32313397, 48.67084377, 56.09843058, 45.78960326, 48.31339094,\n",
       "        53.21550486]])"
      ]
     },
     "execution_count": 14,
     "metadata": {},
     "output_type": "execute_result"
    }
   ],
   "execution_count": 14
  },
  {
   "metadata": {
    "ExecuteTime": {
     "end_time": "2025-08-24T08:57:37.178135Z",
     "start_time": "2025-08-24T08:57:37.174079Z"
    }
   },
   "cell_type": "code",
   "source": [
    "ar3 = np.arange(10 , 51 , 3)\n",
    "print(ar3)"
   ],
   "id": "329026b5e44be4cc",
   "outputs": [
    {
     "name": "stdout",
     "output_type": "stream",
     "text": [
      "[10 13 16 19 22 25 28 31 34 37 40 43 46 49]\n"
     ]
    }
   ],
   "execution_count": 15
  },
  {
   "metadata": {
    "ExecuteTime": {
     "end_time": "2025-08-24T08:58:51.170629Z",
     "start_time": "2025-08-24T08:58:51.166286Z"
    }
   },
   "cell_type": "code",
   "source": "np.split(ar3 ,[3,5])",
   "id": "d12531363f281781",
   "outputs": [
    {
     "data": {
      "text/plain": [
       "[array([10, 13, 16]),\n",
       " array([19, 22]),\n",
       " array([25, 28, 31, 34, 37, 40, 43, 46, 49])]"
      ]
     },
     "execution_count": 16,
     "metadata": {},
     "output_type": "execute_result"
    }
   ],
   "execution_count": 16
  },
  {
   "metadata": {
    "ExecuteTime": {
     "end_time": "2025-08-24T08:59:37.009163Z",
     "start_time": "2025-08-24T08:59:37.004497Z"
    }
   },
   "cell_type": "code",
   "source": "np.min(ar3)",
   "id": "b925a79600ed9a2d",
   "outputs": [
    {
     "data": {
      "text/plain": [
       "np.int64(10)"
      ]
     },
     "execution_count": 17,
     "metadata": {},
     "output_type": "execute_result"
    }
   ],
   "execution_count": 17
  },
  {
   "metadata": {
    "ExecuteTime": {
     "end_time": "2025-08-24T09:00:01.103037Z",
     "start_time": "2025-08-24T09:00:01.098585Z"
    }
   },
   "cell_type": "code",
   "source": "np.argmin(ar3)",
   "id": "5640cc9ade744d2a",
   "outputs": [
    {
     "data": {
      "text/plain": [
       "np.int64(0)"
      ]
     },
     "execution_count": 18,
     "metadata": {},
     "output_type": "execute_result"
    }
   ],
   "execution_count": 18
  },
  {
   "metadata": {
    "ExecuteTime": {
     "end_time": "2025-08-24T09:00:09.408872Z",
     "start_time": "2025-08-24T09:00:09.404296Z"
    }
   },
   "cell_type": "code",
   "source": "np.max(ar3)",
   "id": "c8ed0897fb72d46a",
   "outputs": [
    {
     "data": {
      "text/plain": [
       "np.int64(49)"
      ]
     },
     "execution_count": 19,
     "metadata": {},
     "output_type": "execute_result"
    }
   ],
   "execution_count": 19
  },
  {
   "metadata": {
    "ExecuteTime": {
     "end_time": "2025-08-24T09:00:14.686468Z",
     "start_time": "2025-08-24T09:00:14.681466Z"
    }
   },
   "cell_type": "code",
   "source": "np.argmax(ar3)",
   "id": "dcd1a32eed8e97ef",
   "outputs": [
    {
     "data": {
      "text/plain": [
       "np.int64(13)"
      ]
     },
     "execution_count": 20,
     "metadata": {},
     "output_type": "execute_result"
    }
   ],
   "execution_count": 20
  },
  {
   "metadata": {},
   "cell_type": "code",
   "outputs": [],
   "execution_count": null,
   "source": "",
   "id": "7496c723d381db02"
  }
 ],
 "metadata": {
  "kernelspec": {
   "display_name": "Python 3",
   "language": "python",
   "name": "python3"
  },
  "language_info": {
   "codemirror_mode": {
    "name": "ipython",
    "version": 2
   },
   "file_extension": ".py",
   "mimetype": "text/x-python",
   "name": "python",
   "nbconvert_exporter": "python",
   "pygments_lexer": "ipython2",
   "version": "2.7.6"
  }
 },
 "nbformat": 4,
 "nbformat_minor": 5
}
