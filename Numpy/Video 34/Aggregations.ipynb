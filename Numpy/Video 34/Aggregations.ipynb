{
 "cells": [
  {
   "cell_type": "code",
   "id": "initial_id",
   "metadata": {
    "collapsed": true,
    "ExecuteTime": {
     "end_time": "2025-08-24T10:48:50.636012Z",
     "start_time": "2025-08-24T10:48:50.554037Z"
    }
   },
   "source": [
    "import numpy as np\n",
    "ar1 = np.array([12 , 23 , 34 , 55] , dtype=float)\n",
    "ar2 = np.arange(10 , 99 , 25 , dtype=float)\n",
    "ar3 = np.arange(10 , 51 , 11 , dtype=float)\n",
    "ar4 = np.eye(3,6)\n",
    "ar5 = np.random.normal(50 , 5 , size=(3,6))"
   ],
   "outputs": [],
   "execution_count": 2
  },
  {
   "metadata": {
    "ExecuteTime": {
     "end_time": "2025-08-24T10:49:20.276455Z",
     "start_time": "2025-08-24T10:49:20.271757Z"
    }
   },
   "cell_type": "code",
   "source": "print(ar1 +ar2 * 3)",
   "id": "b057c50f60c64a24",
   "outputs": [
    {
     "name": "stdout",
     "output_type": "stream",
     "text": [
      "[ 42. 128. 214. 310.]\n"
     ]
    }
   ],
   "execution_count": 3
  },
  {
   "metadata": {
    "ExecuteTime": {
     "end_time": "2025-08-24T10:49:48.401881Z",
     "start_time": "2025-08-24T10:49:48.398664Z"
    }
   },
   "cell_type": "code",
   "source": "print(ar4+ar5)",
   "id": "bdde0bba5ae90de9",
   "outputs": [
    {
     "name": "stdout",
     "output_type": "stream",
     "text": [
      "[[37.40658946 44.93989139 53.22739443 41.10034948 40.68311026 51.29981762]\n",
      " [47.2713036  48.49112873 60.86175651 45.76544422 56.56414096 57.9872708 ]\n",
      " [48.84979647 49.31668972 48.45759687 41.06519277 48.34205654 57.05486844]]\n"
     ]
    }
   ],
   "execution_count": 4
  },
  {
   "metadata": {
    "ExecuteTime": {
     "end_time": "2025-08-24T10:50:31.450151Z",
     "start_time": "2025-08-24T10:50:31.444633Z"
    }
   },
   "cell_type": "code",
   "source": "np.add(ar1 , ar2)",
   "id": "12f88419c70078d9",
   "outputs": [
    {
     "data": {
      "text/plain": [
       "array([ 22.,  58.,  94., 140.])"
      ]
     },
     "execution_count": 5,
     "metadata": {},
     "output_type": "execute_result"
    }
   ],
   "execution_count": 5
  },
  {
   "metadata": {
    "ExecuteTime": {
     "end_time": "2025-08-24T10:51:17.179529Z",
     "start_time": "2025-08-24T10:51:17.175781Z"
    }
   },
   "cell_type": "code",
   "source": "np.add(ar1 , ar2 ,ar3)",
   "id": "b00cb22c0e3f048a",
   "outputs": [
    {
     "data": {
      "text/plain": [
       "array([ 22.,  58.,  94., 140.])"
      ]
     },
     "execution_count": 7,
     "metadata": {},
     "output_type": "execute_result"
    }
   ],
   "execution_count": 7
  },
  {
   "metadata": {
    "ExecuteTime": {
     "end_time": "2025-08-24T10:52:28.161237Z",
     "start_time": "2025-08-24T10:52:28.157916Z"
    }
   },
   "cell_type": "code",
   "source": [
    "ar5 = np.random.normal(50 , 5 , size=(6,3))\n",
    "print(ar5.size)"
   ],
   "id": "58addb5c3fe173b9",
   "outputs": [
    {
     "name": "stdout",
     "output_type": "stream",
     "text": [
      "18\n"
     ]
    }
   ],
   "execution_count": 8
  },
  {
   "metadata": {
    "ExecuteTime": {
     "end_time": "2025-08-24T10:54:30.316340Z",
     "start_time": "2025-08-24T10:54:30.313222Z"
    }
   },
   "cell_type": "code",
   "source": "# print(ar4 + ar5)",
   "id": "7bdb9e8123a3a655",
   "outputs": [],
   "execution_count": 11
  },
  {
   "metadata": {
    "ExecuteTime": {
     "end_time": "2025-08-24T10:54:32.053932Z",
     "start_time": "2025-08-24T10:54:32.049933Z"
    }
   },
   "cell_type": "code",
   "source": [
    "import numpy as np\n",
    "ar1 = np.array([12 , 23 , 34 , 55] , dtype=float)\n",
    "ar2 = np.arange(10 , 99 , 25 , dtype=float)\n",
    "ar3 = np.arange(10 , 51 , 11 , dtype=float)\n",
    "ar4 = np.eye(3,6)\n",
    "ar5 = np.random.normal(50 , 5 , size=(3,6))"
   ],
   "id": "ac1531dc38ea75eb",
   "outputs": [],
   "execution_count": 12
  },
  {
   "metadata": {
    "ExecuteTime": {
     "end_time": "2025-08-24T10:54:58.064567Z",
     "start_time": "2025-08-24T10:54:58.059839Z"
    }
   },
   "cell_type": "code",
   "source": "ar5.sum()",
   "id": "1c0fb77b3efe557d",
   "outputs": [
    {
     "data": {
      "text/plain": [
       "np.float64(867.0634587816769)"
      ]
     },
     "execution_count": 14,
     "metadata": {},
     "output_type": "execute_result"
    }
   ],
   "execution_count": 14
  },
  {
   "metadata": {
    "ExecuteTime": {
     "end_time": "2025-08-24T10:55:08.358598Z",
     "start_time": "2025-08-24T10:55:08.354935Z"
    }
   },
   "cell_type": "code",
   "source": "ar5.mean()",
   "id": "5901aa9fb181baa3",
   "outputs": [
    {
     "data": {
      "text/plain": [
       "np.float64(48.1701921545376)"
      ]
     },
     "execution_count": 15,
     "metadata": {},
     "output_type": "execute_result"
    }
   ],
   "execution_count": 15
  },
  {
   "metadata": {
    "ExecuteTime": {
     "end_time": "2025-08-24T10:55:23.081075Z",
     "start_time": "2025-08-24T10:55:23.076930Z"
    }
   },
   "cell_type": "code",
   "source": "ar5.std()",
   "id": "d0d6883ed838a9f2",
   "outputs": [
    {
     "data": {
      "text/plain": [
       "np.float64(5.410035113265185)"
      ]
     },
     "execution_count": 16,
     "metadata": {},
     "output_type": "execute_result"
    }
   ],
   "execution_count": 16
  },
  {
   "metadata": {
    "ExecuteTime": {
     "end_time": "2025-08-24T10:55:29.715774Z",
     "start_time": "2025-08-24T10:55:29.711933Z"
    }
   },
   "cell_type": "code",
   "source": "ar5.prod()",
   "id": "f520f2aaed0ae64c",
   "outputs": [
    {
     "data": {
      "text/plain": [
       "np.float64(1.7343970003793795e+30)"
      ]
     },
     "execution_count": 17,
     "metadata": {},
     "output_type": "execute_result"
    }
   ],
   "execution_count": 17
  },
  {
   "metadata": {
    "ExecuteTime": {
     "end_time": "2025-08-24T10:55:36.335459Z",
     "start_time": "2025-08-24T10:55:36.331772Z"
    }
   },
   "cell_type": "code",
   "source": "ar5.var()\n",
   "id": "9945af05534b1ae6",
   "outputs": [
    {
     "data": {
      "text/plain": [
       "np.float64(29.268479926762243)"
      ]
     },
     "execution_count": 18,
     "metadata": {},
     "output_type": "execute_result"
    }
   ],
   "execution_count": 18
  },
  {
   "metadata": {
    "ExecuteTime": {
     "end_time": "2025-08-24T10:55:46.912281Z",
     "start_time": "2025-08-24T10:55:46.908279Z"
    }
   },
   "cell_type": "code",
   "source": "ar5.cumsum()",
   "id": "989e0a6d0d4ea924",
   "outputs": [
    {
     "data": {
      "text/plain": [
       "array([ 45.73282919,  94.47510628, 142.00238136, 192.42541553,\n",
       "       231.4959138 , 279.62422681, 316.9896634 , 364.00766987,\n",
       "       404.58673593, 455.71517562, 508.97739725, 567.71820125,\n",
       "       624.15096413, 673.88579545, 718.01310972, 770.96638464,\n",
       "       818.7099739 , 867.06345878])"
      ]
     },
     "execution_count": 19,
     "metadata": {},
     "output_type": "execute_result"
    }
   ],
   "execution_count": 19
  },
  {
   "metadata": {
    "ExecuteTime": {
     "end_time": "2025-08-24T10:58:48.851205Z",
     "start_time": "2025-08-24T10:58:48.847116Z"
    }
   },
   "cell_type": "code",
   "source": [
    "import numpy as np \n",
    "np_array = np.arange(10)\n",
    "shape = np_array.shape\n",
    "print(f\"shape : {shape}\")"
   ],
   "id": "9e1aceef0def7f5",
   "outputs": [
    {
     "name": "stdout",
     "output_type": "stream",
     "text": [
      "shape : (10,)\n"
     ]
    }
   ],
   "execution_count": 21
  },
  {
   "metadata": {},
   "cell_type": "code",
   "outputs": [],
   "execution_count": null,
   "source": "",
   "id": "94ca4257ecb2d12b"
  }
 ],
 "metadata": {
  "kernelspec": {
   "display_name": "Python 3",
   "language": "python",
   "name": "python3"
  },
  "language_info": {
   "codemirror_mode": {
    "name": "ipython",
    "version": 2
   },
   "file_extension": ".py",
   "mimetype": "text/x-python",
   "name": "python",
   "nbconvert_exporter": "python",
   "pygments_lexer": "ipython2",
   "version": "2.7.6"
  }
 },
 "nbformat": 4,
 "nbformat_minor": 5
}
