{
 "cells": [
  {
   "cell_type": "code",
   "id": "initial_id",
   "metadata": {
    "collapsed": true,
    "ExecuteTime": {
     "end_time": "2025-08-24T09:02:39.696370Z",
     "start_time": "2025-08-24T09:02:39.634130Z"
    }
   },
   "source": [
    "import numpy\n",
    "np_array = numpy.array([1,2,3,4,5,6,7,8,9,10])\n",
    "print(np_array)"
   ],
   "outputs": [
    {
     "name": "stdout",
     "output_type": "stream",
     "text": [
      "[ 1  2  3  4  5  6  7  8  9 10]\n"
     ]
    }
   ],
   "execution_count": 1
  },
  {
   "metadata": {
    "ExecuteTime": {
     "end_time": "2025-08-24T09:03:19.505097Z",
     "start_time": "2025-08-24T09:03:19.500698Z"
    }
   },
   "cell_type": "code",
   "source": "print(np_array[6])",
   "id": "25705e03e65bab55",
   "outputs": [
    {
     "name": "stdout",
     "output_type": "stream",
     "text": [
      "7\n"
     ]
    }
   ],
   "execution_count": 2
  },
  {
   "metadata": {
    "ExecuteTime": {
     "end_time": "2025-08-24T09:03:44.286156Z",
     "start_time": "2025-08-24T09:03:44.282192Z"
    }
   },
   "cell_type": "code",
   "source": "print(np_array[:5])",
   "id": "e2ff32d7adc2cc45",
   "outputs": [
    {
     "name": "stdout",
     "output_type": "stream",
     "text": [
      "[1 2 3 4 5]\n"
     ]
    }
   ],
   "execution_count": 3
  },
  {
   "metadata": {
    "ExecuteTime": {
     "end_time": "2025-08-24T09:04:42.045502Z",
     "start_time": "2025-08-24T09:04:42.042059Z"
    }
   },
   "cell_type": "code",
   "source": "print(np_array[5:])",
   "id": "4143dfdbe9ad6e46",
   "outputs": [
    {
     "name": "stdout",
     "output_type": "stream",
     "text": [
      "[ 6  7  8  9 10]\n"
     ]
    }
   ],
   "execution_count": 4
  },
  {
   "metadata": {
    "ExecuteTime": {
     "end_time": "2025-08-24T09:05:41.387115Z",
     "start_time": "2025-08-24T09:05:41.381161Z"
    }
   },
   "cell_type": "code",
   "source": [
    "np_2d_arr = numpy.random.normal(100 , 10 , size=(10 , 10))\n",
    "print(np_2d_arr)"
   ],
   "id": "b201e1ca142ed1d0",
   "outputs": [
    {
     "name": "stdout",
     "output_type": "stream",
     "text": [
      "[[106.09710241  93.25756823  99.23252185  96.5921225   94.13617277\n",
      "   93.93403663 111.29705307  93.70561456  99.77163293  94.48160351]\n",
      " [101.95895014  85.19421395  91.17442387 101.18140989 100.81178599\n",
      "  103.79650836 101.14181405 105.471809   107.68323155 105.47884028]\n",
      " [ 97.16054171 120.63970433 111.48420031 100.41565748 100.00762523\n",
      "  105.03698608 125.83020978 101.6361491  105.33106109  95.02160887]\n",
      " [106.1417567   81.1283444  115.35697354  90.8108924  115.55112109\n",
      "   91.64027533 111.55677886  81.89868337 103.86945709 105.13844774]\n",
      " [109.45339983  97.89464872 106.02509036  98.29546735 101.17447765\n",
      "   91.84073522  90.3434123   94.3082842  109.32167967 106.87431541]\n",
      " [120.61919278 123.27155217  93.08959053  96.94751736  90.13798358\n",
      "   67.27476603 110.74080357 109.6547787  119.61834151  89.13952563]\n",
      " [ 93.48245529  93.31875751  79.96196445  95.69945227 110.73724681\n",
      "   88.68385972 108.9142117  101.47203576 120.28286412 102.89287494]\n",
      " [101.07777306 114.74563404 112.54640949 112.80911683  97.00550616\n",
      "  106.45321808 111.76210974  83.48616943 102.99394309  97.08690599]\n",
      " [ 88.26896463  92.48751003 108.31984001 113.58987721 119.3733589\n",
      "   93.58158459  95.72474425  85.85597379  90.49619743  92.66931809]\n",
      " [104.31144714 107.98542105  85.29440183 105.88467772 112.73910711\n",
      "  103.85697468  99.77483228  84.87936308 105.14666941 112.14563031]]\n"
     ]
    }
   ],
   "execution_count": 6
  },
  {
   "metadata": {
    "ExecuteTime": {
     "end_time": "2025-08-24T09:05:56.595581Z",
     "start_time": "2025-08-24T09:05:56.592154Z"
    }
   },
   "cell_type": "code",
   "source": "print(np_2d_arr[0])",
   "id": "7c2f5e671bcfdf7c",
   "outputs": [
    {
     "name": "stdout",
     "output_type": "stream",
     "text": [
      "[106.09710241  93.25756823  99.23252185  96.5921225   94.13617277\n",
      "  93.93403663 111.29705307  93.70561456  99.77163293  94.48160351]\n"
     ]
    }
   ],
   "execution_count": 7
  },
  {
   "metadata": {
    "ExecuteTime": {
     "end_time": "2025-08-24T09:06:12.946276Z",
     "start_time": "2025-08-24T09:06:12.942939Z"
    }
   },
   "cell_type": "code",
   "source": "print(np_2d_arr[0][0])",
   "id": "229e7c1b2573172c",
   "outputs": [
    {
     "name": "stdout",
     "output_type": "stream",
     "text": [
      "106.09710241110503\n"
     ]
    }
   ],
   "execution_count": 8
  },
  {
   "metadata": {
    "ExecuteTime": {
     "end_time": "2025-08-24T09:06:53.635917Z",
     "start_time": "2025-08-24T09:06:53.630641Z"
    }
   },
   "cell_type": "code",
   "source": "np_2d_arr[0,0]",
   "id": "6d79c0195131c4e6",
   "outputs": [
    {
     "data": {
      "text/plain": [
       "np.float64(106.09710241110503)"
      ]
     },
     "execution_count": 9,
     "metadata": {},
     "output_type": "execute_result"
    }
   ],
   "execution_count": 9
  },
  {
   "metadata": {
    "ExecuteTime": {
     "end_time": "2025-08-24T09:07:54.317129Z",
     "start_time": "2025-08-24T09:07:54.312229Z"
    }
   },
   "cell_type": "code",
   "source": "np_2d_arr[0,0:4]",
   "id": "717b10f5b3c950db",
   "outputs": [
    {
     "data": {
      "text/plain": [
       "array([106.09710241,  93.25756823,  99.23252185,  96.5921225 ])"
      ]
     },
     "execution_count": 10,
     "metadata": {},
     "output_type": "execute_result"
    }
   ],
   "execution_count": 10
  },
  {
   "metadata": {
    "ExecuteTime": {
     "end_time": "2025-08-24T09:08:41.709073Z",
     "start_time": "2025-08-24T09:08:41.704071Z"
    }
   },
   "cell_type": "code",
   "source": "np_2d_arr[1:3 , 1:3]",
   "id": "85db0ab6379bd967",
   "outputs": [
    {
     "data": {
      "text/plain": [
       "array([[ 85.19421395,  91.17442387],\n",
       "       [120.63970433, 111.48420031]])"
      ]
     },
     "execution_count": 11,
     "metadata": {},
     "output_type": "execute_result"
    }
   ],
   "execution_count": 11
  },
  {
   "metadata": {
    "ExecuteTime": {
     "end_time": "2025-08-24T09:09:34.786106Z",
     "start_time": "2025-08-24T09:09:34.782259Z"
    }
   },
   "cell_type": "code",
   "source": [
    "np_2d_arr=numpy.random.normal(50 , 5 , size=(6 , 5))\n",
    "print(np_2d_arr)"
   ],
   "id": "63c3c842c7962fd9",
   "outputs": [
    {
     "name": "stdout",
     "output_type": "stream",
     "text": [
      "[[49.922575   49.80432256 49.24515412 57.86535784 48.51448702]\n",
      " [44.35093576 48.33846603 48.86907274 55.21401147 53.00941935]\n",
      " [48.49810247 48.80713016 58.75682255 58.74471533 48.8711002 ]\n",
      " [50.96712888 52.07205083 45.43078553 50.2680623  42.64266377]\n",
      " [51.83463886 53.8148549  43.99573047 53.46356634 53.27631616]\n",
      " [45.83252855 50.46152532 48.01676989 46.64192137 49.93903351]]\n"
     ]
    }
   ],
   "execution_count": 12
  },
  {
   "metadata": {
    "ExecuteTime": {
     "end_time": "2025-08-24T09:09:44.586316Z",
     "start_time": "2025-08-24T09:09:44.581636Z"
    }
   },
   "cell_type": "code",
   "source": "np_2d_arr",
   "id": "d7518ca0a0ca5beb",
   "outputs": [
    {
     "data": {
      "text/plain": [
       "array([[49.922575  , 49.80432256, 49.24515412, 57.86535784, 48.51448702],\n",
       "       [44.35093576, 48.33846603, 48.86907274, 55.21401147, 53.00941935],\n",
       "       [48.49810247, 48.80713016, 58.75682255, 58.74471533, 48.8711002 ],\n",
       "       [50.96712888, 52.07205083, 45.43078553, 50.2680623 , 42.64266377],\n",
       "       [51.83463886, 53.8148549 , 43.99573047, 53.46356634, 53.27631616],\n",
       "       [45.83252855, 50.46152532, 48.01676989, 46.64192137, 49.93903351]])"
      ]
     },
     "execution_count": 13,
     "metadata": {},
     "output_type": "execute_result"
    }
   ],
   "execution_count": 13
  },
  {
   "metadata": {
    "ExecuteTime": {
     "end_time": "2025-08-24T09:10:07.904187Z",
     "start_time": "2025-08-24T09:10:07.900014Z"
    }
   },
   "cell_type": "code",
   "source": "np_2d_arr[1:3 , 1:3]",
   "id": "73b20be73352e5bf",
   "outputs": [
    {
     "data": {
      "text/plain": [
       "array([[48.33846603, 48.86907274],\n",
       "       [48.80713016, 58.75682255]])"
      ]
     },
     "execution_count": 14,
     "metadata": {},
     "output_type": "execute_result"
    }
   ],
   "execution_count": 14
  },
  {
   "metadata": {
    "ExecuteTime": {
     "end_time": "2025-08-24T09:11:33.999969Z",
     "start_time": "2025-08-24T09:11:33.994775Z"
    }
   },
   "cell_type": "code",
   "source": "np_2d_arr[1:-1 , 1:-1]",
   "id": "9b159e8f4a0b7ad8",
   "outputs": [
    {
     "data": {
      "text/plain": [
       "array([[48.33846603, 48.86907274, 55.21401147],\n",
       "       [48.80713016, 58.75682255, 58.74471533],\n",
       "       [52.07205083, 45.43078553, 50.2680623 ],\n",
       "       [53.8148549 , 43.99573047, 53.46356634]])"
      ]
     },
     "execution_count": 15,
     "metadata": {},
     "output_type": "execute_result"
    }
   ],
   "execution_count": 15
  },
  {
   "metadata": {
    "ExecuteTime": {
     "end_time": "2025-08-24T09:12:17.084798Z",
     "start_time": "2025-08-24T09:12:17.081015Z"
    }
   },
   "cell_type": "code",
   "source": [
    "np_2d_arr[1:-1 , 1:-1]  = 0\n",
    "print(np_2d_arr)"
   ],
   "id": "86718cd02cb5dcee",
   "outputs": [
    {
     "name": "stdout",
     "output_type": "stream",
     "text": [
      "[[49.922575   49.80432256 49.24515412 57.86535784 48.51448702]\n",
      " [44.35093576  0.          0.          0.         53.00941935]\n",
      " [48.49810247  0.          0.          0.         48.8711002 ]\n",
      " [50.96712888  0.          0.          0.         42.64266377]\n",
      " [51.83463886  0.          0.          0.         53.27631616]\n",
      " [45.83252855 50.46152532 48.01676989 46.64192137 49.93903351]]\n"
     ]
    }
   ],
   "execution_count": 16
  },
  {
   "metadata": {},
   "cell_type": "code",
   "outputs": [],
   "execution_count": null,
   "source": "",
   "id": "8ba33e98f51612aa"
  }
 ],
 "metadata": {
  "kernelspec": {
   "display_name": "Python 3",
   "language": "python",
   "name": "python3"
  },
  "language_info": {
   "codemirror_mode": {
    "name": "ipython",
    "version": 2
   },
   "file_extension": ".py",
   "mimetype": "text/x-python",
   "name": "python",
   "nbconvert_exporter": "python",
   "pygments_lexer": "ipython2",
   "version": "2.7.6"
  }
 },
 "nbformat": 4,
 "nbformat_minor": 5
}
