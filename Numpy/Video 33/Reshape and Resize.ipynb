{
 "cells": [
  {
   "cell_type": "code",
   "id": "initial_id",
   "metadata": {
    "collapsed": true,
    "ExecuteTime": {
     "end_time": "2025-08-24T10:43:53.525927Z",
     "start_time": "2025-08-24T10:43:53.522235Z"
    }
   },
   "source": [
    "import numpy as np\n",
    "np_arr = np.eye(3,6)\n",
    "print(np_arr)"
   ],
   "outputs": [
    {
     "name": "stdout",
     "output_type": "stream",
     "text": [
      "[[1. 0. 0. 0. 0. 0.]\n",
      " [0. 1. 0. 0. 0. 0.]\n",
      " [0. 0. 1. 0. 0. 0.]]\n"
     ]
    }
   ],
   "execution_count": 22
  },
  {
   "metadata": {
    "ExecuteTime": {
     "end_time": "2025-08-24T10:43:53.620712Z",
     "start_time": "2025-08-24T10:43:53.617092Z"
    }
   },
   "cell_type": "code",
   "source": [
    "np_arr = np_arr.reshape(6 , 3)\n",
    "print(np_arr)"
   ],
   "id": "38509c20c0a5d631",
   "outputs": [
    {
     "name": "stdout",
     "output_type": "stream",
     "text": [
      "[[1. 0. 0.]\n",
      " [0. 0. 0.]\n",
      " [0. 1. 0.]\n",
      " [0. 0. 0.]\n",
      " [0. 0. 1.]\n",
      " [0. 0. 0.]]\n"
     ]
    }
   ],
   "execution_count": 23
  },
  {
   "metadata": {
    "ExecuteTime": {
     "end_time": "2025-08-24T10:43:53.733676Z",
     "start_time": "2025-08-24T10:43:53.730158Z"
    }
   },
   "cell_type": "code",
   "source": [
    "np_arr = np_arr.reshape(9,2)\n",
    "print(np_arr)"
   ],
   "id": "bd4880806e665382",
   "outputs": [
    {
     "name": "stdout",
     "output_type": "stream",
     "text": [
      "[[1. 0.]\n",
      " [0. 0.]\n",
      " [0. 0.]\n",
      " [0. 1.]\n",
      " [0. 0.]\n",
      " [0. 0.]\n",
      " [0. 0.]\n",
      " [1. 0.]\n",
      " [0. 0.]]\n"
     ]
    }
   ],
   "execution_count": 24
  },
  {
   "metadata": {
    "ExecuteTime": {
     "end_time": "2025-08-24T10:43:53.828018Z",
     "start_time": "2025-08-24T10:43:53.825020Z"
    }
   },
   "cell_type": "code",
   "source": [
    "np_arr = np_arr.reshape(1,18)\n",
    "print(np_arr)"
   ],
   "id": "91e24a5b3ed1def3",
   "outputs": [
    {
     "name": "stdout",
     "output_type": "stream",
     "text": [
      "[[1. 0. 0. 0. 0. 0. 0. 1. 0. 0. 0. 0. 0. 0. 1. 0. 0. 0.]]\n"
     ]
    }
   ],
   "execution_count": 25
  },
  {
   "metadata": {
    "ExecuteTime": {
     "end_time": "2025-08-24T10:43:53.870499Z",
     "start_time": "2025-08-24T10:43:53.866389Z"
    }
   },
   "cell_type": "code",
   "source": [
    "np_arr=np_arr.reshape(3,6)\n",
    "np_arr"
   ],
   "id": "ec66b82e3e2159b0",
   "outputs": [
    {
     "data": {
      "text/plain": [
       "array([[1., 0., 0., 0., 0., 0.],\n",
       "       [0., 1., 0., 0., 0., 0.],\n",
       "       [0., 0., 1., 0., 0., 0.]])"
      ]
     },
     "execution_count": 26,
     "metadata": {},
     "output_type": "execute_result"
    }
   ],
   "execution_count": 26
  },
  {
   "metadata": {
    "ExecuteTime": {
     "end_time": "2025-08-24T10:43:53.924512Z",
     "start_time": "2025-08-24T10:43:53.920004Z"
    }
   },
   "cell_type": "code",
   "source": [
    "np_arr.resize(6,3)\n",
    "np_arr"
   ],
   "id": "f6c0dc3595175013",
   "outputs": [
    {
     "data": {
      "text/plain": [
       "array([[1., 0., 0.],\n",
       "       [0., 0., 0.],\n",
       "       [0., 1., 0.],\n",
       "       [0., 0., 0.],\n",
       "       [0., 0., 1.],\n",
       "       [0., 0., 0.]])"
      ]
     },
     "execution_count": 27,
     "metadata": {},
     "output_type": "execute_result"
    }
   ],
   "execution_count": 27
  },
  {
   "metadata": {
    "ExecuteTime": {
     "end_time": "2025-08-24T10:43:53.983747Z",
     "start_time": "2025-08-24T10:43:53.979142Z"
    }
   },
   "cell_type": "code",
   "source": "np_arr.ravel()",
   "id": "67803051f97c64b0",
   "outputs": [
    {
     "data": {
      "text/plain": [
       "array([1., 0., 0., 0., 0., 0., 0., 1., 0., 0., 0., 0., 0., 0., 1., 0., 0.,\n",
       "       0.])"
      ]
     },
     "execution_count": 28,
     "metadata": {},
     "output_type": "execute_result"
    }
   ],
   "execution_count": 28
  },
  {
   "metadata": {
    "ExecuteTime": {
     "end_time": "2025-08-24T10:43:54.039024Z",
     "start_time": "2025-08-24T10:43:54.034602Z"
    }
   },
   "cell_type": "code",
   "source": "np_arr",
   "id": "a75a0a84bf629aca",
   "outputs": [
    {
     "data": {
      "text/plain": [
       "array([[1., 0., 0.],\n",
       "       [0., 0., 0.],\n",
       "       [0., 1., 0.],\n",
       "       [0., 0., 0.],\n",
       "       [0., 0., 1.],\n",
       "       [0., 0., 0.]])"
      ]
     },
     "execution_count": 29,
     "metadata": {},
     "output_type": "execute_result"
    }
   ],
   "execution_count": 29
  },
  {
   "metadata": {
    "ExecuteTime": {
     "end_time": "2025-08-24T10:43:54.091816Z",
     "start_time": "2025-08-24T10:43:54.087668Z"
    }
   },
   "cell_type": "code",
   "source": "np_arr.flatten()",
   "id": "af1284a5e7475b92",
   "outputs": [
    {
     "data": {
      "text/plain": [
       "array([1., 0., 0., 0., 0., 0., 0., 1., 0., 0., 0., 0., 0., 0., 1., 0., 0.,\n",
       "       0.])"
      ]
     },
     "execution_count": 30,
     "metadata": {},
     "output_type": "execute_result"
    }
   ],
   "execution_count": 30
  },
  {
   "metadata": {
    "ExecuteTime": {
     "end_time": "2025-08-24T10:43:54.137342Z",
     "start_time": "2025-08-24T10:43:54.131829Z"
    }
   },
   "cell_type": "code",
   "source": "np_arr",
   "id": "4c25efea817ce14",
   "outputs": [
    {
     "data": {
      "text/plain": [
       "array([[1., 0., 0.],\n",
       "       [0., 0., 0.],\n",
       "       [0., 1., 0.],\n",
       "       [0., 0., 0.],\n",
       "       [0., 0., 1.],\n",
       "       [0., 0., 0.]])"
      ]
     },
     "execution_count": 31,
     "metadata": {},
     "output_type": "execute_result"
    }
   ],
   "execution_count": 31
  },
  {
   "metadata": {
    "ExecuteTime": {
     "end_time": "2025-08-24T10:43:54.193705Z",
     "start_time": "2025-08-24T10:43:54.190853Z"
    }
   },
   "cell_type": "code",
   "source": "np_ravel_arr = np_arr.ravel()",
   "id": "748f21f77f613e23",
   "outputs": [],
   "execution_count": 32
  },
  {
   "metadata": {
    "ExecuteTime": {
     "end_time": "2025-08-24T10:43:54.231543Z",
     "start_time": "2025-08-24T10:43:54.229202Z"
    }
   },
   "cell_type": "code",
   "source": "np_arr[0,0:] = 9",
   "id": "fc719846bdc21e3c",
   "outputs": [],
   "execution_count": 33
  },
  {
   "metadata": {
    "ExecuteTime": {
     "end_time": "2025-08-24T10:43:54.263316Z",
     "start_time": "2025-08-24T10:43:54.258515Z"
    }
   },
   "cell_type": "code",
   "source": "np_arr",
   "id": "ac58f704446a7466",
   "outputs": [
    {
     "data": {
      "text/plain": [
       "array([[9., 9., 9.],\n",
       "       [0., 0., 0.],\n",
       "       [0., 1., 0.],\n",
       "       [0., 0., 0.],\n",
       "       [0., 0., 1.],\n",
       "       [0., 0., 0.]])"
      ]
     },
     "execution_count": 34,
     "metadata": {},
     "output_type": "execute_result"
    }
   ],
   "execution_count": 34
  },
  {
   "metadata": {
    "ExecuteTime": {
     "end_time": "2025-08-24T10:43:54.345475Z",
     "start_time": "2025-08-24T10:43:54.342612Z"
    }
   },
   "cell_type": "code",
   "source": "np_ravel_arr",
   "id": "5d5b25442161a868",
   "outputs": [
    {
     "data": {
      "text/plain": [
       "array([9., 9., 9., 0., 0., 0., 0., 1., 0., 0., 0., 0., 0., 0., 1., 0., 0.,\n",
       "       0.])"
      ]
     },
     "execution_count": 35,
     "metadata": {},
     "output_type": "execute_result"
    }
   ],
   "execution_count": 35
  },
  {
   "metadata": {
    "ExecuteTime": {
     "end_time": "2025-08-24T10:43:54.387685Z",
     "start_time": "2025-08-24T10:43:54.383487Z"
    }
   },
   "cell_type": "code",
   "source": [
    "np_flatten_arr = np_arr.flatten()\n",
    "np_arr[-1 , :-1]=88\n",
    "print(np_arr)"
   ],
   "id": "c64a5aecc37e0dc8",
   "outputs": [
    {
     "name": "stdout",
     "output_type": "stream",
     "text": [
      "[[ 9.  9.  9.]\n",
      " [ 0.  0.  0.]\n",
      " [ 0.  1.  0.]\n",
      " [ 0.  0.  0.]\n",
      " [ 0.  0.  1.]\n",
      " [88. 88.  0.]]\n"
     ]
    }
   ],
   "execution_count": 36
  },
  {
   "metadata": {
    "ExecuteTime": {
     "end_time": "2025-08-24T10:43:54.418187Z",
     "start_time": "2025-08-24T10:43:54.414923Z"
    }
   },
   "cell_type": "code",
   "source": "np_flatten_arr",
   "id": "573026e0e9a7422e",
   "outputs": [
    {
     "data": {
      "text/plain": [
       "array([9., 9., 9., 0., 0., 0., 0., 1., 0., 0., 0., 0., 0., 0., 1., 0., 0.,\n",
       "       0.])"
      ]
     },
     "execution_count": 37,
     "metadata": {},
     "output_type": "execute_result"
    }
   ],
   "execution_count": 37
  },
  {
   "metadata": {
    "ExecuteTime": {
     "end_time": "2025-08-24T10:43:54.438451Z",
     "start_time": "2025-08-24T10:43:54.436448Z"
    }
   },
   "cell_type": "code",
   "source": "",
   "id": "94fc6a468c72f173",
   "outputs": [],
   "execution_count": null
  }
 ],
 "metadata": {
  "kernelspec": {
   "display_name": "Python 3",
   "language": "python",
   "name": "python3"
  },
  "language_info": {
   "codemirror_mode": {
    "name": "ipython",
    "version": 2
   },
   "file_extension": ".py",
   "mimetype": "text/x-python",
   "name": "python",
   "nbconvert_exporter": "python",
   "pygments_lexer": "ipython2",
   "version": "2.7.6"
  }
 },
 "nbformat": 4,
 "nbformat_minor": 5
}
