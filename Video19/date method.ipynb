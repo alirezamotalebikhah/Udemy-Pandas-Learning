{
 "cells": [
  {
   "cell_type": "code",
   "id": "initial_id",
   "metadata": {
    "collapsed": true,
    "ExecuteTime": {
     "end_time": "2025-08-21T06:47:46.110796Z",
     "start_time": "2025-08-21T06:47:46.106756Z"
    }
   },
   "source": [
    "import datetime\n",
    "print(datetime.date.today())"
   ],
   "outputs": [
    {
     "name": "stdout",
     "output_type": "stream",
     "text": [
      "2025-08-21\n"
     ]
    }
   ],
   "execution_count": 1
  },
  {
   "metadata": {
    "ExecuteTime": {
     "end_time": "2025-08-21T06:47:55.238587Z",
     "start_time": "2025-08-21T06:47:55.235115Z"
    }
   },
   "cell_type": "code",
   "source": "print(datetime.datetime.now())",
   "id": "c12c149ae04e14e8",
   "outputs": [
    {
     "name": "stdout",
     "output_type": "stream",
     "text": [
      "2025-08-21 10:17:55.236116\n"
     ]
    }
   ],
   "execution_count": 2
  },
  {
   "metadata": {
    "ExecuteTime": {
     "end_time": "2025-08-21T06:48:40.558134Z",
     "start_time": "2025-08-21T06:48:40.554795Z"
    }
   },
   "cell_type": "code",
   "source": [
    "_time = datetime.datetime.now()\n",
    "print(_time)"
   ],
   "id": "b5ac837b98a0f88a",
   "outputs": [
    {
     "name": "stdout",
     "output_type": "stream",
     "text": [
      "2025-08-21 10:18:40.555797\n"
     ]
    }
   ],
   "execution_count": 3
  },
  {
   "metadata": {
    "ExecuteTime": {
     "end_time": "2025-08-21T06:48:56.137418Z",
     "start_time": "2025-08-21T06:48:56.133189Z"
    }
   },
   "cell_type": "code",
   "source": "print(_time.day)",
   "id": "1b348c9a363a2a26",
   "outputs": [
    {
     "name": "stdout",
     "output_type": "stream",
     "text": [
      "21\n"
     ]
    }
   ],
   "execution_count": 4
  },
  {
   "metadata": {
    "ExecuteTime": {
     "end_time": "2025-08-21T06:49:17.862071Z",
     "start_time": "2025-08-21T06:49:17.857929Z"
    }
   },
   "cell_type": "code",
   "source": "print(_time.date())",
   "id": "8f1b611630618743",
   "outputs": [
    {
     "name": "stdout",
     "output_type": "stream",
     "text": [
      "2025-08-21\n"
     ]
    }
   ],
   "execution_count": 6
  },
  {
   "metadata": {
    "ExecuteTime": {
     "end_time": "2025-08-21T06:49:33.446968Z",
     "start_time": "2025-08-21T06:49:33.443453Z"
    }
   },
   "cell_type": "code",
   "source": "print(_time.time())",
   "id": "96d63a7ea466fc5",
   "outputs": [
    {
     "name": "stdout",
     "output_type": "stream",
     "text": [
      "10:18:40.555797\n"
     ]
    }
   ],
   "execution_count": 7
  },
  {
   "metadata": {
    "ExecuteTime": {
     "end_time": "2025-08-21T06:50:05.429966Z",
     "start_time": "2025-08-21T06:50:05.426680Z"
    }
   },
   "cell_type": "code",
   "source": "print(_time.weekday())",
   "id": "5f00f4a198a7865c",
   "outputs": [
    {
     "name": "stdout",
     "output_type": "stream",
     "text": [
      "3\n"
     ]
    }
   ],
   "execution_count": 8
  },
  {
   "metadata": {
    "ExecuteTime": {
     "end_time": "2025-08-21T06:55:41.702800Z",
     "start_time": "2025-08-21T06:55:41.697623Z"
    }
   },
   "cell_type": "code",
   "source": [
    "print(_time.strftime('%A'))\n",
    "print(_time.strftime('%B %d, %Y'))"
   ],
   "id": "d152d2accc3594a5",
   "outputs": [
    {
     "name": "stdout",
     "output_type": "stream",
     "text": [
      "Thursday\n",
      "August 21, 2025\n"
     ]
    }
   ],
   "execution_count": 9
  },
  {
   "metadata": {
    "ExecuteTime": {
     "end_time": "2025-08-21T06:55:50.370398Z",
     "start_time": "2025-08-21T06:55:50.366597Z"
    }
   },
   "cell_type": "code",
   "source": "print(_time.strftime('%B %d, %Y %I:%M %p'))",
   "id": "41f233efda14e1e",
   "outputs": [
    {
     "name": "stdout",
     "output_type": "stream",
     "text": [
      "August 21, 2025 10:18 AM\n"
     ]
    }
   ],
   "execution_count": 10
  },
  {
   "metadata": {
    "ExecuteTime": {
     "end_time": "2025-08-21T06:56:13.697797Z",
     "start_time": "2025-08-21T06:56:13.694757Z"
    }
   },
   "cell_type": "code",
   "source": "print(_time.strftime('%b %D, %y %I:%M %p'))",
   "id": "ac52a96a35bfe269",
   "outputs": [
    {
     "name": "stdout",
     "output_type": "stream",
     "text": [
      "Aug 08/21/25, 25 10:18 AM\n"
     ]
    }
   ],
   "execution_count": 11
  },
  {
   "metadata": {
    "ExecuteTime": {
     "end_time": "2025-08-21T06:58:21.179556Z",
     "start_time": "2025-08-21T06:58:21.175980Z"
    }
   },
   "cell_type": "code",
   "source": [
    "_max = max(4 , 5096 , 50 , 6879989234,90)\n",
    "print(_max)"
   ],
   "id": "675d756f296550d6",
   "outputs": [
    {
     "name": "stdout",
     "output_type": "stream",
     "text": [
      "6879989234\n"
     ]
    }
   ],
   "execution_count": 13
  },
  {
   "metadata": {
    "ExecuteTime": {
     "end_time": "2025-08-21T06:58:52.988582Z",
     "start_time": "2025-08-21T06:58:52.985264Z"
    }
   },
   "cell_type": "code",
   "source": [
    "_min=min(4 , 5096 , 50 , 6879989234,90)\n",
    "print(_min)"
   ],
   "id": "dd79c3409bf7639d",
   "outputs": [
    {
     "name": "stdout",
     "output_type": "stream",
     "text": [
      "4\n"
     ]
    }
   ],
   "execution_count": 14
  },
  {
   "metadata": {
    "ExecuteTime": {
     "end_time": "2025-08-21T06:59:20.035028Z",
     "start_time": "2025-08-21T06:59:20.030876Z"
    }
   },
   "cell_type": "code",
   "source": "print(abs(-100))",
   "id": "1062c99acaf3ad88",
   "outputs": [
    {
     "name": "stdout",
     "output_type": "stream",
     "text": [
      "100\n"
     ]
    }
   ],
   "execution_count": 15
  },
  {
   "metadata": {
    "ExecuteTime": {
     "end_time": "2025-08-21T06:59:37.284029Z",
     "start_time": "2025-08-21T06:59:37.280029Z"
    }
   },
   "cell_type": "code",
   "source": "print(pow(2,3))",
   "id": "48e71178454517b5",
   "outputs": [
    {
     "name": "stdout",
     "output_type": "stream",
     "text": [
      "8\n"
     ]
    }
   ],
   "execution_count": 16
  },
  {
   "metadata": {
    "ExecuteTime": {
     "end_time": "2025-08-21T06:59:56.161687Z",
     "start_time": "2025-08-21T06:59:56.158155Z"
    }
   },
   "cell_type": "code",
   "source": "print(2**3)",
   "id": "53935a1499715fe2",
   "outputs": [
    {
     "name": "stdout",
     "output_type": "stream",
     "text": [
      "8\n"
     ]
    }
   ],
   "execution_count": 17
  },
  {
   "metadata": {
    "ExecuteTime": {
     "end_time": "2025-08-21T07:00:22.915336Z",
     "start_time": "2025-08-21T07:00:22.912240Z"
    }
   },
   "cell_type": "code",
   "source": [
    "import math\n",
    "print(math.sqrt(16))"
   ],
   "id": "f2bd7f6f56aed6ea",
   "outputs": [
    {
     "name": "stdout",
     "output_type": "stream",
     "text": [
      "4.0\n"
     ]
    }
   ],
   "execution_count": 18
  },
  {
   "metadata": {
    "ExecuteTime": {
     "end_time": "2025-08-21T07:00:38.224056Z",
     "start_time": "2025-08-21T07:00:38.220542Z"
    }
   },
   "cell_type": "code",
   "source": "print(math.ceil(3.14))",
   "id": "737ac2b3285929ab",
   "outputs": [
    {
     "name": "stdout",
     "output_type": "stream",
     "text": [
      "4\n"
     ]
    }
   ],
   "execution_count": 19
  },
  {
   "metadata": {
    "ExecuteTime": {
     "end_time": "2025-08-21T07:01:50.395400Z",
     "start_time": "2025-08-21T07:01:50.390405Z"
    }
   },
   "cell_type": "code",
   "source": "print(math.floor(3.14))",
   "id": "5e6b0a5da24b1848",
   "outputs": [
    {
     "name": "stdout",
     "output_type": "stream",
     "text": [
      "3\n"
     ]
    }
   ],
   "execution_count": 20
  },
  {
   "metadata": {},
   "cell_type": "code",
   "outputs": [],
   "execution_count": null,
   "source": "",
   "id": "c2150e09073923aa"
  }
 ],
 "metadata": {
  "kernelspec": {
   "display_name": "Python 3",
   "language": "python",
   "name": "python3"
  },
  "language_info": {
   "codemirror_mode": {
    "name": "ipython",
    "version": 2
   },
   "file_extension": ".py",
   "mimetype": "text/x-python",
   "name": "python",
   "nbconvert_exporter": "python",
   "pygments_lexer": "ipython2",
   "version": "2.7.6"
  }
 },
 "nbformat": 4,
 "nbformat_minor": 5
}
