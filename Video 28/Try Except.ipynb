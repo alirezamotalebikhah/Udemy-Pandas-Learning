{
 "cells": [
  {
   "cell_type": "code",
   "id": "initial_id",
   "metadata": {
    "collapsed": true,
    "ExecuteTime": {
     "end_time": "2025-08-23T13:40:33.290635Z",
     "start_time": "2025-08-23T13:40:33.286557Z"
    }
   },
   "source": [
    "try:\n",
    "    print(name)\n",
    "except:\n",
    "    print(\"variable name is not define\")\n",
    "    "
   ],
   "outputs": [
    {
     "name": "stdout",
     "output_type": "stream",
     "text": [
      "maria\n"
     ]
    }
   ],
   "execution_count": 9
  },
  {
   "metadata": {
    "ExecuteTime": {
     "end_time": "2025-08-23T13:40:34.746619Z",
     "start_time": "2025-08-23T13:40:34.741628Z"
    }
   },
   "cell_type": "code",
   "source": [
    "try:\n",
    "    print(name)\n",
    "except:\n",
    "    print(\"variable name is not define\")\n",
    "else:\n",
    "    print('No error')"
   ],
   "id": "b9c0ec03b71c2c7c",
   "outputs": [
    {
     "name": "stdout",
     "output_type": "stream",
     "text": [
      "maria\n",
      "No error\n"
     ]
    }
   ],
   "execution_count": 10
  },
  {
   "metadata": {
    "ExecuteTime": {
     "end_time": "2025-08-23T13:40:36.310470Z",
     "start_time": "2025-08-23T13:40:36.305318Z"
    }
   },
   "cell_type": "code",
   "source": [
    "name = \"maria\"\n",
    "try:\n",
    "    print(name)\n",
    "except:\n",
    "    print(\"variable name is not define\")\n",
    "else:\n",
    "    print('No error')"
   ],
   "id": "fde993b303fed2a3",
   "outputs": [
    {
     "name": "stdout",
     "output_type": "stream",
     "text": [
      "maria\n",
      "No error\n"
     ]
    }
   ],
   "execution_count": 11
  },
  {
   "metadata": {
    "ExecuteTime": {
     "end_time": "2025-08-23T13:40:37.650260Z",
     "start_time": "2025-08-23T13:40:37.645679Z"
    }
   },
   "cell_type": "code",
   "source": [
    "name = \"maria\"\n",
    "try:\n",
    "    print(name)\n",
    "except:\n",
    "    print(\"variable name is not define\")\n",
    "else:\n",
    "    print('No error')\n",
    "finally:\n",
    "    print(\"finally there is no error\")"
   ],
   "id": "37ec3647f104fd3e",
   "outputs": [
    {
     "name": "stdout",
     "output_type": "stream",
     "text": [
      "maria\n",
      "No error\n",
      "finally there is no error\n"
     ]
    }
   ],
   "execution_count": 12
  },
  {
   "metadata": {
    "ExecuteTime": {
     "end_time": "2025-08-23T13:40:38.769660Z",
     "start_time": "2025-08-23T13:40:38.765268Z"
    }
   },
   "cell_type": "code",
   "source": [
    "name = \"maria\"\n",
    "try:\n",
    "    print(name2)\n",
    "except:\n",
    "    print(\"variable name is not define\")\n",
    "else:\n",
    "    print('No error')\n",
    "finally:\n",
    "    print(\"finally there is no error\")"
   ],
   "id": "e5baa5ab3f64c940",
   "outputs": [
    {
     "name": "stdout",
     "output_type": "stream",
     "text": [
      "variable name is not define\n",
      "finally there is no error\n"
     ]
    }
   ],
   "execution_count": 13
  },
  {
   "metadata": {},
   "cell_type": "code",
   "outputs": [],
   "execution_count": null,
   "source": "",
   "id": "ed1ced9cf4e50280"
  }
 ],
 "metadata": {
  "kernelspec": {
   "display_name": "Python 3",
   "language": "python",
   "name": "python3"
  },
  "language_info": {
   "codemirror_mode": {
    "name": "ipython",
    "version": 2
   },
   "file_extension": ".py",
   "mimetype": "text/x-python",
   "name": "python",
   "nbconvert_exporter": "python",
   "pygments_lexer": "ipython2",
   "version": "2.7.6"
  }
 },
 "nbformat": 4,
 "nbformat_minor": 5
}
